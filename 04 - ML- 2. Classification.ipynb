{
 "cells": [
  {
   "cell_type": "markdown",
   "metadata": {},
   "source": [
    "# Machine Learning\n",
    "\n",
    "In this homework we will gain experience on Applied Machine Learning, exploring an interesting dataset about soccer players and referees. "
   ]
  },
  {
   "cell_type": "code",
   "execution_count": 1,
   "metadata": {
    "collapsed": false
   },
   "outputs": [
    {
     "name": "stderr",
     "output_type": "stream",
     "text": [
      "/Users/Charlotte/anaconda/lib/python3.5/site-packages/sklearn/cross_validation.py:44: DeprecationWarning: This module was deprecated in version 0.18 in favor of the model_selection module into which all the refactored classes and functions are moved. Also note that the interface of the new CV iterators are different from that of this module. This module will be removed in 0.20.\n",
      "  \"This module will be removed in 0.20.\", DeprecationWarning)\n"
     ]
    }
   ],
   "source": [
    "import pandas as pd\n",
    "import numpy as np\n",
    "import os\n",
    "from IPython.display import Image\n",
    "from IPython.core.display import HTML \n",
    "import matplotlib.pyplot as plt  \n",
    "% matplotlib inline\n",
    "import random\n",
    "from datetime import datetime\n",
    "import seaborn as sns\n",
    "pd.options.mode.chained_assignment = None  # default='warn'\n",
    "import sklearn as sk\n",
    "from sklearn import preprocessing, ensemble\n",
    "from sklearn.model_selection import train_test_split\n",
    "from sklearn.cross_validation import KFold\n",
    "from sklearn.cross_validation import cross_val_score\n",
    "from sklearn.model_selection import learning_curve\n",
    "from sklearn.metrics import roc_curve, auc\n",
    "from sklearn.cluster import KMeans\n",
    "from sklearn import metrics\n",
    "from sklearn.metrics import pairwise_distances"
   ]
  },
  {
   "cell_type": "markdown",
   "metadata": {},
   "source": [
    "## Load data from pre-processing"
   ]
  },
  {
   "cell_type": "code",
   "execution_count": 2,
   "metadata": {
    "collapsed": true
   },
   "outputs": [],
   "source": [
    "df_p = pd.read_csv(\"crowdstorm_players_aggregated.csv\", encoding = \"utf-8\")"
   ]
  },
  {
   "cell_type": "markdown",
   "metadata": {},
   "source": [
    "# Machine Learning"
   ]
  },
  {
   "cell_type": "markdown",
   "metadata": {},
   "source": [
    "## Preparation of the data\n",
    "First let's create a vector *X* of features and samples, and a vector *Y* of the labels corresponding. Y will have the value of *mean_rater*"
   ]
  },
  {
   "cell_type": "code",
   "execution_count": 3,
   "metadata": {
    "collapsed": false
   },
   "outputs": [
    {
     "data": {
      "text/html": [
       "<div>\n",
       "<table border=\"1\" class=\"dataframe\">\n",
       "  <thead>\n",
       "    <tr style=\"text-align: right;\">\n",
       "      <th></th>\n",
       "      <th>seExp</th>\n",
       "      <th>height</th>\n",
       "      <th>redCards</th>\n",
       "      <th>games</th>\n",
       "      <th>meanIAT</th>\n",
       "      <th>victories</th>\n",
       "      <th>weight</th>\n",
       "      <th>goals</th>\n",
       "      <th>defeats</th>\n",
       "      <th>yellowCards</th>\n",
       "      <th>...</th>\n",
       "      <th>Center Forward</th>\n",
       "      <th>Center Midfielder</th>\n",
       "      <th>Defensive Midfielder</th>\n",
       "      <th>Goalkeeper</th>\n",
       "      <th>Left Fullback</th>\n",
       "      <th>Left Midfielder</th>\n",
       "      <th>Left Winger</th>\n",
       "      <th>Right Fullback</th>\n",
       "      <th>Right Midfielder</th>\n",
       "      <th>Right Winger</th>\n",
       "    </tr>\n",
       "  </thead>\n",
       "  <tbody>\n",
       "    <tr>\n",
       "      <th>count</th>\n",
       "      <td>1418.000000</td>\n",
       "      <td>1418.000000</td>\n",
       "      <td>1418.000000</td>\n",
       "      <td>1418.000000</td>\n",
       "      <td>1418.000000</td>\n",
       "      <td>1418.000000</td>\n",
       "      <td>1418.000000</td>\n",
       "      <td>1418.00000</td>\n",
       "      <td>1418.000000</td>\n",
       "      <td>1418.000000</td>\n",
       "      <td>...</td>\n",
       "      <td>1418.000000</td>\n",
       "      <td>1418.000000</td>\n",
       "      <td>1418.000000</td>\n",
       "      <td>1418.000000</td>\n",
       "      <td>1418.000000</td>\n",
       "      <td>1418.000000</td>\n",
       "      <td>1418.000000</td>\n",
       "      <td>1418.000000</td>\n",
       "      <td>1418.000000</td>\n",
       "      <td>1418.000000</td>\n",
       "    </tr>\n",
       "    <tr>\n",
       "      <th>mean</th>\n",
       "      <td>0.001399</td>\n",
       "      <td>182.159379</td>\n",
       "      <td>7.225670</td>\n",
       "      <td>1818.977433</td>\n",
       "      <td>0.347126</td>\n",
       "      <td>820.600141</td>\n",
       "      <td>76.263047</td>\n",
       "      <td>211.35402</td>\n",
       "      <td>561.917489</td>\n",
       "      <td>242.483780</td>\n",
       "      <td>...</td>\n",
       "      <td>0.133286</td>\n",
       "      <td>0.041608</td>\n",
       "      <td>0.120592</td>\n",
       "      <td>0.111425</td>\n",
       "      <td>0.082511</td>\n",
       "      <td>0.053597</td>\n",
       "      <td>0.037377</td>\n",
       "      <td>0.075458</td>\n",
       "      <td>0.042313</td>\n",
       "      <td>0.039492</td>\n",
       "    </tr>\n",
       "    <tr>\n",
       "      <th>std</th>\n",
       "      <td>0.001957</td>\n",
       "      <td>6.799995</td>\n",
       "      <td>13.087291</td>\n",
       "      <td>1963.852817</td>\n",
       "      <td>0.014516</td>\n",
       "      <td>1019.439932</td>\n",
       "      <td>7.105262</td>\n",
       "      <td>428.63188</td>\n",
       "      <td>573.695929</td>\n",
       "      <td>290.131377</td>\n",
       "      <td>...</td>\n",
       "      <td>0.340004</td>\n",
       "      <td>0.199762</td>\n",
       "      <td>0.325768</td>\n",
       "      <td>0.314768</td>\n",
       "      <td>0.275238</td>\n",
       "      <td>0.225299</td>\n",
       "      <td>0.189750</td>\n",
       "      <td>0.264223</td>\n",
       "      <td>0.201374</td>\n",
       "      <td>0.194832</td>\n",
       "    </tr>\n",
       "    <tr>\n",
       "      <th>min</th>\n",
       "      <td>0.000037</td>\n",
       "      <td>161.000000</td>\n",
       "      <td>0.000000</td>\n",
       "      <td>1.000000</td>\n",
       "      <td>0.287530</td>\n",
       "      <td>0.000000</td>\n",
       "      <td>55.000000</td>\n",
       "      <td>0.00000</td>\n",
       "      <td>0.000000</td>\n",
       "      <td>0.000000</td>\n",
       "      <td>...</td>\n",
       "      <td>0.000000</td>\n",
       "      <td>0.000000</td>\n",
       "      <td>0.000000</td>\n",
       "      <td>0.000000</td>\n",
       "      <td>0.000000</td>\n",
       "      <td>0.000000</td>\n",
       "      <td>0.000000</td>\n",
       "      <td>0.000000</td>\n",
       "      <td>0.000000</td>\n",
       "      <td>0.000000</td>\n",
       "    </tr>\n",
       "    <tr>\n",
       "      <th>25%</th>\n",
       "      <td>0.000547</td>\n",
       "      <td>178.000000</td>\n",
       "      <td>0.000000</td>\n",
       "      <td>508.000000</td>\n",
       "      <td>0.336628</td>\n",
       "      <td>197.000000</td>\n",
       "      <td>71.000000</td>\n",
       "      <td>14.00000</td>\n",
       "      <td>173.000000</td>\n",
       "      <td>54.000000</td>\n",
       "      <td>...</td>\n",
       "      <td>0.000000</td>\n",
       "      <td>0.000000</td>\n",
       "      <td>0.000000</td>\n",
       "      <td>0.000000</td>\n",
       "      <td>0.000000</td>\n",
       "      <td>0.000000</td>\n",
       "      <td>0.000000</td>\n",
       "      <td>0.000000</td>\n",
       "      <td>0.000000</td>\n",
       "      <td>0.000000</td>\n",
       "    </tr>\n",
       "    <tr>\n",
       "      <th>50%</th>\n",
       "      <td>0.001002</td>\n",
       "      <td>182.500000</td>\n",
       "      <td>1.000000</td>\n",
       "      <td>1204.000000</td>\n",
       "      <td>0.340851</td>\n",
       "      <td>497.000000</td>\n",
       "      <td>76.000000</td>\n",
       "      <td>69.00000</td>\n",
       "      <td>384.500000</td>\n",
       "      <td>148.000000</td>\n",
       "      <td>...</td>\n",
       "      <td>0.000000</td>\n",
       "      <td>0.000000</td>\n",
       "      <td>0.000000</td>\n",
       "      <td>0.000000</td>\n",
       "      <td>0.000000</td>\n",
       "      <td>0.000000</td>\n",
       "      <td>0.000000</td>\n",
       "      <td>0.000000</td>\n",
       "      <td>0.000000</td>\n",
       "      <td>0.000000</td>\n",
       "    </tr>\n",
       "    <tr>\n",
       "      <th>75%</th>\n",
       "      <td>0.001437</td>\n",
       "      <td>187.000000</td>\n",
       "      <td>9.750000</td>\n",
       "      <td>2426.500000</td>\n",
       "      <td>0.361154</td>\n",
       "      <td>1068.750000</td>\n",
       "      <td>81.000000</td>\n",
       "      <td>221.50000</td>\n",
       "      <td>749.750000</td>\n",
       "      <td>320.000000</td>\n",
       "      <td>...</td>\n",
       "      <td>0.000000</td>\n",
       "      <td>0.000000</td>\n",
       "      <td>0.000000</td>\n",
       "      <td>0.000000</td>\n",
       "      <td>0.000000</td>\n",
       "      <td>0.000000</td>\n",
       "      <td>0.000000</td>\n",
       "      <td>0.000000</td>\n",
       "      <td>0.000000</td>\n",
       "      <td>0.000000</td>\n",
       "    </tr>\n",
       "    <tr>\n",
       "      <th>max</th>\n",
       "      <td>0.045650</td>\n",
       "      <td>203.000000</td>\n",
       "      <td>121.000000</td>\n",
       "      <td>16932.000000</td>\n",
       "      <td>0.396512</td>\n",
       "      <td>10092.000000</td>\n",
       "      <td>100.000000</td>\n",
       "      <td>5141.00000</td>\n",
       "      <td>4269.000000</td>\n",
       "      <td>2361.000000</td>\n",
       "      <td>...</td>\n",
       "      <td>1.000000</td>\n",
       "      <td>1.000000</td>\n",
       "      <td>1.000000</td>\n",
       "      <td>1.000000</td>\n",
       "      <td>1.000000</td>\n",
       "      <td>1.000000</td>\n",
       "      <td>1.000000</td>\n",
       "      <td>1.000000</td>\n",
       "      <td>1.000000</td>\n",
       "      <td>1.000000</td>\n",
       "    </tr>\n",
       "  </tbody>\n",
       "</table>\n",
       "<p>8 rows × 30 columns</p>\n",
       "</div>"
      ],
      "text/plain": [
       "             seExp       height     redCards         games      meanIAT  \\\n",
       "count  1418.000000  1418.000000  1418.000000   1418.000000  1418.000000   \n",
       "mean      0.001399   182.159379     7.225670   1818.977433     0.347126   \n",
       "std       0.001957     6.799995    13.087291   1963.852817     0.014516   \n",
       "min       0.000037   161.000000     0.000000      1.000000     0.287530   \n",
       "25%       0.000547   178.000000     0.000000    508.000000     0.336628   \n",
       "50%       0.001002   182.500000     1.000000   1204.000000     0.340851   \n",
       "75%       0.001437   187.000000     9.750000   2426.500000     0.361154   \n",
       "max       0.045650   203.000000   121.000000  16932.000000     0.396512   \n",
       "\n",
       "          victories       weight       goals      defeats  yellowCards  \\\n",
       "count   1418.000000  1418.000000  1418.00000  1418.000000  1418.000000   \n",
       "mean     820.600141    76.263047   211.35402   561.917489   242.483780   \n",
       "std     1019.439932     7.105262   428.63188   573.695929   290.131377   \n",
       "min        0.000000    55.000000     0.00000     0.000000     0.000000   \n",
       "25%      197.000000    71.000000    14.00000   173.000000    54.000000   \n",
       "50%      497.000000    76.000000    69.00000   384.500000   148.000000   \n",
       "75%     1068.750000    81.000000   221.50000   749.750000   320.000000   \n",
       "max    10092.000000   100.000000  5141.00000  4269.000000  2361.000000   \n",
       "\n",
       "           ...       Center Forward  Center Midfielder  Defensive Midfielder  \\\n",
       "count      ...          1418.000000        1418.000000           1418.000000   \n",
       "mean       ...             0.133286           0.041608              0.120592   \n",
       "std        ...             0.340004           0.199762              0.325768   \n",
       "min        ...             0.000000           0.000000              0.000000   \n",
       "25%        ...             0.000000           0.000000              0.000000   \n",
       "50%        ...             0.000000           0.000000              0.000000   \n",
       "75%        ...             0.000000           0.000000              0.000000   \n",
       "max        ...             1.000000           1.000000              1.000000   \n",
       "\n",
       "        Goalkeeper  Left Fullback  Left Midfielder  Left Winger  \\\n",
       "count  1418.000000    1418.000000      1418.000000  1418.000000   \n",
       "mean      0.111425       0.082511         0.053597     0.037377   \n",
       "std       0.314768       0.275238         0.225299     0.189750   \n",
       "min       0.000000       0.000000         0.000000     0.000000   \n",
       "25%       0.000000       0.000000         0.000000     0.000000   \n",
       "50%       0.000000       0.000000         0.000000     0.000000   \n",
       "75%       0.000000       0.000000         0.000000     0.000000   \n",
       "max       1.000000       1.000000         1.000000     1.000000   \n",
       "\n",
       "       Right Fullback  Right Midfielder  Right Winger  \n",
       "count     1418.000000       1418.000000   1418.000000  \n",
       "mean         0.075458          0.042313      0.039492  \n",
       "std          0.264223          0.201374      0.194832  \n",
       "min          0.000000          0.000000      0.000000  \n",
       "25%          0.000000          0.000000      0.000000  \n",
       "50%          0.000000          0.000000      0.000000  \n",
       "75%          0.000000          0.000000      0.000000  \n",
       "max          1.000000          1.000000      1.000000  \n",
       "\n",
       "[8 rows x 30 columns]"
      ]
     },
     "execution_count": 3,
     "metadata": {},
     "output_type": "execute_result"
    }
   ],
   "source": [
    "df_y = df_p['mean_rater']\n",
    "\n",
    "df_x = df_p.copy()\n",
    "df_x.drop(['mean_rater'],inplace=True,axis=1,errors='ignore')\n",
    "\n",
    "df_x.describe()"
   ]
  },
  {
   "cell_type": "markdown",
   "metadata": {},
   "source": [
    "### Division of the dataset in train/test datasets\n",
    "we will use a training set containing 80% of the data, and a testing set containing 20% of the data\n",
    "\n",
    "when specifying *random_state = 0*, we make sure that the splitting is done everytime at the same place. We can remove this option to have a random splitting."
   ]
  },
  {
   "cell_type": "code",
   "execution_count": 4,
   "metadata": {
    "collapsed": false
   },
   "outputs": [
    {
     "data": {
      "text/plain": [
       "((1134, 30), (1134,), (284, 30), (284,))"
      ]
     },
     "execution_count": 4,
     "metadata": {},
     "output_type": "execute_result"
    }
   ],
   "source": [
    "df_x_train, df_x_test, df_y_train, df_y_test = train_test_split(df_x, df_y, test_size=.2, random_state = 0)\n",
    "df_y_test = np.asarray(df_y_test, dtype=\"|S6\")\n",
    "df_x_test = np.asarray(df_x_test, dtype=\"|S6\")\n",
    "df_y_train = np.asarray(df_y_train, dtype=\"|S6\")\n",
    "df_x_train = np.asarray(df_x_train, dtype=\"|S6\")\n",
    "\n",
    "df_x_train.shape, df_y_train.shape, df_x_test.shape, df_y_test.shape"
   ]
  },
  {
   "cell_type": "markdown",
   "metadata": {},
   "source": [
    "## Random Forest"
   ]
  },
  {
   "cell_type": "code",
   "execution_count": 5,
   "metadata": {
    "collapsed": false
   },
   "outputs": [
    {
     "name": "stdout",
     "output_type": "stream",
     "text": [
      "Accuracy score\n",
      "0.80985915493\n"
     ]
    }
   ],
   "source": [
    "# TRAIN RANDOM FOREST\n",
    "\n",
    "# Train model\n",
    "rand_forest_model = sk.ensemble.RandomForestClassifier(n_estimators=10)\n",
    "rand_forest_model.fit(df_x_train,df_y_train)\n",
    "\n",
    "# Predict from model neigh\n",
    "y_pred = rand_forest_model.predict(df_x_test)\n",
    "\n",
    "#compute score\n",
    "score = rand_forest_model.score(df_x_test,df_y_test)\n",
    "\n",
    "# Compute accuracy \n",
    "accuracy_rand_forest = sk.metrics.accuracy_score(df_y_test,y_pred)\n",
    "\n",
    "# Print accuracy\n",
    "print(\"Accuracy score\")\n",
    "print(accuracy_rand_forest)\n"
   ]
  },
  {
   "cell_type": "markdown",
   "metadata": {},
   "source": [
    "The accuracy on the training set will now be computed. If it is greatly higher than on the test set the model is probably overfitting."
   ]
  },
  {
   "cell_type": "code",
   "execution_count": 6,
   "metadata": {
    "collapsed": false
   },
   "outputs": [
    {
     "name": "stdout",
     "output_type": "stream",
     "text": [
      "Accuracy score on training set\n",
      "0.977072310406\n"
     ]
    }
   ],
   "source": [
    "# Predict from model neigh\n",
    "y_pred = rand_forest_model.predict(df_x_train)\n",
    "\n",
    "#compute score on training set\n",
    "score_training = rand_forest_model.score(df_x_train,df_y_train)\n",
    "\n",
    "# Compute accuracy on training set\n",
    "accuracy_rand_forest_training = sk.metrics.accuracy_score(df_y_train,y_pred)\n",
    "\n",
    "# Print accuracy\n",
    "print(\"Accuracy score on training set\")\n",
    "print(accuracy_rand_forest_training)"
   ]
  },
  {
   "cell_type": "markdown",
   "metadata": {},
   "source": [
    "The model is overfitting. This is probably due to the depth of the trees being too high. We will train the model again with a smaller max_depth of 10"
   ]
  },
  {
   "cell_type": "code",
   "execution_count": 7,
   "metadata": {
    "collapsed": false
   },
   "outputs": [
    {
     "name": "stdout",
     "output_type": "stream",
     "text": [
      "Accuracy score\n",
      "0.778169014085\n"
     ]
    }
   ],
   "source": [
    "# TRAIN RANDOM FOREST\n",
    "\n",
    "# Train model\n",
    "rand_forest_model = sk.ensemble.RandomForestClassifier(n_estimators=10, max_depth=10)\n",
    "rand_forest_model.fit(df_x_train,df_y_train)\n",
    "\n",
    "# Predict from model neigh\n",
    "y_pred = rand_forest_model.predict(df_x_test)\n",
    "\n",
    "#compute score\n",
    "score = rand_forest_model.score(df_x_test,df_y_test)\n",
    "\n",
    "# Compute accuracy \n",
    "accuracy_rand_forest = sk.metrics.accuracy_score(df_y_test,y_pred)\n",
    "\n",
    "# Print accuracy\n",
    "print(\"Accuracy score\")\n",
    "print(accuracy_rand_forest)\n",
    "\n"
   ]
  },
  {
   "cell_type": "markdown",
   "metadata": {},
   "source": [
    "The accuracy on the training set is similar. Let's now compute the accuracy on the training set"
   ]
  },
  {
   "cell_type": "code",
   "execution_count": 8,
   "metadata": {
    "collapsed": false
   },
   "outputs": [
    {
     "name": "stdout",
     "output_type": "stream",
     "text": [
      "Accuracy score on training set\n",
      "0.917989417989\n"
     ]
    }
   ],
   "source": [
    "# Predict from model neigh\n",
    "y_pred = rand_forest_model.predict(df_x_train)\n",
    "\n",
    "#compute score on training set\n",
    "score_training = rand_forest_model.score(df_x_train,df_y_train)\n",
    "\n",
    "# Compute accuracy on training set\n",
    "accuracy_rand_forest_training = sk.metrics.accuracy_score(df_y_train,y_pred)\n",
    "\n",
    "# Print accuracy\n",
    "print(\"Accuracy score on training set\")\n",
    "print(accuracy_rand_forest_training)"
   ]
  },
  {
   "cell_type": "markdown",
   "metadata": {},
   "source": [
    "The accuracy score on the training test is now smaller, the overfitting issue has been reduced"
   ]
  },
  {
   "cell_type": "markdown",
   "metadata": {},
   "source": [
    "## Cross validation\n",
    "\n",
    "we will define K = 20 folds.\n"
   ]
  },
  {
   "cell_type": "code",
   "execution_count": 9,
   "metadata": {
    "collapsed": false
   },
   "outputs": [],
   "source": [
    "num_folds = 2"
   ]
  },
  {
   "cell_type": "markdown",
   "metadata": {},
   "source": [
    "### 1 hyperparameter : number of trees\n",
    "\n",
    "Choices for the number of estimators hyperparameter:"
   ]
  },
  {
   "cell_type": "code",
   "execution_count": 10,
   "metadata": {
    "collapsed": true
   },
   "outputs": [],
   "source": [
    "number_trees = [10, 50, 100, 200, 300, 400, 500, 600, 700, 800, 900, 1000, 1100, 1200]"
   ]
  },
  {
   "cell_type": "code",
   "execution_count": 11,
   "metadata": {
    "collapsed": false
   },
   "outputs": [
    {
     "name": "stdout",
     "output_type": "stream",
     "text": [
      "number_trees_idx:  1 / 14 , value:  10\n",
      "Accuracy =  0.756613756614\n",
      "number_trees_idx:  2 / 14 , value:  50\n",
      "Accuracy =  0.783068783069\n",
      "number_trees_idx:  3 / 14 , value:  100\n",
      "Accuracy =  0.785714285714\n",
      "number_trees_idx:  4 / 14 , value:  200\n",
      "Accuracy =  0.785714285714\n",
      "number_trees_idx:  5 / 14 , value:  300\n",
      "Accuracy =  0.784832451499\n",
      "number_trees_idx:  6 / 14 , value:  400\n",
      "Accuracy =  0.789241622575\n",
      "number_trees_idx:  7 / 14 , value:  500\n",
      "Accuracy =  0.786596119929\n",
      "number_trees_idx:  8 / 14 , value:  600\n",
      "Accuracy =  0.787477954145\n",
      "number_trees_idx:  9 / 14 , value:  700\n",
      "Accuracy =  0.785714285714\n",
      "number_trees_idx:  10 / 14 , value:  800\n",
      "Accuracy =  0.78835978836\n",
      "number_trees_idx:  11 / 14 , value:  900\n",
      "Accuracy =  0.784832451499\n",
      "number_trees_idx:  12 / 14 , value:  1000\n",
      "Accuracy =  0.787477954145\n",
      "number_trees_idx:  13 / 14 , value:  1100\n",
      "Accuracy =  0.789241622575\n",
      "number_trees_idx:  14 / 14 , value:  1200\n",
      "Accuracy =  0.78835978836\n"
     ]
    }
   ],
   "source": [
    "rf_scores = []\n",
    "rf_param = []\n",
    "\n",
    "#Loop for 1st hyperparameter n_estimators\n",
    "for number_trees_idx, number_trees_value in enumerate(number_trees):\n",
    "    \n",
    "    print('number_trees_idx: ',number_trees_idx+1,'/',len(number_trees),', value: ', number_trees_value)\n",
    "\n",
    "    # Random forest\n",
    "    rand_forest_model = sk.ensemble.RandomForestClassifier(n_estimators=number_trees_value, max_depth=10)\n",
    "\n",
    "    #Scores\n",
    "    scores = cross_val_score(rand_forest_model, df_x_train, df_y_train, cv=num_folds, scoring='accuracy')\n",
    "    rf_scores.append(scores.mean())\n",
    "    rf_param.append(number_trees_value)\n",
    "    print('Accuracy = ', scores.mean())\n"
   ]
  },
  {
   "cell_type": "markdown",
   "metadata": {},
   "source": [
    "We will now plot the cross-validated accuracy for different number of trees and display the value of the best model"
   ]
  },
  {
   "cell_type": "code",
   "execution_count": 12,
   "metadata": {
    "collapsed": false
   },
   "outputs": [
    {
     "name": "stdout",
     "output_type": "stream",
     "text": [
      "best accuracy:\n",
      "0.789241622575\n",
      "best parameter:\n",
      "400\n"
     ]
    },
    {
     "data": {
      "image/png": "[encoded data removed]",
      "text/plain": [
       "<matplotlib.figure.Figure at 0x115f28438>"
      ]
     },
     "metadata": {},
     "output_type": "display_data"
    }
   ],
   "source": [
    "plt.plot(rf_param,rf_scores)\n",
    "plt.xlabel('Number of trees in the random forest')\n",
    "plt.ylabel('Cross-Validated Accuracy')\n",
    "\n",
    "idx_best = np.argmax(rf_scores)\n",
    "idx_worst = np.argmin(rf_scores)\n",
    "\n",
    "print('best accuracy:')\n",
    "print(np.max(rf_scores))\n",
    "print('best parameter:')\n",
    "best_param = rf_param[idx_best]\n",
    "worst_param = rf_param[idx_worst]\n",
    "print(best_param)"
   ]
  },
  {
   "cell_type": "markdown",
   "metadata": {},
   "source": [
    "## Feature importances"
   ]
  },
  {
   "cell_type": "code",
   "execution_count": 13,
   "metadata": {
    "collapsed": false
   },
   "outputs": [
    {
     "data": {
      "text/plain": [
       "RandomForestClassifier(bootstrap=True, class_weight=None, criterion='gini',\n",
       "            max_depth=10, max_features='auto', max_leaf_nodes=None,\n",
       "            min_impurity_split=1e-07, min_samples_leaf=1,\n",
       "            min_samples_split=2, min_weight_fraction_leaf=0.0,\n",
       "            n_estimators=400, n_jobs=1, oob_score=False, random_state=None,\n",
       "            verbose=0, warm_start=False)"
      ]
     },
     "execution_count": 13,
     "metadata": {},
     "output_type": "execute_result"
    }
   ],
   "source": [
    "# Random forest\n",
    "rand_forest_model = sk.ensemble.RandomForestClassifier(n_estimators=best_param,max_depth=10)\n",
    "df_y = np.asarray(df_y, dtype=\"|S6\")\n",
    "rand_forest_model.fit(df_x,df_y)"
   ]
  },
  {
   "cell_type": "code",
   "execution_count": 14,
   "metadata": {
    "collapsed": false
   },
   "outputs": [],
   "source": [
    "importances = rand_forest_model.feature_importances_\n",
    "indices = np.argsort(importances)[::-1]\n"
   ]
  },
  {
   "cell_type": "code",
   "execution_count": 15,
   "metadata": {
    "collapsed": false,
    "scrolled": false
   },
   "outputs": [
    {
     "name": "stdout",
     "output_type": "stream",
     "text": [
      "Feature ranking:\n",
      "1. feature seExp (0.112697)\n",
      "2. feature height (0.096749)\n",
      "3. feature redCards (0.092313)\n",
      "4. feature games (0.085083)\n",
      "5. feature meanIAT (0.054511)\n",
      "6. feature victories (0.054160)\n",
      "7. feature weight (0.052699)\n",
      "8. feature goals (0.052362)\n",
      "9. feature defeats (0.052338)\n",
      "10. feature yellowCards (0.047970)\n",
      "11. feature ties (0.041475)\n",
      "12. feature meanExp (0.039531)\n",
      "13. feature seIAT (0.039316)\n",
      "14. feature age (0.035011)\n",
      "15. feature England (0.028656)\n",
      "16. feature France (0.018028)\n",
      "17. feature Germany (0.013712)\n",
      "18. feature Spain (0.012055)\n",
      "19. feature Attacking Midfielder (0.011810)\n",
      "20. feature Center Back (0.009252)\n",
      "21. feature Center Forward (0.008821)\n",
      "22. feature Center Midfielder (0.007638)\n",
      "23. feature Defensive Midfielder (0.006521)\n",
      "24. feature Goalkeeper (0.005843)\n",
      "25. feature Left Fullback (0.004213)\n",
      "26. feature Left Midfielder (0.004047)\n",
      "27. feature Left Winger (0.003941)\n",
      "28. feature Right Fullback (0.003611)\n",
      "29. feature Right Midfielder (0.002974)\n",
      "30. feature Right Winger (0.002661)\n"
     ]
    },
    {
     "data": {
      "image/png": "[encoded data removed]",
      "text/plain": [
       "<matplotlib.figure.Figure at 0x1163e5f60>"
      ]
     },
     "metadata": {},
     "output_type": "display_data"
    }
   ],
   "source": [
    "# Get the importance of the features\n",
    "importances = rand_forest_model.feature_importances_\n",
    "\n",
    "# Compute the standard deviation\n",
    "std = np.std([tree.feature_importances_ for tree in rand_forest_model.estimators_], axis=0)\n",
    "\n",
    "# Get the indices of the most important features, in descending order\n",
    "indices = np.argsort(importances)[::-1]\n",
    "\n",
    "variable_importance = []\n",
    "\n",
    "# Print the feature ranking\n",
    "print(\"Feature ranking:\")\n",
    "\n",
    "\n",
    "for feature in range(df_x.shape[1]):\n",
    "    print(\"%d. feature %s (%f)\" % (feature+1, df_x.columns[feature], importances[indices[feature]]))\n",
    "    variable_importance.append({'Variable': df_x.columns[feature], 'Importance': importances[indices[feature]]})\n",
    "\n",
    "variable_importance=pd.DataFrame(variable_importance)\n",
    "plt.figure()\n",
    "\n",
    "plt.title(\"Feature importances\")\n",
    "plt.bar(range(df_x.shape[1]), importances[indices],\n",
    "       color=\"r\", yerr=std[indices], align=\"center\")\n",
    "plt.xticks(range(df_x.shape[1]), indices)\n",
    "plt.xlim([-1, df_x.shape[1]])\n",
    "plt.show()"
   ]
  },
  {
   "cell_type": "markdown",
   "metadata": {},
   "source": [
    "Let's now remove the features that we assume are the least useful to determine one's skin color.\n",
    "\n",
    "We will delete the 10 most insignificant features.\n",
    "By retraining the model and verifying its accuracy, we see it has improved slightly."
   ]
  },
  {
   "cell_type": "code",
   "execution_count": 17,
   "metadata": {
    "collapsed": false
   },
   "outputs": [],
   "source": [
    "s=len(variable_importance)\n",
    "col_to_remove=variable_importance[s-9:s]['Variable']\n",
    "df_x.drop(col_to_remove,inplace=True,axis=1,errors='ignore')\n",
    "\n"
   ]
  },
  {
   "cell_type": "code",
   "execution_count": 18,
   "metadata": {
    "collapsed": false
   },
   "outputs": [
    {
     "name": "stdout",
     "output_type": "stream",
     "text": [
      "0.795774647887\n"
     ]
    }
   ],
   "source": [
    "df_x_train, df_x_test, df_y_train, df_y_test = train_test_split(df_x, df_y, test_size=.2, random_state = 0)\n",
    "\n",
    "rand_forest_model.fit(df_x_train,df_y_train)\n",
    "# Predict from model neigh\n",
    "y_pred = rand_forest_model.predict(df_x_test)\n",
    "\n",
    "# Compute accuracy \n",
    "accuracy_rand_forest = sk.metrics.accuracy_score(df_y_test,y_pred)\n",
    "\n",
    "# Print accuracy and exectution time\n",
    "print(accuracy_rand_forest)"
   ]
  },
  {
   "cell_type": "markdown",
   "metadata": {},
   "source": [
    "The random forest will be trained again on the whole set, using the same model parameters."
   ]
  },
  {
   "cell_type": "code",
   "execution_count": 19,
   "metadata": {
    "collapsed": false
   },
   "outputs": [
    {
     "data": {
      "text/plain": [
       "RandomForestClassifier(bootstrap=True, class_weight=None, criterion='gini',\n",
       "            max_depth=10, max_features='auto', max_leaf_nodes=None,\n",
       "            min_impurity_split=1e-07, min_samples_leaf=1,\n",
       "            min_samples_split=2, min_weight_fraction_leaf=0.0,\n",
       "            n_estimators=400, n_jobs=1, oob_score=False, random_state=None,\n",
       "            verbose=0, warm_start=False)"
      ]
     },
     "execution_count": 19,
     "metadata": {},
     "output_type": "execute_result"
    }
   ],
   "source": [
    "rand_forest_model.fit(df_x,df_y)\n"
   ]
  },
  {
   "cell_type": "markdown",
   "metadata": {},
   "source": [
    "Let's have a look at the features importance now"
   ]
  },
  {
   "cell_type": "code",
   "execution_count": 20,
   "metadata": {
    "collapsed": false
   },
   "outputs": [
    {
     "name": "stdout",
     "output_type": "stream",
     "text": [
      "Feature ranking:\n",
      "1. feature seExp (0.114469)\n",
      "2. feature height (0.096728)\n",
      "3. feature redCards (0.096585)\n",
      "4. feature games (0.090608)\n",
      "5. feature meanIAT (0.062508)\n",
      "6. feature victories (0.057679)\n",
      "7. feature weight (0.056454)\n",
      "8. feature goals (0.055793)\n",
      "9. feature defeats (0.054467)\n",
      "10. feature yellowCards (0.052479)\n",
      "11. feature ties (0.045071)\n",
      "12. feature meanExp (0.042563)\n",
      "13. feature seIAT (0.042395)\n",
      "14. feature age (0.033451)\n",
      "15. feature England (0.030254)\n",
      "16. feature France (0.017125)\n",
      "17. feature Germany (0.015773)\n",
      "18. feature Spain (0.010820)\n",
      "19. feature Attacking Midfielder (0.009910)\n",
      "20. feature Center Back (0.007736)\n",
      "21. feature Center Forward (0.007133)\n"
     ]
    },
    {
     "data": {
      "image/png": "[encoded data removed]",
      "text/plain": [
       "<matplotlib.figure.Figure at 0x115ef7908>"
      ]
     },
     "metadata": {},
     "output_type": "display_data"
    }
   ],
   "source": [
    "importances = rand_forest_model.feature_importances_\n",
    "std = np.std([tree.feature_importances_ for tree in rand_forest_model.estimators_],\n",
    "             axis=0)\n",
    "indices = np.argsort(importances)[::-1]\n",
    "\n",
    "# Print the feature ranking\n",
    "print(\"Feature ranking:\")\n",
    "\n",
    "for f in range(df_x.shape[1]):\n",
    "    print(\"%d. feature %s (%f)\" % (f + 1, df_x.columns[f], importances[indices[f]]))\n",
    "plt.figure()\n",
    "\n",
    "plt.title(\"Feature importances\")\n",
    "plt.bar(range(df_x.shape[1]), importances[indices],\n",
    "       color=\"r\", yerr=std[indices], align=\"center\")\n",
    "plt.xticks(range(df_x.shape[1]), indices)\n",
    "plt.xlim([-1, df_x.shape[1]])\n",
    "plt.show()"
   ]
  },
  {
   "cell_type": "markdown",
   "metadata": {},
   "source": [
    "The order didn't change at all"
   ]
  },
  {
   "cell_type": "markdown",
   "metadata": {},
   "source": [
    "## Bonus question"
   ]
  },
  {
   "cell_type": "markdown",
   "metadata": {},
   "source": [
    "Firstly the learning curve of the best number of trees and with the max of depth undefined and the 10 most insignificant features deleted."
   ]
  },
  {
   "cell_type": "code",
   "execution_count": 21,
   "metadata": {
    "collapsed": false
   },
   "outputs": [
    {
     "data": {
      "text/plain": [
       "<matplotlib.legend.Legend at 0x11af0e438>"
      ]
     },
     "execution_count": 21,
     "metadata": {},
     "output_type": "execute_result"
    },
    {
     "data": {
      "image/png": "[encoded data removed]",
      "text/plain": [
       "<matplotlib.figure.Figure at 0x11af12390>"
      ]
     },
     "metadata": {},
     "output_type": "display_data"
    }
   ],
   "source": [
    "    rand_forest_model = sk.ensemble.RandomForestClassifier(n_estimators=best_param)\n",
    "    plt.figure()\n",
    "    plt.title(\"Best model\")\n",
    "    plt.xlabel(\"Training examples\")\n",
    "    plt.ylabel(\"Score\")\n",
    "    train_sizes, train_scores, test_scores = learning_curve(rand_forest_model, df_x, df_y, cv=20)\n",
    "    train_scores_mean = np.mean(train_scores, axis=1)\n",
    "    train_scores_std = np.std(train_scores, axis=1)\n",
    "    test_scores_mean = np.mean(test_scores, axis=1)\n",
    "    test_scores_std = np.std(test_scores, axis=1)\n",
    "    plt.grid()\n",
    "\n",
    "    \n",
    "    plt.fill_between(train_sizes, train_scores_mean - train_scores_std,\n",
    "                     train_scores_mean + train_scores_std, alpha=0.1,\n",
    "                     color=\"r\")\n",
    "    plt.fill_between(train_sizes, test_scores_mean - test_scores_std,\n",
    "                     test_scores_mean + test_scores_std, alpha=0.1, color=\"g\")\n",
    "    plt.plot(train_sizes, train_scores_mean, 'o-', color=\"r\",\n",
    "             label=\"Training score\")\n",
    "    plt.plot(train_sizes, test_scores_mean, 'o-', color=\"g\",\n",
    "             label=\"Cross-validation score\")\n",
    "\n",
    "    axes = plt.gca()\n",
    "    axes.set_ylim([0.4,1.05])\n",
    "\n",
    "    plt.legend(loc=\"best\")\n",
    "\n",
    "\n"
   ]
  },
  {
   "cell_type": "markdown",
   "metadata": {},
   "source": [
    "As we can see the model has a pretty high accuracy but is overfitting"
   ]
  },
  {
   "cell_type": "markdown",
   "metadata": {},
   "source": [
    "Now the learning curve of the worst number of trees and a depth of 4 will be plotted"
   ]
  },
  {
   "cell_type": "code",
   "execution_count": 37,
   "metadata": {
    "collapsed": false
   },
   "outputs": [],
   "source": [
    "rand_forest_model = sk.ensemble.RandomForestClassifier(n_estimators=1,max_depth=1)\n"
   ]
  },
  {
   "cell_type": "code",
   "execution_count": 38,
   "metadata": {
    "collapsed": false
   },
   "outputs": [
    {
     "data": {
      "text/plain": [
       "<matplotlib.legend.Legend at 0x11c4b24a8>"
      ]
     },
     "execution_count": 38,
     "metadata": {},
     "output_type": "execute_result"
    },
    {
     "data": {
      "image/png": "[encoded data removed]",
      "text/plain": [
       "<matplotlib.figure.Figure at 0x11b793e80>"
      ]
     },
     "metadata": {},
     "output_type": "display_data"
    }
   ],
   "source": [
    "    plt.figure()\n",
    "    plt.title(\"Worst model\")\n",
    "    plt.xlabel(\"Training examples\")\n",
    "    plt.ylabel(\"Score\")\n",
    "    train_sizes, train_scores, test_scores = learning_curve(\n",
    "        rand_forest_model, df_x, df_y, cv=20)\n",
    "    train_scores_mean = np.mean(train_scores, axis=1)\n",
    "    train_scores_std = np.std(train_scores, axis=1)\n",
    "    test_scores_mean = np.mean(test_scores, axis=1)\n",
    "    test_scores_std = np.std(test_scores, axis=1)\n",
    "    plt.grid()\n",
    "\n",
    "    plt.fill_between(train_sizes, train_scores_mean - train_scores_std,\n",
    "                     train_scores_mean + train_scores_std, alpha=0.1,\n",
    "                     color=\"r\")\n",
    "    plt.fill_between(train_sizes, test_scores_mean - test_scores_std,\n",
    "                     test_scores_mean + test_scores_std, alpha=0.1, color=\"g\")\n",
    "    plt.plot(train_sizes, train_scores_mean, 'o-', color=\"r\",\n",
    "             label=\"Training score\")\n",
    "    plt.plot(train_sizes, test_scores_mean, 'o-', color=\"g\",\n",
    "             label=\"Cross-validation score\")\n",
    "    axes = plt.gca()\n",
    "axes.set_ylim([0.4,1.05])\n",
    "\n",
    "    plt.legend(loc=\"best\")\n",
    "\n"
   ]
  },
  {
   "cell_type": "markdown",
   "metadata": {},
   "source": [
    "As it can be seen the worst model was overfitting a lot, having an accuracy of 1 when training and showing a bad performance when testing on a subset of the data it hasn't trained on"
   ]
  }
 ],
 "metadata": {
  "anaconda-cloud": {},
  "kernelspec": {
   "display_name": "Python [conda root]",
   "language": "python",
   "name": "conda-root-py"
  },
  "language_info": {
   "codemirror_mode": {
    "name": "ipython",
    "version": 3
   },
   "file_extension": ".py",
   "mimetype": "text/x-python",
   "name": "python",
   "nbconvert_exporter": "python",
   "pygments_lexer": "ipython3",
   "version": "3.5.2"
  }
 },
 "nbformat": 4,
 "nbformat_minor": 1
}
