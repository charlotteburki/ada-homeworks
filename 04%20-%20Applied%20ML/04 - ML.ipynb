{
 "cells": [
  {
   "cell_type": "markdown",
   "metadata": {},
   "source": [
    "# Machine Learning\n",
    "\n",
    "In this homework we will gain experience on Applied Machine Learning, exploring an interesting dataset about soccer players and referees. "
   ]
  },
  {
   "cell_type": "code",
   "execution_count": 48,
   "metadata": {
    "collapsed": false
   },
   "outputs": [],
   "source": [
    "import pandas as pd\n",
    "import numpy as np\n",
    "import os\n",
    "from IPython.display import Image\n",
    "from IPython.core.display import HTML \n",
    "import matplotlib.pyplot as plt  \n",
    "% matplotlib inline\n",
    "import random\n",
    "pd.options.mode.chained_assignment = None  # default='warn'\n",
    "import sklearn as sk\n",
    "from sklearn import preprocessing, ensemble\n",
    "from sklearn.model_selection import train_test_split\n",
    "from sklearn.cross_validation import KFold\n",
    "from sklearn.cross_validation import cross_val_score\n",
    "from sklearn.model_selection import learning_curve\n"
   ]
  },
  {
   "cell_type": "code",
   "execution_count": 2,
   "metadata": {
    "collapsed": true
   },
   "outputs": [],
   "source": [
    "df = pd.read_csv(\"CrowdstormingDataJuly1st.csv\")"
   ]
  },
  {
   "cell_type": "markdown",
   "metadata": {},
   "source": [
    "## 1. Data cleaning and exploration"
   ]
  },
  {
   "cell_type": "markdown",
   "metadata": {},
   "source": [
    "Describe the data"
   ]
  },
  {
   "cell_type": "code",
   "execution_count": 3,
   "metadata": {
    "collapsed": false
   },
   "outputs": [
    {
     "name": "stderr",
     "output_type": "stream",
     "text": [
      "/Users/Charlotte/anaconda/lib/python3.5/site-packages/numpy/lib/function_base.py:3834: RuntimeWarning: Invalid value encountered in percentile\n",
      "  RuntimeWarning)\n"
     ]
    },
    {
     "data": {
      "text/html": [
       "<div>\n",
       "<table border=\"1\" class=\"dataframe\">\n",
       "  <thead>\n",
       "    <tr style=\"text-align: right;\">\n",
       "      <th></th>\n",
       "      <th>height</th>\n",
       "      <th>weight</th>\n",
       "      <th>games</th>\n",
       "      <th>victories</th>\n",
       "      <th>ties</th>\n",
       "      <th>defeats</th>\n",
       "      <th>goals</th>\n",
       "      <th>yellowCards</th>\n",
       "      <th>yellowReds</th>\n",
       "      <th>redCards</th>\n",
       "      <th>rater1</th>\n",
       "      <th>rater2</th>\n",
       "      <th>refNum</th>\n",
       "      <th>refCountry</th>\n",
       "      <th>meanIAT</th>\n",
       "      <th>nIAT</th>\n",
       "      <th>seIAT</th>\n",
       "      <th>meanExp</th>\n",
       "      <th>nExp</th>\n",
       "      <th>seExp</th>\n",
       "    </tr>\n",
       "  </thead>\n",
       "  <tbody>\n",
       "    <tr>\n",
       "      <th>count</th>\n",
       "      <td>145765.000000</td>\n",
       "      <td>143785.000000</td>\n",
       "      <td>146028.000000</td>\n",
       "      <td>146028.000000</td>\n",
       "      <td>146028.000000</td>\n",
       "      <td>146028.000000</td>\n",
       "      <td>146028.000000</td>\n",
       "      <td>146028.000000</td>\n",
       "      <td>146028.000000</td>\n",
       "      <td>146028.000000</td>\n",
       "      <td>124621.000000</td>\n",
       "      <td>124621.000000</td>\n",
       "      <td>146028.000000</td>\n",
       "      <td>146028.000000</td>\n",
       "      <td>145865.000000</td>\n",
       "      <td>1.458650e+05</td>\n",
       "      <td>1.458650e+05</td>\n",
       "      <td>145865.000000</td>\n",
       "      <td>1.458650e+05</td>\n",
       "      <td>145865.000000</td>\n",
       "    </tr>\n",
       "    <tr>\n",
       "      <th>mean</th>\n",
       "      <td>181.935938</td>\n",
       "      <td>76.075662</td>\n",
       "      <td>2.921166</td>\n",
       "      <td>1.278344</td>\n",
       "      <td>0.708241</td>\n",
       "      <td>0.934581</td>\n",
       "      <td>0.338058</td>\n",
       "      <td>0.385364</td>\n",
       "      <td>0.011381</td>\n",
       "      <td>0.012559</td>\n",
       "      <td>0.264255</td>\n",
       "      <td>0.302862</td>\n",
       "      <td>1534.827444</td>\n",
       "      <td>29.642842</td>\n",
       "      <td>0.346276</td>\n",
       "      <td>1.969741e+04</td>\n",
       "      <td>6.310849e-04</td>\n",
       "      <td>0.452026</td>\n",
       "      <td>2.044023e+04</td>\n",
       "      <td>0.002994</td>\n",
       "    </tr>\n",
       "    <tr>\n",
       "      <th>std</th>\n",
       "      <td>6.738726</td>\n",
       "      <td>7.140906</td>\n",
       "      <td>3.413633</td>\n",
       "      <td>1.790725</td>\n",
       "      <td>1.116793</td>\n",
       "      <td>1.383059</td>\n",
       "      <td>0.906481</td>\n",
       "      <td>0.795333</td>\n",
       "      <td>0.107931</td>\n",
       "      <td>0.112889</td>\n",
       "      <td>0.295382</td>\n",
       "      <td>0.293020</td>\n",
       "      <td>918.736625</td>\n",
       "      <td>27.496189</td>\n",
       "      <td>0.032246</td>\n",
       "      <td>1.271262e+05</td>\n",
       "      <td>4.735857e-03</td>\n",
       "      <td>0.217469</td>\n",
       "      <td>1.306157e+05</td>\n",
       "      <td>0.019723</td>\n",
       "    </tr>\n",
       "    <tr>\n",
       "      <th>min</th>\n",
       "      <td>161.000000</td>\n",
       "      <td>54.000000</td>\n",
       "      <td>1.000000</td>\n",
       "      <td>0.000000</td>\n",
       "      <td>0.000000</td>\n",
       "      <td>0.000000</td>\n",
       "      <td>0.000000</td>\n",
       "      <td>0.000000</td>\n",
       "      <td>0.000000</td>\n",
       "      <td>0.000000</td>\n",
       "      <td>0.000000</td>\n",
       "      <td>0.000000</td>\n",
       "      <td>1.000000</td>\n",
       "      <td>1.000000</td>\n",
       "      <td>-0.047254</td>\n",
       "      <td>2.000000e+00</td>\n",
       "      <td>2.235373e-07</td>\n",
       "      <td>-1.375000</td>\n",
       "      <td>2.000000e+00</td>\n",
       "      <td>0.000001</td>\n",
       "    </tr>\n",
       "    <tr>\n",
       "      <th>25%</th>\n",
       "      <td>NaN</td>\n",
       "      <td>NaN</td>\n",
       "      <td>1.000000</td>\n",
       "      <td>0.000000</td>\n",
       "      <td>0.000000</td>\n",
       "      <td>0.000000</td>\n",
       "      <td>0.000000</td>\n",
       "      <td>0.000000</td>\n",
       "      <td>0.000000</td>\n",
       "      <td>0.000000</td>\n",
       "      <td>NaN</td>\n",
       "      <td>NaN</td>\n",
       "      <td>641.000000</td>\n",
       "      <td>7.000000</td>\n",
       "      <td>NaN</td>\n",
       "      <td>NaN</td>\n",
       "      <td>NaN</td>\n",
       "      <td>NaN</td>\n",
       "      <td>NaN</td>\n",
       "      <td>NaN</td>\n",
       "    </tr>\n",
       "    <tr>\n",
       "      <th>50%</th>\n",
       "      <td>NaN</td>\n",
       "      <td>NaN</td>\n",
       "      <td>2.000000</td>\n",
       "      <td>1.000000</td>\n",
       "      <td>0.000000</td>\n",
       "      <td>1.000000</td>\n",
       "      <td>0.000000</td>\n",
       "      <td>0.000000</td>\n",
       "      <td>0.000000</td>\n",
       "      <td>0.000000</td>\n",
       "      <td>NaN</td>\n",
       "      <td>NaN</td>\n",
       "      <td>1604.000000</td>\n",
       "      <td>21.000000</td>\n",
       "      <td>NaN</td>\n",
       "      <td>NaN</td>\n",
       "      <td>NaN</td>\n",
       "      <td>NaN</td>\n",
       "      <td>NaN</td>\n",
       "      <td>NaN</td>\n",
       "    </tr>\n",
       "    <tr>\n",
       "      <th>75%</th>\n",
       "      <td>NaN</td>\n",
       "      <td>NaN</td>\n",
       "      <td>3.000000</td>\n",
       "      <td>2.000000</td>\n",
       "      <td>1.000000</td>\n",
       "      <td>1.000000</td>\n",
       "      <td>0.000000</td>\n",
       "      <td>1.000000</td>\n",
       "      <td>0.000000</td>\n",
       "      <td>0.000000</td>\n",
       "      <td>NaN</td>\n",
       "      <td>NaN</td>\n",
       "      <td>2345.000000</td>\n",
       "      <td>44.000000</td>\n",
       "      <td>NaN</td>\n",
       "      <td>NaN</td>\n",
       "      <td>NaN</td>\n",
       "      <td>NaN</td>\n",
       "      <td>NaN</td>\n",
       "      <td>NaN</td>\n",
       "    </tr>\n",
       "    <tr>\n",
       "      <th>max</th>\n",
       "      <td>203.000000</td>\n",
       "      <td>100.000000</td>\n",
       "      <td>47.000000</td>\n",
       "      <td>29.000000</td>\n",
       "      <td>14.000000</td>\n",
       "      <td>18.000000</td>\n",
       "      <td>23.000000</td>\n",
       "      <td>14.000000</td>\n",
       "      <td>3.000000</td>\n",
       "      <td>2.000000</td>\n",
       "      <td>1.000000</td>\n",
       "      <td>1.000000</td>\n",
       "      <td>3147.000000</td>\n",
       "      <td>161.000000</td>\n",
       "      <td>0.573793</td>\n",
       "      <td>1.975803e+06</td>\n",
       "      <td>2.862871e-01</td>\n",
       "      <td>1.800000</td>\n",
       "      <td>2.029548e+06</td>\n",
       "      <td>1.060660</td>\n",
       "    </tr>\n",
       "  </tbody>\n",
       "</table>\n",
       "</div>"
      ],
      "text/plain": [
       "              height         weight          games      victories  \\\n",
       "count  145765.000000  143785.000000  146028.000000  146028.000000   \n",
       "mean      181.935938      76.075662       2.921166       1.278344   \n",
       "std         6.738726       7.140906       3.413633       1.790725   \n",
       "min       161.000000      54.000000       1.000000       0.000000   \n",
       "25%              NaN            NaN       1.000000       0.000000   \n",
       "50%              NaN            NaN       2.000000       1.000000   \n",
       "75%              NaN            NaN       3.000000       2.000000   \n",
       "max       203.000000     100.000000      47.000000      29.000000   \n",
       "\n",
       "                ties        defeats          goals    yellowCards  \\\n",
       "count  146028.000000  146028.000000  146028.000000  146028.000000   \n",
       "mean        0.708241       0.934581       0.338058       0.385364   \n",
       "std         1.116793       1.383059       0.906481       0.795333   \n",
       "min         0.000000       0.000000       0.000000       0.000000   \n",
       "25%         0.000000       0.000000       0.000000       0.000000   \n",
       "50%         0.000000       1.000000       0.000000       0.000000   \n",
       "75%         1.000000       1.000000       0.000000       1.000000   \n",
       "max        14.000000      18.000000      23.000000      14.000000   \n",
       "\n",
       "          yellowReds       redCards         rater1         rater2  \\\n",
       "count  146028.000000  146028.000000  124621.000000  124621.000000   \n",
       "mean        0.011381       0.012559       0.264255       0.302862   \n",
       "std         0.107931       0.112889       0.295382       0.293020   \n",
       "min         0.000000       0.000000       0.000000       0.000000   \n",
       "25%         0.000000       0.000000            NaN            NaN   \n",
       "50%         0.000000       0.000000            NaN            NaN   \n",
       "75%         0.000000       0.000000            NaN            NaN   \n",
       "max         3.000000       2.000000       1.000000       1.000000   \n",
       "\n",
       "              refNum     refCountry        meanIAT          nIAT  \\\n",
       "count  146028.000000  146028.000000  145865.000000  1.458650e+05   \n",
       "mean     1534.827444      29.642842       0.346276  1.969741e+04   \n",
       "std       918.736625      27.496189       0.032246  1.271262e+05   \n",
       "min         1.000000       1.000000      -0.047254  2.000000e+00   \n",
       "25%       641.000000       7.000000            NaN           NaN   \n",
       "50%      1604.000000      21.000000            NaN           NaN   \n",
       "75%      2345.000000      44.000000            NaN           NaN   \n",
       "max      3147.000000     161.000000       0.573793  1.975803e+06   \n",
       "\n",
       "              seIAT        meanExp          nExp          seExp  \n",
       "count  1.458650e+05  145865.000000  1.458650e+05  145865.000000  \n",
       "mean   6.310849e-04       0.452026  2.044023e+04       0.002994  \n",
       "std    4.735857e-03       0.217469  1.306157e+05       0.019723  \n",
       "min    2.235373e-07      -1.375000  2.000000e+00       0.000001  \n",
       "25%             NaN            NaN           NaN            NaN  \n",
       "50%             NaN            NaN           NaN            NaN  \n",
       "75%             NaN            NaN           NaN            NaN  \n",
       "max    2.862871e-01       1.800000  2.029548e+06       1.060660  "
      ]
     },
     "execution_count": 3,
     "metadata": {},
     "output_type": "execute_result"
    }
   ],
   "source": [
    "df.describe()"
   ]
  },
  {
   "cell_type": "markdown",
   "metadata": {},
   "source": [
    "Is there any null data in the dataframe ? Where ?"
   ]
  },
  {
   "cell_type": "code",
   "execution_count": 4,
   "metadata": {
    "collapsed": false
   },
   "outputs": [
    {
     "data": {
      "text/plain": [
       "playerShort      False\n",
       "player           False\n",
       "club             False\n",
       "leagueCountry    False\n",
       "birthday         False\n",
       "height            True\n",
       "weight            True\n",
       "position          True\n",
       "games            False\n",
       "victories        False\n",
       "ties             False\n",
       "defeats          False\n",
       "goals            False\n",
       "yellowCards      False\n",
       "yellowReds       False\n",
       "redCards         False\n",
       "photoID           True\n",
       "rater1            True\n",
       "rater2            True\n",
       "refNum           False\n",
       "refCountry       False\n",
       "Alpha_3           True\n",
       "meanIAT           True\n",
       "nIAT              True\n",
       "seIAT             True\n",
       "meanExp           True\n",
       "nExp              True\n",
       "seExp             True\n",
       "dtype: bool"
      ]
     },
     "execution_count": 4,
     "metadata": {},
     "output_type": "execute_result"
    }
   ],
   "source": [
    "df.isnull().any()"
   ]
  },
  {
   "cell_type": "markdown",
   "metadata": {},
   "source": [
    "We can see that some data are missing, and this is especially the case for *rater1* and *rater2*. We will drop the rows where some data are missing."
   ]
  },
  {
   "cell_type": "code",
   "execution_count": 5,
   "metadata": {
    "collapsed": false
   },
   "outputs": [
    {
     "data": {
      "text/html": [
       "<div>\n",
       "<table border=\"1\" class=\"dataframe\">\n",
       "  <thead>\n",
       "    <tr style=\"text-align: right;\">\n",
       "      <th></th>\n",
       "      <th>height</th>\n",
       "      <th>weight</th>\n",
       "      <th>games</th>\n",
       "      <th>victories</th>\n",
       "      <th>ties</th>\n",
       "      <th>defeats</th>\n",
       "      <th>goals</th>\n",
       "      <th>yellowCards</th>\n",
       "      <th>yellowReds</th>\n",
       "      <th>redCards</th>\n",
       "      <th>rater1</th>\n",
       "      <th>rater2</th>\n",
       "      <th>refNum</th>\n",
       "      <th>refCountry</th>\n",
       "      <th>meanIAT</th>\n",
       "      <th>nIAT</th>\n",
       "      <th>seIAT</th>\n",
       "      <th>meanExp</th>\n",
       "      <th>nExp</th>\n",
       "      <th>seExp</th>\n",
       "    </tr>\n",
       "  </thead>\n",
       "  <tbody>\n",
       "    <tr>\n",
       "      <th>count</th>\n",
       "      <td>115457.000000</td>\n",
       "      <td>115457.000000</td>\n",
       "      <td>115457.000000</td>\n",
       "      <td>115457.000000</td>\n",
       "      <td>115457.000000</td>\n",
       "      <td>115457.000000</td>\n",
       "      <td>115457.000000</td>\n",
       "      <td>115457.000000</td>\n",
       "      <td>115457.000000</td>\n",
       "      <td>115457.000000</td>\n",
       "      <td>115457.000000</td>\n",
       "      <td>115457.000000</td>\n",
       "      <td>115457.000000</td>\n",
       "      <td>115457.000000</td>\n",
       "      <td>115457.000000</td>\n",
       "      <td>1.154570e+05</td>\n",
       "      <td>1.154570e+05</td>\n",
       "      <td>115457.000000</td>\n",
       "      <td>1.154570e+05</td>\n",
       "      <td>115457.000000</td>\n",
       "    </tr>\n",
       "    <tr>\n",
       "      <th>mean</th>\n",
       "      <td>182.176135</td>\n",
       "      <td>76.517413</td>\n",
       "      <td>3.033761</td>\n",
       "      <td>1.371506</td>\n",
       "      <td>0.721134</td>\n",
       "      <td>0.941121</td>\n",
       "      <td>0.360351</td>\n",
       "      <td>0.404592</td>\n",
       "      <td>0.012290</td>\n",
       "      <td>0.012801</td>\n",
       "      <td>0.261946</td>\n",
       "      <td>0.300796</td>\n",
       "      <td>1532.497363</td>\n",
       "      <td>29.367124</td>\n",
       "      <td>0.348564</td>\n",
       "      <td>1.772543e+04</td>\n",
       "      <td>6.292873e-04</td>\n",
       "      <td>0.466222</td>\n",
       "      <td>1.837261e+04</td>\n",
       "      <td>0.002993</td>\n",
       "    </tr>\n",
       "    <tr>\n",
       "      <th>std</th>\n",
       "      <td>6.855077</td>\n",
       "      <td>7.187210</td>\n",
       "      <td>3.641059</td>\n",
       "      <td>1.918978</td>\n",
       "      <td>1.155027</td>\n",
       "      <td>1.433641</td>\n",
       "      <td>0.960867</td>\n",
       "      <td>0.831051</td>\n",
       "      <td>0.112127</td>\n",
       "      <td>0.114175</td>\n",
       "      <td>0.294666</td>\n",
       "      <td>0.291061</td>\n",
       "      <td>916.310481</td>\n",
       "      <td>27.981717</td>\n",
       "      <td>0.032004</td>\n",
       "      <td>1.260788e+05</td>\n",
       "      <td>4.801956e-03</td>\n",
       "      <td>0.219350</td>\n",
       "      <td>1.295339e+05</td>\n",
       "      <td>0.019733</td>\n",
       "    </tr>\n",
       "    <tr>\n",
       "      <th>min</th>\n",
       "      <td>161.000000</td>\n",
       "      <td>55.000000</td>\n",
       "      <td>1.000000</td>\n",
       "      <td>0.000000</td>\n",
       "      <td>0.000000</td>\n",
       "      <td>0.000000</td>\n",
       "      <td>0.000000</td>\n",
       "      <td>0.000000</td>\n",
       "      <td>0.000000</td>\n",
       "      <td>0.000000</td>\n",
       "      <td>0.000000</td>\n",
       "      <td>0.000000</td>\n",
       "      <td>1.000000</td>\n",
       "      <td>1.000000</td>\n",
       "      <td>-0.047254</td>\n",
       "      <td>2.000000e+00</td>\n",
       "      <td>2.235373e-07</td>\n",
       "      <td>-1.375000</td>\n",
       "      <td>2.000000e+00</td>\n",
       "      <td>0.000001</td>\n",
       "    </tr>\n",
       "    <tr>\n",
       "      <th>25%</th>\n",
       "      <td>178.000000</td>\n",
       "      <td>72.000000</td>\n",
       "      <td>1.000000</td>\n",
       "      <td>0.000000</td>\n",
       "      <td>0.000000</td>\n",
       "      <td>0.000000</td>\n",
       "      <td>0.000000</td>\n",
       "      <td>0.000000</td>\n",
       "      <td>0.000000</td>\n",
       "      <td>0.000000</td>\n",
       "      <td>0.000000</td>\n",
       "      <td>0.000000</td>\n",
       "      <td>652.000000</td>\n",
       "      <td>7.000000</td>\n",
       "      <td>0.334684</td>\n",
       "      <td>1.785000e+03</td>\n",
       "      <td>5.454025e-05</td>\n",
       "      <td>0.335967</td>\n",
       "      <td>1.897000e+03</td>\n",
       "      <td>0.000225</td>\n",
       "    </tr>\n",
       "    <tr>\n",
       "      <th>50%</th>\n",
       "      <td>183.000000</td>\n",
       "      <td>76.000000</td>\n",
       "      <td>1.000000</td>\n",
       "      <td>1.000000</td>\n",
       "      <td>0.000000</td>\n",
       "      <td>1.000000</td>\n",
       "      <td>0.000000</td>\n",
       "      <td>0.000000</td>\n",
       "      <td>0.000000</td>\n",
       "      <td>0.000000</td>\n",
       "      <td>0.250000</td>\n",
       "      <td>0.250000</td>\n",
       "      <td>1579.000000</td>\n",
       "      <td>15.000000</td>\n",
       "      <td>0.336628</td>\n",
       "      <td>2.882000e+03</td>\n",
       "      <td>1.508847e-04</td>\n",
       "      <td>0.356446</td>\n",
       "      <td>3.011000e+03</td>\n",
       "      <td>0.000586</td>\n",
       "    </tr>\n",
       "    <tr>\n",
       "      <th>75%</th>\n",
       "      <td>187.000000</td>\n",
       "      <td>81.000000</td>\n",
       "      <td>3.000000</td>\n",
       "      <td>2.000000</td>\n",
       "      <td>1.000000</td>\n",
       "      <td>1.000000</td>\n",
       "      <td>0.000000</td>\n",
       "      <td>1.000000</td>\n",
       "      <td>0.000000</td>\n",
       "      <td>0.000000</td>\n",
       "      <td>0.250000</td>\n",
       "      <td>0.500000</td>\n",
       "      <td>2337.000000</td>\n",
       "      <td>45.000000</td>\n",
       "      <td>0.369894</td>\n",
       "      <td>7.749000e+03</td>\n",
       "      <td>2.294896e-04</td>\n",
       "      <td>0.588297</td>\n",
       "      <td>7.974000e+03</td>\n",
       "      <td>0.001002</td>\n",
       "    </tr>\n",
       "    <tr>\n",
       "      <th>max</th>\n",
       "      <td>203.000000</td>\n",
       "      <td>100.000000</td>\n",
       "      <td>47.000000</td>\n",
       "      <td>29.000000</td>\n",
       "      <td>14.000000</td>\n",
       "      <td>18.000000</td>\n",
       "      <td>23.000000</td>\n",
       "      <td>14.000000</td>\n",
       "      <td>3.000000</td>\n",
       "      <td>2.000000</td>\n",
       "      <td>1.000000</td>\n",
       "      <td>1.000000</td>\n",
       "      <td>3147.000000</td>\n",
       "      <td>161.000000</td>\n",
       "      <td>0.573793</td>\n",
       "      <td>1.975803e+06</td>\n",
       "      <td>2.862871e-01</td>\n",
       "      <td>1.800000</td>\n",
       "      <td>2.029548e+06</td>\n",
       "      <td>1.060660</td>\n",
       "    </tr>\n",
       "  </tbody>\n",
       "</table>\n",
       "</div>"
      ],
      "text/plain": [
       "              height         weight          games      victories  \\\n",
       "count  115457.000000  115457.000000  115457.000000  115457.000000   \n",
       "mean      182.176135      76.517413       3.033761       1.371506   \n",
       "std         6.855077       7.187210       3.641059       1.918978   \n",
       "min       161.000000      55.000000       1.000000       0.000000   \n",
       "25%       178.000000      72.000000       1.000000       0.000000   \n",
       "50%       183.000000      76.000000       1.000000       1.000000   \n",
       "75%       187.000000      81.000000       3.000000       2.000000   \n",
       "max       203.000000     100.000000      47.000000      29.000000   \n",
       "\n",
       "                ties        defeats          goals    yellowCards  \\\n",
       "count  115457.000000  115457.000000  115457.000000  115457.000000   \n",
       "mean        0.721134       0.941121       0.360351       0.404592   \n",
       "std         1.155027       1.433641       0.960867       0.831051   \n",
       "min         0.000000       0.000000       0.000000       0.000000   \n",
       "25%         0.000000       0.000000       0.000000       0.000000   \n",
       "50%         0.000000       1.000000       0.000000       0.000000   \n",
       "75%         1.000000       1.000000       0.000000       1.000000   \n",
       "max        14.000000      18.000000      23.000000      14.000000   \n",
       "\n",
       "          yellowReds       redCards         rater1         rater2  \\\n",
       "count  115457.000000  115457.000000  115457.000000  115457.000000   \n",
       "mean        0.012290       0.012801       0.261946       0.300796   \n",
       "std         0.112127       0.114175       0.294666       0.291061   \n",
       "min         0.000000       0.000000       0.000000       0.000000   \n",
       "25%         0.000000       0.000000       0.000000       0.000000   \n",
       "50%         0.000000       0.000000       0.250000       0.250000   \n",
       "75%         0.000000       0.000000       0.250000       0.500000   \n",
       "max         3.000000       2.000000       1.000000       1.000000   \n",
       "\n",
       "              refNum     refCountry        meanIAT          nIAT  \\\n",
       "count  115457.000000  115457.000000  115457.000000  1.154570e+05   \n",
       "mean     1532.497363      29.367124       0.348564  1.772543e+04   \n",
       "std       916.310481      27.981717       0.032004  1.260788e+05   \n",
       "min         1.000000       1.000000      -0.047254  2.000000e+00   \n",
       "25%       652.000000       7.000000       0.334684  1.785000e+03   \n",
       "50%      1579.000000      15.000000       0.336628  2.882000e+03   \n",
       "75%      2337.000000      45.000000       0.369894  7.749000e+03   \n",
       "max      3147.000000     161.000000       0.573793  1.975803e+06   \n",
       "\n",
       "              seIAT        meanExp          nExp          seExp  \n",
       "count  1.154570e+05  115457.000000  1.154570e+05  115457.000000  \n",
       "mean   6.292873e-04       0.466222  1.837261e+04       0.002993  \n",
       "std    4.801956e-03       0.219350  1.295339e+05       0.019733  \n",
       "min    2.235373e-07      -1.375000  2.000000e+00       0.000001  \n",
       "25%    5.454025e-05       0.335967  1.897000e+03       0.000225  \n",
       "50%    1.508847e-04       0.356446  3.011000e+03       0.000586  \n",
       "75%    2.294896e-04       0.588297  7.974000e+03       0.001002  \n",
       "max    2.862871e-01       1.800000  2.029548e+06       1.060660  "
      ]
     },
     "execution_count": 5,
     "metadata": {},
     "output_type": "execute_result"
    }
   ],
   "source": [
    "df.count()\n",
    "df = df.dropna()\n",
    "df.describe()"
   ]
  },
  {
   "cell_type": "markdown",
   "metadata": {},
   "source": [
    "### Aggregation of the data\n",
    "The data is actually organized as [dyad](http://en.wikipedia.org/wiki/Dyad_(sociology).\n",
    "\n",
    "We will aggregate the data by players.\n",
    "\n",
    "**Assumptions** :\n",
    "    - clubs do not change as it is over 1 season.\n",
    "    - position does not change as it is over 1 season.\n",
    "\n",
    "We need to keep only players information, not referee information. We will hence **drop** information that is linked to the referees, or that are useless for the rest of the analysis:\n",
    "    - refNum     (belongs to referee)\n",
    "    - refCountry (belongs to referee)\n",
    "    - playerShort (useless)\n",
    "    - player\n",
    "    - photoID\n",
    "    \n",
    "there are still variables that are linked to the referees, we will deal with it later."
   ]
  },
  {
   "cell_type": "code",
   "execution_count": 6,
   "metadata": {
    "collapsed": false
   },
   "outputs": [
    {
     "data": {
      "text/plain": [
       "djibril-cisse           202\n",
       "john-arne-riise         197\n",
       "javier-saviola          196\n",
       "giorgios-karagounis     195\n",
       "xavi                    188\n",
       "helder-postiga          183\n",
       "zlatan-ibrahimovic      181\n",
       "rafael-van-der-vaart    181\n",
       "simao                   180\n",
       "timmy-simons            177\n",
       "david-rozehnal          175\n",
       "emre-beloezoglu         175\n",
       "nelson-valdez           175\n",
       "emanuel-pogatetz        174\n",
       "iker-casillas           173\n",
       "shay-given              172\n",
       "marchena                171\n",
       "anatoliy-tymoshchuk     170\n",
       "claudio-pizarro         170\n",
       "andreas-ivanschitz      169\n",
       "gabriel-tamas           169\n",
       "ludovic-giuly           167\n",
       "william-gallas          167\n",
       "aaron-hughes            166\n",
       "mark-schwarzer          166\n",
       "gerald-asamoah          164\n",
       "pepe-reina              164\n",
       "obafemi-martins         164\n",
       "roque-santa-cruz        163\n",
       "jaroslav-plasil         163\n",
       "                       ... \n",
       "jordi-codina             23\n",
       "knowledge-musona         23\n",
       "marcelo_5                22\n",
       "sergio-alvarez_3         21\n",
       "raul-rodriguez_2         21\n",
       "raoul-loe                21\n",
       "issa-ndoye               20\n",
       "alex-rubio               20\n",
       "abdoulaye-diallo_2       20\n",
       "galvez_2                 20\n",
       "javi-ros                 19\n",
       "raul_10                  19\n",
       "salva-ruiz               17\n",
       "victor-alvarez           16\n",
       "dalmau_2                 16\n",
       "carlinhos_13             16\n",
       "ryan-mclaughlin_2        15\n",
       "nikos-papadopoulos       14\n",
       "ahmed-sassi              14\n",
       "nico-yennaris            14\n",
       "medhi-zeffane            12\n",
       "jonathan-ligali           8\n",
       "marek-grosse              7\n",
       "kevin                     6\n",
       "cheikh-ndiaye             5\n",
       "senah-mango               3\n",
       "wesley-jobello            3\n",
       "momar-bangoura            2\n",
       "abdoulaye-keita_2         2\n",
       "baptiste-aloe             1\n",
       "Name: playerShort, dtype: int64"
      ]
     },
     "execution_count": 6,
     "metadata": {},
     "output_type": "execute_result"
    }
   ],
   "source": [
    "df['playerShort'].value_counts()"
   ]
  },
  {
   "cell_type": "code",
   "execution_count": 7,
   "metadata": {
    "collapsed": false
   },
   "outputs": [
    {
     "data": {
      "text/html": [
       "<div>\n",
       "<table border=\"1\" class=\"dataframe\">\n",
       "  <thead>\n",
       "    <tr style=\"text-align: right;\">\n",
       "      <th></th>\n",
       "      <th>yellowCards</th>\n",
       "      <th>meanExp</th>\n",
       "      <th>ties</th>\n",
       "      <th>rater1</th>\n",
       "      <th>games</th>\n",
       "      <th>redCards</th>\n",
       "      <th>goals</th>\n",
       "      <th>defeats</th>\n",
       "      <th>nExp</th>\n",
       "      <th>height</th>\n",
       "      <th>meanIAT</th>\n",
       "      <th>seExp</th>\n",
       "      <th>victories</th>\n",
       "      <th>nIAT</th>\n",
       "      <th>seIAT</th>\n",
       "      <th>weight</th>\n",
       "      <th>rater2</th>\n",
       "    </tr>\n",
       "  </thead>\n",
       "  <tbody>\n",
       "    <tr>\n",
       "      <th>count</th>\n",
       "      <td>1419.000000</td>\n",
       "      <td>1419.000000</td>\n",
       "      <td>1419.000000</td>\n",
       "      <td>1419.000000</td>\n",
       "      <td>1419.000000</td>\n",
       "      <td>1419.000000</td>\n",
       "      <td>1419.000000</td>\n",
       "      <td>1419.000000</td>\n",
       "      <td>1.419000e+03</td>\n",
       "      <td>1419.000000</td>\n",
       "      <td>1419.000000</td>\n",
       "      <td>1419.000000</td>\n",
       "      <td>1419.000000</td>\n",
       "      <td>1.419000e+03</td>\n",
       "      <td>1419.000000</td>\n",
       "      <td>1419.000000</td>\n",
       "      <td>1419.000000</td>\n",
       "    </tr>\n",
       "    <tr>\n",
       "      <th>mean</th>\n",
       "      <td>32.919662</td>\n",
       "      <td>0.465867</td>\n",
       "      <td>58.675123</td>\n",
       "      <td>0.261452</td>\n",
       "      <td>246.842142</td>\n",
       "      <td>1.041579</td>\n",
       "      <td>29.319944</td>\n",
       "      <td>76.574348</td>\n",
       "      <td>1.494888e+06</td>\n",
       "      <td>182.163495</td>\n",
       "      <td>0.348873</td>\n",
       "      <td>0.002799</td>\n",
       "      <td>111.592671</td>\n",
       "      <td>1.442231e+06</td>\n",
       "      <td>0.000595</td>\n",
       "      <td>76.267089</td>\n",
       "      <td>0.304087</td>\n",
       "    </tr>\n",
       "    <tr>\n",
       "      <th>std</th>\n",
       "      <td>25.230962</td>\n",
       "      <td>0.092733</td>\n",
       "      <td>33.632432</td>\n",
       "      <td>0.293622</td>\n",
       "      <td>141.256408</td>\n",
       "      <td>1.372341</td>\n",
       "      <td>42.998858</td>\n",
       "      <td>40.349871</td>\n",
       "      <td>2.728862e+06</td>\n",
       "      <td>6.799365</td>\n",
       "      <td>0.012837</td>\n",
       "      <td>0.004342</td>\n",
       "      <td>78.283708</td>\n",
       "      <td>2.650281e+06</td>\n",
       "      <td>0.000952</td>\n",
       "      <td>7.104389</td>\n",
       "      <td>0.292612</td>\n",
       "    </tr>\n",
       "    <tr>\n",
       "      <th>min</th>\n",
       "      <td>0.000000</td>\n",
       "      <td>-0.108731</td>\n",
       "      <td>0.000000</td>\n",
       "      <td>0.000000</td>\n",
       "      <td>1.000000</td>\n",
       "      <td>0.000000</td>\n",
       "      <td>0.000000</td>\n",
       "      <td>0.000000</td>\n",
       "      <td>1.501000e+03</td>\n",
       "      <td>161.000000</td>\n",
       "      <td>0.268981</td>\n",
       "      <td>0.000037</td>\n",
       "      <td>0.000000</td>\n",
       "      <td>1.451000e+03</td>\n",
       "      <td>0.000010</td>\n",
       "      <td>55.000000</td>\n",
       "      <td>0.000000</td>\n",
       "    </tr>\n",
       "    <tr>\n",
       "      <th>25%</th>\n",
       "      <td>15.000000</td>\n",
       "      <td>0.391028</td>\n",
       "      <td>34.000000</td>\n",
       "      <td>0.000000</td>\n",
       "      <td>144.000000</td>\n",
       "      <td>0.000000</td>\n",
       "      <td>4.000000</td>\n",
       "      <td>48.000000</td>\n",
       "      <td>2.785795e+05</td>\n",
       "      <td>178.000000</td>\n",
       "      <td>0.339204</td>\n",
       "      <td>0.001002</td>\n",
       "      <td>59.000000</td>\n",
       "      <td>2.658230e+05</td>\n",
       "      <td>0.000228</td>\n",
       "      <td>71.000000</td>\n",
       "      <td>0.000000</td>\n",
       "    </tr>\n",
       "    <tr>\n",
       "      <th>50%</th>\n",
       "      <td>27.000000</td>\n",
       "      <td>0.459111</td>\n",
       "      <td>53.000000</td>\n",
       "      <td>0.250000</td>\n",
       "      <td>223.000000</td>\n",
       "      <td>1.000000</td>\n",
       "      <td>14.000000</td>\n",
       "      <td>72.000000</td>\n",
       "      <td>6.397130e+05</td>\n",
       "      <td>183.000000</td>\n",
       "      <td>0.347150</td>\n",
       "      <td>0.001546</td>\n",
       "      <td>91.000000</td>\n",
       "      <td>6.167860e+05</td>\n",
       "      <td>0.000332</td>\n",
       "      <td>76.000000</td>\n",
       "      <td>0.250000</td>\n",
       "    </tr>\n",
       "    <tr>\n",
       "      <th>75%</th>\n",
       "      <td>45.000000</td>\n",
       "      <td>0.541240</td>\n",
       "      <td>79.000000</td>\n",
       "      <td>0.250000</td>\n",
       "      <td>330.000000</td>\n",
       "      <td>2.000000</td>\n",
       "      <td>37.000000</td>\n",
       "      <td>100.000000</td>\n",
       "      <td>2.063837e+06</td>\n",
       "      <td>187.000000</td>\n",
       "      <td>0.357972</td>\n",
       "      <td>0.002919</td>\n",
       "      <td>147.000000</td>\n",
       "      <td>1.972198e+06</td>\n",
       "      <td>0.000585</td>\n",
       "      <td>81.000000</td>\n",
       "      <td>0.500000</td>\n",
       "    </tr>\n",
       "    <tr>\n",
       "      <th>max</th>\n",
       "      <td>197.000000</td>\n",
       "      <td>1.031407</td>\n",
       "      <td>197.000000</td>\n",
       "      <td>1.000000</td>\n",
       "      <td>914.000000</td>\n",
       "      <td>13.000000</td>\n",
       "      <td>420.000000</td>\n",
       "      <td>258.000000</td>\n",
       "      <td>3.976710e+07</td>\n",
       "      <td>203.000000</td>\n",
       "      <td>0.396512</td>\n",
       "      <td>0.097267</td>\n",
       "      <td>527.000000</td>\n",
       "      <td>3.869465e+07</td>\n",
       "      <td>0.019879</td>\n",
       "      <td>100.000000</td>\n",
       "      <td>1.000000</td>\n",
       "    </tr>\n",
       "  </tbody>\n",
       "</table>\n",
       "</div>"
      ],
      "text/plain": [
       "       yellowCards      meanExp         ties       rater1        games  \\\n",
       "count  1419.000000  1419.000000  1419.000000  1419.000000  1419.000000   \n",
       "mean     32.919662     0.465867    58.675123     0.261452   246.842142   \n",
       "std      25.230962     0.092733    33.632432     0.293622   141.256408   \n",
       "min       0.000000    -0.108731     0.000000     0.000000     1.000000   \n",
       "25%      15.000000     0.391028    34.000000     0.000000   144.000000   \n",
       "50%      27.000000     0.459111    53.000000     0.250000   223.000000   \n",
       "75%      45.000000     0.541240    79.000000     0.250000   330.000000   \n",
       "max     197.000000     1.031407   197.000000     1.000000   914.000000   \n",
       "\n",
       "          redCards        goals      defeats          nExp       height  \\\n",
       "count  1419.000000  1419.000000  1419.000000  1.419000e+03  1419.000000   \n",
       "mean      1.041579    29.319944    76.574348  1.494888e+06   182.163495   \n",
       "std       1.372341    42.998858    40.349871  2.728862e+06     6.799365   \n",
       "min       0.000000     0.000000     0.000000  1.501000e+03   161.000000   \n",
       "25%       0.000000     4.000000    48.000000  2.785795e+05   178.000000   \n",
       "50%       1.000000    14.000000    72.000000  6.397130e+05   183.000000   \n",
       "75%       2.000000    37.000000   100.000000  2.063837e+06   187.000000   \n",
       "max      13.000000   420.000000   258.000000  3.976710e+07   203.000000   \n",
       "\n",
       "           meanIAT        seExp    victories          nIAT        seIAT  \\\n",
       "count  1419.000000  1419.000000  1419.000000  1.419000e+03  1419.000000   \n",
       "mean      0.348873     0.002799   111.592671  1.442231e+06     0.000595   \n",
       "std       0.012837     0.004342    78.283708  2.650281e+06     0.000952   \n",
       "min       0.268981     0.000037     0.000000  1.451000e+03     0.000010   \n",
       "25%       0.339204     0.001002    59.000000  2.658230e+05     0.000228   \n",
       "50%       0.347150     0.001546    91.000000  6.167860e+05     0.000332   \n",
       "75%       0.357972     0.002919   147.000000  1.972198e+06     0.000585   \n",
       "max       0.396512     0.097267   527.000000  3.869465e+07     0.019879   \n",
       "\n",
       "            weight       rater2  \n",
       "count  1419.000000  1419.000000  \n",
       "mean     76.267089     0.304087  \n",
       "std       7.104389     0.292612  \n",
       "min      55.000000     0.000000  \n",
       "25%      71.000000     0.000000  \n",
       "50%      76.000000     0.250000  \n",
       "75%      81.000000     0.500000  \n",
       "max     100.000000     1.000000  "
      ]
     },
     "execution_count": 7,
     "metadata": {},
     "output_type": "execute_result"
    }
   ],
   "source": [
    "df_p = df.groupby('playerShort', as_index=False,sort=True)\n",
    "aggregation = {'club':'max','leagueCountry':'max','birthday':'max','height':'mean','weight':'mean', \n",
    "               'position':'max','games':'sum','victories':'sum','ties':'sum','defeats':'sum','goals':'sum',\n",
    "               'rater1':'mean','rater2':'mean','yellowCards':'sum','redCards':'sum','meanIAT':'mean','nIAT':'sum','seIAT':'mean',\n",
    "               'meanExp':'mean','nExp':'sum','seExp':'mean'\n",
    "              }\n",
    "df_p = df_p.agg(aggregation)\n",
    "df_p.drop(['playerShort'],inplace=True,axis=1,errors='ignore')\n",
    "df_p.describe()"
   ]
  },
  {
   "cell_type": "code",
   "execution_count": 8,
   "metadata": {
    "collapsed": false
   },
   "outputs": [
    {
     "data": {
      "text/html": [
       "<div>\n",
       "<table border=\"1\" class=\"dataframe\">\n",
       "  <thead>\n",
       "    <tr style=\"text-align: right;\">\n",
       "      <th></th>\n",
       "      <th>birthday</th>\n",
       "      <th>yellowCards</th>\n",
       "      <th>position</th>\n",
       "      <th>meanExp</th>\n",
       "      <th>ties</th>\n",
       "      <th>rater1</th>\n",
       "      <th>games</th>\n",
       "      <th>redCards</th>\n",
       "      <th>goals</th>\n",
       "      <th>defeats</th>\n",
       "      <th>...</th>\n",
       "      <th>height</th>\n",
       "      <th>club</th>\n",
       "      <th>meanIAT</th>\n",
       "      <th>seExp</th>\n",
       "      <th>victories</th>\n",
       "      <th>nIAT</th>\n",
       "      <th>seIAT</th>\n",
       "      <th>leagueCountry</th>\n",
       "      <th>weight</th>\n",
       "      <th>rater2</th>\n",
       "    </tr>\n",
       "  </thead>\n",
       "  <tbody>\n",
       "    <tr>\n",
       "      <th>0</th>\n",
       "      <td>08.11.1979</td>\n",
       "      <td>19</td>\n",
       "      <td>Center Back</td>\n",
       "      <td>0.494575</td>\n",
       "      <td>179</td>\n",
       "      <td>0.25</td>\n",
       "      <td>654</td>\n",
       "      <td>0</td>\n",
       "      <td>9</td>\n",
       "      <td>228</td>\n",
       "      <td>...</td>\n",
       "      <td>182.0</td>\n",
       "      <td>Fulham FC</td>\n",
       "      <td>0.346459</td>\n",
       "      <td>0.004065</td>\n",
       "      <td>247</td>\n",
       "      <td>3271886.0</td>\n",
       "      <td>0.000652</td>\n",
       "      <td>England</td>\n",
       "      <td>71.0</td>\n",
       "      <td>0.00</td>\n",
       "    </tr>\n",
       "    <tr>\n",
       "      <th>1</th>\n",
       "      <td>04.09.1986</td>\n",
       "      <td>42</td>\n",
       "      <td>Attacking Midfielder</td>\n",
       "      <td>0.449220</td>\n",
       "      <td>73</td>\n",
       "      <td>0.00</td>\n",
       "      <td>336</td>\n",
       "      <td>1</td>\n",
       "      <td>62</td>\n",
       "      <td>122</td>\n",
       "      <td>...</td>\n",
       "      <td>183.0</td>\n",
       "      <td>Werder Bremen</td>\n",
       "      <td>0.348818</td>\n",
       "      <td>0.000993</td>\n",
       "      <td>141</td>\n",
       "      <td>2584325.0</td>\n",
       "      <td>0.000219</td>\n",
       "      <td>Germany</td>\n",
       "      <td>73.0</td>\n",
       "      <td>0.25</td>\n",
       "    </tr>\n",
       "    <tr>\n",
       "      <th>2</th>\n",
       "      <td>16.04.1987</td>\n",
       "      <td>11</td>\n",
       "      <td>Right Midfielder</td>\n",
       "      <td>0.491482</td>\n",
       "      <td>97</td>\n",
       "      <td>0.25</td>\n",
       "      <td>412</td>\n",
       "      <td>0</td>\n",
       "      <td>31</td>\n",
       "      <td>115</td>\n",
       "      <td>...</td>\n",
       "      <td>165.0</td>\n",
       "      <td>Tottenham Hotspur</td>\n",
       "      <td>0.345893</td>\n",
       "      <td>0.002032</td>\n",
       "      <td>200</td>\n",
       "      <td>2144721.0</td>\n",
       "      <td>0.000367</td>\n",
       "      <td>England</td>\n",
       "      <td>63.0</td>\n",
       "      <td>0.25</td>\n",
       "    </tr>\n",
       "    <tr>\n",
       "      <th>3</th>\n",
       "      <td>26.12.1990</td>\n",
       "      <td>31</td>\n",
       "      <td>Center Midfielder</td>\n",
       "      <td>0.514693</td>\n",
       "      <td>42</td>\n",
       "      <td>0.00</td>\n",
       "      <td>260</td>\n",
       "      <td>1</td>\n",
       "      <td>39</td>\n",
       "      <td>68</td>\n",
       "      <td>...</td>\n",
       "      <td>178.0</td>\n",
       "      <td>Arsenal FC</td>\n",
       "      <td>0.346821</td>\n",
       "      <td>0.013522</td>\n",
       "      <td>150</td>\n",
       "      <td>3981726.0</td>\n",
       "      <td>0.003334</td>\n",
       "      <td>England</td>\n",
       "      <td>76.0</td>\n",
       "      <td>0.00</td>\n",
       "    </tr>\n",
       "    <tr>\n",
       "      <th>4</th>\n",
       "      <td>17.03.1990</td>\n",
       "      <td>8</td>\n",
       "      <td>Center Back</td>\n",
       "      <td>0.335587</td>\n",
       "      <td>40</td>\n",
       "      <td>0.25</td>\n",
       "      <td>124</td>\n",
       "      <td>2</td>\n",
       "      <td>1</td>\n",
       "      <td>43</td>\n",
       "      <td>...</td>\n",
       "      <td>180.0</td>\n",
       "      <td>Montpellier HSC</td>\n",
       "      <td>0.331600</td>\n",
       "      <td>0.005296</td>\n",
       "      <td>41</td>\n",
       "      <td>104797.0</td>\n",
       "      <td>0.001488</td>\n",
       "      <td>France</td>\n",
       "      <td>73.0</td>\n",
       "      <td>0.25</td>\n",
       "    </tr>\n",
       "  </tbody>\n",
       "</table>\n",
       "<p>5 rows × 21 columns</p>\n",
       "</div>"
      ],
      "text/plain": [
       "     birthday  yellowCards              position   meanExp  ties  rater1  \\\n",
       "0  08.11.1979           19           Center Back  0.494575   179    0.25   \n",
       "1  04.09.1986           42  Attacking Midfielder  0.449220    73    0.00   \n",
       "2  16.04.1987           11      Right Midfielder  0.491482    97    0.25   \n",
       "3  26.12.1990           31     Center Midfielder  0.514693    42    0.00   \n",
       "4  17.03.1990            8           Center Back  0.335587    40    0.25   \n",
       "\n",
       "   games  redCards  goals  defeats   ...    height               club  \\\n",
       "0    654         0      9      228   ...     182.0          Fulham FC   \n",
       "1    336         1     62      122   ...     183.0      Werder Bremen   \n",
       "2    412         0     31      115   ...     165.0  Tottenham Hotspur   \n",
       "3    260         1     39       68   ...     178.0         Arsenal FC   \n",
       "4    124         2      1       43   ...     180.0    Montpellier HSC   \n",
       "\n",
       "    meanIAT     seExp  victories       nIAT     seIAT  leagueCountry weight  \\\n",
       "0  0.346459  0.004065        247  3271886.0  0.000652        England   71.0   \n",
       "1  0.348818  0.000993        141  2584325.0  0.000219        Germany   73.0   \n",
       "2  0.345893  0.002032        200  2144721.0  0.000367        England   63.0   \n",
       "3  0.346821  0.013522        150  3981726.0  0.003334        England   76.0   \n",
       "4  0.331600  0.005296         41   104797.0  0.001488         France   73.0   \n",
       "\n",
       "   rater2  \n",
       "0    0.00  \n",
       "1    0.25  \n",
       "2    0.25  \n",
       "3    0.00  \n",
       "4    0.25  \n",
       "\n",
       "[5 rows x 21 columns]"
      ]
     },
     "execution_count": 8,
     "metadata": {},
     "output_type": "execute_result"
    }
   ],
   "source": [
    "df_p.head()"
   ]
  },
  {
   "cell_type": "markdown",
   "metadata": {},
   "source": [
    "Distribution of skin color. There are 2 indicators for the skin color : *rater1* and *rater2*. Let's have a look at them"
   ]
  },
  {
   "cell_type": "code",
   "execution_count": 9,
   "metadata": {
    "collapsed": false
   },
   "outputs": [
    {
     "data": {
      "text/plain": [
       "<matplotlib.text.Text at 0x1045ea240>"
      ]
     },
     "execution_count": 9,
     "metadata": {},
     "output_type": "execute_result"
    },
    {
     "data": {
      "image/png": "[encoded data removed]",
      "text/plain": [
       "<matplotlib.figure.Figure at 0x114f83cf8>"
      ]
     },
     "metadata": {},
     "output_type": "display_data"
    }
   ],
   "source": [
    "fig, ax = plt.subplots(nrows=1,ncols=3,figsize=(12, 3))\n",
    "df_p['rater1'].hist(ax=ax[0], bins=20)\n",
    "ax[0].set_ylabel('count')\n",
    "ax[0].set_title('rater1')\n",
    "\n",
    "df_p['rater2'].hist(ax=ax[1], bins=20)\n",
    "ax[1].set_xlabel('skin color - 0 = very light skin, 1 = very dark skin')\n",
    "ax[1].set_title('rater2')\n",
    "\n",
    "#mean\n",
    "mean_rater = (df_p['rater2'] + df_p['rater1'])/2\n",
    "(mean_rater).hist(ax=ax[2], bins=20)\n",
    "ax[2].set_title('mean')\n"
   ]
  },
  {
   "cell_type": "markdown",
   "metadata": {},
   "source": [
    "How many different values are there in rater1, rater2 and mean ?"
   ]
  },
  {
   "cell_type": "code",
   "execution_count": 10,
   "metadata": {
    "collapsed": false
   },
   "outputs": [
    {
     "name": "stdout",
     "output_type": "stream",
     "text": [
      "rater1\n",
      "[0.0, 0.25, 0.5, 0.75, 1.0]\n",
      "5\n",
      "rater2\n",
      "[0.0, 0.25, 0.5, 0.75, 1.0]\n",
      "5\n",
      "mean of rater 1 and rater 2\n",
      "[0.0, 0.125, 0.25, 0.375, 0.5, 0.625, 0.75, 0.875, 1.0]\n",
      "9\n"
     ]
    }
   ],
   "source": [
    "values_rater1 = sorted(df_p['rater1'].unique())\n",
    "print('rater1')\n",
    "print(values_rater1)\n",
    "print(len(values_rater1))\n",
    "\n",
    "values_rater2 = sorted(df_p['rater2'].unique())\n",
    "print('rater2')\n",
    "print(values_rater2)\n",
    "print(len(values_rater2))\n",
    "\n",
    "value_mean_rater = sorted(mean_rater.unique())\n",
    "print('mean of rater 1 and rater 2')\n",
    "print(value_mean_rater)\n",
    "print(len(value_mean_rater))"
   ]
  },
  {
   "cell_type": "markdown",
   "metadata": {},
   "source": [
    "Let's create a new column with the mean values of *rater1* and *rater2*"
   ]
  },
  {
   "cell_type": "code",
   "execution_count": 11,
   "metadata": {
    "collapsed": false
   },
   "outputs": [],
   "source": [
    "df_p['mean_rater'] = mean_rater\n",
    "df_p.drop(['rater1','rater2'],inplace=True,axis=1,errors='ignore')"
   ]
  },
  {
   "cell_type": "markdown",
   "metadata": {},
   "source": [
    "#### Drop columns\n",
    "Maybe we can drop columns about the referees :\n",
    "    - meanIAT\n",
    "    - nIAT\n",
    "    - seIAT\n",
    "    - meanExp\n",
    "    - nExp\n",
    "    - seExp\n",
    "    "
   ]
  },
  {
   "cell_type": "code",
   "execution_count": 12,
   "metadata": {
    "collapsed": true
   },
   "outputs": [],
   "source": [
    "df_p.drop(['meanIAT','nIAT','seIAT','meanExp','nExp','seExp'],inplace=True,axis=1,errors='ignore')"
   ]
  },
  {
   "cell_type": "markdown",
   "metadata": {},
   "source": [
    "## Machine Learning"
   ]
  },
  {
   "cell_type": "markdown",
   "metadata": {},
   "source": [
    "blabla"
   ]
  },
  {
   "cell_type": "markdown",
   "metadata": {},
   "source": [
    "### Preparation of the data\n",
    "First let's create a vector *X* of features and samples, and a vector *Y* of the labels corresponding. Y will have the value of *mean_rater*"
   ]
  },
  {
   "cell_type": "code",
   "execution_count": 13,
   "metadata": {
    "collapsed": false
   },
   "outputs": [
    {
     "data": {
      "text/html": [
       "<div>\n",
       "<table border=\"1\" class=\"dataframe\">\n",
       "  <thead>\n",
       "    <tr style=\"text-align: right;\">\n",
       "      <th></th>\n",
       "      <th>birthday</th>\n",
       "      <th>yellowCards</th>\n",
       "      <th>position</th>\n",
       "      <th>ties</th>\n",
       "      <th>games</th>\n",
       "      <th>redCards</th>\n",
       "      <th>goals</th>\n",
       "      <th>defeats</th>\n",
       "      <th>height</th>\n",
       "      <th>club</th>\n",
       "      <th>victories</th>\n",
       "      <th>leagueCountry</th>\n",
       "      <th>weight</th>\n",
       "    </tr>\n",
       "  </thead>\n",
       "  <tbody>\n",
       "    <tr>\n",
       "      <th>0</th>\n",
       "      <td>08.11.1979</td>\n",
       "      <td>19</td>\n",
       "      <td>Center Back</td>\n",
       "      <td>179</td>\n",
       "      <td>654</td>\n",
       "      <td>0</td>\n",
       "      <td>9</td>\n",
       "      <td>228</td>\n",
       "      <td>182.0</td>\n",
       "      <td>Fulham FC</td>\n",
       "      <td>247</td>\n",
       "      <td>England</td>\n",
       "      <td>71.0</td>\n",
       "    </tr>\n",
       "    <tr>\n",
       "      <th>1</th>\n",
       "      <td>04.09.1986</td>\n",
       "      <td>42</td>\n",
       "      <td>Attacking Midfielder</td>\n",
       "      <td>73</td>\n",
       "      <td>336</td>\n",
       "      <td>1</td>\n",
       "      <td>62</td>\n",
       "      <td>122</td>\n",
       "      <td>183.0</td>\n",
       "      <td>Werder Bremen</td>\n",
       "      <td>141</td>\n",
       "      <td>Germany</td>\n",
       "      <td>73.0</td>\n",
       "    </tr>\n",
       "    <tr>\n",
       "      <th>2</th>\n",
       "      <td>16.04.1987</td>\n",
       "      <td>11</td>\n",
       "      <td>Right Midfielder</td>\n",
       "      <td>97</td>\n",
       "      <td>412</td>\n",
       "      <td>0</td>\n",
       "      <td>31</td>\n",
       "      <td>115</td>\n",
       "      <td>165.0</td>\n",
       "      <td>Tottenham Hotspur</td>\n",
       "      <td>200</td>\n",
       "      <td>England</td>\n",
       "      <td>63.0</td>\n",
       "    </tr>\n",
       "    <tr>\n",
       "      <th>3</th>\n",
       "      <td>26.12.1990</td>\n",
       "      <td>31</td>\n",
       "      <td>Center Midfielder</td>\n",
       "      <td>42</td>\n",
       "      <td>260</td>\n",
       "      <td>1</td>\n",
       "      <td>39</td>\n",
       "      <td>68</td>\n",
       "      <td>178.0</td>\n",
       "      <td>Arsenal FC</td>\n",
       "      <td>150</td>\n",
       "      <td>England</td>\n",
       "      <td>76.0</td>\n",
       "    </tr>\n",
       "    <tr>\n",
       "      <th>4</th>\n",
       "      <td>17.03.1990</td>\n",
       "      <td>8</td>\n",
       "      <td>Center Back</td>\n",
       "      <td>40</td>\n",
       "      <td>124</td>\n",
       "      <td>2</td>\n",
       "      <td>1</td>\n",
       "      <td>43</td>\n",
       "      <td>180.0</td>\n",
       "      <td>Montpellier HSC</td>\n",
       "      <td>41</td>\n",
       "      <td>France</td>\n",
       "      <td>73.0</td>\n",
       "    </tr>\n",
       "  </tbody>\n",
       "</table>\n",
       "</div>"
      ],
      "text/plain": [
       "     birthday  yellowCards              position  ties  games  redCards  \\\n",
       "0  08.11.1979           19           Center Back   179    654         0   \n",
       "1  04.09.1986           42  Attacking Midfielder    73    336         1   \n",
       "2  16.04.1987           11      Right Midfielder    97    412         0   \n",
       "3  26.12.1990           31     Center Midfielder    42    260         1   \n",
       "4  17.03.1990            8           Center Back    40    124         2   \n",
       "\n",
       "   goals  defeats  height               club  victories leagueCountry  weight  \n",
       "0      9      228   182.0          Fulham FC        247       England    71.0  \n",
       "1     62      122   183.0      Werder Bremen        141       Germany    73.0  \n",
       "2     31      115   165.0  Tottenham Hotspur        200       England    63.0  \n",
       "3     39       68   178.0         Arsenal FC        150       England    76.0  \n",
       "4      1       43   180.0    Montpellier HSC         41        France    73.0  "
      ]
     },
     "execution_count": 13,
     "metadata": {},
     "output_type": "execute_result"
    }
   ],
   "source": [
    "df_y = df_p['mean_rater']\n",
    "df_x = df_p\n",
    "df_x.drop(['mean_rater'],inplace=True,axis=1,errors='ignore')\n",
    "df_x.head()"
   ]
  },
  {
   "cell_type": "markdown",
   "metadata": {},
   "source": [
    "#### Normalize and scale the data\n",
    "\n",
    "No need to normalise: https://www.quora.com/Should-inputs-to-random-forests-be-normalized"
   ]
  },
  {
   "cell_type": "code",
   "execution_count": 14,
   "metadata": {
    "collapsed": false
   },
   "outputs": [],
   "source": [
    "#df_x['nIAT'] = preprocessing.scale(df_x['nIAT'])\n",
    "#df_x['seIAT'] = preprocessing.scale(df_x['seIAT'])\n",
    "#df_x['nExp'] = preprocessing.scale(df_x['nExp'])\n",
    "#df_x['seExp'] = preprocessing.scale(df_x['seExp'])\n"
   ]
  },
  {
   "cell_type": "markdown",
   "metadata": {},
   "source": [
    "#### Manage categorical data\n",
    "We transform categorical data in numerical data"
   ]
  },
  {
   "cell_type": "code",
   "execution_count": 15,
   "metadata": {
    "collapsed": false
   },
   "outputs": [
    {
     "data": {
      "text/html": [
       "<div>\n",
       "<table border=\"1\" class=\"dataframe\">\n",
       "  <thead>\n",
       "    <tr style=\"text-align: right;\">\n",
       "      <th></th>\n",
       "      <th>birthday</th>\n",
       "      <th>yellowCards</th>\n",
       "      <th>position</th>\n",
       "      <th>ties</th>\n",
       "      <th>games</th>\n",
       "      <th>redCards</th>\n",
       "      <th>goals</th>\n",
       "      <th>defeats</th>\n",
       "      <th>height</th>\n",
       "      <th>club</th>\n",
       "      <th>victories</th>\n",
       "      <th>leagueCountry</th>\n",
       "      <th>weight</th>\n",
       "    </tr>\n",
       "  </thead>\n",
       "  <tbody>\n",
       "    <tr>\n",
       "      <th>0</th>\n",
       "      <td>08.11.1979</td>\n",
       "      <td>19</td>\n",
       "      <td>1</td>\n",
       "      <td>179</td>\n",
       "      <td>654</td>\n",
       "      <td>0</td>\n",
       "      <td>9</td>\n",
       "      <td>228</td>\n",
       "      <td>182.0</td>\n",
       "      <td>33</td>\n",
       "      <td>247</td>\n",
       "      <td>0</td>\n",
       "      <td>71.0</td>\n",
       "    </tr>\n",
       "    <tr>\n",
       "      <th>1</th>\n",
       "      <td>04.09.1986</td>\n",
       "      <td>42</td>\n",
       "      <td>0</td>\n",
       "      <td>73</td>\n",
       "      <td>336</td>\n",
       "      <td>1</td>\n",
       "      <td>62</td>\n",
       "      <td>122</td>\n",
       "      <td>183.0</td>\n",
       "      <td>86</td>\n",
       "      <td>141</td>\n",
       "      <td>2</td>\n",
       "      <td>73.0</td>\n",
       "    </tr>\n",
       "    <tr>\n",
       "      <th>2</th>\n",
       "      <td>16.04.1987</td>\n",
       "      <td>11</td>\n",
       "      <td>10</td>\n",
       "      <td>97</td>\n",
       "      <td>412</td>\n",
       "      <td>0</td>\n",
       "      <td>31</td>\n",
       "      <td>115</td>\n",
       "      <td>165.0</td>\n",
       "      <td>79</td>\n",
       "      <td>200</td>\n",
       "      <td>0</td>\n",
       "      <td>63.0</td>\n",
       "    </tr>\n",
       "    <tr>\n",
       "      <th>3</th>\n",
       "      <td>26.12.1990</td>\n",
       "      <td>31</td>\n",
       "      <td>3</td>\n",
       "      <td>42</td>\n",
       "      <td>260</td>\n",
       "      <td>1</td>\n",
       "      <td>39</td>\n",
       "      <td>68</td>\n",
       "      <td>178.0</td>\n",
       "      <td>6</td>\n",
       "      <td>150</td>\n",
       "      <td>0</td>\n",
       "      <td>76.0</td>\n",
       "    </tr>\n",
       "    <tr>\n",
       "      <th>4</th>\n",
       "      <td>17.03.1990</td>\n",
       "      <td>8</td>\n",
       "      <td>1</td>\n",
       "      <td>40</td>\n",
       "      <td>124</td>\n",
       "      <td>2</td>\n",
       "      <td>1</td>\n",
       "      <td>43</td>\n",
       "      <td>180.0</td>\n",
       "      <td>48</td>\n",
       "      <td>41</td>\n",
       "      <td>1</td>\n",
       "      <td>73.0</td>\n",
       "    </tr>\n",
       "  </tbody>\n",
       "</table>\n",
       "</div>"
      ],
      "text/plain": [
       "     birthday  yellowCards  position  ties  games  redCards  goals  defeats  \\\n",
       "0  08.11.1979           19         1   179    654         0      9      228   \n",
       "1  04.09.1986           42         0    73    336         1     62      122   \n",
       "2  16.04.1987           11        10    97    412         0     31      115   \n",
       "3  26.12.1990           31         3    42    260         1     39       68   \n",
       "4  17.03.1990            8         1    40    124         2      1       43   \n",
       "\n",
       "   height  club  victories  leagueCountry  weight  \n",
       "0   182.0    33        247              0    71.0  \n",
       "1   183.0    86        141              2    73.0  \n",
       "2   165.0    79        200              0    63.0  \n",
       "3   178.0     6        150              0    76.0  \n",
       "4   180.0    48         41              1    73.0  "
      ]
     },
     "execution_count": 15,
     "metadata": {},
     "output_type": "execute_result"
    }
   ],
   "source": [
    "def changeNumtoCategorical(xt):\n",
    "    xtt = []\n",
    "    for x in xt:\n",
    "        le = preprocessing.LabelEncoder()\n",
    "        le.fit(x) \n",
    "        y = le.transform(x)\n",
    "        xtt.append(y)\n",
    "    return xtt\n",
    "\n",
    "[df_x['club'],df_x['leagueCountry'],df_x['position']] = changeNumtoCategorical([df_x['club'],df_x['leagueCountry'],df_x['position']])\n",
    "df_x.head()"
   ]
  },
  {
   "cell_type": "markdown",
   "metadata": {},
   "source": [
    "#### Manage date data\n",
    "We will separate the data string into 3 columns.\n",
    "(We will keep only the months and the year, and create two new columns.) *à voir*"
   ]
  },
  {
   "cell_type": "code",
   "execution_count": 16,
   "metadata": {
    "collapsed": false
   },
   "outputs": [],
   "source": [
    "df_x['birthday_day'] = df_x['birthday'].str.split('.',expand=True)[0]\n",
    "df_x['birthday_month'] = df_x['birthday'].str.split('.',expand=True)[1]\n",
    "df_x['birthday_year'] = df_x['birthday'].str.split('.',expand=True)[2]\n",
    "df_x.drop(['birthday'],inplace=True,axis=1,errors='ignore')"
   ]
  },
  {
   "cell_type": "markdown",
   "metadata": {},
   "source": [
    "### Division of the dataset in train/test datasets\n",
    "we will use a training set containing 80% of the data, and a testing set containing 20% of the data\n",
    "\n",
    "when specifying *random_state = 0*, we make sure that the splitting is done everytime at the same place. We can remove this option to have a random splitting."
   ]
  },
  {
   "cell_type": "code",
   "execution_count": 17,
   "metadata": {
    "collapsed": false
   },
   "outputs": [
    {
     "data": {
      "text/plain": [
       "((1135, 15), (1135,), (284, 15), (284,))"
      ]
     },
     "execution_count": 17,
     "metadata": {},
     "output_type": "execute_result"
    }
   ],
   "source": [
    "df_x_train, df_x_test, df_y_train, df_y_test = train_test_split(df_x, df_y, test_size=.2, random_state = 0)\n",
    "df_y_test = np.asarray(df_y_test, dtype=\"|S6\")\n",
    "df_y_train = np.asarray(df_y_train, dtype=\"|S6\")\n",
    "\n",
    "df_x_train.shape, df_y_train.shape, df_x_test.shape, df_y_test.shape\n",
    "\n"
   ]
  },
  {
   "cell_type": "code",
   "execution_count": 18,
   "metadata": {
    "collapsed": false
   },
   "outputs": [
    {
     "name": "stdout",
     "output_type": "stream",
     "text": [
      "0.306338028169\n"
     ]
    }
   ],
   "source": [
    "# TRAIN RANDOM FOREST\n",
    "\n",
    "# Train model\n",
    "rand_forest_model = sk.ensemble.RandomForestClassifier(n_estimators=250,max_depth=40)\n",
    "rand_forest_model.fit(df_x_train,df_y_train)\n",
    "\n",
    "# Predict from model neigh\n",
    "y_pred = rand_forest_model.predict(df_x_test)\n",
    "\n",
    "# Compute accuracy \n",
    "accuracy_rand_forest = sk.metrics.accuracy_score(df_y_test,y_pred)\n",
    "\n",
    "# Print accuracy and exectution time\n",
    "print(accuracy_rand_forest)"
   ]
  },
  {
   "cell_type": "markdown",
   "metadata": {},
   "source": [
    "### Cross validation\n",
    "\n",
    "we will define K = 20 folds.\n"
   ]
  },
  {
   "cell_type": "code",
   "execution_count": 19,
   "metadata": {
    "collapsed": false,
    "scrolled": false
   },
   "outputs": [
    {
     "data": {
      "text/html": [
       "<img src=\"https://raw.githubusercontent.com/justmarkham/scikit-learn-videos/84f03ae1d048482471f2a9ca85b0c649730cc269/images/07_cross_validation_diagram.png\"/>"
      ],
      "text/plain": [
       "<IPython.core.display.Image object>"
      ]
     },
     "execution_count": 19,
     "metadata": {},
     "output_type": "execute_result"
    }
   ],
   "source": [
    "Image(url= \"https://raw.githubusercontent.com/justmarkham/scikit-learn-videos/84f03ae1d048482471f2a9ca85b0c649730cc269/images/07_cross_validation_diagram.png\")"
   ]
  },
  {
   "cell_type": "code",
   "execution_count": 20,
   "metadata": {
    "collapsed": true
   },
   "outputs": [],
   "source": [
    "num_folds = 20"
   ]
  },
  {
   "cell_type": "markdown",
   "metadata": {},
   "source": [
    "Choices for the number of estimators hyperparameter:"
   ]
  },
  {
   "cell_type": "code",
   "execution_count": 21,
   "metadata": {
    "collapsed": false
   },
   "outputs": [],
   "source": [
    "#n_estimators_choices = [5, 10, 20, 30, 40, 50, 60, 70, 80, 90, 100, 110, 120, 130, 140, 150, 160, 170, 180, 190, 200, 210, 220, 230, 240, 250, 260, 270, 280, 290, 300]\n",
    "n_estimators_choices = [200,  250, 300, 350, 400, 450]\n",
    "depth_choices = [5, 10, 15, 20, 25, 30, 35, 40, 45]\n",
    "\n",
    "num_n_estimators = len(n_estimators_choices)\n",
    "num_depth = len(depth_choices)\n"
   ]
  },
  {
   "cell_type": "code",
   "execution_count": 22,
   "metadata": {
    "collapsed": false
   },
   "outputs": [
    {
     "name": "stdout",
     "output_type": "stream",
     "text": [
      ".n_estimators_choices_idx :  1 / 6\n",
      "..depth_choices_idx :  1 / 9\n",
      "0.335842695973\n",
      "..depth_choices_idx :  2 / 9\n",
      "0.327705194826\n",
      "..depth_choices_idx :  3 / 9\n",
      "0.320111928355\n",
      "..depth_choices_idx :  4 / 9\n",
      "0.31401520435\n",
      "..depth_choices_idx :  5 / 9\n",
      "0.30659768844\n",
      "..depth_choices_idx :  6 / 9\n",
      "0.320943952673\n",
      "..depth_choices_idx :  7 / 9\n",
      "0.317291501378\n",
      "..depth_choices_idx :  8 / 9\n",
      "0.311197330409\n",
      "..depth_choices_idx :  9 / 9\n",
      "0.307597010164\n",
      ".n_estimators_choices_idx :  2 / 6\n",
      "..depth_choices_idx :  1 / 9\n",
      "0.327770841973\n",
      "..depth_choices_idx :  2 / 9\n",
      "0.317861478999\n",
      "..depth_choices_idx :  3 / 9\n",
      "0.313616859152\n",
      "..depth_choices_idx :  4 / 9\n",
      "0.317922105355\n",
      "..depth_choices_idx :  5 / 9\n",
      "0.307034021182\n",
      "..depth_choices_idx :  6 / 9\n",
      "0.3156294557\n",
      "..depth_choices_idx :  7 / 9\n",
      "0.3128379045\n",
      "..depth_choices_idx :  8 / 9\n",
      "0.318722013328\n",
      "..depth_choices_idx :  9 / 9\n",
      "0.306926468246\n",
      ".n_estimators_choices_idx :  3 / 6\n",
      "..depth_choices_idx :  1 / 9\n",
      "0.327588420609\n",
      "..depth_choices_idx :  2 / 9\n",
      "0.316278099974\n",
      "..depth_choices_idx :  3 / 9\n",
      "0.298991111101\n",
      "..depth_choices_idx :  4 / 9\n",
      "0.309205978227\n",
      "..depth_choices_idx :  5 / 9\n",
      "0.30943002404\n",
      "..depth_choices_idx :  6 / 9\n",
      "0.299881912724\n",
      "..depth_choices_idx :  7 / 9\n",
      "0.303028025416\n",
      "..depth_choices_idx :  8 / 9\n",
      "0.310475032009\n",
      "..depth_choices_idx :  9 / 9\n",
      "0.309282053103\n",
      ".n_estimators_choices_idx :  4 / 6\n",
      "..depth_choices_idx :  1 / 9\n",
      "0.325321716033\n",
      "..depth_choices_idx :  2 / 9\n",
      "0.310739577253\n",
      "..depth_choices_idx :  3 / 9\n",
      "0.310714358614\n",
      "..depth_choices_idx :  4 / 9\n",
      "0.313267976432\n",
      "..depth_choices_idx :  5 / 9\n",
      "0.308830673514\n",
      "..depth_choices_idx :  6 / 9\n",
      "0.313054100169\n",
      "..depth_choices_idx :  7 / 9\n",
      "0.311101796242\n",
      "..depth_choices_idx :  8 / 9\n",
      "0.318950676719\n",
      "..depth_choices_idx :  9 / 9\n",
      "0.309351787982\n",
      ".n_estimators_choices_idx :  5 / 6\n",
      "..depth_choices_idx :  1 / 9\n",
      "0.327067473703\n",
      "..depth_choices_idx :  2 / 9\n",
      "0.322514469027\n",
      "..depth_choices_idx :  3 / 9\n",
      "0.311979411333\n",
      "..depth_choices_idx :  4 / 9\n",
      "0.305843192952\n",
      "..depth_choices_idx :  5 / 9\n",
      "0.31038097164\n",
      "..depth_choices_idx :  6 / 9\n",
      "0.305551589505\n",
      "..depth_choices_idx :  7 / 9\n",
      "0.311671665423\n",
      "..depth_choices_idx :  8 / 9\n",
      "0.323447371161\n",
      "..depth_choices_idx :  9 / 9\n",
      "0.3103066884\n",
      ".n_estimators_choices_idx :  6 / 6\n",
      "..depth_choices_idx :  1 / 9\n",
      "0.31718388408\n",
      "..depth_choices_idx :  2 / 9\n",
      "0.316403411015\n",
      "..depth_choices_idx :  3 / 9\n",
      "0.305737237782\n",
      "..depth_choices_idx :  4 / 9\n",
      "0.310552085631\n",
      "..depth_choices_idx :  5 / 9\n",
      "0.305841454731\n",
      "..depth_choices_idx :  6 / 9\n",
      "0.312791281029\n",
      "..depth_choices_idx :  7 / 9\n",
      "0.311166404132\n",
      "..depth_choices_idx :  8 / 9\n",
      "0.319034844172\n",
      "..depth_choices_idx :  9 / 9\n",
      "0.311230873863\n"
     ]
    }
   ],
   "source": [
    "accuracy_tab = np.zeros([num_folds,num_n_estimators])\n",
    "\n",
    "rf_scores = []\n",
    "rf_param = []\n",
    "\n",
    "#Loop for 1st hyperparameter n_estimators\n",
    "for n_estimators_choices_idx, n_estimators_choices_value in enumerate(n_estimators_choices):\n",
    "    print('.n_estimators_choices_idx : ',n_estimators_choices_idx+1,'/',num_n_estimators)\n",
    "    \n",
    "    #Loop for 2nd hyperparameter max_depth\n",
    "    for depth_choices_idx, depth_choices_value in enumerate(depth_choices):\n",
    "        print('..depth_choices_idx : ',depth_choices_idx+1,'/',num_depth)\n",
    "        \n",
    "        # Random forest\n",
    "        rand_forest_model = sk.ensemble.RandomForestClassifier(n_estimators=n_estimators_choices_value,max_depth=depth_choices_value)\n",
    "        \n",
    "        #Scores\n",
    "        scores = cross_val_score(rand_forest_model, df_x_train, df_y_train, cv=num_folds, scoring='accuracy')\n",
    "        rf_scores.append(scores.mean())\n",
    "        rf_param.append([n_estimators_choices_value,depth_choices_value])\n",
    "        print(scores.mean())\n"
   ]
  },
  {
   "cell_type": "markdown",
   "metadata": {},
   "source": [
    "#### Plot results of cross-validation"
   ]
  },
  {
   "cell_type": "code",
   "execution_count": 23,
   "metadata": {
    "collapsed": false
   },
   "outputs": [
    {
     "name": "stdout",
     "output_type": "stream",
     "text": [
      "0.335842695973\n",
      "[200, 5]\n"
     ]
    },
    {
     "data": {
      "image/png": "[encoded data removed]",
      "text/plain": [
       "<matplotlib.figure.Figure at 0x115c6fac8>"
      ]
     },
     "metadata": {},
     "output_type": "display_data"
    }
   ],
   "source": [
    "## PAS FACILE DE PLOTTER : les 2 parametres en meme temps sur les abscisses c'est galère...\n",
    "param_display = []\n",
    "for n,d in rf_param:\n",
    "   param_display.append(n+d) \n",
    "\n",
    "plt.plot(param_display,rf_scores)\n",
    "plt.xlabel('Value of the paramaters for the random forest')\n",
    "plt.ylabel('Cross-Validated Accuracy')\n",
    "\n",
    "idx_best = np.argmax(rf_scores)\n",
    "print(np.max(rf_scores))\n",
    "print(rf_param[idx_best])"
   ]
  },
  {
   "cell_type": "code",
   "execution_count": 24,
   "metadata": {
    "collapsed": false
   },
   "outputs": [],
   "source": [
    "\n",
    "# generate 2 2d grids for the x & y bounds\n",
    "x,y = np.meshgrid(n_estimators_choices,depth_choices,sparse=True)\n",
    "\n",
    "z=np.zeros((len(y),len(x[0])))\n",
    "\n",
    "for s in range(0,len(x[0])):\n",
    "    for t in range(0,len(y)):\n",
    "        a=np.transpose(x)[s]\n",
    "        b=y[t]\n",
    "\n",
    "        c=rf_param.index([a,b])\n",
    "        z[t,s]=rf_scores[c]                       \n",
    "z = z[:-1, :-1]"
   ]
  },
  {
   "cell_type": "code",
   "execution_count": 25,
   "metadata": {
    "collapsed": false
   },
   "outputs": [
    {
     "data": {
      "text/plain": [
       "<matplotlib.text.Text at 0x1154d0550>"
      ]
     },
     "execution_count": 25,
     "metadata": {},
     "output_type": "execute_result"
    },
    {
     "data": {
      "image/png": "[encoded data removed]",
      "text/plain": [
       "<matplotlib.figure.Figure at 0x115c75518>"
      ]
     },
     "metadata": {},
     "output_type": "display_data"
    }
   ],
   "source": [
    "\n",
    "z_min, z_max = np.abs(z).min(), np.abs(z).max()\n",
    "\n",
    "plt.pcolor(x, y, z, cmap='Greys', vmin=z_min, vmax=z_max)\n",
    "plt.title('Cross validated-accuracy in function of number of estimators and depth of tree')\n",
    "# set the limits of the plot to the limits of the data\n",
    "plt.colorbar()\n",
    "plt.ylabel('Depth of tree')\n",
    "plt.xlabel('Number of trees')\n",
    "\n"
   ]
  },
  {
   "cell_type": "markdown",
   "metadata": {
    "collapsed": true
   },
   "source": [
    "The best predictor seem to be the simplest random forest with a depth of of 5 and 200 estimators.\n",
    "\n",
    "Let's retrain this model on the whole dataset"
   ]
  },
  {
   "cell_type": "code",
   "execution_count": 32,
   "metadata": {
    "collapsed": false
   },
   "outputs": [
    {
     "data": {
      "text/plain": [
       "RandomForestClassifier(bootstrap=True, class_weight=None, criterion='gini',\n",
       "            max_depth=5, max_features='auto', max_leaf_nodes=None,\n",
       "            min_impurity_split=1e-07, min_samples_leaf=1,\n",
       "            min_samples_split=2, min_weight_fraction_leaf=0.0,\n",
       "            n_estimators=200, n_jobs=1, oob_score=False, random_state=None,\n",
       "            verbose=0, warm_start=False)"
      ]
     },
     "execution_count": 32,
     "metadata": {},
     "output_type": "execute_result"
    }
   ],
   "source": [
    "# Random forest\n",
    "rand_forest_model = sk.ensemble.RandomForestClassifier(n_estimators=200,max_depth=5)\n",
    "df_y = np.asarray(df_y, dtype=\"|S6\")\n",
    "rand_forest_model.fit(df_x,df_y)\n",
    "\n"
   ]
  },
  {
   "cell_type": "markdown",
   "metadata": {},
   "source": [
    "### Plot results of the features importance"
   ]
  },
  {
   "cell_type": "code",
   "execution_count": 40,
   "metadata": {
    "collapsed": false
   },
   "outputs": [
    {
     "name": "stdout",
     "output_type": "stream",
     "text": [
      "Feature ranking:\n",
      "1. feature yellowCards (0.101283)\n",
      "2. feature position (0.088979)\n",
      "3. feature ties (0.083607)\n",
      "4. feature games (0.078800)\n",
      "5. feature redCards (0.074310)\n",
      "6. feature goals (0.073636)\n",
      "7. feature defeats (0.070129)\n",
      "8. feature height (0.069921)\n",
      "9. feature club (0.065509)\n",
      "10. feature victories (0.062201)\n",
      "11. feature leagueCountry (0.060674)\n",
      "12. feature weight (0.053517)\n",
      "13. feature birthday_day (0.048471)\n",
      "14. feature birthday_month (0.039384)\n",
      "15. feature birthday_year (0.029580)\n"
     ]
    },
    {
     "data": {
      "image/png": "[encoded data removed]",
      "text/plain": [
       "<matplotlib.figure.Figure at 0x116490d30>"
      ]
     },
     "metadata": {},
     "output_type": "display_data"
    }
   ],
   "source": [
    "importances = rand_forest_model.feature_importances_\n",
    "std = np.std([tree.feature_importances_ for tree in rand_forest_model.estimators_],\n",
    "             axis=0)\n",
    "indices = np.argsort(importances)[::-1]\n",
    "\n",
    "# Print the feature ranking\n",
    "print(\"Feature ranking:\")\n",
    "\n",
    "for f in range(df_x.shape[1]):\n",
    "    print(\"%d. feature %s (%f)\" % (f + 1, df_x.columns[f], importances[indices[f]]))\n",
    "plt.figure()\n",
    "\n",
    "plt.title(\"Feature importances\")\n",
    "plt.bar(range(df_x.shape[1]), importances[indices],\n",
    "       color=\"r\", yerr=std[indices], align=\"center\")\n",
    "plt.xticks(range(df_x.shape[1]), indices)\n",
    "plt.xlim([-1, df_x.shape[1]])\n",
    "plt.show()"
   ]
  },
  {
   "cell_type": "markdown",
   "metadata": {},
   "source": [
    "Let's now remove features that we assume should be useless to determine someone skin color"
   ]
  },
  {
   "cell_type": "code",
   "execution_count": 56,
   "metadata": {
    "collapsed": false
   },
   "outputs": [],
   "source": [
    "df_x.drop(['ties','defeats','victories','birthday_day','birthday_month','birthday_year'],inplace=True,axis=1,errors='ignore')\n"
   ]
  },
  {
   "cell_type": "markdown",
   "metadata": {},
   "source": [
    "The random forest will be trained again using the same model parameters"
   ]
  },
  {
   "cell_type": "code",
   "execution_count": 57,
   "metadata": {
    "collapsed": false
   },
   "outputs": [
    {
     "data": {
      "text/plain": [
       "RandomForestClassifier(bootstrap=True, class_weight=None, criterion='gini',\n",
       "            max_depth=5, max_features='auto', max_leaf_nodes=None,\n",
       "            min_impurity_split=1e-07, min_samples_leaf=1,\n",
       "            min_samples_split=2, min_weight_fraction_leaf=0.0,\n",
       "            n_estimators=200, n_jobs=1, oob_score=False, random_state=None,\n",
       "            verbose=0, warm_start=False)"
      ]
     },
     "execution_count": 57,
     "metadata": {},
     "output_type": "execute_result"
    }
   ],
   "source": [
    "rand_forest_model.fit(df_x,df_y)\n"
   ]
  },
  {
   "cell_type": "markdown",
   "metadata": {},
   "source": [
    "Let's have a look at the features importance now"
   ]
  },
  {
   "cell_type": "code",
   "execution_count": 58,
   "metadata": {
    "collapsed": false
   },
   "outputs": [
    {
     "name": "stdout",
     "output_type": "stream",
     "text": [
      "Feature ranking:\n",
      "1. feature yellowCards (0.143770)\n",
      "2. feature position (0.140871)\n",
      "3. feature games (0.140464)\n",
      "4. feature redCards (0.138974)\n",
      "5. feature goals (0.123453)\n",
      "6. feature height (0.102684)\n",
      "7. feature club (0.089875)\n",
      "8. feature leagueCountry (0.072576)\n",
      "9. feature weight (0.047332)\n"
     ]
    },
    {
     "data": {
      "image/png": "[encoded data removed]",
      "text/plain": [
       "<matplotlib.figure.Figure at 0x1164fca58>"
      ]
     },
     "metadata": {},
     "output_type": "display_data"
    }
   ],
   "source": [
    "importances = rand_forest_model.feature_importances_\n",
    "std = np.std([tree.feature_importances_ for tree in rand_forest_model.estimators_],\n",
    "             axis=0)\n",
    "indices = np.argsort(importances)[::-1]\n",
    "\n",
    "# Print the feature ranking\n",
    "print(\"Feature ranking:\")\n",
    "\n",
    "for f in range(df_x.shape[1]):\n",
    "    print(\"%d. feature %s (%f)\" % (f + 1, df_x.columns[f], importances[indices[f]]))\n",
    "plt.figure()\n",
    "\n",
    "plt.title(\"Feature importances\")\n",
    "plt.bar(range(df_x.shape[1]), importances[indices],\n",
    "       color=\"r\", yerr=std[indices], align=\"center\")\n",
    "plt.xticks(range(df_x.shape[1]), indices)\n",
    "plt.xlim([-1, df_x.shape[1]])\n",
    "plt.show()"
   ]
  },
  {
   "cell_type": "markdown",
   "metadata": {},
   "source": [
    "The order didn't change at all"
   ]
  },
  {
   "cell_type": "markdown",
   "metadata": {},
   "source": [
    "## Bonus question"
   ]
  },
  {
   "cell_type": "markdown",
   "metadata": {},
   "source": [
    "Firstly the learning curve of the best model will be plotted. Using the features that could have an importance in determining a footballer's color skin"
   ]
  },
  {
   "cell_type": "code",
   "execution_count": 59,
   "metadata": {
    "collapsed": false
   },
   "outputs": [
    {
     "data": {
      "text/plain": [
       "<matplotlib.legend.Legend at 0x116542e48>"
      ]
     },
     "execution_count": 59,
     "metadata": {},
     "output_type": "execute_result"
    },
    {
     "data": {
      "image/png": "[encoded data removed]",
      "text/plain": [
       "<matplotlib.figure.Figure at 0x11683c668>"
      ]
     },
     "metadata": {},
     "output_type": "display_data"
    }
   ],
   "source": [
    "    plt.figure()\n",
    "    plt.title(\"Best model\")\n",
    "    plt.xlabel(\"Training examples\")\n",
    "    plt.ylabel(\"Score\")\n",
    "    train_sizes, train_scores, test_scores = learning_curve(\n",
    "        rand_forest_model, df_x, df_y, cv=20)\n",
    "    train_scores_mean = np.mean(train_scores, axis=1)\n",
    "    train_scores_std = np.std(train_scores, axis=1)\n",
    "    test_scores_mean = np.mean(test_scores, axis=1)\n",
    "    test_scores_std = np.std(test_scores, axis=1)\n",
    "    plt.grid()\n",
    "\n",
    "    plt.fill_between(train_sizes, train_scores_mean - train_scores_std,\n",
    "                     train_scores_mean + train_scores_std, alpha=0.1,\n",
    "                     color=\"r\")\n",
    "    plt.fill_between(train_sizes, test_scores_mean - test_scores_std,\n",
    "                     test_scores_mean + test_scores_std, alpha=0.1, color=\"g\")\n",
    "    plt.plot(train_sizes, train_scores_mean, 'o-', color=\"r\",\n",
    "             label=\"Training score\")\n",
    "    plt.plot(train_sizes, test_scores_mean, 'o-', color=\"g\",\n",
    "             label=\"Cross-validation score\")\n",
    "\n",
    "    plt.legend(loc=\"best\")\n",
    "\n",
    "\n"
   ]
  },
  {
   "cell_type": "markdown",
   "metadata": {},
   "source": [
    "Now the learning curve of the worst model will be plotted"
   ]
  },
  {
   "cell_type": "markdown",
   "metadata": {},
   "source": [
    "First let's determine which was the worst model"
   ]
  },
  {
   "cell_type": "code",
   "execution_count": 60,
   "metadata": {
    "collapsed": false
   },
   "outputs": [
    {
     "name": "stdout",
     "output_type": "stream",
     "text": [
      "0.335842695973\n",
      "[300, 15]\n"
     ]
    }
   ],
   "source": [
    "idx_best = np.argmin(rf_scores)\n",
    "print(np.max(rf_scores))\n",
    "print(rf_param[idx_best])"
   ]
  },
  {
   "cell_type": "markdown",
   "metadata": {},
   "source": [
    "The worst model was when using 300 trees and a depth of 15"
   ]
  },
  {
   "cell_type": "code",
   "execution_count": 62,
   "metadata": {
    "collapsed": false
   },
   "outputs": [],
   "source": [
    "rand_forest_model = sk.ensemble.RandomForestClassifier(n_estimators=300,max_depth=15)\n"
   ]
  },
  {
   "cell_type": "code",
   "execution_count": 65,
   "metadata": {
    "collapsed": false
   },
   "outputs": [
    {
     "data": {
      "text/plain": [
       "<matplotlib.legend.Legend at 0x11666a860>"
      ]
     },
     "execution_count": 65,
     "metadata": {},
     "output_type": "execute_result"
    },
    {
     "data": {
      "image/png": "[encoded data removed]",
      "text/plain": [
       "<matplotlib.figure.Figure at 0x11658d3c8>"
      ]
     },
     "metadata": {},
     "output_type": "display_data"
    }
   ],
   "source": [
    "    plt.figure()\n",
    "    plt.title(\"Worst model\")\n",
    "    plt.xlabel(\"Training examples\")\n",
    "    plt.ylabel(\"Score\")\n",
    "    train_sizes, train_scores, test_scores = learning_curve(\n",
    "        rand_forest_model, df_x, df_y, cv=20)\n",
    "    train_scores_mean = np.mean(train_scores, axis=1)\n",
    "    train_scores_std = np.std(train_scores, axis=1)\n",
    "    test_scores_mean = np.mean(test_scores, axis=1)\n",
    "    test_scores_std = np.std(test_scores, axis=1)\n",
    "    plt.grid()\n",
    "\n",
    "    plt.fill_between(train_sizes, train_scores_mean - train_scores_std,\n",
    "                     train_scores_mean + train_scores_std, alpha=0.1,\n",
    "                     color=\"r\")\n",
    "    plt.fill_between(train_sizes, test_scores_mean - test_scores_std,\n",
    "                     test_scores_mean + test_scores_std, alpha=0.1, color=\"g\")\n",
    "    plt.plot(train_sizes, train_scores_mean, 'o-', color=\"r\",\n",
    "             label=\"Training score\")\n",
    "    plt.plot(train_sizes, test_scores_mean, 'o-', color=\"g\",\n",
    "             label=\"Cross-validation score\")\n",
    "    axes = plt.gca()\n",
    "axes.set_ylim([0,1.05])\n",
    "\n",
    "    plt.legend(loc=\"best\")\n",
    "\n"
   ]
  },
  {
   "cell_type": "markdown",
   "metadata": {},
   "source": [
    "As it can be seen the worst model was overfitting a lot, having an accuracy of 1 when training and showing a bad performance when testing on a subset of the data it hasn't trained on"
   ]
  }
 ],
 "metadata": {
  "anaconda-cloud": {},
  "kernelspec": {
   "display_name": "Python [conda root]",
   "language": "python",
   "name": "conda-root-py"
  },
  "language_info": {
   "codemirror_mode": {
    "name": "ipython",
    "version": 3
   },
   "file_extension": ".py",
   "mimetype": "text/x-python",
   "name": "python",
   "nbconvert_exporter": "python",
   "pygments_lexer": "ipython3",
   "version": "3.5.2"
  }
 },
 "nbformat": 4,
 "nbformat_minor": 1
}
