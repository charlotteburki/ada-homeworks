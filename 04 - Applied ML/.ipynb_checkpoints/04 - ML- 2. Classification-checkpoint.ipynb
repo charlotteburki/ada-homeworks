{
 "cells": [
  {
   "cell_type": "markdown",
   "metadata": {},
   "source": [
    "# Machine Learning\n",
    "\n",
    "In this homework we will gain experience on Applied Machine Learning, exploring an interesting dataset about soccer players and referees. "
   ]
  },
  {
   "cell_type": "code",
   "execution_count": 1,
   "metadata": {
    "collapsed": false
   },
   "outputs": [
    {
     "name": "stderr",
     "output_type": "stream",
     "text": [
      "/Users/Charlotte/anaconda/lib/python3.5/site-packages/sklearn/cross_validation.py:44: DeprecationWarning: This module was deprecated in version 0.18 in favor of the model_selection module into which all the refactored classes and functions are moved. Also note that the interface of the new CV iterators are different from that of this module. This module will be removed in 0.20.\n",
      "  \"This module will be removed in 0.20.\", DeprecationWarning)\n"
     ]
    }
   ],
   "source": [
    "import pandas as pd\n",
    "import numpy as np\n",
    "import os\n",
    "from IPython.display import Image\n",
    "from IPython.core.display import HTML \n",
    "import matplotlib.pyplot as plt  \n",
    "% matplotlib inline\n",
    "import random\n",
    "from datetime import datetime\n",
    "import seaborn as sns\n",
    "pd.options.mode.chained_assignment = None  # default='warn'\n",
    "import sklearn as sk\n",
    "from sklearn import preprocessing, ensemble\n",
    "from sklearn.model_selection import train_test_split\n",
    "from sklearn.cross_validation import KFold\n",
    "from sklearn.cross_validation import cross_val_score\n",
    "from sklearn.model_selection import learning_curve\n",
    "from sklearn.metrics import roc_curve, auc\n",
    "from sklearn.cluster import KMeans\n",
    "from sklearn import metrics\n",
    "from sklearn.metrics import pairwise_distances"
   ]
  },
  {
   "cell_type": "markdown",
   "metadata": {},
   "source": [
    "## Load data from pre-processing"
   ]
  },
  {
   "cell_type": "code",
   "execution_count": 2,
   "metadata": {
    "collapsed": true
   },
   "outputs": [],
   "source": [
    "df_p = pd.read_csv(\"crowdstorm_players_aggregated.csv\", encoding = \"utf-8\")"
   ]
  },
  {
   "cell_type": "markdown",
   "metadata": {},
   "source": [
    "# Machine Learning"
   ]
  },
  {
   "cell_type": "markdown",
   "metadata": {},
   "source": [
    "## Preparation of the data\n",
    "First let's create a vector *X* of features and samples, and a vector *Y* of the labels corresponding. Y will have the value of *mean_rater*"
   ]
  },
  {
   "cell_type": "code",
   "execution_count": 3,
   "metadata": {
    "collapsed": false
   },
   "outputs": [
    {
     "data": {
      "text/html": [
       "<div>\n",
       "<table border=\"1\" class=\"dataframe\">\n",
       "  <thead>\n",
       "    <tr style=\"text-align: right;\">\n",
       "      <th></th>\n",
       "      <th>meanExp</th>\n",
       "      <th>defeats</th>\n",
       "      <th>meanIAT</th>\n",
       "      <th>victories</th>\n",
       "      <th>redReferee</th>\n",
       "      <th>weight</th>\n",
       "      <th>yellowReferee</th>\n",
       "      <th>seIAT</th>\n",
       "      <th>height</th>\n",
       "      <th>seExp</th>\n",
       "      <th>...</th>\n",
       "      <th>Center Forward</th>\n",
       "      <th>Center Midfielder</th>\n",
       "      <th>Defensive Midfielder</th>\n",
       "      <th>Goalkeeper</th>\n",
       "      <th>Left Fullback</th>\n",
       "      <th>Left Midfielder</th>\n",
       "      <th>Left Winger</th>\n",
       "      <th>Right Fullback</th>\n",
       "      <th>Right Midfielder</th>\n",
       "      <th>Right Winger</th>\n",
       "    </tr>\n",
       "  </thead>\n",
       "  <tbody>\n",
       "    <tr>\n",
       "      <th>count</th>\n",
       "      <td>1418.000000</td>\n",
       "      <td>1418.000000</td>\n",
       "      <td>1418.000000</td>\n",
       "      <td>1418.000000</td>\n",
       "      <td>1418.000000</td>\n",
       "      <td>1418.000000</td>\n",
       "      <td>1418.000000</td>\n",
       "      <td>1418.000000</td>\n",
       "      <td>1418.000000</td>\n",
       "      <td>1418.000000</td>\n",
       "      <td>...</td>\n",
       "      <td>1418.000000</td>\n",
       "      <td>1418.000000</td>\n",
       "      <td>1418.000000</td>\n",
       "      <td>1418.000000</td>\n",
       "      <td>1418.000000</td>\n",
       "      <td>1418.000000</td>\n",
       "      <td>1418.000000</td>\n",
       "      <td>1418.000000</td>\n",
       "      <td>1418.000000</td>\n",
       "      <td>1418.000000</td>\n",
       "    </tr>\n",
       "    <tr>\n",
       "      <th>mean</th>\n",
       "      <td>0.444205</td>\n",
       "      <td>561.917489</td>\n",
       "      <td>0.347126</td>\n",
       "      <td>820.600141</td>\n",
       "      <td>0.009861</td>\n",
       "      <td>76.263047</td>\n",
       "      <td>0.325326</td>\n",
       "      <td>0.000293</td>\n",
       "      <td>182.159379</td>\n",
       "      <td>0.001399</td>\n",
       "      <td>...</td>\n",
       "      <td>0.133286</td>\n",
       "      <td>0.041608</td>\n",
       "      <td>0.120592</td>\n",
       "      <td>0.111425</td>\n",
       "      <td>0.082511</td>\n",
       "      <td>0.053597</td>\n",
       "      <td>0.037377</td>\n",
       "      <td>0.075458</td>\n",
       "      <td>0.042313</td>\n",
       "      <td>0.039492</td>\n",
       "    </tr>\n",
       "    <tr>\n",
       "      <th>std</th>\n",
       "      <td>0.101160</td>\n",
       "      <td>573.695929</td>\n",
       "      <td>0.014516</td>\n",
       "      <td>1019.439932</td>\n",
       "      <td>0.015333</td>\n",
       "      <td>7.105262</td>\n",
       "      <td>0.265622</td>\n",
       "      <td>0.000390</td>\n",
       "      <td>6.799995</td>\n",
       "      <td>0.001957</td>\n",
       "      <td>...</td>\n",
       "      <td>0.340004</td>\n",
       "      <td>0.199762</td>\n",
       "      <td>0.325768</td>\n",
       "      <td>0.314768</td>\n",
       "      <td>0.275238</td>\n",
       "      <td>0.225299</td>\n",
       "      <td>0.189750</td>\n",
       "      <td>0.264223</td>\n",
       "      <td>0.201374</td>\n",
       "      <td>0.194832</td>\n",
       "    </tr>\n",
       "    <tr>\n",
       "      <th>min</th>\n",
       "      <td>0.065271</td>\n",
       "      <td>0.000000</td>\n",
       "      <td>0.287530</td>\n",
       "      <td>0.000000</td>\n",
       "      <td>0.000000</td>\n",
       "      <td>55.000000</td>\n",
       "      <td>0.000000</td>\n",
       "      <td>0.000010</td>\n",
       "      <td>161.000000</td>\n",
       "      <td>0.000037</td>\n",
       "      <td>...</td>\n",
       "      <td>0.000000</td>\n",
       "      <td>0.000000</td>\n",
       "      <td>0.000000</td>\n",
       "      <td>0.000000</td>\n",
       "      <td>0.000000</td>\n",
       "      <td>0.000000</td>\n",
       "      <td>0.000000</td>\n",
       "      <td>0.000000</td>\n",
       "      <td>0.000000</td>\n",
       "      <td>0.000000</td>\n",
       "    </tr>\n",
       "    <tr>\n",
       "      <th>25%</th>\n",
       "      <td>0.361671</td>\n",
       "      <td>173.000000</td>\n",
       "      <td>0.336628</td>\n",
       "      <td>197.000000</td>\n",
       "      <td>0.000000</td>\n",
       "      <td>71.000000</td>\n",
       "      <td>0.140651</td>\n",
       "      <td>0.000120</td>\n",
       "      <td>178.000000</td>\n",
       "      <td>0.000547</td>\n",
       "      <td>...</td>\n",
       "      <td>0.000000</td>\n",
       "      <td>0.000000</td>\n",
       "      <td>0.000000</td>\n",
       "      <td>0.000000</td>\n",
       "      <td>0.000000</td>\n",
       "      <td>0.000000</td>\n",
       "      <td>0.000000</td>\n",
       "      <td>0.000000</td>\n",
       "      <td>0.000000</td>\n",
       "      <td>0.000000</td>\n",
       "    </tr>\n",
       "    <tr>\n",
       "      <th>50%</th>\n",
       "      <td>0.402253</td>\n",
       "      <td>384.500000</td>\n",
       "      <td>0.340851</td>\n",
       "      <td>497.000000</td>\n",
       "      <td>0.002115</td>\n",
       "      <td>76.000000</td>\n",
       "      <td>0.256060</td>\n",
       "      <td>0.000229</td>\n",
       "      <td>182.500000</td>\n",
       "      <td>0.001002</td>\n",
       "      <td>...</td>\n",
       "      <td>0.000000</td>\n",
       "      <td>0.000000</td>\n",
       "      <td>0.000000</td>\n",
       "      <td>0.000000</td>\n",
       "      <td>0.000000</td>\n",
       "      <td>0.000000</td>\n",
       "      <td>0.000000</td>\n",
       "      <td>0.000000</td>\n",
       "      <td>0.000000</td>\n",
       "      <td>0.000000</td>\n",
       "    </tr>\n",
       "    <tr>\n",
       "      <th>75%</th>\n",
       "      <td>0.551277</td>\n",
       "      <td>749.750000</td>\n",
       "      <td>0.361154</td>\n",
       "      <td>1068.750000</td>\n",
       "      <td>0.014864</td>\n",
       "      <td>81.000000</td>\n",
       "      <td>0.447792</td>\n",
       "      <td>0.000306</td>\n",
       "      <td>187.000000</td>\n",
       "      <td>0.001437</td>\n",
       "      <td>...</td>\n",
       "      <td>0.000000</td>\n",
       "      <td>0.000000</td>\n",
       "      <td>0.000000</td>\n",
       "      <td>0.000000</td>\n",
       "      <td>0.000000</td>\n",
       "      <td>0.000000</td>\n",
       "      <td>0.000000</td>\n",
       "      <td>0.000000</td>\n",
       "      <td>0.000000</td>\n",
       "      <td>0.000000</td>\n",
       "    </tr>\n",
       "    <tr>\n",
       "      <th>max</th>\n",
       "      <td>1.031407</td>\n",
       "      <td>4269.000000</td>\n",
       "      <td>0.396512</td>\n",
       "      <td>10092.000000</td>\n",
       "      <td>0.105786</td>\n",
       "      <td>100.000000</td>\n",
       "      <td>2.002729</td>\n",
       "      <td>0.009063</td>\n",
       "      <td>203.000000</td>\n",
       "      <td>0.045650</td>\n",
       "      <td>...</td>\n",
       "      <td>1.000000</td>\n",
       "      <td>1.000000</td>\n",
       "      <td>1.000000</td>\n",
       "      <td>1.000000</td>\n",
       "      <td>1.000000</td>\n",
       "      <td>1.000000</td>\n",
       "      <td>1.000000</td>\n",
       "      <td>1.000000</td>\n",
       "      <td>1.000000</td>\n",
       "      <td>1.000000</td>\n",
       "    </tr>\n",
       "  </tbody>\n",
       "</table>\n",
       "<p>8 rows × 31 columns</p>\n",
       "</div>"
      ],
      "text/plain": [
       "           meanExp      defeats      meanIAT     victories   redReferee  \\\n",
       "count  1418.000000  1418.000000  1418.000000   1418.000000  1418.000000   \n",
       "mean      0.444205   561.917489     0.347126    820.600141     0.009861   \n",
       "std       0.101160   573.695929     0.014516   1019.439932     0.015333   \n",
       "min       0.065271     0.000000     0.287530      0.000000     0.000000   \n",
       "25%       0.361671   173.000000     0.336628    197.000000     0.000000   \n",
       "50%       0.402253   384.500000     0.340851    497.000000     0.002115   \n",
       "75%       0.551277   749.750000     0.361154   1068.750000     0.014864   \n",
       "max       1.031407  4269.000000     0.396512  10092.000000     0.105786   \n",
       "\n",
       "            weight  yellowReferee        seIAT       height        seExp  \\\n",
       "count  1418.000000    1418.000000  1418.000000  1418.000000  1418.000000   \n",
       "mean     76.263047       0.325326     0.000293   182.159379     0.001399   \n",
       "std       7.105262       0.265622     0.000390     6.799995     0.001957   \n",
       "min      55.000000       0.000000     0.000010   161.000000     0.000037   \n",
       "25%      71.000000       0.140651     0.000120   178.000000     0.000547   \n",
       "50%      76.000000       0.256060     0.000229   182.500000     0.001002   \n",
       "75%      81.000000       0.447792     0.000306   187.000000     0.001437   \n",
       "max     100.000000       2.002729     0.009063   203.000000     0.045650   \n",
       "\n",
       "           ...       Center Forward  Center Midfielder  Defensive Midfielder  \\\n",
       "count      ...          1418.000000        1418.000000           1418.000000   \n",
       "mean       ...             0.133286           0.041608              0.120592   \n",
       "std        ...             0.340004           0.199762              0.325768   \n",
       "min        ...             0.000000           0.000000              0.000000   \n",
       "25%        ...             0.000000           0.000000              0.000000   \n",
       "50%        ...             0.000000           0.000000              0.000000   \n",
       "75%        ...             0.000000           0.000000              0.000000   \n",
       "max        ...             1.000000           1.000000              1.000000   \n",
       "\n",
       "        Goalkeeper  Left Fullback  Left Midfielder  Left Winger  \\\n",
       "count  1418.000000    1418.000000      1418.000000  1418.000000   \n",
       "mean      0.111425       0.082511         0.053597     0.037377   \n",
       "std       0.314768       0.275238         0.225299     0.189750   \n",
       "min       0.000000       0.000000         0.000000     0.000000   \n",
       "25%       0.000000       0.000000         0.000000     0.000000   \n",
       "50%       0.000000       0.000000         0.000000     0.000000   \n",
       "75%       0.000000       0.000000         0.000000     0.000000   \n",
       "max       1.000000       1.000000         1.000000     1.000000   \n",
       "\n",
       "       Right Fullback  Right Midfielder  Right Winger  \n",
       "count     1418.000000       1418.000000   1418.000000  \n",
       "mean         0.075458          0.042313      0.039492  \n",
       "std          0.264223          0.201374      0.194832  \n",
       "min          0.000000          0.000000      0.000000  \n",
       "25%          0.000000          0.000000      0.000000  \n",
       "50%          0.000000          0.000000      0.000000  \n",
       "75%          0.000000          0.000000      0.000000  \n",
       "max          1.000000          1.000000      1.000000  \n",
       "\n",
       "[8 rows x 31 columns]"
      ]
     },
     "execution_count": 3,
     "metadata": {},
     "output_type": "execute_result"
    }
   ],
   "source": [
    "df_y = df_p['mean_rater']\n",
    "\n",
    "df_x = df_p.copy()\n",
    "df_x.drop(['mean_rater'],inplace=True,axis=1,errors='ignore')\n",
    "\n",
    "df_x.describe()"
   ]
  },
  {
   "cell_type": "markdown",
   "metadata": {},
   "source": [
    "### Imabalanced Classes\n",
    "We have more data in the class '0' (White skin), than in the class '1' (Dark skin). We compute their ratio, and will use it in the classifer."
   ]
  },
  {
   "cell_type": "code",
   "execution_count": 4,
   "metadata": {
    "collapsed": false
   },
   "outputs": [
    {
     "name": "stdout",
     "output_type": "stream",
     "text": [
      "Number of samples in each class:\n"
     ]
    },
    {
     "data": {
      "text/plain": [
       "0    1088\n",
       "1     330\n",
       "Name: mean_rater, dtype: int64"
      ]
     },
     "execution_count": 4,
     "metadata": {},
     "output_type": "execute_result"
    }
   ],
   "source": [
    "df_y = df_y.astype(int)\n",
    "a,b = df_y.value_counts()\n",
    "weight_1 = a/(a+b)\n",
    "weight_0 = b/(a+b)\n",
    "print('Number of samples in each class:')\n",
    "df_y.value_counts()"
   ]
  },
  {
   "cell_type": "markdown",
   "metadata": {},
   "source": [
    "### Division of the dataset in train/test datasets\n",
    "we will use a training set containing 80% of the data, and a testing set containing 20% of the data\n",
    "\n",
    "when specifying *random_state = 0*, we make sure that the splitting is done everytime at the same place. We can remove this option to have a random splitting."
   ]
  },
  {
   "cell_type": "code",
   "execution_count": 5,
   "metadata": {
    "collapsed": false
   },
   "outputs": [
    {
     "data": {
      "text/plain": [
       "((1134, 31), (1134,), (284, 31), (284,))"
      ]
     },
     "execution_count": 5,
     "metadata": {},
     "output_type": "execute_result"
    }
   ],
   "source": [
    "df_x_train, df_x_test, df_y_train, df_y_test = train_test_split(df_x, df_y, test_size=.2, random_state = 0)\n",
    "#df_y_test = np.asarray(df_y_test, dtype=\"|S6\")\n",
    "#df_x_test = np.asarray(df_x_test, dtype=\"|S6\")\n",
    "#df_y_train = np.asarray(df_y_train, dtype=\"|S6\")\n",
    "#df_x_train = np.asarray(df_x_train, dtype=\"|S6\")\n",
    "\n",
    "df_x_train.shape, df_y_train.shape, df_x_test.shape, df_y_test.shape"
   ]
  },
  {
   "cell_type": "markdown",
   "metadata": {},
   "source": [
    "## Random Forest\n",
    "\n",
    "As the data are unbalanced, the model will be **penalized** using the weights calculated before. This will allow the model to take into considerationt the fact that there are more white skin players than dark skin players.\n",
    "\n",
    "### Metric choice\n",
    "\n",
    "We are going to use two metrics :\n",
    "\n",
    "The **precision** :\n",
    "$P = TP / (TP+FP) $\n",
    "\n",
    "The **acuracy** :\n",
    "$P = (TP+TN) / N $\n",
    "\n",
    "The precision will give information about how black players are classified (given by **TP**). The accuracy will give information about how black and white players are classified.\n",
    "\n",
    "\n",
    "### First try with naive parameters"
   ]
  },
  {
   "cell_type": "code",
   "execution_count": 6,
   "metadata": {
    "collapsed": false
   },
   "outputs": [
    {
     "name": "stdout",
     "output_type": "stream",
     "text": [
      "Training accuracy score on training set\n",
      "1.0\n",
      "Training precision score\n",
      "1.0\n",
      "Test accuracy score\n",
      "0.81338028169\n",
      "Test precision score\n",
      "0.592592592593\n",
      "Confusion matrix\n",
      "[[215  11]\n",
      " [ 42  16]]\n"
     ]
    }
   ],
   "source": [
    "# TRAIN RANDOM FOREST\n",
    "\n",
    "# Train model\n",
    "rand_forest_model = sk.ensemble.RandomForestClassifier(n_estimators=100,class_weight={1:weight_1,0:weight_0})\n",
    "rand_forest_model.fit(df_x_train,df_y_train)\n",
    "\n",
    "# Predict\n",
    "y_pred = rand_forest_model.predict(df_x_test)\n",
    "y_pred_train = rand_forest_model.predict(df_x_train)\n",
    "\n",
    "# Compute accuracy on training set\n",
    "accuracy_rand_forest_training = sk.metrics.accuracy_score(df_y_train,y_pred_train)\n",
    "print(\"Training accuracy score on training set\")\n",
    "print(accuracy_rand_forest_training)\n",
    "print(\"Training precision score\")\n",
    "print(sk.metrics.precision_score(df_y_train,y_pred_train))\n",
    "\n",
    "# Compute accuracy on test set\n",
    "accuracy_rand_forest = sk.metrics.accuracy_score(df_y_test,y_pred)\n",
    "print(\"Test accuracy score\")\n",
    "print(accuracy_rand_forest)\n",
    "print(\"Test precision score\")\n",
    "print(sk.metrics.precision_score(df_y_test,y_pred))\n",
    "\n",
    "# Confusion matrix\n",
    "print(\"Confusion matrix\")\n",
    "cfm = sk.metrics.confusion_matrix(df_y_test,y_pred)\n",
    "print(cfm)"
   ]
  },
  {
   "cell_type": "markdown",
   "metadata": {},
   "source": [
    "The model is **overfitting**. This is probably due to the depth of the trees being too high. We will train the model again with a smaller *max_depth* of 10. We show here that this value reduces overfitting. Later, we will do a cross validation to identify the best value for the *max_depth* hyperparameter.\n"
   ]
  },
  {
   "cell_type": "code",
   "execution_count": 7,
   "metadata": {
    "collapsed": false
   },
   "outputs": [
    {
     "name": "stdout",
     "output_type": "stream",
     "text": [
      "Training accuracy score on training set\n",
      "0.97619047619\n",
      "Training precision score\n",
      "0.942238267148\n",
      "Test accuracy score\n",
      "0.806338028169\n",
      "Test precision score\n",
      "0.529411764706\n",
      "Confusion matrix\n",
      "[[202  24]\n",
      " [ 31  27]]\n"
     ]
    }
   ],
   "source": [
    "# Train model\n",
    "rand_forest_model = sk.ensemble.RandomForestClassifier(n_estimators=100, max_depth=10,class_weight={1:weight_1,0:weight_0})\n",
    "rand_forest_model.fit(df_x_train,df_y_train)\n",
    "\n",
    "# Predict\n",
    "y_pred = rand_forest_model.predict(df_x_test)\n",
    "y_pred_train = rand_forest_model.predict(df_x_train)\n",
    "\n",
    "# Compute accuracy on training set\n",
    "accuracy_rand_forest_training = sk.metrics.accuracy_score(df_y_train,y_pred_train)\n",
    "print(\"Training accuracy score on training set\")\n",
    "print(accuracy_rand_forest_training)\n",
    "print(\"Training precision score\")\n",
    "print(sk.metrics.precision_score(df_y_train,y_pred_train))\n",
    "\n",
    "# Compute accuracy on test set\n",
    "accuracy_rand_forest = sk.metrics.accuracy_score(df_y_test,y_pred)\n",
    "print(\"Test accuracy score\")\n",
    "print(accuracy_rand_forest)\n",
    "print(\"Test precision score\")\n",
    "print(sk.metrics.precision_score(df_y_test,y_pred))\n",
    "\n",
    "# Confusion matrix\n",
    "print(\"Confusion matrix\")\n",
    "cfm = sk.metrics.confusion_matrix(df_y_test,y_pred)\n",
    "print(cfm)"
   ]
  },
  {
   "cell_type": "markdown",
   "metadata": {},
   "source": [
    "The accuracy score on the training test is now smaller, the overfitting issue has been reduced. however, we can see that both the test accuracy and precision have been reduced."
   ]
  },
  {
   "cell_type": "markdown",
   "metadata": {},
   "source": [
    "## Cross validation\n",
    "\n",
    "we will define K = 10 folds. We will do a cross validation for the hyperparameter *number of trees* and another one for *max_depth*. In both case we will use the accuracy as the score.\n"
   ]
  },
  {
   "cell_type": "code",
   "execution_count": 8,
   "metadata": {
    "collapsed": false
   },
   "outputs": [],
   "source": [
    "num_folds = 10"
   ]
  },
  {
   "cell_type": "markdown",
   "metadata": {},
   "source": [
    "### 1 hyperparameter : number of trees\n",
    "\n",
    "Choices for the number of estimators hyperparameter:"
   ]
  },
  {
   "cell_type": "code",
   "execution_count": 9,
   "metadata": {
    "collapsed": true
   },
   "outputs": [],
   "source": [
    "number_trees = [1, 5, 10, 20, 30, 40, 50, 100, 200, 300, 400, 500, 600, 700, 800, 900, 1000]"
   ]
  },
  {
   "cell_type": "code",
   "execution_count": 10,
   "metadata": {
    "collapsed": false
   },
   "outputs": [
    {
     "name": "stdout",
     "output_type": "stream",
     "text": [
      "number_trees_idx:  1 / 17 , value:  1\n",
      "Accuracy =  0.703855328973\n",
      "number_trees_idx:  2 / 17 , value:  5\n",
      "Accuracy =  0.734644093882\n",
      "number_trees_idx:  3 / 17 , value:  10\n",
      "Accuracy =  0.754905732974\n",
      "number_trees_idx:  4 / 17 , value:  20\n",
      "Accuracy =  0.775213543671\n",
      "number_trees_idx:  5 / 17 , value:  30\n",
      "Accuracy =  0.776937283571\n",
      "number_trees_idx:  6 / 17 , value:  40\n",
      "Accuracy =  0.784047710658\n",
      "number_trees_idx:  7 / 17 , value:  50\n",
      "Accuracy =  0.776983455175\n",
      "number_trees_idx:  8 / 17 , value:  100\n",
      "Accuracy =  0.779669103501\n",
      "number_trees_idx:  9 / 17 , value:  200\n",
      "Accuracy =  0.77696806464\n",
      "number_trees_idx:  10 / 17 , value:  300\n",
      "Accuracy =  0.777853020392\n",
      "number_trees_idx:  11 / 17 , value:  400\n",
      "Accuracy =  0.784016929588\n",
      "number_trees_idx:  12 / 17 , value:  500\n",
      "Accuracy =  0.778707195075\n",
      "number_trees_idx:  13 / 17 , value:  600\n",
      "Accuracy =  0.784032320123\n",
      "number_trees_idx:  14 / 17 , value:  700\n",
      "Accuracy =  0.782247018084\n",
      "number_trees_idx:  15 / 17 , value:  800\n",
      "Accuracy =  0.782262408619\n",
      "number_trees_idx:  16 / 17 , value:  900\n",
      "Accuracy =  0.779653712967\n",
      "number_trees_idx:  17 / 17 , value:  1000\n",
      "Accuracy =  0.779653712967\n"
     ]
    }
   ],
   "source": [
    "rf_scores = []\n",
    "rf_param = []\n",
    "\n",
    "#Loop for 1st hyperparameter n_estimators\n",
    "for number_trees_idx, number_trees_value in enumerate(number_trees):\n",
    "    \n",
    "    print('number_trees_idx: ',number_trees_idx+1,'/',len(number_trees),', value: ', number_trees_value)\n",
    "\n",
    "    # Random forest\n",
    "    rand_forest_model = sk.ensemble.RandomForestClassifier(n_estimators=number_trees_value, max_depth=14,class_weight={1:weight_1,0:weight_0})\n",
    "\n",
    "    #Scores\n",
    "    scores = cross_val_score(rand_forest_model, df_x_train, df_y_train, cv=num_folds, scoring='accuracy')\n",
    "    rf_scores.append(scores.mean())\n",
    "    rf_param.append(number_trees_value)\n",
    "    print('Accuracy = ', scores.mean())\n"
   ]
  },
  {
   "cell_type": "markdown",
   "metadata": {},
   "source": [
    "We will now plot the cross-validated accuracy for different number of trees and display the value of the best model"
   ]
  },
  {
   "cell_type": "code",
   "execution_count": 11,
   "metadata": {
    "collapsed": false
   },
   "outputs": [
    {
     "name": "stdout",
     "output_type": "stream",
     "text": [
      "best accuracy:\n",
      "0.784047710658\n",
      "best parameter:\n",
      "40\n"
     ]
    },
    {
     "data": {
      "image/png": "[encoded data removed]",
      "text/plain": [
       "<matplotlib.figure.Figure at 0x115df2ef0>"
      ]
     },
     "metadata": {},
     "output_type": "display_data"
    }
   ],
   "source": [
    "plt.semilogx(rf_param,rf_scores)\n",
    "plt.xlabel('Number of trees in the random forest')\n",
    "plt.ylabel('Cross-Validated Accuracy')\n",
    "\n",
    "idx_best = np.argmax(rf_scores)\n",
    "idx_worst = np.argmin(rf_scores)\n",
    "\n",
    "print('best accuracy:')\n",
    "print(np.max(rf_scores))\n",
    "print('best parameter:')\n",
    "best_param = rf_param[idx_best]\n",
    "worst_param = rf_param[idx_worst]\n",
    "print(best_param)"
   ]
  },
  {
   "cell_type": "markdown",
   "metadata": {},
   "source": [
    "### Second hyperparameter : max_depth\n",
    "\n",
    "Choices for the number of estimators hyperparameter:"
   ]
  },
  {
   "cell_type": "code",
   "execution_count": 12,
   "metadata": {
    "collapsed": true
   },
   "outputs": [],
   "source": [
    "max_depth_choices = [1, 2, 3, 4,5, 6, 7, 8, 10, 12, 14, 16, 18, 20,30, 40, 60, 80, 100 ]"
   ]
  },
  {
   "cell_type": "code",
   "execution_count": 13,
   "metadata": {
    "collapsed": false
   },
   "outputs": [
    {
     "name": "stdout",
     "output_type": "stream",
     "text": [
      "max_depth_choices_idx:  1 / 19 , value:  1\n",
      "Accuracy =  0.712581762216\n",
      "max_depth_choices_idx:  2 / 19 , value:  2\n",
      "Accuracy =  0.703747595229\n",
      "max_depth_choices_idx:  3 / 19 , value:  3\n",
      "Accuracy =  0.720469411312\n",
      "max_depth_choices_idx:  4 / 19 , value:  4\n",
      "Accuracy =  0.737191227395\n",
      "max_depth_choices_idx:  5 / 19 , value:  5\n",
      "Accuracy =  0.729318968834\n",
      "max_depth_choices_idx:  6 / 19 , value:  6\n",
      "Accuracy =  0.745155829165\n",
      "max_depth_choices_idx:  7 / 19 , value:  7\n",
      "Accuracy =  0.748726433244\n",
      "max_depth_choices_idx:  8 / 19 , value:  8\n",
      "Accuracy =  0.7593151212\n",
      "max_depth_choices_idx:  9 / 19 , value:  10\n",
      "Accuracy =  0.783193535975\n",
      "max_depth_choices_idx:  10 / 19 , value:  12\n",
      "Accuracy =  0.782231627549\n",
      "max_depth_choices_idx:  11 / 19 , value:  14\n",
      "Accuracy =  0.773474413236\n",
      "max_depth_choices_idx:  12 / 19 , value:  16\n",
      "Accuracy =  0.784001539053\n",
      "max_depth_choices_idx:  13 / 19 , value:  18\n",
      "Accuracy =  0.775182762601\n",
      "max_depth_choices_idx:  14 / 19 , value:  20\n",
      "Accuracy =  0.779622931897\n",
      "max_depth_choices_idx:  15 / 19 , value:  30\n",
      "Accuracy =  0.778799538284\n",
      "max_depth_choices_idx:  16 / 19 , value:  40\n",
      "Accuracy =  0.77872258561\n",
      "max_depth_choices_idx:  17 / 19 , value:  60\n",
      "Accuracy =  0.778768757214\n",
      "max_depth_choices_idx:  18 / 19 , value:  80\n",
      "Accuracy =  0.790180838784\n",
      "max_depth_choices_idx:  19 / 19 , value:  100\n",
      "Accuracy =  0.784001539053\n"
     ]
    }
   ],
   "source": [
    "rf_scores = []\n",
    "rf_param = []\n",
    "\n",
    "#Loop for 1st hyperparameter n_estimators\n",
    "for max_depth_choices_idx, max_depth_choices_value in enumerate(max_depth_choices):\n",
    "    \n",
    "    print('max_depth_choices_idx: ',max_depth_choices_idx+1,'/',len(max_depth_choices),', value: ',max_depth_choices_value)\n",
    "\n",
    "    # Random forest\n",
    "    rand_forest_model = sk.ensemble.RandomForestClassifier(n_estimators=best_param, max_depth=max_depth_choices_value,class_weight={1:weight_1,0:weight_0})\n",
    "\n",
    "    #Scores\n",
    "    scores = cross_val_score(rand_forest_model, df_x_train, df_y_train, cv=num_folds, scoring='accuracy')\n",
    "    rf_scores.append(scores.mean())\n",
    "    rf_param.append(max_depth_choices_value)\n",
    "    print('Accuracy = ', scores.mean())\n"
   ]
  },
  {
   "cell_type": "code",
   "execution_count": 14,
   "metadata": {
    "collapsed": false
   },
   "outputs": [
    {
     "name": "stdout",
     "output_type": "stream",
     "text": [
      "best accuracy:\n",
      "0.790180838784\n",
      "best parameter:\n",
      "80\n"
     ]
    },
    {
     "data": {
      "image/png": "[encoded data removed]",
      "text/plain": [
       "<matplotlib.figure.Figure at 0x1166cd198>"
      ]
     },
     "metadata": {},
     "output_type": "display_data"
    }
   ],
   "source": [
    "plt.semilogx(rf_param,rf_scores)\n",
    "plt.xlabel('Max_depth in the random forest')\n",
    "plt.ylabel('Cross-Validated Accuracy')\n",
    "\n",
    "idx_best = np.argmax(rf_scores)\n",
    "idx_worst = np.argmin(rf_scores)\n",
    "\n",
    "print('best accuracy:')\n",
    "print(np.max(rf_scores))\n",
    "print('best parameter:')\n",
    "best_param_depth = rf_param[idx_best]\n",
    "worst_param_depth = rf_param[idx_worst]\n",
    "print(best_param_depth)"
   ]
  },
  {
   "cell_type": "markdown",
   "metadata": {},
   "source": [
    "## Best model\n",
    "What are the scores given the best hyperparameters obtained in the cross validation before."
   ]
  },
  {
   "cell_type": "code",
   "execution_count": 15,
   "metadata": {
    "collapsed": false
   },
   "outputs": [
    {
     "name": "stdout",
     "output_type": "stream",
     "text": [
      "Training accuracy score on training set\n",
      "0.99823633157\n",
      "Training precision score\n",
      "1.0\n",
      "Test accuracy score\n",
      "0.820422535211\n",
      "Test precision score\n",
      "0.612903225806\n",
      "Confusion matrix\n",
      "[[214  12]\n",
      " [ 39  19]]\n"
     ]
    }
   ],
   "source": [
    "# Train model\n",
    "rand_forest_model = sk.ensemble.RandomForestClassifier(n_estimators=best_param, max_depth=best_param_depth,class_weight={1:weight_1,0:weight_0})\n",
    "rand_forest_model.fit(df_x_train,df_y_train)\n",
    "\n",
    "# Predict\n",
    "y_pred_best = rand_forest_model.predict(df_x_test)\n",
    "y_pred_train_best = rand_forest_model.predict(df_x_train)\n",
    "\n",
    "# Compute accuracy on training set\n",
    "accuracy_rand_forest_training = sk.metrics.accuracy_score(df_y_train,y_pred_train_best)\n",
    "print(\"Training accuracy score on training set\")\n",
    "print(accuracy_rand_forest_training)\n",
    "print(\"Training precision score\")\n",
    "print(sk.metrics.precision_score(df_y_train,y_pred_train_best))\n",
    "\n",
    "# Compute accuracy on test set\n",
    "accuracy_rand_forest = sk.metrics.accuracy_score(df_y_test,y_pred_best)\n",
    "print(\"Test accuracy score\")\n",
    "print(accuracy_rand_forest)\n",
    "print(\"Test precision score\")\n",
    "print(sk.metrics.precision_score(df_y_test,y_pred_best))\n",
    "\n",
    "# Confusion matrix\n",
    "print(\"Confusion matrix\")\n",
    "cfm = sk.metrics.confusion_matrix(df_y_test,y_pred_best)\n",
    "print(cfm)"
   ]
  },
  {
   "cell_type": "markdown",
   "metadata": {},
   "source": [
    "## Feature importances"
   ]
  },
  {
   "cell_type": "code",
   "execution_count": 16,
   "metadata": {
    "collapsed": false
   },
   "outputs": [
    {
     "data": {
      "text/plain": [
       "RandomForestClassifier(bootstrap=True,\n",
       "            class_weight={0: 0.23272214386459802, 1: 0.767277856135402},\n",
       "            criterion='gini', max_depth=80, max_features='auto',\n",
       "            max_leaf_nodes=None, min_impurity_split=1e-07,\n",
       "            min_samples_leaf=1, min_samples_split=2,\n",
       "            min_weight_fraction_leaf=0.0, n_estimators=40, n_jobs=1,\n",
       "            oob_score=False, random_state=None, verbose=0,\n",
       "            warm_start=False)"
      ]
     },
     "execution_count": 16,
     "metadata": {},
     "output_type": "execute_result"
    }
   ],
   "source": [
    "# Random forest\n",
    "rand_forest_model = sk.ensemble.RandomForestClassifier(n_estimators=best_param,max_depth=best_param_depth,class_weight={1:weight_1,0:weight_0})\n",
    "#df_y = np.asarray(df_y, dtype=\"|S6\")\n",
    "rand_forest_model.fit(df_x,df_y)"
   ]
  },
  {
   "cell_type": "code",
   "execution_count": 17,
   "metadata": {
    "collapsed": false
   },
   "outputs": [],
   "source": [
    "importances = rand_forest_model.feature_importances_\n",
    "indices = np.argsort(importances)[::-1]"
   ]
  },
  {
   "cell_type": "code",
   "execution_count": 18,
   "metadata": {
    "collapsed": false,
    "scrolled": false
   },
   "outputs": [
    {
     "name": "stdout",
     "output_type": "stream",
     "text": [
      "Feature ranking:\n",
      "1. feature meanExp (0.091982), indice 0\n",
      "2. feature defeats (0.087248), indice 9\n",
      "3. feature meanIAT (0.082859), indice 2\n",
      "4. feature victories (0.079296), indice 7\n",
      "5. feature redReferee (0.065294), indice 6\n",
      "6. feature weight (0.054417), indice 1\n",
      "7. feature yellowReferee (0.052057), indice 11\n",
      "8. feature seIAT (0.051284), indice 10\n",
      "9. feature height (0.049796), indice 3\n",
      "10. feature seExp (0.049141), indice 12\n",
      "11. feature ties (0.047066), indice 5\n",
      "12. feature goals (0.042829), indice 14\n",
      "13. feature games (0.042628), indice 8\n",
      "14. feature allCards (0.038090), indice 4\n",
      "15. feature age (0.026677), indice 16\n",
      "16. feature England (0.023948), indice 13\n",
      "17. feature France (0.018307), indice 17\n",
      "18. feature Germany (0.013644), indice 24\n",
      "19. feature Spain (0.011837), indice 18\n",
      "20. feature Attacking Midfielder (0.011299), indice 15\n",
      "21. feature Center Back (0.009441), indice 21\n",
      "22. feature Center Forward (0.008026), indice 20\n",
      "23. feature Center Midfielder (0.007905), indice 19\n",
      "24. feature Defensive Midfielder (0.005927), indice 30\n",
      "25. feature Goalkeeper (0.005463), indice 25\n",
      "26. feature Left Fullback (0.004468), indice 27\n",
      "27. feature Left Midfielder (0.004416), indice 22\n",
      "28. feature Left Winger (0.003960), indice 26\n",
      "29. feature Right Fullback (0.003699), indice 28\n",
      "30. feature Right Midfielder (0.003676), indice 23\n",
      "31. feature Right Winger (0.003319), indice 29\n"
     ]
    },
    {
     "data": {
      "image/png": "[encoded data removed]",
      "text/plain": [
       "<matplotlib.figure.Figure at 0x1166c6ba8>"
      ]
     },
     "metadata": {},
     "output_type": "display_data"
    }
   ],
   "source": [
    "# Get the importance of the features\n",
    "importances = rand_forest_model.feature_importances_\n",
    "\n",
    "# Compute the standard deviation\n",
    "std = np.std([tree.feature_importances_ for tree in rand_forest_model.estimators_], axis=0)\n",
    "\n",
    "# Get the indices of the most important features, in descending order\n",
    "indices = np.argsort(importances)[::-1]\n",
    "\n",
    "variable_importance = []\n",
    "\n",
    "# Print the feature ranking\n",
    "print(\"Feature ranking:\")\n",
    "\n",
    "\n",
    "for feature in range(df_x.shape[1]):\n",
    "    print(\"%d. feature %s (%f), indice %d\" % (feature+1, df_x.columns[feature], importances[indices[feature]], indices[feature]))\n",
    "    variable_importance.append({'Variable': df_x.columns[feature], 'Importance': importances[indices[feature]]})\n",
    "\n",
    "variable_importance=pd.DataFrame(variable_importance)\n",
    "plt.figure()\n",
    "\n",
    "plt.title(\"Feature importances\")\n",
    "plt.bar(range(df_x.shape[1]), importances[indices],\n",
    "       color=\"r\", yerr=std[indices], align=\"center\")\n",
    "plt.xticks(range(df_x.shape[1]), indices)\n",
    "plt.xlim([-1, df_x.shape[1]])\n",
    "plt.show()"
   ]
  },
  {
   "cell_type": "markdown",
   "metadata": {},
   "source": [
    "Let's now remove the features that we assume are the least useful to determine one's skin color.\n",
    "\n",
    "We will delete the 10 most insignificant features, and retrain the model."
   ]
  },
  {
   "cell_type": "code",
   "execution_count": 19,
   "metadata": {
    "collapsed": false
   },
   "outputs": [],
   "source": [
    "s=len(variable_importance)\n",
    "col_to_remove=variable_importance[s-10:s]['Variable']\n",
    "df_x.drop(col_to_remove,inplace=True,axis=1,errors='ignore')"
   ]
  },
  {
   "cell_type": "code",
   "execution_count": 20,
   "metadata": {
    "collapsed": false
   },
   "outputs": [
    {
     "name": "stdout",
     "output_type": "stream",
     "text": [
      "Test accuracy score\n",
      "0.806338028169\n",
      "Test precision score\n",
      "0.551724137931\n"
     ]
    }
   ],
   "source": [
    "df_x_train2, df_x_test2, df_y_train2, df_y_test2 = train_test_split(df_x, df_y, test_size=.2, random_state = 0)\n",
    "\n",
    "rand_forest_model.fit(df_x_train2,df_y_train2)\n",
    "y_pred = rand_forest_model.predict(df_x_test2)\n",
    "\n",
    "# Compute accuracy \n",
    "accuracy_rand_forest = sk.metrics.accuracy_score(df_y_test2,y_pred)\n",
    "print(\"Test accuracy score\")\n",
    "print(accuracy_rand_forest)\n",
    "print(\"Test precision score\")\n",
    "print(sk.metrics.precision_score(df_y_test2,y_pred))\n"
   ]
  },
  {
   "cell_type": "markdown",
   "metadata": {},
   "source": [
    "Let's have a look at the features importance now"
   ]
  },
  {
   "cell_type": "code",
   "execution_count": 21,
   "metadata": {
    "collapsed": false
   },
   "outputs": [
    {
     "name": "stdout",
     "output_type": "stream",
     "text": [
      "Feature ranking:\n",
      "1. feature meanExp (0.104284), indice 7\n",
      "2. feature defeats (0.091710), indice 0\n",
      "3. feature meanIAT (0.087217), indice 2\n",
      "4. feature victories (0.078205), indice 9\n",
      "5. feature redReferee (0.069549), indice 6\n",
      "6. feature weight (0.065353), indice 11\n",
      "7. feature yellowReferee (0.058879), indice 1\n",
      "8. feature seIAT (0.058806), indice 10\n",
      "9. feature height (0.052758), indice 3\n",
      "10. feature seExp (0.050353), indice 12\n",
      "11. feature ties (0.049183), indice 5\n",
      "12. feature goals (0.047357), indice 14\n",
      "13. feature games (0.042940), indice 8\n",
      "14. feature allCards (0.035857), indice 4\n",
      "15. feature age (0.026754), indice 13\n",
      "16. feature England (0.021559), indice 17\n",
      "17. feature France (0.020199), indice 16\n",
      "18. feature Germany (0.012623), indice 19\n",
      "19. feature Spain (0.011318), indice 15\n",
      "20. feature Attacking Midfielder (0.008979), indice 18\n",
      "21. feature Center Back (0.006116), indice 20\n"
     ]
    },
    {
     "data": {
      "image/png": "[encoded data removed]",
      "text/plain": [
       "<matplotlib.figure.Figure at 0x1160623c8>"
      ]
     },
     "metadata": {},
     "output_type": "display_data"
    }
   ],
   "source": [
    "importances = rand_forest_model.feature_importances_\n",
    "std = np.std([tree.feature_importances_ for tree in rand_forest_model.estimators_],\n",
    "             axis=0)\n",
    "indices = np.argsort(importances)[::-1]\n",
    "\n",
    "# Print the feature ranking\n",
    "print(\"Feature ranking:\")\n",
    "\n",
    "for f in range(df_x.shape[1]):\n",
    "    print(\"%d. feature %s (%f), indice %d\" % (f + 1, df_x.columns[f], importances[indices[f]], indices[f]))\n",
    "plt.figure()\n",
    "\n",
    "plt.title(\"Feature importances\")\n",
    "plt.bar(range(df_x.shape[1]), importances[indices],\n",
    "       color=\"r\", yerr=std[indices], align=\"center\")\n",
    "plt.xticks(range(df_x.shape[1]), indices)\n",
    "plt.xlim([-1, df_x.shape[1]])\n",
    "plt.show()"
   ]
  },
  {
   "cell_type": "markdown",
   "metadata": {},
   "source": [
    "### Observations.\n",
    "\n",
    "It is hard to see which features are really more important than the others. An interesting point is the fact that *victories* and *defeats* are both among the first 4 features, which seems to be a contradiction. \n"
   ]
  },
  {
   "cell_type": "markdown",
   "metadata": {},
   "source": [
    "## Bonus question\n",
    "\n",
    "We decide to do 2 graphs of learning curves:\n",
    "- The best model (best hyperparameters were found in cross-validation)\n",
    "- The simplest model (with a number of tree of 1, max depth of 1)\n",
    "\n",
    "### Learning curve of the best model"
   ]
  },
  {
   "cell_type": "code",
   "execution_count": 22,
   "metadata": {
    "collapsed": false
   },
   "outputs": [
    {
     "data": {
      "text/plain": [
       "<matplotlib.legend.Legend at 0x11c2df748>"
      ]
     },
     "execution_count": 22,
     "metadata": {},
     "output_type": "execute_result"
    },
    {
     "data": {
      "image/png": "[encoded data removed]",
      "text/plain": [
       "<matplotlib.figure.Figure at 0x1166def98>"
      ]
     },
     "metadata": {},
     "output_type": "display_data"
    }
   ],
   "source": [
    "rand_forest_model = sk.ensemble.RandomForestClassifier(n_estimators=best_param,max_depth=best_param_depth)\n",
    "\n",
    "\n",
    "plt.figure()\n",
    "plt.title(\"Best model\")\n",
    "plt.xlabel(\"Training examples\")\n",
    "plt.ylabel(\"Accuracy Score\")\n",
    "train_sizes, train_scores, test_scores = learning_curve(rand_forest_model, df_x, df_y, cv=20)\n",
    "train_scores_mean = np.mean(train_scores, axis=1)\n",
    "train_scores_std = np.std(train_scores, axis=1)\n",
    "test_scores_mean = np.mean(test_scores, axis=1)\n",
    "test_scores_std = np.std(test_scores, axis=1)\n",
    "plt.grid()\n",
    "\n",
    "\n",
    "plt.fill_between(train_sizes, train_scores_mean - train_scores_std,\n",
    "                 train_scores_mean + train_scores_std, alpha=0.1,\n",
    "                 color=\"r\")\n",
    "plt.fill_between(train_sizes, test_scores_mean - test_scores_std,\n",
    "                 test_scores_mean + test_scores_std, alpha=0.1, color=\"g\")\n",
    "plt.plot(train_sizes, train_scores_mean, 'o-', color=\"r\",\n",
    "         label=\"Training score\")\n",
    "plt.plot(train_sizes, test_scores_mean, 'o-', color=\"g\",\n",
    "         label=\"Cross-validation score\")\n",
    "\n",
    "axes = plt.gca()\n",
    "axes.set_ylim([0.4,1.05])\n",
    "\n",
    "plt.legend(loc=\"best\")"
   ]
  },
  {
   "cell_type": "markdown",
   "metadata": {},
   "source": [
    "As we can see the model has a pretty high accuracy but is overfitting."
   ]
  },
  {
   "cell_type": "markdown",
   "metadata": {},
   "source": [
    "### Learning curve of the simplest model\n",
    "number of trees = 1, max_depth = 1.\n",
    "\n",
    "The curve on the left shows the simplest model with weight taken into consideration.\n",
    "The curve on the right shows the simplest model, without taking weights into consideration.\n"
   ]
  },
  {
   "cell_type": "code",
   "execution_count": 23,
   "metadata": {
    "collapsed": false
   },
   "outputs": [
    {
     "data": {
      "text/plain": [
       "<matplotlib.legend.Legend at 0x11c128940>"
      ]
     },
     "execution_count": 23,
     "metadata": {},
     "output_type": "execute_result"
    },
    {
     "data": {
      "image/png": "[encoded data removed]",
      "text/plain": [
       "<matplotlib.figure.Figure at 0x11c156f28>"
      ]
     },
     "metadata": {},
     "output_type": "display_data"
    }
   ],
   "source": [
    "# With weights\n",
    "plt.subplot(1, 2, 1)\n",
    "rand_forest_model = sk.ensemble.RandomForestClassifier(n_estimators=1,max_depth=1,class_weight={1:weight_1,0:weight_0})\n",
    "\n",
    "\n",
    "plt.title(\"Simplest model, with weight penalization\")\n",
    "plt.xlabel(\"Training examples\")\n",
    "plt.ylabel(\"Accuracy Score\")\n",
    "train_sizes, train_scores, test_scores = learning_curve(\n",
    "    rand_forest_model, df_x, df_y, cv=20)\n",
    "train_scores_mean = np.mean(train_scores, axis=1)\n",
    "train_scores_std = np.std(train_scores, axis=1)\n",
    "test_scores_mean = np.mean(test_scores, axis=1)\n",
    "test_scores_std = np.std(test_scores, axis=1)\n",
    "plt.grid()\n",
    "\n",
    "plt.fill_between(train_sizes, train_scores_mean - train_scores_std,\n",
    "                 train_scores_mean + train_scores_std, alpha=0.1,\n",
    "                 color=\"r\")\n",
    "plt.fill_between(train_sizes, test_scores_mean - test_scores_std,\n",
    "                 test_scores_mean + test_scores_std, alpha=0.1, color=\"g\")\n",
    "plt.plot(train_sizes, train_scores_mean, 'o-', color=\"r\",\n",
    "         label=\"Training score\")\n",
    "plt.plot(train_sizes, test_scores_mean, 'o-', color=\"g\",\n",
    "         label=\"Cross-validation score\")\n",
    "axes = plt.gca()\n",
    "axes.set_ylim([-0.05,1.05])\n",
    "\n",
    "plt.legend(loc=\"best\")\n",
    "\n",
    "\n",
    "# Without weights\n",
    "plt.subplot(1, 2, 2)\n",
    "rand_forest_model = sk.ensemble.RandomForestClassifier(n_estimators=1,max_depth=1)\n",
    "plt.title(\"Simplest model without weight penalization\")\n",
    "plt.xlabel(\"Training examples\")\n",
    "plt.ylabel(\"Accuracy Score\")\n",
    "train_sizes, train_scores, test_scores = learning_curve(\n",
    "    rand_forest_model, df_x, df_y, cv=20)\n",
    "train_scores_mean = np.mean(train_scores, axis=1)\n",
    "train_scores_std = np.std(train_scores, axis=1)\n",
    "test_scores_mean = np.mean(test_scores, axis=1)\n",
    "test_scores_std = np.std(test_scores, axis=1)\n",
    "plt.grid()\n",
    "\n",
    "plt.fill_between(train_sizes, train_scores_mean - train_scores_std,\n",
    "                 train_scores_mean + train_scores_std, alpha=0.1,\n",
    "                 color=\"r\")\n",
    "plt.fill_between(train_sizes, test_scores_mean - test_scores_std,\n",
    "                 test_scores_mean + test_scores_std, alpha=0.1, color=\"g\")\n",
    "plt.plot(train_sizes, train_scores_mean, 'o-', color=\"r\",\n",
    "         label=\"Training score\")\n",
    "plt.plot(train_sizes, test_scores_mean, 'o-', color=\"g\",\n",
    "         label=\"Cross-validation score\")\n",
    "axes = plt.gca()\n",
    "axes.set_ylim([-0.05,1.05])\n",
    "\n",
    "plt.legend(loc=\"best\")"
   ]
  },
  {
   "cell_type": "markdown",
   "metadata": {},
   "source": [
    "The curve on the left shows the simplest model with weight taken into consideration.\n",
    "The curve on the right shows the simplest model, without taking weights into consideration.\n",
    "\n",
    "The simplest model ever, with with weights init shows an accuracy of 50%. It means that it is not possible to classify a dark/white skin player. Also the standard deviaiton is really important, which shows how spread this data are.\n",
    "\n",
    "The weights are important here. If we don't put them, we obtain an accuracy of 75%, which is actually the number of white skin player in our dataset! "
   ]
  },
  {
   "cell_type": "markdown",
   "metadata": {},
   "source": [
    "The simplest model, without taking weights into consideration, is probably just predicting that all the players have white skin. Let's check that assumption using the confusion matrix using only one train and test set."
   ]
  },
  {
   "cell_type": "code",
   "execution_count": 24,
   "metadata": {
    "collapsed": false
   },
   "outputs": [
    {
     "name": "stdout",
     "output_type": "stream",
     "text": [
      "Test accuracy score\n",
      "0.795774647887\n",
      "Confusion matrix\n",
      "[[226   0]\n",
      " [ 58   0]]\n"
     ]
    }
   ],
   "source": [
    "# TRAIN RANDOM FOREST\n",
    "\n",
    "# Train model\n",
    "rand_forest_model = sk.ensemble.RandomForestClassifier(n_estimators=1,max_depth=1)\n",
    "rand_forest_model.fit(df_x_train,df_y_train)\n",
    "\n",
    "# Predict\n",
    "y_pred = rand_forest_model.predict(df_x_test)\n",
    "y_pred_train = rand_forest_model.predict(df_x_train)\n",
    "\n",
    "# Compute accuracy on test set\n",
    "accuracy_rand_forest = sk.metrics.accuracy_score(df_y_test,y_pred)\n",
    "print(\"Test accuracy score\")\n",
    "print(accuracy_rand_forest)\n",
    "\n",
    "\n",
    "# Confusion matrix\n",
    "print(\"Confusion matrix\")\n",
    "cfm = sk.metrics.confusion_matrix(df_y_test,y_pred)\n",
    "print(cfm)"
   ]
  },
  {
   "cell_type": "markdown",
   "metadata": {},
   "source": [
    "The simplest model indeed predict that all players have white skin"
   ]
  },
  {
   "cell_type": "markdown",
   "metadata": {},
   "source": [
    "We now have a clear hint that the accuracy is not adapted to measure the model performance because it doesn't take into account the unbalanced classes. "
   ]
  },
  {
   "cell_type": "markdown",
   "metadata": {},
   "source": [
    "So we will now test the performance of the simplest model using Cohen's Kappa which takes into account that many hits occur by chance and that the accuracy is unbalanced towards large classes"
   ]
  },
  {
   "cell_type": "code",
   "execution_count": 25,
   "metadata": {
    "collapsed": false
   },
   "outputs": [
    {
     "name": "stdout",
     "output_type": "stream",
     "text": [
      "Cohen's Kappa\n",
      "0.0\n"
     ]
    }
   ],
   "source": [
    "# Compute Cohen's Kappa on test set\n",
    "cohen_rand_forest = sk.metrics.cohen_kappa_score(df_y_test,y_pred)\n",
    "print(\"Cohen's Kappa\")\n",
    "print(cohen_rand_forest)\n",
    "\n"
   ]
  },
  {
   "cell_type": "markdown",
   "metadata": {},
   "source": [
    "This is definitely more reprensative of the performance of the model"
   ]
  },
  {
   "cell_type": "markdown",
   "metadata": {},
   "source": [
    "We will now compute Cohen's Kappa of the best model"
   ]
  },
  {
   "cell_type": "code",
   "execution_count": 26,
   "metadata": {
    "collapsed": false
   },
   "outputs": [
    {
     "name": "stdout",
     "output_type": "stream",
     "text": [
      "Cohen's Kappa\n",
      "0.331918819188\n"
     ]
    }
   ],
   "source": [
    "\n",
    "# Compute Cohen's Kappa on test set\n",
    "cohen_rand_forest = sk.metrics.cohen_kappa_score(df_y_test,y_pred_best)\n",
    "print(\"Cohen's Kappa\")\n",
    "print(cohen_rand_forest)\n",
    "\n"
   ]
  },
  {
   "cell_type": "markdown",
   "metadata": {},
   "source": [
    "Cohen's Kappa is showing a relatively bad performance for the best model as well, using wikipedia table to interpretate its value. (https://fr.wikipedia.org/wiki/Kappa_de_Cohen)"
   ]
  },
  {
   "cell_type": "markdown",
   "metadata": {},
   "source": [
    "In conclusion even our best model is not performing well"
   ]
  },
  {
   "cell_type": "markdown",
   "metadata": {},
   "source": [
    "## Discussion\n",
    "\n",
    "#### Data Imbalance\n",
    "The first thing to consider in this exercise was the class imbalance. Indeed, there are 76% of clear skin players. \n",
    "As the classes are unbalanced, there will be what is called the [\"Accuracy Paradox\"](https://en.wikipedia.org/wiki/Accuracy_paradox). In this case, we can do:\n",
    "- use precision, recall or Cohen's Kappa rather than accuracy\n",
    "- Penalize the model to take into consideration this imbalance.\n",
    "\n",
    "We have decided to always use the accuracy, but we penalized the model, by giving weights in the initialization of the randomForest.\n",
    "\n",
    "#### Features\n",
    "We couldn't find the most meaningfull features.\n",
    "\n",
    "#### Conclusion\n",
    "We can draw several conclusions:\n",
    "- It is impossible to classify correctly players based on their skin color \n",
    "- The random forest might not be the most suitable model here, maybe a neural network would be better."
   ]
  }
 ],
 "metadata": {
  "anaconda-cloud": {},
  "kernelspec": {
   "display_name": "Python [conda root]",
   "language": "python",
   "name": "conda-root-py"
  },
  "language_info": {
   "codemirror_mode": {
    "name": "ipython",
    "version": 3
   },
   "file_extension": ".py",
   "mimetype": "text/x-python",
   "name": "python",
   "nbconvert_exporter": "python",
   "pygments_lexer": "ipython3",
   "version": "3.5.2"
  }
 },
 "nbformat": 4,
 "nbformat_minor": 1
}
