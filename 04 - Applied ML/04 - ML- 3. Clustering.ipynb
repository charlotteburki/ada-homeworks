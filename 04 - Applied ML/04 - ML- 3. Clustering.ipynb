{
 "cells": [
  {
   "cell_type": "markdown",
   "metadata": {},
   "source": [
    "# Machine Learning\n",
    "# Part 2. Clustering\n",
    "In this homework we will gain experience on Applied Machine Learning, exploring an interesting dataset about soccer players and referees. "
   ]
  },
  {
   "cell_type": "code",
   "execution_count": 3,
   "metadata": {
    "collapsed": false
   },
   "outputs": [],
   "source": [
    "import pandas as pd\n",
    "import numpy as np\n",
    "import os\n",
    "from IPython.display import Image\n",
    "from IPython.core.display import HTML \n",
    "import matplotlib.pyplot as plt  \n",
    "% matplotlib inline\n",
    "import random\n",
    "from datetime import datetime\n",
    "import seaborn as sns\n",
    "pd.options.mode.chained_assignment = None  # default='warn'\n",
    "import sklearn as sk\n",
    "from sklearn import preprocessing, ensemble\n",
    "from sklearn.model_selection import train_test_split\n",
    "from sklearn.cross_validation import KFold\n",
    "from sklearn.cross_validation import cross_val_score\n",
    "from sklearn.model_selection import learning_curve\n",
    "from sklearn.metrics import roc_curve, auc\n",
    "from sklearn.cluster import KMeans\n",
    "from sklearn import metrics\n",
    "from sklearn.metrics import pairwise_distances"
   ]
  },
  {
   "cell_type": "markdown",
   "metadata": {},
   "source": [
    "## Load data from pre-processing"
   ]
  },
  {
   "cell_type": "code",
   "execution_count": 8,
   "metadata": {
    "collapsed": false
   },
   "outputs": [],
   "source": [
    "df_p = pd.read_csv(\"crowdstorm_players_aggregated.csv\", encoding = \"utf-8\")"
   ]
  },
  {
   "cell_type": "markdown",
   "metadata": {},
   "source": [
    "## Clustering"
   ]
  },
  {
   "cell_type": "code",
   "execution_count": 9,
   "metadata": {
    "collapsed": false
   },
   "outputs": [
    {
     "name": "stdout",
     "output_type": "stream",
     "text": [
      "best silhouette score:\n",
      "0.677928047688\n",
      "best feature to delete:\n",
      "goals\n",
      "best silhouette score:\n",
      "0.681226956034\n",
      "best feature to delete:\n",
      "yellowCards\n",
      "best silhouette score:\n",
      "0.686083389176\n",
      "best feature to delete:\n",
      "victories\n",
      "best silhouette score:\n",
      "0.691952429532\n",
      "best feature to delete:\n",
      "defeats\n",
      "best silhouette score:\n",
      "0.69324187675\n",
      "best feature to delete:\n",
      "ties\n",
      "best silhouette score:\n",
      "0.693310181188\n",
      "best feature to delete:\n",
      "redCards\n",
      "best silhouette score:\n",
      "0.693350294459\n",
      "best feature to delete:\n",
      "weight\n",
      "best silhouette score:\n",
      "0.693390382184\n",
      "best feature to delete:\n",
      "height\n",
      "best silhouette score:\n",
      "0.693402092881\n",
      "best feature to delete:\n",
      "age\n",
      "best silhouette score:\n",
      "0.693402347788\n",
      "best feature to delete:\n",
      "Germany\n",
      "best silhouette score:\n",
      "0.693402591267\n",
      "best feature to delete:\n",
      "Spain\n",
      "best silhouette score:\n",
      "0.693402776033\n",
      "best feature to delete:\n",
      "England\n",
      "best silhouette score:\n",
      "0.693402949994\n",
      "best feature to delete:\n",
      "Center Back\n",
      "best silhouette score:\n",
      "0.693403110517\n",
      "best feature to delete:\n",
      "France\n",
      "best silhouette score:\n",
      "0.693403260934\n",
      "best feature to delete:\n",
      "Center Forward\n",
      "best silhouette score:\n",
      "0.693403402363\n",
      "best feature to delete:\n",
      "Defensive Midfielder\n",
      "best silhouette score:\n",
      "0.693403532833\n",
      "best feature to delete:\n",
      "Goalkeeper\n",
      "best silhouette score:\n",
      "0.693403641993\n",
      "best feature to delete:\n",
      "Attacking Midfielder\n",
      "best silhouette score:\n",
      "0.693403745829\n",
      "best feature to delete:\n",
      "Left Fullback\n",
      "best silhouette score:\n",
      "0.693403839891\n",
      "best feature to delete:\n",
      "Right Fullback\n"
     ]
    }
   ],
   "source": [
    "df_c = df_p.copy()\n",
    "loop_size = len(df_c.columns)\n",
    "\n",
    "df_c.drop('mean_rater',inplace=True,axis=1,errors='ignore')\n",
    "loop_size = len(df_c.columns)\n",
    "#Loop for features refining\n",
    "\n",
    "for i in range(0, loop_size -10):\n",
    "    cluster_scores = []\n",
    "    for i in range(0, len(df_c.columns)):\n",
    "        df_c_temp = df_c.copy()\n",
    "        df_c_temp.drop(df_c_temp.columns[i],inplace=True,axis=1,errors='ignore')\n",
    "\n",
    "\n",
    "        # KMeans clustering\n",
    "        kmeans_model = KMeans(n_clusters=2, random_state=0).fit_predict(df_c_temp, y=df_p['mean_rater'])\n",
    "\n",
    "        #Scores\n",
    "        score = metrics.silhouette_score(df_c_temp, kmeans_model, metric='euclidean')\n",
    "        cluster_scores.append(score)\n",
    "    \n",
    "    print('best silhouette score:')\n",
    "    print(np.max(cluster_scores))\n",
    "    print('best feature to delete:')\n",
    "    print(df_c.columns[np.argmax(cluster_scores)])\n",
    "    \n",
    "    df_c.drop(df_c.columns[np.argmax(cluster_scores)], inplace=True,axis=1,errors='ignore')"
   ]
  },
  {
   "cell_type": "markdown",
   "metadata": {},
   "source": [
    "Interessant : \n",
    "\n",
    "http://machinelearningmastery.com/feature-selection-in-python-with-scikit-learn/"
   ]
  },
  {
   "cell_type": "code",
   "execution_count": null,
   "metadata": {
    "collapsed": true
   },
   "outputs": [],
   "source": []
  }
 ],
 "metadata": {
  "anaconda-cloud": {},
  "kernelspec": {
   "display_name": "Python [conda root]",
   "language": "python",
   "name": "conda-root-py"
  },
  "language_info": {
   "codemirror_mode": {
    "name": "ipython",
    "version": 3
   },
   "file_extension": ".py",
   "mimetype": "text/x-python",
   "name": "python",
   "nbconvert_exporter": "python",
   "pygments_lexer": "ipython3",
   "version": "3.5.2"
  }
 },
 "nbformat": 4,
 "nbformat_minor": 1
}
