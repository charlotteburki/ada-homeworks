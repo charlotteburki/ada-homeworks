{
 "cells": [
  {
   "cell_type": "markdown",
   "metadata": {},
   "source": [
    "# Machine Learning\n",
    "\n",
    "In this homework we will gain experience on Applied Machine Learning, exploring an interesting dataset about soccer players and referees. "
   ]
  },
  {
   "cell_type": "code",
   "execution_count": 1,
   "metadata": {
    "collapsed": false
   },
   "outputs": [
    {
     "name": "stderr",
     "output_type": "stream",
     "text": [
      "C:\\Users\\Mathieu\\Anaconda3\\lib\\site-packages\\sklearn\\cross_validation.py:44: DeprecationWarning: This module was deprecated in version 0.18 in favor of the model_selection module into which all the refactored classes and functions are moved. Also note that the interface of the new CV iterators are different from that of this module. This module will be removed in 0.20.\n",
      "  \"This module will be removed in 0.20.\", DeprecationWarning)\n"
     ]
    }
   ],
   "source": [
    "import pandas as pd\n",
    "import numpy as np\n",
    "import os\n",
    "from IPython.display import Image\n",
    "from IPython.core.display import HTML \n",
    "import matplotlib.pyplot as plt  \n",
    "% matplotlib inline\n",
    "import random\n",
    "pd.options.mode.chained_assignment = None  # default='warn'\n",
    "import sklearn as sk\n",
    "from sklearn import preprocessing, ensemble\n",
    "from sklearn.model_selection import train_test_split\n",
    "from sklearn.cross_validation import KFold\n",
    "from sklearn.cross_validation import cross_val_score\n",
    "from sklearn.model_selection import learning_curve\n",
    "\n",
    "from sklearn.cluster import KMeans\n",
    "from sklearn import metrics\n",
    "from sklearn.metrics import pairwise_distances"
   ]
  },
  {
   "cell_type": "code",
   "execution_count": 2,
   "metadata": {
    "collapsed": false
   },
   "outputs": [],
   "source": [
    "df = pd.read_csv(\"CrowdstormingDataJuly1st.csv\")"
   ]
  },
  {
   "cell_type": "markdown",
   "metadata": {},
   "source": [
    "## 1. Data cleaning and exploration"
   ]
  },
  {
   "cell_type": "markdown",
   "metadata": {},
   "source": [
    "First, let us have a look at the data, with respect to the comprehensive description of it's variable in DATA.md. Here we describe and observe the data (10 first rows)."
   ]
  },
  {
   "cell_type": "code",
   "execution_count": 3,
   "metadata": {
    "collapsed": false
   },
   "outputs": [
    {
     "name": "stderr",
     "output_type": "stream",
     "text": [
      "C:\\Users\\Mathieu\\Anaconda3\\lib\\site-packages\\numpy\\lib\\function_base.py:3834: RuntimeWarning: Invalid value encountered in percentile\n",
      "  RuntimeWarning)\n"
     ]
    },
    {
     "data": {
      "text/html": [
       "<div>\n",
       "<table border=\"1\" class=\"dataframe\">\n",
       "  <thead>\n",
       "    <tr style=\"text-align: right;\">\n",
       "      <th></th>\n",
       "      <th>height</th>\n",
       "      <th>weight</th>\n",
       "      <th>games</th>\n",
       "      <th>victories</th>\n",
       "      <th>ties</th>\n",
       "      <th>defeats</th>\n",
       "      <th>goals</th>\n",
       "      <th>yellowCards</th>\n",
       "      <th>yellowReds</th>\n",
       "      <th>redCards</th>\n",
       "      <th>rater1</th>\n",
       "      <th>rater2</th>\n",
       "      <th>refNum</th>\n",
       "      <th>refCountry</th>\n",
       "      <th>meanIAT</th>\n",
       "      <th>nIAT</th>\n",
       "      <th>seIAT</th>\n",
       "      <th>meanExp</th>\n",
       "      <th>nExp</th>\n",
       "      <th>seExp</th>\n",
       "    </tr>\n",
       "  </thead>\n",
       "  <tbody>\n",
       "    <tr>\n",
       "      <th>count</th>\n",
       "      <td>145765.000000</td>\n",
       "      <td>143785.000000</td>\n",
       "      <td>146028.000000</td>\n",
       "      <td>146028.000000</td>\n",
       "      <td>146028.000000</td>\n",
       "      <td>146028.000000</td>\n",
       "      <td>146028.000000</td>\n",
       "      <td>146028.000000</td>\n",
       "      <td>146028.000000</td>\n",
       "      <td>146028.000000</td>\n",
       "      <td>124621.000000</td>\n",
       "      <td>124621.000000</td>\n",
       "      <td>146028.000000</td>\n",
       "      <td>146028.000000</td>\n",
       "      <td>145865.000000</td>\n",
       "      <td>1.458650e+05</td>\n",
       "      <td>1.458650e+05</td>\n",
       "      <td>145865.000000</td>\n",
       "      <td>1.458650e+05</td>\n",
       "      <td>145865.000000</td>\n",
       "    </tr>\n",
       "    <tr>\n",
       "      <th>mean</th>\n",
       "      <td>181.935938</td>\n",
       "      <td>76.075662</td>\n",
       "      <td>2.921166</td>\n",
       "      <td>1.278344</td>\n",
       "      <td>0.708241</td>\n",
       "      <td>0.934581</td>\n",
       "      <td>0.338058</td>\n",
       "      <td>0.385364</td>\n",
       "      <td>0.011381</td>\n",
       "      <td>0.012559</td>\n",
       "      <td>0.264255</td>\n",
       "      <td>0.302862</td>\n",
       "      <td>1534.827444</td>\n",
       "      <td>29.642842</td>\n",
       "      <td>0.346276</td>\n",
       "      <td>1.969741e+04</td>\n",
       "      <td>6.310849e-04</td>\n",
       "      <td>0.452026</td>\n",
       "      <td>2.044023e+04</td>\n",
       "      <td>0.002994</td>\n",
       "    </tr>\n",
       "    <tr>\n",
       "      <th>std</th>\n",
       "      <td>6.738726</td>\n",
       "      <td>7.140906</td>\n",
       "      <td>3.413633</td>\n",
       "      <td>1.790725</td>\n",
       "      <td>1.116793</td>\n",
       "      <td>1.383059</td>\n",
       "      <td>0.906481</td>\n",
       "      <td>0.795333</td>\n",
       "      <td>0.107931</td>\n",
       "      <td>0.112889</td>\n",
       "      <td>0.295382</td>\n",
       "      <td>0.293020</td>\n",
       "      <td>918.736625</td>\n",
       "      <td>27.496189</td>\n",
       "      <td>0.032246</td>\n",
       "      <td>1.271262e+05</td>\n",
       "      <td>4.735857e-03</td>\n",
       "      <td>0.217469</td>\n",
       "      <td>1.306157e+05</td>\n",
       "      <td>0.019723</td>\n",
       "    </tr>\n",
       "    <tr>\n",
       "      <th>min</th>\n",
       "      <td>161.000000</td>\n",
       "      <td>54.000000</td>\n",
       "      <td>1.000000</td>\n",
       "      <td>0.000000</td>\n",
       "      <td>0.000000</td>\n",
       "      <td>0.000000</td>\n",
       "      <td>0.000000</td>\n",
       "      <td>0.000000</td>\n",
       "      <td>0.000000</td>\n",
       "      <td>0.000000</td>\n",
       "      <td>0.000000</td>\n",
       "      <td>0.000000</td>\n",
       "      <td>1.000000</td>\n",
       "      <td>1.000000</td>\n",
       "      <td>-0.047254</td>\n",
       "      <td>2.000000e+00</td>\n",
       "      <td>2.235373e-07</td>\n",
       "      <td>-1.375000</td>\n",
       "      <td>2.000000e+00</td>\n",
       "      <td>0.000001</td>\n",
       "    </tr>\n",
       "    <tr>\n",
       "      <th>25%</th>\n",
       "      <td>NaN</td>\n",
       "      <td>NaN</td>\n",
       "      <td>1.000000</td>\n",
       "      <td>0.000000</td>\n",
       "      <td>0.000000</td>\n",
       "      <td>0.000000</td>\n",
       "      <td>0.000000</td>\n",
       "      <td>0.000000</td>\n",
       "      <td>0.000000</td>\n",
       "      <td>0.000000</td>\n",
       "      <td>NaN</td>\n",
       "      <td>NaN</td>\n",
       "      <td>641.000000</td>\n",
       "      <td>7.000000</td>\n",
       "      <td>NaN</td>\n",
       "      <td>NaN</td>\n",
       "      <td>NaN</td>\n",
       "      <td>NaN</td>\n",
       "      <td>NaN</td>\n",
       "      <td>NaN</td>\n",
       "    </tr>\n",
       "    <tr>\n",
       "      <th>50%</th>\n",
       "      <td>NaN</td>\n",
       "      <td>NaN</td>\n",
       "      <td>2.000000</td>\n",
       "      <td>1.000000</td>\n",
       "      <td>0.000000</td>\n",
       "      <td>1.000000</td>\n",
       "      <td>0.000000</td>\n",
       "      <td>0.000000</td>\n",
       "      <td>0.000000</td>\n",
       "      <td>0.000000</td>\n",
       "      <td>NaN</td>\n",
       "      <td>NaN</td>\n",
       "      <td>1604.000000</td>\n",
       "      <td>21.000000</td>\n",
       "      <td>NaN</td>\n",
       "      <td>NaN</td>\n",
       "      <td>NaN</td>\n",
       "      <td>NaN</td>\n",
       "      <td>NaN</td>\n",
       "      <td>NaN</td>\n",
       "    </tr>\n",
       "    <tr>\n",
       "      <th>75%</th>\n",
       "      <td>NaN</td>\n",
       "      <td>NaN</td>\n",
       "      <td>3.000000</td>\n",
       "      <td>2.000000</td>\n",
       "      <td>1.000000</td>\n",
       "      <td>1.000000</td>\n",
       "      <td>0.000000</td>\n",
       "      <td>1.000000</td>\n",
       "      <td>0.000000</td>\n",
       "      <td>0.000000</td>\n",
       "      <td>NaN</td>\n",
       "      <td>NaN</td>\n",
       "      <td>2345.000000</td>\n",
       "      <td>44.000000</td>\n",
       "      <td>NaN</td>\n",
       "      <td>NaN</td>\n",
       "      <td>NaN</td>\n",
       "      <td>NaN</td>\n",
       "      <td>NaN</td>\n",
       "      <td>NaN</td>\n",
       "    </tr>\n",
       "    <tr>\n",
       "      <th>max</th>\n",
       "      <td>203.000000</td>\n",
       "      <td>100.000000</td>\n",
       "      <td>47.000000</td>\n",
       "      <td>29.000000</td>\n",
       "      <td>14.000000</td>\n",
       "      <td>18.000000</td>\n",
       "      <td>23.000000</td>\n",
       "      <td>14.000000</td>\n",
       "      <td>3.000000</td>\n",
       "      <td>2.000000</td>\n",
       "      <td>1.000000</td>\n",
       "      <td>1.000000</td>\n",
       "      <td>3147.000000</td>\n",
       "      <td>161.000000</td>\n",
       "      <td>0.573793</td>\n",
       "      <td>1.975803e+06</td>\n",
       "      <td>2.862871e-01</td>\n",
       "      <td>1.800000</td>\n",
       "      <td>2.029548e+06</td>\n",
       "      <td>1.060660</td>\n",
       "    </tr>\n",
       "  </tbody>\n",
       "</table>\n",
       "</div>"
      ],
      "text/plain": [
       "              height         weight          games      victories  \\\n",
       "count  145765.000000  143785.000000  146028.000000  146028.000000   \n",
       "mean      181.935938      76.075662       2.921166       1.278344   \n",
       "std         6.738726       7.140906       3.413633       1.790725   \n",
       "min       161.000000      54.000000       1.000000       0.000000   \n",
       "25%              NaN            NaN       1.000000       0.000000   \n",
       "50%              NaN            NaN       2.000000       1.000000   \n",
       "75%              NaN            NaN       3.000000       2.000000   \n",
       "max       203.000000     100.000000      47.000000      29.000000   \n",
       "\n",
       "                ties        defeats          goals    yellowCards  \\\n",
       "count  146028.000000  146028.000000  146028.000000  146028.000000   \n",
       "mean        0.708241       0.934581       0.338058       0.385364   \n",
       "std         1.116793       1.383059       0.906481       0.795333   \n",
       "min         0.000000       0.000000       0.000000       0.000000   \n",
       "25%         0.000000       0.000000       0.000000       0.000000   \n",
       "50%         0.000000       1.000000       0.000000       0.000000   \n",
       "75%         1.000000       1.000000       0.000000       1.000000   \n",
       "max        14.000000      18.000000      23.000000      14.000000   \n",
       "\n",
       "          yellowReds       redCards         rater1         rater2  \\\n",
       "count  146028.000000  146028.000000  124621.000000  124621.000000   \n",
       "mean        0.011381       0.012559       0.264255       0.302862   \n",
       "std         0.107931       0.112889       0.295382       0.293020   \n",
       "min         0.000000       0.000000       0.000000       0.000000   \n",
       "25%         0.000000       0.000000            NaN            NaN   \n",
       "50%         0.000000       0.000000            NaN            NaN   \n",
       "75%         0.000000       0.000000            NaN            NaN   \n",
       "max         3.000000       2.000000       1.000000       1.000000   \n",
       "\n",
       "              refNum     refCountry        meanIAT          nIAT  \\\n",
       "count  146028.000000  146028.000000  145865.000000  1.458650e+05   \n",
       "mean     1534.827444      29.642842       0.346276  1.969741e+04   \n",
       "std       918.736625      27.496189       0.032246  1.271262e+05   \n",
       "min         1.000000       1.000000      -0.047254  2.000000e+00   \n",
       "25%       641.000000       7.000000            NaN           NaN   \n",
       "50%      1604.000000      21.000000            NaN           NaN   \n",
       "75%      2345.000000      44.000000            NaN           NaN   \n",
       "max      3147.000000     161.000000       0.573793  1.975803e+06   \n",
       "\n",
       "              seIAT        meanExp          nExp          seExp  \n",
       "count  1.458650e+05  145865.000000  1.458650e+05  145865.000000  \n",
       "mean   6.310849e-04       0.452026  2.044023e+04       0.002994  \n",
       "std    4.735857e-03       0.217469  1.306157e+05       0.019723  \n",
       "min    2.235373e-07      -1.375000  2.000000e+00       0.000001  \n",
       "25%             NaN            NaN           NaN            NaN  \n",
       "50%             NaN            NaN           NaN            NaN  \n",
       "75%             NaN            NaN           NaN            NaN  \n",
       "max    2.862871e-01       1.800000  2.029548e+06       1.060660  "
      ]
     },
     "execution_count": 3,
     "metadata": {},
     "output_type": "execute_result"
    }
   ],
   "source": [
    "df.describe()"
   ]
  },
  {
   "cell_type": "code",
   "execution_count": 4,
   "metadata": {
    "collapsed": false
   },
   "outputs": [
    {
     "data": {
      "text/html": [
       "<div>\n",
       "<table border=\"1\" class=\"dataframe\">\n",
       "  <thead>\n",
       "    <tr style=\"text-align: right;\">\n",
       "      <th></th>\n",
       "      <th>playerShort</th>\n",
       "      <th>player</th>\n",
       "      <th>club</th>\n",
       "      <th>leagueCountry</th>\n",
       "      <th>birthday</th>\n",
       "      <th>height</th>\n",
       "      <th>weight</th>\n",
       "      <th>position</th>\n",
       "      <th>games</th>\n",
       "      <th>victories</th>\n",
       "      <th>ties</th>\n",
       "      <th>defeats</th>\n",
       "      <th>goals</th>\n",
       "    </tr>\n",
       "  </thead>\n",
       "  <tbody>\n",
       "    <tr>\n",
       "      <th>0</th>\n",
       "      <td>lucas-wilchez</td>\n",
       "      <td>Lucas Wilchez</td>\n",
       "      <td>Real Zaragoza</td>\n",
       "      <td>Spain</td>\n",
       "      <td>31.08.1983</td>\n",
       "      <td>177.0</td>\n",
       "      <td>72.0</td>\n",
       "      <td>Attacking Midfielder</td>\n",
       "      <td>1</td>\n",
       "      <td>0</td>\n",
       "      <td>0</td>\n",
       "      <td>1</td>\n",
       "      <td>0</td>\n",
       "    </tr>\n",
       "    <tr>\n",
       "      <th>1</th>\n",
       "      <td>john-utaka</td>\n",
       "      <td>John Utaka</td>\n",
       "      <td>Montpellier HSC</td>\n",
       "      <td>France</td>\n",
       "      <td>08.01.1982</td>\n",
       "      <td>179.0</td>\n",
       "      <td>82.0</td>\n",
       "      <td>Right Winger</td>\n",
       "      <td>1</td>\n",
       "      <td>0</td>\n",
       "      <td>0</td>\n",
       "      <td>1</td>\n",
       "      <td>0</td>\n",
       "    </tr>\n",
       "    <tr>\n",
       "      <th>2</th>\n",
       "      <td>abdon-prats</td>\n",
       "      <td>Abdón Prats</td>\n",
       "      <td>RCD Mallorca</td>\n",
       "      <td>Spain</td>\n",
       "      <td>17.12.1992</td>\n",
       "      <td>181.0</td>\n",
       "      <td>79.0</td>\n",
       "      <td>NaN</td>\n",
       "      <td>1</td>\n",
       "      <td>0</td>\n",
       "      <td>1</td>\n",
       "      <td>0</td>\n",
       "      <td>0</td>\n",
       "    </tr>\n",
       "    <tr>\n",
       "      <th>3</th>\n",
       "      <td>pablo-mari</td>\n",
       "      <td>Pablo Marí</td>\n",
       "      <td>RCD Mallorca</td>\n",
       "      <td>Spain</td>\n",
       "      <td>31.08.1993</td>\n",
       "      <td>191.0</td>\n",
       "      <td>87.0</td>\n",
       "      <td>Center Back</td>\n",
       "      <td>1</td>\n",
       "      <td>1</td>\n",
       "      <td>0</td>\n",
       "      <td>0</td>\n",
       "      <td>0</td>\n",
       "    </tr>\n",
       "    <tr>\n",
       "      <th>4</th>\n",
       "      <td>ruben-pena</td>\n",
       "      <td>Rubén Peña</td>\n",
       "      <td>Real Valladolid</td>\n",
       "      <td>Spain</td>\n",
       "      <td>18.07.1991</td>\n",
       "      <td>172.0</td>\n",
       "      <td>70.0</td>\n",
       "      <td>Right Midfielder</td>\n",
       "      <td>1</td>\n",
       "      <td>1</td>\n",
       "      <td>0</td>\n",
       "      <td>0</td>\n",
       "      <td>0</td>\n",
       "    </tr>\n",
       "    <tr>\n",
       "      <th>5</th>\n",
       "      <td>aaron-hughes</td>\n",
       "      <td>Aaron Hughes</td>\n",
       "      <td>Fulham FC</td>\n",
       "      <td>England</td>\n",
       "      <td>08.11.1979</td>\n",
       "      <td>182.0</td>\n",
       "      <td>71.0</td>\n",
       "      <td>Center Back</td>\n",
       "      <td>1</td>\n",
       "      <td>0</td>\n",
       "      <td>0</td>\n",
       "      <td>1</td>\n",
       "      <td>0</td>\n",
       "    </tr>\n",
       "  </tbody>\n",
       "</table>\n",
       "</div>"
      ],
      "text/plain": [
       "     playerShort         player             club leagueCountry    birthday  \\\n",
       "0  lucas-wilchez  Lucas Wilchez    Real Zaragoza         Spain  31.08.1983   \n",
       "1     john-utaka     John Utaka  Montpellier HSC        France  08.01.1982   \n",
       "2    abdon-prats    Abdón Prats     RCD Mallorca         Spain  17.12.1992   \n",
       "3     pablo-mari     Pablo Marí     RCD Mallorca         Spain  31.08.1993   \n",
       "4     ruben-pena     Rubén Peña  Real Valladolid         Spain  18.07.1991   \n",
       "5   aaron-hughes   Aaron Hughes        Fulham FC       England  08.11.1979   \n",
       "\n",
       "   height  weight              position  games  victories  ties  defeats  \\\n",
       "0   177.0    72.0  Attacking Midfielder      1          0     0        1   \n",
       "1   179.0    82.0          Right Winger      1          0     0        1   \n",
       "2   181.0    79.0                   NaN      1          0     1        0   \n",
       "3   191.0    87.0           Center Back      1          1     0        0   \n",
       "4   172.0    70.0      Right Midfielder      1          1     0        0   \n",
       "5   182.0    71.0           Center Back      1          0     0        1   \n",
       "\n",
       "   goals  \n",
       "0      0  \n",
       "1      0  \n",
       "2      0  \n",
       "3      0  \n",
       "4      0  \n",
       "5      0  "
      ]
     },
     "execution_count": 4,
     "metadata": {},
     "output_type": "execute_result"
    }
   ],
   "source": [
    "df.ix[:5,:13]"
   ]
  },
  {
   "cell_type": "code",
   "execution_count": 5,
   "metadata": {
    "collapsed": false
   },
   "outputs": [
    {
     "data": {
      "text/html": [
       "<div>\n",
       "<table border=\"1\" class=\"dataframe\">\n",
       "  <thead>\n",
       "    <tr style=\"text-align: right;\">\n",
       "      <th></th>\n",
       "      <th>yellowCards</th>\n",
       "      <th>yellowReds</th>\n",
       "      <th>redCards</th>\n",
       "      <th>photoID</th>\n",
       "      <th>rater1</th>\n",
       "      <th>rater2</th>\n",
       "      <th>refNum</th>\n",
       "      <th>refCountry</th>\n",
       "      <th>Alpha_3</th>\n",
       "      <th>meanIAT</th>\n",
       "      <th>nIAT</th>\n",
       "      <th>seIAT</th>\n",
       "      <th>meanExp</th>\n",
       "      <th>nExp</th>\n",
       "      <th>seExp</th>\n",
       "    </tr>\n",
       "  </thead>\n",
       "  <tbody>\n",
       "    <tr>\n",
       "      <th>0</th>\n",
       "      <td>0</td>\n",
       "      <td>0</td>\n",
       "      <td>0</td>\n",
       "      <td>95212.jpg</td>\n",
       "      <td>0.25</td>\n",
       "      <td>0.50</td>\n",
       "      <td>1</td>\n",
       "      <td>1</td>\n",
       "      <td>GRC</td>\n",
       "      <td>0.326391</td>\n",
       "      <td>712.0</td>\n",
       "      <td>0.000564</td>\n",
       "      <td>0.396000</td>\n",
       "      <td>750.0</td>\n",
       "      <td>0.002696</td>\n",
       "    </tr>\n",
       "    <tr>\n",
       "      <th>1</th>\n",
       "      <td>1</td>\n",
       "      <td>0</td>\n",
       "      <td>0</td>\n",
       "      <td>1663.jpg</td>\n",
       "      <td>0.75</td>\n",
       "      <td>0.75</td>\n",
       "      <td>2</td>\n",
       "      <td>2</td>\n",
       "      <td>ZMB</td>\n",
       "      <td>0.203375</td>\n",
       "      <td>40.0</td>\n",
       "      <td>0.010875</td>\n",
       "      <td>-0.204082</td>\n",
       "      <td>49.0</td>\n",
       "      <td>0.061504</td>\n",
       "    </tr>\n",
       "    <tr>\n",
       "      <th>2</th>\n",
       "      <td>1</td>\n",
       "      <td>0</td>\n",
       "      <td>0</td>\n",
       "      <td>NaN</td>\n",
       "      <td>NaN</td>\n",
       "      <td>NaN</td>\n",
       "      <td>3</td>\n",
       "      <td>3</td>\n",
       "      <td>ESP</td>\n",
       "      <td>0.369894</td>\n",
       "      <td>1785.0</td>\n",
       "      <td>0.000229</td>\n",
       "      <td>0.588297</td>\n",
       "      <td>1897.0</td>\n",
       "      <td>0.001002</td>\n",
       "    </tr>\n",
       "    <tr>\n",
       "      <th>3</th>\n",
       "      <td>0</td>\n",
       "      <td>0</td>\n",
       "      <td>0</td>\n",
       "      <td>NaN</td>\n",
       "      <td>NaN</td>\n",
       "      <td>NaN</td>\n",
       "      <td>3</td>\n",
       "      <td>3</td>\n",
       "      <td>ESP</td>\n",
       "      <td>0.369894</td>\n",
       "      <td>1785.0</td>\n",
       "      <td>0.000229</td>\n",
       "      <td>0.588297</td>\n",
       "      <td>1897.0</td>\n",
       "      <td>0.001002</td>\n",
       "    </tr>\n",
       "    <tr>\n",
       "      <th>4</th>\n",
       "      <td>0</td>\n",
       "      <td>0</td>\n",
       "      <td>0</td>\n",
       "      <td>NaN</td>\n",
       "      <td>NaN</td>\n",
       "      <td>NaN</td>\n",
       "      <td>3</td>\n",
       "      <td>3</td>\n",
       "      <td>ESP</td>\n",
       "      <td>0.369894</td>\n",
       "      <td>1785.0</td>\n",
       "      <td>0.000229</td>\n",
       "      <td>0.588297</td>\n",
       "      <td>1897.0</td>\n",
       "      <td>0.001002</td>\n",
       "    </tr>\n",
       "    <tr>\n",
       "      <th>5</th>\n",
       "      <td>0</td>\n",
       "      <td>0</td>\n",
       "      <td>0</td>\n",
       "      <td>3868.jpg</td>\n",
       "      <td>0.25</td>\n",
       "      <td>0.00</td>\n",
       "      <td>4</td>\n",
       "      <td>4</td>\n",
       "      <td>LUX</td>\n",
       "      <td>0.325185</td>\n",
       "      <td>127.0</td>\n",
       "      <td>0.003297</td>\n",
       "      <td>0.538462</td>\n",
       "      <td>130.0</td>\n",
       "      <td>0.013752</td>\n",
       "    </tr>\n",
       "  </tbody>\n",
       "</table>\n",
       "</div>"
      ],
      "text/plain": [
       "   yellowCards  yellowReds  redCards    photoID  rater1  rater2  refNum  \\\n",
       "0            0           0         0  95212.jpg    0.25    0.50       1   \n",
       "1            1           0         0   1663.jpg    0.75    0.75       2   \n",
       "2            1           0         0        NaN     NaN     NaN       3   \n",
       "3            0           0         0        NaN     NaN     NaN       3   \n",
       "4            0           0         0        NaN     NaN     NaN       3   \n",
       "5            0           0         0   3868.jpg    0.25    0.00       4   \n",
       "\n",
       "   refCountry Alpha_3   meanIAT    nIAT     seIAT   meanExp    nExp     seExp  \n",
       "0           1     GRC  0.326391   712.0  0.000564  0.396000   750.0  0.002696  \n",
       "1           2     ZMB  0.203375    40.0  0.010875 -0.204082    49.0  0.061504  \n",
       "2           3     ESP  0.369894  1785.0  0.000229  0.588297  1897.0  0.001002  \n",
       "3           3     ESP  0.369894  1785.0  0.000229  0.588297  1897.0  0.001002  \n",
       "4           3     ESP  0.369894  1785.0  0.000229  0.588297  1897.0  0.001002  \n",
       "5           4     LUX  0.325185   127.0  0.003297  0.538462   130.0  0.013752  "
      ]
     },
     "execution_count": 5,
     "metadata": {},
     "output_type": "execute_result"
    }
   ],
   "source": [
    "df.ix[:5,13:30]\n"
   ]
  },
  {
   "cell_type": "markdown",
   "metadata": {},
   "source": [
    "### Dyad organization and data disaggregation\n",
    "The data is actually organized as [dyad](http://en.wikipedia.org/wiki/Dyad_(sociology).\n",
    "\n",
    "\n",
    "As explained [here](http://nbviewer.jupyter.org/github/mathewzilla/redcard/blob/master/Crowdstorming_visualisation.ipynb), the data is organized as dyad, so each row corresponds to a player and a referee relationship. Some players encoutered a referee only once, and some players encoutered a referee several time, but this will still be represented as a single row.\n",
    "\n",
    "What will be done is to disaggregate the data so that each row corrresponds to one referee-player encouter. To disaggregate, we will use the number of *games*, and consider logically that a maximum of 1 *red card* is possible by encouter."
   ]
  },
  {
   "cell_type": "code",
   "execution_count": 7,
   "metadata": {
    "collapsed": false
   },
   "outputs": [
    {
     "name": "stdout",
     "output_type": "stream",
     "text": [
      "(146028, 29)\n"
     ]
    }
   ],
   "source": [
    "print(df.shape)\n",
    "len_disaggregate = sum(df['games']); ## all games\n",
    "disaggregate = np.zeros(shape = [len_disaggregate, df.shape[1]], dtype=object)\n",
    "df['allreds']=df['yellowReds']+df['redCards']\n",
    "\n",
    "j=0\n",
    "for i, row in df.iterrows():\n",
    "    row_red = row['allreds']\n",
    "    for game in range(row['games']):\n",
    "        row['allreds'] = 1 if (row_red - game > 0) else 0\n",
    "        disaggregate[j] = row\n",
    "        j+=1\n",
    "        \n",
    "pd.DataFrame(disaggregate, columns=list(df.columns)).to_csv('crowdstorm_disaggregated.csv', index=False, encoding=\"utf-8\") "
   ]
  },
  {
   "cell_type": "markdown",
   "metadata": {},
   "source": [
    "### Reload data\n",
    "For clarity, we reload here the disaggregated data in our dataframe."
   ]
  },
  {
   "cell_type": "code",
   "execution_count": 8,
   "metadata": {
    "collapsed": false
   },
   "outputs": [],
   "source": [
    "df = pd.read_csv(\"crowdstorm_disaggregated.csv\", encoding = \"utf-8\")\n",
    "nb_dyads = df.size"
   ]
  },
  {
   "cell_type": "markdown",
   "metadata": {},
   "source": [
    "## Cleaning Data\n",
    "There is an interesting fact about the dyads to consider : although a referee should have at least 22 relations with players, since a single game implies a minimum of two teams of eleven players, some referees have less (actually, more than half, one can quickly get from the graph), as is shown below:\n",
    "The interpretation of this oddity is given [in this other take on our dataset](http://nbviewer.jupyter.org/github/mathewzilla/redcard/blob/master/Crowdstorming_visualisation.ipynb)."
   ]
  },
  {
   "cell_type": "code",
   "execution_count": 9,
   "metadata": {
    "collapsed": false
   },
   "outputs": [
    {
     "data": {
      "text/plain": [
       "<matplotlib.text.Text at 0x287dfa195c0>"
      ]
     },
     "execution_count": 9,
     "metadata": {},
     "output_type": "execute_result"
    },
    {
     "data": {
      "image/png": "[encoded data removed]",
      "text/plain": [
       "<matplotlib.figure.Figure at 0x287dfa089b0>"
      ]
     },
     "metadata": {},
     "output_type": "display_data"
    }
   ],
   "source": [
    "all_refs = df['refNum'].value_counts()\n",
    "number_all_refs = len(all_refs)\n",
    "plt.hist(all_refs, log=True, bins = number_all_refs)\n",
    "plt.xscale('symlog')\n",
    "plt.ylabel('Number of referees')\n",
    "plt.xlabel('Number of appeareance in dyads')"
   ]
  },
  {
   "cell_type": "markdown",
   "metadata": {},
   "source": [
    "From the graph, we can see that around 1000 referees have encoutered less than 10 players. This will be problematic for our analysis, and hence **we will eliminate all the referees that have less than 22 encouters from our dataset**. We are left with 1261 referees, out of our initial N = 3147, wich is only but a little more than a third of our initial set. However, as we further see below, 97.5% of our initial dyads are kept, and therefore our important cleaning step hasn't impaired the integrity of our data."
   ]
  },
  {
   "cell_type": "code",
   "execution_count": 10,
   "metadata": {
    "collapsed": false
   },
   "outputs": [
    {
     "data": {
      "text/plain": [
       "1261"
      ]
     },
     "execution_count": 10,
     "metadata": {},
     "output_type": "execute_result"
    }
   ],
   "source": [
    "df=df[df['refNum'].isin(all_refs[all_refs>=22].index.values)]\n",
    "#number of referees left after cleaning\n",
    "df['refNum'].unique().size"
   ]
  },
  {
   "cell_type": "code",
   "execution_count": 11,
   "metadata": {
    "collapsed": false
   },
   "outputs": [
    {
     "data": {
      "text/plain": [
       "97.449434093189424"
      ]
     },
     "execution_count": 11,
     "metadata": {},
     "output_type": "execute_result"
    }
   ],
   "source": [
    "#percentage of dyads left after cleaning\n",
    "df.size * 100 / nb_dyads"
   ]
  },
  {
   "cell_type": "markdown",
   "metadata": {},
   "source": [
    "### Null Data\n",
    "Now let us check whether there are any null data in our set."
   ]
  },
  {
   "cell_type": "code",
   "execution_count": 12,
   "metadata": {
    "collapsed": false
   },
   "outputs": [
    {
     "data": {
      "text/plain": [
       "playerShort      False\n",
       "player           False\n",
       "club             False\n",
       "leagueCountry    False\n",
       "birthday         False\n",
       "height            True\n",
       "weight            True\n",
       "position          True\n",
       "games            False\n",
       "victories        False\n",
       "ties             False\n",
       "defeats          False\n",
       "goals            False\n",
       "yellowCards      False\n",
       "yellowReds       False\n",
       "redCards         False\n",
       "photoID           True\n",
       "rater1            True\n",
       "rater2            True\n",
       "refNum           False\n",
       "refCountry       False\n",
       "Alpha_3          False\n",
       "meanIAT           True\n",
       "nIAT              True\n",
       "seIAT             True\n",
       "meanExp           True\n",
       "nExp              True\n",
       "seExp             True\n",
       "allreds          False\n",
       "dtype: bool"
      ]
     },
     "execution_count": 12,
     "metadata": {},
     "output_type": "execute_result"
    }
   ],
   "source": [
    "df.isnull().any()"
   ]
  },
  {
   "cell_type": "markdown",
   "metadata": {},
   "source": [
    "We can see that indeed some data is missing, and this is especially the case for *rater1* and *rater2*. We will drop the rows where said data is missing. We now have lost 20% of our initial data, but the fair 80% left should be clean enough so that we can we can run a good enough analysis on them."
   ]
  },
  {
   "cell_type": "code",
   "execution_count": 13,
   "metadata": {
    "collapsed": false
   },
   "outputs": [
    {
     "data": {
      "text/plain": [
       "80.183415695357411"
      ]
     },
     "execution_count": 13,
     "metadata": {},
     "output_type": "execute_result"
    }
   ],
   "source": [
    "df.count()\n",
    "df = df.dropna()\n",
    "df.size * 100 / nb_dyads"
   ]
  },
  {
   "cell_type": "markdown",
   "metadata": {},
   "source": [
    "### Aggregation of the data\n",
    "We will now reorganize the data, by aggregating it around players.\n",
    "\n",
    "**Assumptions** :\n",
    "    - one's club does not change over 1 season.\n",
    "    - one's position does not change over 1 season.\n",
    "\n",
    "We need to keep only certain practical player informations. We will hence **drop** some informations that are useless for the rest of the analysis:\n",
    "    - refNum     (belongs to referee)\n",
    "    - playerShort (useless - a player's id. We will use it for grouping purpose, and then discard it.)\n",
    "    - player\n",
    "    - photoID\n",
    "    \n",
    "there are still variables linked to the referees, we will deal with them later."
   ]
  },
  {
   "cell_type": "code",
   "execution_count": 14,
   "metadata": {
    "collapsed": false
   },
   "outputs": [
    {
     "data": {
      "text/html": [
       "<div>\n",
       "<table border=\"1\" class=\"dataframe\">\n",
       "  <thead>\n",
       "    <tr style=\"text-align: right;\">\n",
       "      <th></th>\n",
       "      <th>meanExp</th>\n",
       "      <th>refCountry</th>\n",
       "      <th>ties</th>\n",
       "      <th>victories</th>\n",
       "      <th>nExp</th>\n",
       "      <th>seIAT</th>\n",
       "      <th>weight</th>\n",
       "      <th>nIAT</th>\n",
       "      <th>height</th>\n",
       "      <th>yellowCards</th>\n",
       "      <th>defeats</th>\n",
       "      <th>seExp</th>\n",
       "      <th>redCards</th>\n",
       "      <th>meanIAT</th>\n",
       "      <th>rater1</th>\n",
       "      <th>games</th>\n",
       "      <th>goals</th>\n",
       "      <th>rater2</th>\n",
       "    </tr>\n",
       "  </thead>\n",
       "  <tbody>\n",
       "    <tr>\n",
       "      <th>count</th>\n",
       "      <td>1418.000000</td>\n",
       "      <td>1418.000000</td>\n",
       "      <td>1418.000000</td>\n",
       "      <td>1418.000000</td>\n",
       "      <td>1.418000e+03</td>\n",
       "      <td>1418.000000</td>\n",
       "      <td>1418.000000</td>\n",
       "      <td>1.418000e+03</td>\n",
       "      <td>1418.000000</td>\n",
       "      <td>1418.000000</td>\n",
       "      <td>1418.000000</td>\n",
       "      <td>1418.000000</td>\n",
       "      <td>1418.000000</td>\n",
       "      <td>1418.000000</td>\n",
       "      <td>1418.000000</td>\n",
       "      <td>1418.000000</td>\n",
       "      <td>1418.00000</td>\n",
       "      <td>1418.000000</td>\n",
       "    </tr>\n",
       "    <tr>\n",
       "      <th>mean</th>\n",
       "      <td>0.444205</td>\n",
       "      <td>97.186883</td>\n",
       "      <td>436.459803</td>\n",
       "      <td>820.600141</td>\n",
       "      <td>4.096284e+06</td>\n",
       "      <td>0.000293</td>\n",
       "      <td>76.263047</td>\n",
       "      <td>3.933122e+06</td>\n",
       "      <td>182.159379</td>\n",
       "      <td>242.483780</td>\n",
       "      <td>561.917489</td>\n",
       "      <td>0.001399</td>\n",
       "      <td>7.225670</td>\n",
       "      <td>0.347126</td>\n",
       "      <td>0.261460</td>\n",
       "      <td>1818.977433</td>\n",
       "      <td>211.35402</td>\n",
       "      <td>0.304126</td>\n",
       "    </tr>\n",
       "    <tr>\n",
       "      <th>std</th>\n",
       "      <td>0.101160</td>\n",
       "      <td>39.246875</td>\n",
       "      <td>464.389587</td>\n",
       "      <td>1019.439932</td>\n",
       "      <td>6.442677e+06</td>\n",
       "      <td>0.000390</td>\n",
       "      <td>7.105262</td>\n",
       "      <td>6.193912e+06</td>\n",
       "      <td>6.799995</td>\n",
       "      <td>290.131377</td>\n",
       "      <td>573.695929</td>\n",
       "      <td>0.001957</td>\n",
       "      <td>13.087291</td>\n",
       "      <td>0.014516</td>\n",
       "      <td>0.293726</td>\n",
       "      <td>1963.852817</td>\n",
       "      <td>428.63188</td>\n",
       "      <td>0.292711</td>\n",
       "    </tr>\n",
       "    <tr>\n",
       "      <th>min</th>\n",
       "      <td>0.065271</td>\n",
       "      <td>3.000000</td>\n",
       "      <td>0.000000</td>\n",
       "      <td>0.000000</td>\n",
       "      <td>1.501000e+03</td>\n",
       "      <td>0.000010</td>\n",
       "      <td>55.000000</td>\n",
       "      <td>1.451000e+03</td>\n",
       "      <td>161.000000</td>\n",
       "      <td>0.000000</td>\n",
       "      <td>0.000000</td>\n",
       "      <td>0.000037</td>\n",
       "      <td>0.000000</td>\n",
       "      <td>0.287530</td>\n",
       "      <td>0.000000</td>\n",
       "      <td>1.000000</td>\n",
       "      <td>0.00000</td>\n",
       "      <td>0.000000</td>\n",
       "    </tr>\n",
       "    <tr>\n",
       "      <th>25%</th>\n",
       "      <td>0.361671</td>\n",
       "      <td>76.000000</td>\n",
       "      <td>124.000000</td>\n",
       "      <td>197.000000</td>\n",
       "      <td>5.953838e+05</td>\n",
       "      <td>0.000120</td>\n",
       "      <td>71.000000</td>\n",
       "      <td>5.742390e+05</td>\n",
       "      <td>178.000000</td>\n",
       "      <td>54.000000</td>\n",
       "      <td>173.000000</td>\n",
       "      <td>0.000547</td>\n",
       "      <td>0.000000</td>\n",
       "      <td>0.336628</td>\n",
       "      <td>0.000000</td>\n",
       "      <td>508.000000</td>\n",
       "      <td>14.00000</td>\n",
       "      <td>0.000000</td>\n",
       "    </tr>\n",
       "    <tr>\n",
       "      <th>50%</th>\n",
       "      <td>0.402253</td>\n",
       "      <td>102.000000</td>\n",
       "      <td>288.000000</td>\n",
       "      <td>497.000000</td>\n",
       "      <td>1.541454e+06</td>\n",
       "      <td>0.000229</td>\n",
       "      <td>76.000000</td>\n",
       "      <td>1.493888e+06</td>\n",
       "      <td>182.500000</td>\n",
       "      <td>148.000000</td>\n",
       "      <td>384.500000</td>\n",
       "      <td>0.001002</td>\n",
       "      <td>1.000000</td>\n",
       "      <td>0.340851</td>\n",
       "      <td>0.250000</td>\n",
       "      <td>1204.000000</td>\n",
       "      <td>69.00000</td>\n",
       "      <td>0.250000</td>\n",
       "    </tr>\n",
       "    <tr>\n",
       "      <th>75%</th>\n",
       "      <td>0.551277</td>\n",
       "      <td>114.000000</td>\n",
       "      <td>581.500000</td>\n",
       "      <td>1068.750000</td>\n",
       "      <td>4.309695e+06</td>\n",
       "      <td>0.000306</td>\n",
       "      <td>81.000000</td>\n",
       "      <td>4.137155e+06</td>\n",
       "      <td>187.000000</td>\n",
       "      <td>320.000000</td>\n",
       "      <td>749.750000</td>\n",
       "      <td>0.001437</td>\n",
       "      <td>9.750000</td>\n",
       "      <td>0.361154</td>\n",
       "      <td>0.250000</td>\n",
       "      <td>2426.500000</td>\n",
       "      <td>221.50000</td>\n",
       "      <td>0.500000</td>\n",
       "    </tr>\n",
       "    <tr>\n",
       "      <th>max</th>\n",
       "      <td>1.031407</td>\n",
       "      <td>153.000000</td>\n",
       "      <td>3559.000000</td>\n",
       "      <td>10092.000000</td>\n",
       "      <td>7.245802e+07</td>\n",
       "      <td>0.009063</td>\n",
       "      <td>100.000000</td>\n",
       "      <td>7.044169e+07</td>\n",
       "      <td>203.000000</td>\n",
       "      <td>2361.000000</td>\n",
       "      <td>4269.000000</td>\n",
       "      <td>0.045650</td>\n",
       "      <td>121.000000</td>\n",
       "      <td>0.396512</td>\n",
       "      <td>1.000000</td>\n",
       "      <td>16932.000000</td>\n",
       "      <td>5141.00000</td>\n",
       "      <td>1.000000</td>\n",
       "    </tr>\n",
       "  </tbody>\n",
       "</table>\n",
       "</div>"
      ],
      "text/plain": [
       "           meanExp   refCountry         ties     victories          nExp  \\\n",
       "count  1418.000000  1418.000000  1418.000000   1418.000000  1.418000e+03   \n",
       "mean      0.444205    97.186883   436.459803    820.600141  4.096284e+06   \n",
       "std       0.101160    39.246875   464.389587   1019.439932  6.442677e+06   \n",
       "min       0.065271     3.000000     0.000000      0.000000  1.501000e+03   \n",
       "25%       0.361671    76.000000   124.000000    197.000000  5.953838e+05   \n",
       "50%       0.402253   102.000000   288.000000    497.000000  1.541454e+06   \n",
       "75%       0.551277   114.000000   581.500000   1068.750000  4.309695e+06   \n",
       "max       1.031407   153.000000  3559.000000  10092.000000  7.245802e+07   \n",
       "\n",
       "             seIAT       weight          nIAT       height  yellowCards  \\\n",
       "count  1418.000000  1418.000000  1.418000e+03  1418.000000  1418.000000   \n",
       "mean      0.000293    76.263047  3.933122e+06   182.159379   242.483780   \n",
       "std       0.000390     7.105262  6.193912e+06     6.799995   290.131377   \n",
       "min       0.000010    55.000000  1.451000e+03   161.000000     0.000000   \n",
       "25%       0.000120    71.000000  5.742390e+05   178.000000    54.000000   \n",
       "50%       0.000229    76.000000  1.493888e+06   182.500000   148.000000   \n",
       "75%       0.000306    81.000000  4.137155e+06   187.000000   320.000000   \n",
       "max       0.009063   100.000000  7.044169e+07   203.000000  2361.000000   \n",
       "\n",
       "           defeats        seExp     redCards      meanIAT       rater1  \\\n",
       "count  1418.000000  1418.000000  1418.000000  1418.000000  1418.000000   \n",
       "mean    561.917489     0.001399     7.225670     0.347126     0.261460   \n",
       "std     573.695929     0.001957    13.087291     0.014516     0.293726   \n",
       "min       0.000000     0.000037     0.000000     0.287530     0.000000   \n",
       "25%     173.000000     0.000547     0.000000     0.336628     0.000000   \n",
       "50%     384.500000     0.001002     1.000000     0.340851     0.250000   \n",
       "75%     749.750000     0.001437     9.750000     0.361154     0.250000   \n",
       "max    4269.000000     0.045650   121.000000     0.396512     1.000000   \n",
       "\n",
       "              games       goals       rater2  \n",
       "count   1418.000000  1418.00000  1418.000000  \n",
       "mean    1818.977433   211.35402     0.304126  \n",
       "std     1963.852817   428.63188     0.292711  \n",
       "min        1.000000     0.00000     0.000000  \n",
       "25%      508.000000    14.00000     0.000000  \n",
       "50%     1204.000000    69.00000     0.250000  \n",
       "75%     2426.500000   221.50000     0.500000  \n",
       "max    16932.000000  5141.00000     1.000000  "
      ]
     },
     "execution_count": 14,
     "metadata": {},
     "output_type": "execute_result"
    }
   ],
   "source": [
    "df_p = df.groupby('playerShort', as_index=False,sort=True)\n",
    "aggregation = {'club':'max',\n",
    "               'leagueCountry':'max',\n",
    "               'refCountry' : 'max',\n",
    "               'birthday':'max',\n",
    "               'height':'mean',\n",
    "               'weight':'mean', \n",
    "               'position':'max',\n",
    "               'games':'sum',\n",
    "               'victories':'sum',\n",
    "               'ties':'sum',\n",
    "               'defeats':'sum',\n",
    "               'goals':'sum',\n",
    "               'rater1':'mean',\n",
    "               'rater2':'mean',\n",
    "               'yellowCards':'sum',\n",
    "               'redCards':'sum',\n",
    "               'meanIAT':'mean',\n",
    "               'nIAT':'sum',\n",
    "               'seIAT':'mean',\n",
    "               'meanExp':'mean',\n",
    "               'nExp':'sum',\n",
    "               'seExp':'mean'\n",
    "              }\n",
    "df_p = df_p.agg(aggregation)\n",
    "df_p.drop(['playerShort'],inplace=True,axis=1,errors='ignore')\n",
    "\n",
    "df_p.describe()"
   ]
  },
  {
   "cell_type": "markdown",
   "metadata": {},
   "source": [
    "### Distributions of skin color indicators\n",
    "There are 2 indicators for a player's skin color : *rater1* and *rater2*. \n",
    "Let's have a look at them"
   ]
  },
  {
   "cell_type": "code",
   "execution_count": 15,
   "metadata": {
    "collapsed": false
   },
   "outputs": [
    {
     "data": {
      "text/plain": [
       "<matplotlib.text.Text at 0x28780042198>"
      ]
     },
     "execution_count": 15,
     "metadata": {},
     "output_type": "execute_result"
    },
    {
     "data": {
      "image/png": "[encoded data removed]",
      "text/plain": [
       "<matplotlib.figure.Figure at 0x287df05cda0>"
      ]
     },
     "metadata": {},
     "output_type": "display_data"
    }
   ],
   "source": [
    "fig, ax = plt.subplots(nrows=1,ncols=3,figsize=(12, 3))\n",
    "df_p['rater1'].hist(ax=ax[0], bins=9)\n",
    "ax[0].set_ylabel('count')\n",
    "ax[0].set_title('rater1')\n",
    "\n",
    "df_p['rater2'].hist(ax=ax[1], bins=9)\n",
    "ax[1].set_xlabel('skin color : 0 = very light skin, 1 = very dark skin')\n",
    "ax[1].set_title('rater2')\n",
    "\n",
    "#mean\n",
    "mean_rater = (df_p['rater2'] + df_p['rater1'])/2\n",
    "(mean_rater).hist(ax=ax[2], bins=9)\n",
    "ax[2].set_title('mean')\n"
   ]
  },
  {
   "cell_type": "markdown",
   "metadata": {},
   "source": [
    "How many different skin color classes will we consider, with respect to rater1 and rater2 variables, as well as their mean ?\n",
    "\n",
    "When we initially started our a analysis with 4 classes, our model's accuracy didn't go beyond 0.5, which was rather disappointing. However, by downgrading the number to only three, our accuracy rises up to almost 0.75\n",
    "Indeed, it is easier to categorise the players as rather white, rather black or in between, than to distinguish between rather dark and fairly dark, for instance. \n",
    "\n",
    "We assign them to 3 classes as follows : \n",
    "- rather fair skin\n",
    "- rather dark skin\n",
    "- in between (can't discriminate with certitude)\n"
   ]
  },
  {
   "cell_type": "code",
   "execution_count": 16,
   "metadata": {
    "collapsed": false
   },
   "outputs": [
    {
     "name": "stdout",
     "output_type": "stream",
     "text": [
      "rater1\n",
      "[0.0, 0.25, 0.5, 0.75, 1.0]\n",
      "5\n",
      "rater2\n",
      "[0.0, 0.25, 0.5, 0.75, 1.0]\n",
      "5\n",
      "mean of rater 1 and rater 2\n",
      "[0.0, 0.125, 0.25, 0.375, 0.5, 0.625, 0.75, 0.875, 1.0]\n",
      "9\n",
      "[0.0, 0.5, 1.0]\n",
      "3\n"
     ]
    },
    {
     "data": {
      "text/plain": [
       "<matplotlib.axes._subplots.AxesSubplot at 0x28780085ba8>"
      ]
     },
     "execution_count": 16,
     "metadata": {},
     "output_type": "execute_result"
    },
    {
     "data": {
      "image/png": "[encoded data removed]",
      "text/plain": [
       "<matplotlib.figure.Figure at 0x287800bab38>"
      ]
     },
     "metadata": {},
     "output_type": "display_data"
    }
   ],
   "source": [
    "values_rater1 = sorted(df_p['rater1'].unique())\n",
    "print('rater1')\n",
    "print(values_rater1)\n",
    "print(len(values_rater1))\n",
    "\n",
    "values_rater2 = sorted(df_p['rater2'].unique())\n",
    "print('rater2')\n",
    "print(values_rater2)\n",
    "print(len(values_rater2))\n",
    "\n",
    "value_mean_rater = sorted(mean_rater.unique())\n",
    "print('mean of rater 1 and rater 2')\n",
    "print(value_mean_rater)\n",
    "print(len(value_mean_rater))\n",
    "\n",
    "\n",
    "# We assign to 3 classes the value2\n",
    "mean_rater[(mean_rater >= 0) & (mean_rater<0.33)] = 0\n",
    "mean_rater[(mean_rater >= 0.33) & (mean_rater<0.67)] = 0.5\n",
    "mean_rater[mean_rater>= 0.67] = 1\n",
    "\n",
    "value_mean_rater = sorted(mean_rater.unique())\n",
    "\n",
    "print(value_mean_rater)\n",
    "print(len(value_mean_rater))\n",
    "mean_rater.hist(bins=9) "
   ]
  },
  {
   "cell_type": "markdown",
   "metadata": {},
   "source": [
    "Let's create a new column with the mean values of *rater1* and *rater2*"
   ]
  },
  {
   "cell_type": "code",
   "execution_count": 17,
   "metadata": {
    "collapsed": false
   },
   "outputs": [],
   "source": [
    "df_p['mean_rater'] = mean_rater\n",
    "df_p.drop(['rater1','rater2'],inplace=True,axis=1,errors='ignore')\n"
   ]
  },
  {
   "cell_type": "markdown",
   "metadata": {},
   "source": [
    "#### Manage date data\n",
    "We will separate the data string into 3 columns.\n",
    "(We will keep only the months and the year, and create two new columns.) to see whether dividing the birthday feature in two can improve our model's fit. "
   ]
  },
  {
   "cell_type": "code",
   "execution_count": 18,
   "metadata": {
    "collapsed": false
   },
   "outputs": [],
   "source": [
    "df_p['birthday_day'] = df_p['birthday'].str.split('.',expand=True)[0]\n",
    "df_p['birthday_month'] = df_p['birthday'].str.split('.',expand=True)[1]\n",
    "df_p['birthday_year'] = df_p['birthday'].str.split('.',expand=True)[2]\n",
    "df_p.drop(['birthday'],inplace=True,axis=1,errors='ignore')\n",
    "df_p.describe()\n",
    "df_p['age']= 2016-df_p['birthday_year'].astype(np.int64)\n",
    "df_p.drop(['birthday_day','birthday_month','birthday_year'],inplace=True,axis=1,errors='ignore')\n"
   ]
  },
  {
   "cell_type": "markdown",
   "metadata": {},
   "source": [
    "#### More cleaning - Drop columns\n",
    "Maybe we can drop columns about the referees :"
   ]
  },
  {
   "cell_type": "code",
   "execution_count": 102,
   "metadata": {
    "collapsed": false
   },
   "outputs": [
    {
     "data": {
      "text/html": [
       "<div>\n",
       "<table border=\"1\" class=\"dataframe\">\n",
       "  <thead>\n",
       "    <tr style=\"text-align: right;\">\n",
       "      <th></th>\n",
       "      <th>meanExp</th>\n",
       "      <th>ties</th>\n",
       "      <th>victories</th>\n",
       "      <th>seIAT</th>\n",
       "      <th>weight</th>\n",
       "      <th>height</th>\n",
       "      <th>yellowCards</th>\n",
       "      <th>defeats</th>\n",
       "      <th>seExp</th>\n",
       "      <th>redCards</th>\n",
       "      <th>...</th>\n",
       "      <th>Center Forward</th>\n",
       "      <th>Center Midfielder</th>\n",
       "      <th>Defensive Midfielder</th>\n",
       "      <th>Goalkeeper</th>\n",
       "      <th>Left Fullback</th>\n",
       "      <th>Left Midfielder</th>\n",
       "      <th>Left Winger</th>\n",
       "      <th>Right Fullback</th>\n",
       "      <th>Right Midfielder</th>\n",
       "      <th>Right Winger</th>\n",
       "    </tr>\n",
       "  </thead>\n",
       "  <tbody>\n",
       "    <tr>\n",
       "      <th>count</th>\n",
       "      <td>1418.000000</td>\n",
       "      <td>1418.000000</td>\n",
       "      <td>1418.000000</td>\n",
       "      <td>1418.000000</td>\n",
       "      <td>1418.000000</td>\n",
       "      <td>1418.000000</td>\n",
       "      <td>1418.000000</td>\n",
       "      <td>1418.000000</td>\n",
       "      <td>1418.000000</td>\n",
       "      <td>1418.000000</td>\n",
       "      <td>...</td>\n",
       "      <td>1418.000000</td>\n",
       "      <td>1418.000000</td>\n",
       "      <td>1418.000000</td>\n",
       "      <td>1418.000000</td>\n",
       "      <td>1418.000000</td>\n",
       "      <td>1418.000000</td>\n",
       "      <td>1418.000000</td>\n",
       "      <td>1418.000000</td>\n",
       "      <td>1418.000000</td>\n",
       "      <td>1418.000000</td>\n",
       "    </tr>\n",
       "    <tr>\n",
       "      <th>mean</th>\n",
       "      <td>0.444205</td>\n",
       "      <td>436.459803</td>\n",
       "      <td>820.600141</td>\n",
       "      <td>0.000293</td>\n",
       "      <td>76.263047</td>\n",
       "      <td>182.159379</td>\n",
       "      <td>242.483780</td>\n",
       "      <td>561.917489</td>\n",
       "      <td>0.001399</td>\n",
       "      <td>7.225670</td>\n",
       "      <td>...</td>\n",
       "      <td>0.133286</td>\n",
       "      <td>0.041608</td>\n",
       "      <td>0.120592</td>\n",
       "      <td>0.111425</td>\n",
       "      <td>0.082511</td>\n",
       "      <td>0.053597</td>\n",
       "      <td>0.037377</td>\n",
       "      <td>0.075458</td>\n",
       "      <td>0.042313</td>\n",
       "      <td>0.039492</td>\n",
       "    </tr>\n",
       "    <tr>\n",
       "      <th>std</th>\n",
       "      <td>0.101160</td>\n",
       "      <td>464.389587</td>\n",
       "      <td>1019.439932</td>\n",
       "      <td>0.000390</td>\n",
       "      <td>7.105262</td>\n",
       "      <td>6.799995</td>\n",
       "      <td>290.131377</td>\n",
       "      <td>573.695929</td>\n",
       "      <td>0.001957</td>\n",
       "      <td>13.087291</td>\n",
       "      <td>...</td>\n",
       "      <td>0.340004</td>\n",
       "      <td>0.199762</td>\n",
       "      <td>0.325768</td>\n",
       "      <td>0.314768</td>\n",
       "      <td>0.275238</td>\n",
       "      <td>0.225299</td>\n",
       "      <td>0.189750</td>\n",
       "      <td>0.264223</td>\n",
       "      <td>0.201374</td>\n",
       "      <td>0.194832</td>\n",
       "    </tr>\n",
       "    <tr>\n",
       "      <th>min</th>\n",
       "      <td>0.065271</td>\n",
       "      <td>0.000000</td>\n",
       "      <td>0.000000</td>\n",
       "      <td>0.000010</td>\n",
       "      <td>55.000000</td>\n",
       "      <td>161.000000</td>\n",
       "      <td>0.000000</td>\n",
       "      <td>0.000000</td>\n",
       "      <td>0.000037</td>\n",
       "      <td>0.000000</td>\n",
       "      <td>...</td>\n",
       "      <td>0.000000</td>\n",
       "      <td>0.000000</td>\n",
       "      <td>0.000000</td>\n",
       "      <td>0.000000</td>\n",
       "      <td>0.000000</td>\n",
       "      <td>0.000000</td>\n",
       "      <td>0.000000</td>\n",
       "      <td>0.000000</td>\n",
       "      <td>0.000000</td>\n",
       "      <td>0.000000</td>\n",
       "    </tr>\n",
       "    <tr>\n",
       "      <th>25%</th>\n",
       "      <td>0.361671</td>\n",
       "      <td>124.000000</td>\n",
       "      <td>197.000000</td>\n",
       "      <td>0.000120</td>\n",
       "      <td>71.000000</td>\n",
       "      <td>178.000000</td>\n",
       "      <td>54.000000</td>\n",
       "      <td>173.000000</td>\n",
       "      <td>0.000547</td>\n",
       "      <td>0.000000</td>\n",
       "      <td>...</td>\n",
       "      <td>0.000000</td>\n",
       "      <td>0.000000</td>\n",
       "      <td>0.000000</td>\n",
       "      <td>0.000000</td>\n",
       "      <td>0.000000</td>\n",
       "      <td>0.000000</td>\n",
       "      <td>0.000000</td>\n",
       "      <td>0.000000</td>\n",
       "      <td>0.000000</td>\n",
       "      <td>0.000000</td>\n",
       "    </tr>\n",
       "    <tr>\n",
       "      <th>50%</th>\n",
       "      <td>0.402253</td>\n",
       "      <td>288.000000</td>\n",
       "      <td>497.000000</td>\n",
       "      <td>0.000229</td>\n",
       "      <td>76.000000</td>\n",
       "      <td>182.500000</td>\n",
       "      <td>148.000000</td>\n",
       "      <td>384.500000</td>\n",
       "      <td>0.001002</td>\n",
       "      <td>1.000000</td>\n",
       "      <td>...</td>\n",
       "      <td>0.000000</td>\n",
       "      <td>0.000000</td>\n",
       "      <td>0.000000</td>\n",
       "      <td>0.000000</td>\n",
       "      <td>0.000000</td>\n",
       "      <td>0.000000</td>\n",
       "      <td>0.000000</td>\n",
       "      <td>0.000000</td>\n",
       "      <td>0.000000</td>\n",
       "      <td>0.000000</td>\n",
       "    </tr>\n",
       "    <tr>\n",
       "      <th>75%</th>\n",
       "      <td>0.551277</td>\n",
       "      <td>581.500000</td>\n",
       "      <td>1068.750000</td>\n",
       "      <td>0.000306</td>\n",
       "      <td>81.000000</td>\n",
       "      <td>187.000000</td>\n",
       "      <td>320.000000</td>\n",
       "      <td>749.750000</td>\n",
       "      <td>0.001437</td>\n",
       "      <td>9.750000</td>\n",
       "      <td>...</td>\n",
       "      <td>0.000000</td>\n",
       "      <td>0.000000</td>\n",
       "      <td>0.000000</td>\n",
       "      <td>0.000000</td>\n",
       "      <td>0.000000</td>\n",
       "      <td>0.000000</td>\n",
       "      <td>0.000000</td>\n",
       "      <td>0.000000</td>\n",
       "      <td>0.000000</td>\n",
       "      <td>0.000000</td>\n",
       "    </tr>\n",
       "    <tr>\n",
       "      <th>max</th>\n",
       "      <td>1.031407</td>\n",
       "      <td>3559.000000</td>\n",
       "      <td>10092.000000</td>\n",
       "      <td>0.009063</td>\n",
       "      <td>100.000000</td>\n",
       "      <td>203.000000</td>\n",
       "      <td>2361.000000</td>\n",
       "      <td>4269.000000</td>\n",
       "      <td>0.045650</td>\n",
       "      <td>121.000000</td>\n",
       "      <td>...</td>\n",
       "      <td>1.000000</td>\n",
       "      <td>1.000000</td>\n",
       "      <td>1.000000</td>\n",
       "      <td>1.000000</td>\n",
       "      <td>1.000000</td>\n",
       "      <td>1.000000</td>\n",
       "      <td>1.000000</td>\n",
       "      <td>1.000000</td>\n",
       "      <td>1.000000</td>\n",
       "      <td>1.000000</td>\n",
       "    </tr>\n",
       "  </tbody>\n",
       "</table>\n",
       "<p>8 rows × 27 columns</p>\n",
       "</div>"
      ],
      "text/plain": [
       "           meanExp         ties     victories        seIAT       weight  \\\n",
       "count  1418.000000  1418.000000   1418.000000  1418.000000  1418.000000   \n",
       "mean      0.444205   436.459803    820.600141     0.000293    76.263047   \n",
       "std       0.101160   464.389587   1019.439932     0.000390     7.105262   \n",
       "min       0.065271     0.000000      0.000000     0.000010    55.000000   \n",
       "25%       0.361671   124.000000    197.000000     0.000120    71.000000   \n",
       "50%       0.402253   288.000000    497.000000     0.000229    76.000000   \n",
       "75%       0.551277   581.500000   1068.750000     0.000306    81.000000   \n",
       "max       1.031407  3559.000000  10092.000000     0.009063   100.000000   \n",
       "\n",
       "            height  yellowCards      defeats        seExp     redCards  \\\n",
       "count  1418.000000  1418.000000  1418.000000  1418.000000  1418.000000   \n",
       "mean    182.159379   242.483780   561.917489     0.001399     7.225670   \n",
       "std       6.799995   290.131377   573.695929     0.001957    13.087291   \n",
       "min     161.000000     0.000000     0.000000     0.000037     0.000000   \n",
       "25%     178.000000    54.000000   173.000000     0.000547     0.000000   \n",
       "50%     182.500000   148.000000   384.500000     0.001002     1.000000   \n",
       "75%     187.000000   320.000000   749.750000     0.001437     9.750000   \n",
       "max     203.000000  2361.000000  4269.000000     0.045650   121.000000   \n",
       "\n",
       "           ...       Center Forward  Center Midfielder  Defensive Midfielder  \\\n",
       "count      ...          1418.000000        1418.000000           1418.000000   \n",
       "mean       ...             0.133286           0.041608              0.120592   \n",
       "std        ...             0.340004           0.199762              0.325768   \n",
       "min        ...             0.000000           0.000000              0.000000   \n",
       "25%        ...             0.000000           0.000000              0.000000   \n",
       "50%        ...             0.000000           0.000000              0.000000   \n",
       "75%        ...             0.000000           0.000000              0.000000   \n",
       "max        ...             1.000000           1.000000              1.000000   \n",
       "\n",
       "        Goalkeeper  Left Fullback  Left Midfielder  Left Winger  \\\n",
       "count  1418.000000    1418.000000      1418.000000  1418.000000   \n",
       "mean      0.111425       0.082511         0.053597     0.037377   \n",
       "std       0.314768       0.275238         0.225299     0.189750   \n",
       "min       0.000000       0.000000         0.000000     0.000000   \n",
       "25%       0.000000       0.000000         0.000000     0.000000   \n",
       "50%       0.000000       0.000000         0.000000     0.000000   \n",
       "75%       0.000000       0.000000         0.000000     0.000000   \n",
       "max       1.000000       1.000000         1.000000     1.000000   \n",
       "\n",
       "       Right Fullback  Right Midfielder  Right Winger  \n",
       "count     1418.000000       1418.000000   1418.000000  \n",
       "mean         0.075458          0.042313      0.039492  \n",
       "std          0.264223          0.201374      0.194832  \n",
       "min          0.000000          0.000000      0.000000  \n",
       "25%          0.000000          0.000000      0.000000  \n",
       "50%          0.000000          0.000000      0.000000  \n",
       "75%          0.000000          0.000000      0.000000  \n",
       "max          1.000000          1.000000      1.000000  \n",
       "\n",
       "[8 rows x 27 columns]"
      ]
     },
     "execution_count": 102,
     "metadata": {},
     "output_type": "execute_result"
    }
   ],
   "source": [
    "#We make a copy the actual dataframe in case we need these variables for the clustering analysis\n",
    "df_cluster = df_p.copy()\n",
    "\n",
    "df_p.drop(['nIAT','nExp','refCountry'],inplace=True,axis=1,errors='ignore')\n",
    "df_p.describe()"
   ]
  },
  {
   "cell_type": "markdown",
   "metadata": {},
   "source": [
    "# Machine Learning\n"
   ]
  },
  {
   "cell_type": "markdown",
   "metadata": {},
   "source": [
    "#### Manage categorical data\n",
    "We transform categorical data into numerical data"
   ]
  },
  {
   "cell_type": "markdown",
   "metadata": {
    "collapsed": false
   },
   "source": [
    "def changeCattoNumerical(x):\n",
    "    le = preprocessing.LabelEncoder()\n",
    "    le.fit(x) \n",
    "    y = le.transform(x)\n",
    "    return y\n",
    "\n",
    "df_p = df_p.copy()\n",
    "for col in df_p.columns.values:\n",
    "    df_p[col] = changeCattoNumerical(df_p[col]) \n",
    "\n",
    "df_p.head()"
   ]
  },
  {
   "cell_type": "code",
   "execution_count": 20,
   "metadata": {
    "collapsed": false
   },
   "outputs": [],
   "source": [
    "def convertCatDummy(df, x):\n",
    "    result_dummies = pd.get_dummies(df_p[x])\n",
    "    df = pd.concat([df, result_dummies], axis=1)\n",
    "    df.drop([x],axis=1, inplace=True,errors='ignore')\n",
    "    return df\n",
    "\n",
    "#df_p = convertCatDummy(df_p, 'leagueCountry')\n",
    "#df_p = convertCatDummy(df_p, 'club')\n",
    "df_p = convertCatDummy(df_p, 'position')\n",
    "\n",
    "df_p.drop(['club'],inplace=True,axis=1,errors='ignore')\n",
    "df_p.drop(['leagueCountry'],inplace=True,axis=1,errors='ignore')\n"
   ]
  },
  {
   "cell_type": "markdown",
   "metadata": {},
   "source": [
    "### Preparation of the data\n",
    "First let's create a vector *X* of features and samples, and a vector *Y* of the labels corresponding. Y will have the value of *mean_rater*"
   ]
  },
  {
   "cell_type": "code",
   "execution_count": 21,
   "metadata": {
    "collapsed": false
   },
   "outputs": [
    {
     "data": {
      "text/html": [
       "<div>\n",
       "<table border=\"1\" class=\"dataframe\">\n",
       "  <thead>\n",
       "    <tr style=\"text-align: right;\">\n",
       "      <th></th>\n",
       "      <th>meanExp</th>\n",
       "      <th>ties</th>\n",
       "      <th>victories</th>\n",
       "      <th>seIAT</th>\n",
       "      <th>weight</th>\n",
       "      <th>height</th>\n",
       "      <th>yellowCards</th>\n",
       "      <th>defeats</th>\n",
       "      <th>seExp</th>\n",
       "      <th>redCards</th>\n",
       "      <th>...</th>\n",
       "      <th>Center Forward</th>\n",
       "      <th>Center Midfielder</th>\n",
       "      <th>Defensive Midfielder</th>\n",
       "      <th>Goalkeeper</th>\n",
       "      <th>Left Fullback</th>\n",
       "      <th>Left Midfielder</th>\n",
       "      <th>Left Winger</th>\n",
       "      <th>Right Fullback</th>\n",
       "      <th>Right Midfielder</th>\n",
       "      <th>Right Winger</th>\n",
       "    </tr>\n",
       "  </thead>\n",
       "  <tbody>\n",
       "    <tr>\n",
       "      <th>count</th>\n",
       "      <td>1418.000000</td>\n",
       "      <td>1418.000000</td>\n",
       "      <td>1418.000000</td>\n",
       "      <td>1418.000000</td>\n",
       "      <td>1418.000000</td>\n",
       "      <td>1418.000000</td>\n",
       "      <td>1418.000000</td>\n",
       "      <td>1418.000000</td>\n",
       "      <td>1418.000000</td>\n",
       "      <td>1418.000000</td>\n",
       "      <td>...</td>\n",
       "      <td>1418.000000</td>\n",
       "      <td>1418.000000</td>\n",
       "      <td>1418.000000</td>\n",
       "      <td>1418.000000</td>\n",
       "      <td>1418.000000</td>\n",
       "      <td>1418.000000</td>\n",
       "      <td>1418.000000</td>\n",
       "      <td>1418.000000</td>\n",
       "      <td>1418.000000</td>\n",
       "      <td>1418.000000</td>\n",
       "    </tr>\n",
       "    <tr>\n",
       "      <th>mean</th>\n",
       "      <td>0.444205</td>\n",
       "      <td>436.459803</td>\n",
       "      <td>820.600141</td>\n",
       "      <td>0.000293</td>\n",
       "      <td>76.263047</td>\n",
       "      <td>182.159379</td>\n",
       "      <td>242.483780</td>\n",
       "      <td>561.917489</td>\n",
       "      <td>0.001399</td>\n",
       "      <td>7.225670</td>\n",
       "      <td>...</td>\n",
       "      <td>0.133286</td>\n",
       "      <td>0.041608</td>\n",
       "      <td>0.120592</td>\n",
       "      <td>0.111425</td>\n",
       "      <td>0.082511</td>\n",
       "      <td>0.053597</td>\n",
       "      <td>0.037377</td>\n",
       "      <td>0.075458</td>\n",
       "      <td>0.042313</td>\n",
       "      <td>0.039492</td>\n",
       "    </tr>\n",
       "    <tr>\n",
       "      <th>std</th>\n",
       "      <td>0.101160</td>\n",
       "      <td>464.389587</td>\n",
       "      <td>1019.439932</td>\n",
       "      <td>0.000390</td>\n",
       "      <td>7.105262</td>\n",
       "      <td>6.799995</td>\n",
       "      <td>290.131377</td>\n",
       "      <td>573.695929</td>\n",
       "      <td>0.001957</td>\n",
       "      <td>13.087291</td>\n",
       "      <td>...</td>\n",
       "      <td>0.340004</td>\n",
       "      <td>0.199762</td>\n",
       "      <td>0.325768</td>\n",
       "      <td>0.314768</td>\n",
       "      <td>0.275238</td>\n",
       "      <td>0.225299</td>\n",
       "      <td>0.189750</td>\n",
       "      <td>0.264223</td>\n",
       "      <td>0.201374</td>\n",
       "      <td>0.194832</td>\n",
       "    </tr>\n",
       "    <tr>\n",
       "      <th>min</th>\n",
       "      <td>0.065271</td>\n",
       "      <td>0.000000</td>\n",
       "      <td>0.000000</td>\n",
       "      <td>0.000010</td>\n",
       "      <td>55.000000</td>\n",
       "      <td>161.000000</td>\n",
       "      <td>0.000000</td>\n",
       "      <td>0.000000</td>\n",
       "      <td>0.000037</td>\n",
       "      <td>0.000000</td>\n",
       "      <td>...</td>\n",
       "      <td>0.000000</td>\n",
       "      <td>0.000000</td>\n",
       "      <td>0.000000</td>\n",
       "      <td>0.000000</td>\n",
       "      <td>0.000000</td>\n",
       "      <td>0.000000</td>\n",
       "      <td>0.000000</td>\n",
       "      <td>0.000000</td>\n",
       "      <td>0.000000</td>\n",
       "      <td>0.000000</td>\n",
       "    </tr>\n",
       "    <tr>\n",
       "      <th>25%</th>\n",
       "      <td>0.361671</td>\n",
       "      <td>124.000000</td>\n",
       "      <td>197.000000</td>\n",
       "      <td>0.000120</td>\n",
       "      <td>71.000000</td>\n",
       "      <td>178.000000</td>\n",
       "      <td>54.000000</td>\n",
       "      <td>173.000000</td>\n",
       "      <td>0.000547</td>\n",
       "      <td>0.000000</td>\n",
       "      <td>...</td>\n",
       "      <td>0.000000</td>\n",
       "      <td>0.000000</td>\n",
       "      <td>0.000000</td>\n",
       "      <td>0.000000</td>\n",
       "      <td>0.000000</td>\n",
       "      <td>0.000000</td>\n",
       "      <td>0.000000</td>\n",
       "      <td>0.000000</td>\n",
       "      <td>0.000000</td>\n",
       "      <td>0.000000</td>\n",
       "    </tr>\n",
       "    <tr>\n",
       "      <th>50%</th>\n",
       "      <td>0.402253</td>\n",
       "      <td>288.000000</td>\n",
       "      <td>497.000000</td>\n",
       "      <td>0.000229</td>\n",
       "      <td>76.000000</td>\n",
       "      <td>182.500000</td>\n",
       "      <td>148.000000</td>\n",
       "      <td>384.500000</td>\n",
       "      <td>0.001002</td>\n",
       "      <td>1.000000</td>\n",
       "      <td>...</td>\n",
       "      <td>0.000000</td>\n",
       "      <td>0.000000</td>\n",
       "      <td>0.000000</td>\n",
       "      <td>0.000000</td>\n",
       "      <td>0.000000</td>\n",
       "      <td>0.000000</td>\n",
       "      <td>0.000000</td>\n",
       "      <td>0.000000</td>\n",
       "      <td>0.000000</td>\n",
       "      <td>0.000000</td>\n",
       "    </tr>\n",
       "    <tr>\n",
       "      <th>75%</th>\n",
       "      <td>0.551277</td>\n",
       "      <td>581.500000</td>\n",
       "      <td>1068.750000</td>\n",
       "      <td>0.000306</td>\n",
       "      <td>81.000000</td>\n",
       "      <td>187.000000</td>\n",
       "      <td>320.000000</td>\n",
       "      <td>749.750000</td>\n",
       "      <td>0.001437</td>\n",
       "      <td>9.750000</td>\n",
       "      <td>...</td>\n",
       "      <td>0.000000</td>\n",
       "      <td>0.000000</td>\n",
       "      <td>0.000000</td>\n",
       "      <td>0.000000</td>\n",
       "      <td>0.000000</td>\n",
       "      <td>0.000000</td>\n",
       "      <td>0.000000</td>\n",
       "      <td>0.000000</td>\n",
       "      <td>0.000000</td>\n",
       "      <td>0.000000</td>\n",
       "    </tr>\n",
       "    <tr>\n",
       "      <th>max</th>\n",
       "      <td>1.031407</td>\n",
       "      <td>3559.000000</td>\n",
       "      <td>10092.000000</td>\n",
       "      <td>0.009063</td>\n",
       "      <td>100.000000</td>\n",
       "      <td>203.000000</td>\n",
       "      <td>2361.000000</td>\n",
       "      <td>4269.000000</td>\n",
       "      <td>0.045650</td>\n",
       "      <td>121.000000</td>\n",
       "      <td>...</td>\n",
       "      <td>1.000000</td>\n",
       "      <td>1.000000</td>\n",
       "      <td>1.000000</td>\n",
       "      <td>1.000000</td>\n",
       "      <td>1.000000</td>\n",
       "      <td>1.000000</td>\n",
       "      <td>1.000000</td>\n",
       "      <td>1.000000</td>\n",
       "      <td>1.000000</td>\n",
       "      <td>1.000000</td>\n",
       "    </tr>\n",
       "  </tbody>\n",
       "</table>\n",
       "<p>8 rows × 26 columns</p>\n",
       "</div>"
      ],
      "text/plain": [
       "           meanExp         ties     victories        seIAT       weight  \\\n",
       "count  1418.000000  1418.000000   1418.000000  1418.000000  1418.000000   \n",
       "mean      0.444205   436.459803    820.600141     0.000293    76.263047   \n",
       "std       0.101160   464.389587   1019.439932     0.000390     7.105262   \n",
       "min       0.065271     0.000000      0.000000     0.000010    55.000000   \n",
       "25%       0.361671   124.000000    197.000000     0.000120    71.000000   \n",
       "50%       0.402253   288.000000    497.000000     0.000229    76.000000   \n",
       "75%       0.551277   581.500000   1068.750000     0.000306    81.000000   \n",
       "max       1.031407  3559.000000  10092.000000     0.009063   100.000000   \n",
       "\n",
       "            height  yellowCards      defeats        seExp     redCards  \\\n",
       "count  1418.000000  1418.000000  1418.000000  1418.000000  1418.000000   \n",
       "mean    182.159379   242.483780   561.917489     0.001399     7.225670   \n",
       "std       6.799995   290.131377   573.695929     0.001957    13.087291   \n",
       "min     161.000000     0.000000     0.000000     0.000037     0.000000   \n",
       "25%     178.000000    54.000000   173.000000     0.000547     0.000000   \n",
       "50%     182.500000   148.000000   384.500000     0.001002     1.000000   \n",
       "75%     187.000000   320.000000   749.750000     0.001437     9.750000   \n",
       "max     203.000000  2361.000000  4269.000000     0.045650   121.000000   \n",
       "\n",
       "           ...       Center Forward  Center Midfielder  Defensive Midfielder  \\\n",
       "count      ...          1418.000000        1418.000000           1418.000000   \n",
       "mean       ...             0.133286           0.041608              0.120592   \n",
       "std        ...             0.340004           0.199762              0.325768   \n",
       "min        ...             0.000000           0.000000              0.000000   \n",
       "25%        ...             0.000000           0.000000              0.000000   \n",
       "50%        ...             0.000000           0.000000              0.000000   \n",
       "75%        ...             0.000000           0.000000              0.000000   \n",
       "max        ...             1.000000           1.000000              1.000000   \n",
       "\n",
       "        Goalkeeper  Left Fullback  Left Midfielder  Left Winger  \\\n",
       "count  1418.000000    1418.000000      1418.000000  1418.000000   \n",
       "mean      0.111425       0.082511         0.053597     0.037377   \n",
       "std       0.314768       0.275238         0.225299     0.189750   \n",
       "min       0.000000       0.000000         0.000000     0.000000   \n",
       "25%       0.000000       0.000000         0.000000     0.000000   \n",
       "50%       0.000000       0.000000         0.000000     0.000000   \n",
       "75%       0.000000       0.000000         0.000000     0.000000   \n",
       "max       1.000000       1.000000         1.000000     1.000000   \n",
       "\n",
       "       Right Fullback  Right Midfielder  Right Winger  \n",
       "count     1418.000000       1418.000000   1418.000000  \n",
       "mean         0.075458          0.042313      0.039492  \n",
       "std          0.264223          0.201374      0.194832  \n",
       "min          0.000000          0.000000      0.000000  \n",
       "25%          0.000000          0.000000      0.000000  \n",
       "50%          0.000000          0.000000      0.000000  \n",
       "75%          0.000000          0.000000      0.000000  \n",
       "max          1.000000          1.000000      1.000000  \n",
       "\n",
       "[8 rows x 26 columns]"
      ]
     },
     "execution_count": 21,
     "metadata": {},
     "output_type": "execute_result"
    }
   ],
   "source": [
    "df_y = df_p['mean_rater']\n",
    "\n",
    "df_x = df_p.copy()\n",
    "df_x.drop(['mean_rater'],inplace=True,axis=1,errors='ignore')\n",
    "\n",
    "df_x.describe()"
   ]
  },
  {
   "cell_type": "markdown",
   "metadata": {},
   "source": [
    "### Division of the dataset in train/test datasets\n",
    "We will use a training set containing 80% of the data, and a testing set containing 20% of the data\n",
    "\n",
    "When specifying *random_state = 0*, we make sure that the splitting is done everytime at the same place. We can remove this option to have a random splitting instead."
   ]
  },
  {
   "cell_type": "code",
   "execution_count": 22,
   "metadata": {
    "collapsed": false
   },
   "outputs": [
    {
     "data": {
      "text/plain": [
       "((1134, 26), (1134,), (284, 26), (284,))"
      ]
     },
     "execution_count": 22,
     "metadata": {},
     "output_type": "execute_result"
    }
   ],
   "source": [
    "df_x_train, df_x_test, df_y_train, df_y_test = train_test_split(df_x, df_y, test_size=.2, random_state = 0)\n",
    "df_y_test = np.asarray(df_y_test, dtype=\"|S6\")\n",
    "df_x_test = np.asarray(df_x_test, dtype=\"|S6\")\n",
    "df_y_train = np.asarray(df_y_train, dtype=\"|S6\")\n",
    "df_x_train = np.asarray(df_x_train, dtype=\"|S6\")\n",
    "\n",
    "df_x_train.shape, df_y_train.shape, df_x_test.shape, df_y_test.shape"
   ]
  },
  {
   "cell_type": "code",
   "execution_count": 23,
   "metadata": {
    "collapsed": false
   },
   "outputs": [
    {
     "name": "stdout",
     "output_type": "stream",
     "text": [
      "0.742957746479\n"
     ]
    }
   ],
   "source": [
    "# TRAIN RANDOM FOREST\n",
    "\n",
    "# Train model\n",
    "rand_forest_model = sk.ensemble.RandomForestClassifier(n_estimators=1000)\n",
    "rand_forest_model.fit(df_x_train,df_y_train)\n",
    "\n",
    "# Predict from model neigh\n",
    "y_pred = rand_forest_model.predict(df_x_test)\n",
    "\n",
    "# Compute accuracy \n",
    "accuracy_rand_forest = sk.metrics.accuracy_score(df_y_test,y_pred)\n",
    "\n",
    "# Print accuracy\n",
    "print(accuracy_rand_forest)"
   ]
  },
  {
   "cell_type": "markdown",
   "metadata": {},
   "source": [
    "### Cross validation : finding the best parameters\n",
    "\n",
    "We start by defining K = 20 folds.\n"
   ]
  },
  {
   "cell_type": "code",
   "execution_count": 24,
   "metadata": {
    "collapsed": false
   },
   "outputs": [],
   "source": [
    "num_folds = 20"
   ]
  },
  {
   "cell_type": "markdown",
   "metadata": {},
   "source": [
    "#### 1 hyperparameter : number of trees\n",
    "\n",
    "Choices for the number of estimators hyperparameter:\n",
    "We don't go much over 300 trees as the gain is usually minimal in regard to the computational cost."
   ]
  },
  {
   "cell_type": "code",
   "execution_count": 30,
   "metadata": {
    "collapsed": true
   },
   "outputs": [],
   "source": [
    "number_trees = [10, 30, 50, 100, 150, 200, 300, 350]"
   ]
  },
  {
   "cell_type": "code",
   "execution_count": 31,
   "metadata": {
    "collapsed": false
   },
   "outputs": [
    {
     "name": "stdout",
     "output_type": "stream",
     "text": [
      "number_trees_idx :  1 / 8\n",
      "0.70891062768\n",
      "number_trees_idx :  2 / 8\n",
      "0.706353670925\n",
      "number_trees_idx :  3 / 8\n",
      "0.715067182861\n",
      "number_trees_idx :  4 / 8\n",
      "0.712345885169\n",
      "number_trees_idx :  5 / 8\n",
      "0.71596112029\n",
      "number_trees_idx :  6 / 8\n",
      "0.724795706757\n",
      "number_trees_idx :  7 / 8\n",
      "0.715084439987\n",
      "number_trees_idx :  8 / 8\n",
      "0.716884765611\n"
     ]
    }
   ],
   "source": [
    "rf_scores = []\n",
    "rf_param = []\n",
    "\n",
    "#Loop for 1st hyperparameter n_estimators\n",
    "for number_trees_idx, number_trees_value in enumerate(number_trees):\n",
    "    \n",
    "    print('number_trees_idx : ',number_trees_idx+1,'/',len(number_trees))\n",
    "\n",
    "    # Random forest\n",
    "    rand_forest_model = sk.ensemble.RandomForestClassifier(n_estimators=number_trees_value,)\n",
    "\n",
    "    #Scores\n",
    "    scores = cross_val_score(rand_forest_model, df_x_train, df_y_train, cv=num_folds, scoring='accuracy')\n",
    "    rf_scores.append(scores.mean())\n",
    "    rf_param.append(number_trees_value)\n",
    "    print(scores.mean())\n"
   ]
  },
  {
   "cell_type": "code",
   "execution_count": 32,
   "metadata": {
    "collapsed": false
   },
   "outputs": [
    {
     "name": "stdout",
     "output_type": "stream",
     "text": [
      "best accuracy:\n",
      "0.724795706757\n",
      "best parameter:\n",
      "200\n"
     ]
    },
    {
     "data": {
      "image/png": "[encoded data removed]",
      "text/plain": [
       "<matplotlib.figure.Figure at 0x287de8b0ba8>"
      ]
     },
     "metadata": {},
     "output_type": "display_data"
    }
   ],
   "source": [
    "plt.plot(rf_param,rf_scores)\n",
    "plt.xlabel('Value of the parameters for the random forest')\n",
    "plt.ylabel('Cross-Validated Accuracy')\n",
    "\n",
    "idx_best = np.argmax(rf_scores)\n",
    "print('best accuracy:')\n",
    "print(np.max(rf_scores))\n",
    "print('best parameter:')\n",
    "print(rf_param[idx_best])"
   ]
  },
  {
   "cell_type": "markdown",
   "metadata": {},
   "source": [
    "#### 2 hyperparameters : number of trees, max_depth\n",
    "\n",
    "Choices for the number of estimators hyperparameter:"
   ]
  },
  {
   "cell_type": "code",
   "execution_count": 33,
   "metadata": {
    "collapsed": false
   },
   "outputs": [],
   "source": [
    "n_estimators_choices = [50, 100,  150, 200]\n",
    "depth_choices = [5, 10, 15, 20, 25, 30]\n",
    "\n",
    "num_n_estimators = len(n_estimators_choices)\n",
    "num_depth = len(depth_choices)\n"
   ]
  },
  {
   "cell_type": "code",
   "execution_count": 34,
   "metadata": {
    "collapsed": false
   },
   "outputs": [
    {
     "name": "stdout",
     "output_type": "stream",
     "text": [
      ".n_estimators_choices_idx :  1 / 4\n",
      "..depth_choices_idx :  1 / 6\n",
      "0.716961465982\n",
      "..depth_choices_idx :  2 / 6\n",
      "0.726506286171\n",
      "..depth_choices_idx :  3 / 6\n",
      "0.714994181099\n",
      "..depth_choices_idx :  4 / 6\n",
      "0.716793966579\n",
      "..depth_choices_idx :  5 / 6\n",
      "0.714192122987\n",
      "..depth_choices_idx :  6 / 6\n",
      "0.716054024966\n",
      ".n_estimators_choices_idx :  2 / 4\n",
      "..depth_choices_idx :  1 / 6\n",
      "0.72127337631\n",
      "..depth_choices_idx :  2 / 6\n",
      "0.723827714743\n",
      "..depth_choices_idx :  3 / 6\n",
      "0.718606230289\n",
      "..depth_choices_idx :  4 / 6\n",
      "0.713175545527\n",
      "..depth_choices_idx :  5 / 6\n",
      "0.717654442579\n",
      "..depth_choices_idx :  6 / 6\n",
      "0.715856250064\n",
      ".n_estimators_choices_idx :  3 / 4\n",
      "..depth_choices_idx :  1 / 6\n",
      "0.723119614129\n",
      "..depth_choices_idx :  2 / 6\n",
      "0.725674492705\n",
      "..depth_choices_idx :  3 / 6\n",
      "0.717715506255\n",
      "..depth_choices_idx :  4 / 6\n",
      "0.716792913757\n",
      "..depth_choices_idx :  5 / 6\n",
      "0.718501900206\n",
      "..depth_choices_idx :  6 / 6\n",
      "0.716822649113\n",
      ".n_estimators_choices_idx :  4 / 4\n",
      "..depth_choices_idx :  1 / 6\n",
      "0.723149889628\n",
      "..depth_choices_idx :  2 / 6\n",
      "0.730017703889\n",
      "..depth_choices_idx :  3 / 6\n",
      "0.722164127809\n",
      "..depth_choices_idx :  4 / 6\n",
      "0.715007199472\n",
      "..depth_choices_idx :  5 / 6\n",
      "0.721227464116\n",
      "..depth_choices_idx :  6 / 6\n",
      "0.717700894917\n"
     ]
    }
   ],
   "source": [
    "accuracy_tab = np.zeros([num_folds,num_n_estimators])\n",
    "\n",
    "rf_scores = []\n",
    "rf_param = []\n",
    "\n",
    "#Loop for 1st hyperparameter n_estimators\n",
    "for n_estimators_choices_idx, n_estimators_choices_value in enumerate(n_estimators_choices):\n",
    "    print('.n_estimators_choices_idx : ',n_estimators_choices_idx+1,'/',num_n_estimators)\n",
    "    \n",
    "    #Loop for 2nd hyperparameter max_depth\n",
    "    for depth_choices_idx, depth_choices_value in enumerate(depth_choices):\n",
    "        print('..depth_choices_idx : ',depth_choices_idx+1,'/',num_depth)\n",
    "        \n",
    "        # Random forest\n",
    "        rand_forest_model = sk.ensemble.RandomForestClassifier(n_estimators=n_estimators_choices_value,max_depth=depth_choices_value)\n",
    "        \n",
    "        #Scores\n",
    "        scores = cross_val_score(rand_forest_model, df_x_train, df_y_train, cv=num_folds, scoring='accuracy')\n",
    "        rf_scores.append(scores.mean())\n",
    "        rf_param.append([n_estimators_choices_value,depth_choices_value])\n",
    "        print(scores.mean())\n"
   ]
  },
  {
   "cell_type": "code",
   "execution_count": 35,
   "metadata": {
    "collapsed": false
   },
   "outputs": [],
   "source": [
    "\n",
    "# generate 2 2d grids for the x & y bounds\n",
    "x,y = np.meshgrid(n_estimators_choices,depth_choices,sparse=True)\n",
    "\n",
    "z=np.zeros((len(y),len(x[0])))\n",
    "\n",
    "for s in range(0,len(x[0])):\n",
    "    for t in range(0,len(y)):\n",
    "        a=np.transpose(x)[s]\n",
    "        b=y[t]\n",
    "\n",
    "        c=rf_param.index([a,b])\n",
    "        z[t,s]=rf_scores[c]                       \n",
    "z = z[:-1, :-1]"
   ]
  },
  {
   "cell_type": "code",
   "execution_count": 36,
   "metadata": {
    "collapsed": false
   },
   "outputs": [
    {
     "data": {
      "text/plain": [
       "<matplotlib.text.Text at 0x287e420beb8>"
      ]
     },
     "execution_count": 36,
     "metadata": {},
     "output_type": "execute_result"
    },
    {
     "data": {
      "image/png": "[encoded data removed]",
      "text/plain": [
       "<matplotlib.figure.Figure at 0x287e4b1bdd8>"
      ]
     },
     "metadata": {},
     "output_type": "display_data"
    }
   ],
   "source": [
    "\n",
    "z_min, z_max = np.abs(z).min(), np.abs(z).max()\n",
    "\n",
    "plt.pcolor(x, y, z, cmap='Greys', vmin=z_min, vmax=z_max)\n",
    "plt.title('Cross validated-accuracy in function of number of estimators and depth of tree')\n",
    "# set the limits of the plot to the limits of the data\n",
    "plt.colorbar()\n",
    "plt.ylabel('Depth of tree')\n",
    "plt.xlabel('Number of trees')\n",
    "\n"
   ]
  },
  {
   "cell_type": "markdown",
   "metadata": {
    "collapsed": true
   },
   "source": [
    "The best predictors seem to be found in a random forest of depth 10 - which appears more important than the other hyperparameter, given that the crossvalidation accuracy is best at this depth whereas the number of trees has little impact at this depth.\n",
    "\n",
    "Let's retrain this model on the whole dataset."
   ]
  },
  {
   "cell_type": "code",
   "execution_count": 37,
   "metadata": {
    "collapsed": false
   },
   "outputs": [
    {
     "data": {
      "text/plain": [
       "RandomForestClassifier(bootstrap=True, class_weight=None, criterion='gini',\n",
       "            max_depth=10, max_features='auto', max_leaf_nodes=None,\n",
       "            min_impurity_split=1e-07, min_samples_leaf=1,\n",
       "            min_samples_split=2, min_weight_fraction_leaf=0.0,\n",
       "            n_estimators=200, n_jobs=1, oob_score=False, random_state=None,\n",
       "            verbose=0, warm_start=False)"
      ]
     },
     "execution_count": 37,
     "metadata": {},
     "output_type": "execute_result"
    }
   ],
   "source": [
    "# Random forest\n",
    "rand_forest_model = sk.ensemble.RandomForestClassifier(n_estimators=200, max_depth=10)\n",
    "df_y = np.asarray(df_y, dtype=\"|S6\")\n",
    "rand_forest_model.fit(df_x,df_y)\n",
    "\n"
   ]
  },
  {
   "cell_type": "markdown",
   "metadata": {},
   "source": [
    "### Identifying features importance"
   ]
  },
  {
   "cell_type": "code",
   "execution_count": 39,
   "metadata": {
    "collapsed": false,
    "scrolled": false
   },
   "outputs": [
    {
     "name": "stdout",
     "output_type": "stream",
     "text": [
      "Feature ranking:\n",
      "1. feature meanExp (0.119537)\n",
      "2. feature ties (0.101790)\n",
      "3. feature victories (0.101298)\n",
      "4. feature seIAT (0.087021)\n",
      "5. feature weight (0.064246)\n",
      "6. feature height (0.058669)\n",
      "7. feature yellowCards (0.057689)\n",
      "8. feature defeats (0.056275)\n",
      "9. feature seExp (0.054405)\n",
      "10. feature redCards (0.052975)\n",
      "11. feature meanIAT (0.049668)\n",
      "12. feature games (0.045417)\n",
      "13. feature goals (0.041210)\n",
      "14. feature age (0.034431)\n",
      "15. feature Attacking Midfielder (0.013941)\n",
      "16. feature Center Back (0.009994)\n",
      "17. feature Center Forward (0.008439)\n",
      "18. feature Center Midfielder (0.006641)\n",
      "19. feature Defensive Midfielder (0.006544)\n",
      "20. feature Goalkeeper (0.006145)\n",
      "21. feature Left Fullback (0.005934)\n",
      "22. feature Left Midfielder (0.005797)\n",
      "23. feature Left Winger (0.004138)\n",
      "24. feature Right Fullback (0.003064)\n",
      "25. feature Right Midfielder (0.002436)\n",
      "26. feature Right Winger (0.002299)\n"
     ]
    },
    {
     "data": {
      "image/png": "[encoded data removed]",
      "text/plain": [
       "<matplotlib.figure.Figure at 0x28780224e10>"
      ]
     },
     "metadata": {},
     "output_type": "display_data"
    }
   ],
   "source": [
    "importances = rand_forest_model.feature_importances_\n",
    "std = np.std([tree.feature_importances_ for tree in rand_forest_model.estimators_], axis=0)\n",
    "indices = np.argsort(importances)[::-1]\n",
    "\n",
    "# Print the feature ranking\n",
    "print(\"Feature ranking:\")\n",
    "\n",
    "for f in range(df_x.shape[1]):\n",
    "    print(\"%d. feature %s (%f)\" % (f + 1, df_x.columns[f], importances[indices[f]]))\n",
    "plt.figure()\n",
    "\n",
    "plt.title(\"Feature importances\")\n",
    "plt.bar(range(df_x.shape[1]), importances[indices],\n",
    "       color=\"r\", yerr=std[indices], align=\"center\")\n",
    "plt.xticks(range(df_x.shape[1]), df_x.columns[indices])\n",
    "plt.xlim([-1, df_x.shape[1]])\n",
    "plt.show()"
   ]
  },
  {
   "cell_type": "markdown",
   "metadata": {},
   "source": [
    "Let's now remove the features that we assume are the least useful in determining one's skin color (namely, field position data).\n",
    "By retraining the model and verifying its accuracy, we see it has improved slightly."
   ]
  },
  {
   "cell_type": "code",
   "execution_count": 46,
   "metadata": {
    "collapsed": false
   },
   "outputs": [],
   "source": [
    "#df_x.drop(['victories','leagueCountry','birthday_month','birthday_year','birthday_day'],inplace=True,axis=1,errors='ignore')\n",
    "#df_x.drop(['meanIAT','nExp','seIAT','defeats'],inplace=True,axis=1,errors='ignore')\n",
    "df_x.drop(['Right Winger','Right Midfielder','Right Fullback','Left Winger','Left Midfielder','Left Fullback','Goalkeeper','Defensive Midfielder','Center Midfielder', 'Attacking Midfielder', 'Center Back', 'Center Forward'],inplace=True,axis=1,errors='ignore')"
   ]
  },
  {
   "cell_type": "code",
   "execution_count": 52,
   "metadata": {
    "collapsed": false
   },
   "outputs": [
    {
     "name": "stdout",
     "output_type": "stream",
     "text": [
      "0.732394366197\n"
     ]
    }
   ],
   "source": [
    "df_x_train, df_x_test, df_y_train, df_y_test = train_test_split(df_x, df_y, test_size=.2, random_state = 0)\n",
    "\n",
    "rand_forest_model.fit(df_x_train,df_y_train)\n",
    "# Predict from model neigh\n",
    "y_pred = rand_forest_model.predict(df_x_test)\n",
    "\n",
    "# Compute accuracy \n",
    "accuracy_rand_forest = sk.metrics.accuracy_score(df_y_test,y_pred)\n",
    "\n",
    "# Print accuracy and exectution time\n",
    "print(accuracy_rand_forest)"
   ]
  },
  {
   "cell_type": "markdown",
   "metadata": {},
   "source": [
    "The random forest will be trained again on the whole set, using the same model parameters."
   ]
  },
  {
   "cell_type": "code",
   "execution_count": 53,
   "metadata": {
    "collapsed": false
   },
   "outputs": [
    {
     "data": {
      "text/plain": [
       "RandomForestClassifier(bootstrap=True, class_weight=None, criterion='gini',\n",
       "            max_depth=10, max_features='auto', max_leaf_nodes=None,\n",
       "            min_impurity_split=1e-07, min_samples_leaf=1,\n",
       "            min_samples_split=2, min_weight_fraction_leaf=0.0,\n",
       "            n_estimators=200, n_jobs=1, oob_score=False, random_state=None,\n",
       "            verbose=0, warm_start=False)"
      ]
     },
     "execution_count": 53,
     "metadata": {},
     "output_type": "execute_result"
    }
   ],
   "source": [
    "rand_forest_model.fit(df_x,df_y)\n"
   ]
  },
  {
   "cell_type": "markdown",
   "metadata": {},
   "source": [
    "Let's have a look at the features importance now"
   ]
  },
  {
   "cell_type": "code",
   "execution_count": 54,
   "metadata": {
    "collapsed": false
   },
   "outputs": [
    {
     "name": "stdout",
     "output_type": "stream",
     "text": [
      "Feature ranking:\n",
      "1. feature meanExp (0.123320)\n",
      "2. feature ties (0.108419)\n",
      "3. feature victories (0.105549)\n",
      "4. feature seIAT (0.095400)\n",
      "5. feature weight (0.071317)\n",
      "6. feature height (0.066954)\n",
      "7. feature yellowCards (0.064960)\n",
      "8. feature defeats (0.061648)\n",
      "9. feature seExp (0.060533)\n",
      "10. feature redCards (0.060353)\n",
      "11. feature meanIAT (0.053236)\n",
      "12. feature games (0.047828)\n",
      "13. feature goals (0.045699)\n",
      "14. feature age (0.034784)\n"
     ]
    },
    {
     "data": {
      "image/png": "[encoded data removed]",
      "text/plain": [
       "<matplotlib.figure.Figure at 0x2878021de10>"
      ]
     },
     "metadata": {},
     "output_type": "display_data"
    }
   ],
   "source": [
    "importances = rand_forest_model.feature_importances_\n",
    "std = np.std([tree.feature_importances_ for tree in rand_forest_model.estimators_],\n",
    "             axis=0)\n",
    "indices = np.argsort(importances)[::-1]\n",
    "\n",
    "# Print the feature ranking\n",
    "print(\"Feature ranking:\")\n",
    "\n",
    "for f in range(df_x.shape[1]):\n",
    "    print(\"%d. feature %s (%f)\" % (f + 1, df_x.columns[f], importances[indices[f]]))\n",
    "plt.figure()\n",
    "\n",
    "plt.title(\"Feature importances\")\n",
    "plt.bar(range(df_x.shape[1]), importances[indices],\n",
    "       color=\"r\", yerr=std[indices], align=\"center\")\n",
    "plt.xticks(range(df_x.shape[1]), indices)\n",
    "plt.xlim([-1, df_x.shape[1]])\n",
    "plt.show()"
   ]
  },
  {
   "cell_type": "markdown",
   "metadata": {},
   "source": [
    "## Bonus question"
   ]
  },
  {
   "cell_type": "markdown",
   "metadata": {},
   "source": [
    "Firstly the learning curve of the best model will be plotted. Using the features that could have an importance in determining a footballer's color skin"
   ]
  },
  {
   "cell_type": "code",
   "execution_count": 55,
   "metadata": {
    "collapsed": false
   },
   "outputs": [
    {
     "data": {
      "text/plain": [
       "<matplotlib.legend.Legend at 0x287802e57b8>"
      ]
     },
     "execution_count": 55,
     "metadata": {},
     "output_type": "execute_result"
    },
    {
     "data": {
      "image/png": "[encoded data removed]",
      "text/plain": [
       "<matplotlib.figure.Figure at 0x287e4bb0860>"
      ]
     },
     "metadata": {},
     "output_type": "display_data"
    }
   ],
   "source": [
    "    rand_forest_model = sk.ensemble.RandomForestClassifier(n_estimators=1000)\n",
    "    plt.figure()\n",
    "    plt.title(\"Best model\")\n",
    "    plt.xlabel(\"Training examples\")\n",
    "    plt.ylabel(\"Score\")\n",
    "    train_sizes, train_scores, test_scores = learning_curve(\n",
    "        rand_forest_model, df_x, df_y, cv=20)\n",
    "    train_scores_mean = np.mean(train_scores, axis=1)\n",
    "    train_scores_std = np.std(train_scores, axis=1)\n",
    "    test_scores_mean = np.mean(test_scores, axis=1)\n",
    "    test_scores_std = np.std(test_scores, axis=1)\n",
    "    plt.grid()\n",
    "\n",
    "    \n",
    "    plt.fill_between(train_sizes, train_scores_mean - train_scores_std,\n",
    "                     train_scores_mean + train_scores_std, alpha=0.1,\n",
    "                     color=\"r\")\n",
    "    plt.fill_between(train_sizes, test_scores_mean - test_scores_std,\n",
    "                     test_scores_mean + test_scores_std, alpha=0.1, color=\"g\")\n",
    "    plt.plot(train_sizes, train_scores_mean, 'o-', color=\"r\",\n",
    "             label=\"Training score\")\n",
    "    plt.plot(train_sizes, test_scores_mean, 'o-', color=\"g\",\n",
    "             label=\"Cross-validation score\")\n",
    "\n",
    "    axes = plt.gca()\n",
    "    axes.set_ylim([0.4,1.05])\n",
    "\n",
    "    plt.legend(loc=\"best\")\n",
    "\n",
    "\n"
   ]
  },
  {
   "cell_type": "markdown",
   "metadata": {},
   "source": [
    "Now the learning curve of the worst model will be plotted"
   ]
  },
  {
   "cell_type": "markdown",
   "metadata": {},
   "source": [
    "First let's determine which was the worst model"
   ]
  },
  {
   "cell_type": "code",
   "execution_count": 64,
   "metadata": {
    "collapsed": false
   },
   "outputs": [
    {
     "name": "stdout",
     "output_type": "stream",
     "text": [
      "0.713175545527\n",
      "[100, 20]\n"
     ]
    }
   ],
   "source": [
    "#idx_worst = np.argmin(rf_scores)\n",
    "#print(np.min(rf_scores))\n",
    "#print(rf_param[idx_best])\n",
    "#The worst model was when using 100 trees and a depth of 20"
   ]
  },
  {
   "cell_type": "markdown",
   "metadata": {},
   "source": [
    "Having a single tree in the \"forest\" gives a rather bad fit."
   ]
  },
  {
   "cell_type": "code",
   "execution_count": 96,
   "metadata": {
    "collapsed": false
   },
   "outputs": [],
   "source": [
    "rand_forest_model = sk.ensemble.RandomForestClassifier(n_estimators=9, max_depth=20)\n"
   ]
  },
  {
   "cell_type": "code",
   "execution_count": 97,
   "metadata": {
    "collapsed": false
   },
   "outputs": [
    {
     "data": {
      "text/plain": [
       "<matplotlib.legend.Legend at 0x2878080acf8>"
      ]
     },
     "execution_count": 97,
     "metadata": {},
     "output_type": "execute_result"
    },
    {
     "data": {
      "image/png": "[encoded data removed]",
      "text/plain": [
       "<matplotlib.figure.Figure at 0x28780793c88>"
      ]
     },
     "metadata": {},
     "output_type": "display_data"
    }
   ],
   "source": [
    "    plt.figure()\n",
    "    plt.title(\"Worst model\")\n",
    "    plt.xlabel(\"Training examples\")\n",
    "    plt.ylabel(\"Score\")\n",
    "    train_sizes, train_scores, test_scores = learning_curve(\n",
    "        rand_forest_model, df_x, df_y, cv=20)\n",
    "    train_scores_mean = np.mean(train_scores, axis=1)\n",
    "    train_scores_std = np.std(train_scores, axis=1)\n",
    "    test_scores_mean = np.mean(test_scores, axis=1)\n",
    "    test_scores_std = np.std(test_scores, axis=1)\n",
    "    plt.grid()\n",
    "\n",
    "    plt.fill_between(train_sizes, train_scores_mean - train_scores_std,\n",
    "                     train_scores_mean + train_scores_std, alpha=0.1,\n",
    "                     color=\"r\")\n",
    "    plt.fill_between(train_sizes, test_scores_mean - test_scores_std,\n",
    "                     test_scores_mean + test_scores_std, alpha=0.1, color=\"g\")\n",
    "    plt.plot(train_sizes, train_scores_mean, 'o-', color=\"r\",\n",
    "             label=\"Training score\")\n",
    "    plt.plot(train_sizes, test_scores_mean, 'o-', color=\"g\",\n",
    "             label=\"Cross-validation score\")\n",
    "    axes = plt.gca()\n",
    "axes.set_ylim([0.4,1.05])\n",
    "\n",
    "    plt.legend(loc=\"best\")\n",
    "\n"
   ]
  },
  {
   "cell_type": "markdown",
   "metadata": {},
   "source": [
    "As it can be seen the worst model has more overfitting, having an accuracy close to 1 when training but showing a worse performance when testing on a subset of the data it hasn't trained on"
   ]
  },
  {
   "cell_type": "markdown",
   "metadata": {},
   "source": [
    "# 2. Clustering\n",
    "Now, we will work on referee information. We come back to our aggregated and cleaned dataframe df_p."
   ]
  },
  {
   "cell_type": "code",
   "execution_count": 675,
   "metadata": {
    "collapsed": false
   },
   "outputs": [
    {
     "data": {
      "text/plain": [
       "38286"
      ]
     },
     "execution_count": 675,
     "metadata": {},
     "output_type": "execute_result"
    }
   ],
   "source": [
    "df_p.size"
   ]
  },
  {
   "cell_type": "markdown",
   "metadata": {},
   "source": [
    "## Aggregating the referee information"
   ]
  },
  {
   "cell_type": "code",
   "execution_count": 98,
   "metadata": {
    "collapsed": false,
    "scrolled": true
   },
   "outputs": [
    {
     "data": {
      "text/plain": [
       "0.67076279798086069"
      ]
     },
     "execution_count": 98,
     "metadata": {},
     "output_type": "execute_result"
    }
   ],
   "source": [
    "kmeans_model = KMeans(n_clusters=2, random_state=0).fit_predict(df_p, y=df_p['mean_rater'])\n",
    "\n",
    "\n",
    "metrics.silhouette_score(df_p, kmeans_model, metric='euclidean')\n",
    "\n"
   ]
  },
  {
   "cell_type": "code",
   "execution_count": 103,
   "metadata": {
    "collapsed": false
   },
   "outputs": [
    {
     "name": "stdout",
     "output_type": "stream",
     "text": [
      "best silhouette score:\n",
      "0.677928281922\n",
      "best feature to delete:\n",
      "goals\n",
      "best silhouette score:\n",
      "0.681227217258\n",
      "best feature to delete:\n",
      "yellowCards\n",
      "best silhouette score:\n",
      "0.686083729114\n",
      "best feature to delete:\n",
      "victories\n",
      "best silhouette score:\n",
      "0.691952870474\n",
      "best feature to delete:\n",
      "defeats\n",
      "best silhouette score:\n",
      "0.693242492097\n",
      "best feature to delete:\n",
      "ties\n",
      "best silhouette score:\n",
      "0.693310829265\n",
      "best feature to delete:\n",
      "redCards\n",
      "best silhouette score:\n",
      "0.693350986545\n",
      "best feature to delete:\n",
      "weight\n",
      "best silhouette score:\n",
      "0.693391185706\n",
      "best feature to delete:\n",
      "height\n",
      "best silhouette score:\n",
      "0.693402934994\n",
      "best feature to delete:\n",
      "age\n",
      "best silhouette score:\n",
      "0.693403110517\n",
      "best feature to delete:\n",
      "Center Back\n",
      "best silhouette score:\n",
      "0.693403260934\n",
      "best feature to delete:\n",
      "Center Forward\n",
      "best silhouette score:\n",
      "0.693403402363\n",
      "best feature to delete:\n",
      "Defensive Midfielder\n",
      "best silhouette score:\n",
      "0.693403532833\n",
      "best feature to delete:\n",
      "Goalkeeper\n",
      "best silhouette score:\n",
      "0.693403641993\n",
      "best feature to delete:\n",
      "Attacking Midfielder\n",
      "best silhouette score:\n",
      "0.693403745829\n",
      "best feature to delete:\n",
      "Left Fullback\n",
      "best silhouette score:\n",
      "0.693403839891\n",
      "best feature to delete:\n",
      "Right Fullback\n"
     ]
    }
   ],
   "source": [
    "df_c = df_cluster.copy()\n",
    "loop_size = len(df_c.columns)\n",
    "\n",
    "df_c.drop('mean_rater',inplace=True,axis=1,errors='ignore')\n",
    "loop_size = len(df_c.columns)\n",
    "#Loop for features refining\n",
    "\n",
    "for i in range(0, loop_size -10):\n",
    "    cluster_scores = []\n",
    "    for i in range(0, len(df_c.columns)):\n",
    "        df_c_temp = df_c.copy()\n",
    "        df_c_temp.drop(df_c_temp.columns[i],inplace=True,axis=1,errors='ignore')\n",
    "\n",
    "\n",
    "        # KMeans clustering\n",
    "        kmeans_model = KMeans(n_clusters=2, random_state=0).fit_predict(df_c_temp, y=df_p['mean_rater'])\n",
    "\n",
    "        #Scores\n",
    "        score = metrics.silhouette_score(df_c_temp, kmeans_model, metric='euclidean')\n",
    "        cluster_scores.append(score)\n",
    "    \n",
    "    print('best silhouette score:')\n",
    "    print(np.max(cluster_scores))\n",
    "    print('best feature to delete:')\n",
    "    print(df_c.columns[np.argmax(cluster_scores)])\n",
    "    \n",
    "    df_c.drop(df_c.columns[np.argmax(cluster_scores)], inplace=True,axis=1,errors='ignore')\n",
    "\n",
    "\n"
   ]
  },
  {
   "cell_type": "code",
   "execution_count": null,
   "metadata": {
    "collapsed": true
   },
   "outputs": [],
   "source": []
  },
  {
   "cell_type": "code",
   "execution_count": null,
   "metadata": {
    "collapsed": true
   },
   "outputs": [],
   "source": []
  },
  {
   "cell_type": "code",
   "execution_count": null,
   "metadata": {
    "collapsed": true
   },
   "outputs": [],
   "source": []
  }
 ],
 "metadata": {
  "anaconda-cloud": {},
  "kernelspec": {
   "display_name": "Python [Root]",
   "language": "python",
   "name": "Python [Root]"
  },
  "language_info": {
   "codemirror_mode": {
    "name": "ipython",
    "version": 3
   },
   "file_extension": ".py",
   "mimetype": "text/x-python",
   "name": "python",
   "nbconvert_exporter": "python",
   "pygments_lexer": "ipython3",
   "version": "3.5.2"
  }
 },
 "nbformat": 4,
 "nbformat_minor": 1
}
