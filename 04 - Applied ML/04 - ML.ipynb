{
 "cells": [
  {
   "cell_type": "markdown",
   "metadata": {},
   "source": [
    "# Machine Learning\n",
    "\n",
    "In this homework we will gain experience on Applied Machine Learning, exploring an interesting dataset about soccer players and referees. "
   ]
  },
  {
   "cell_type": "code",
   "execution_count": 156,
   "metadata": {
    "collapsed": false
   },
   "outputs": [],
   "source": [
    "import pandas as pd\n",
    "import numpy as np\n",
    "import os\n",
    "from IPython.display import Image\n",
    "from IPython.core.display import HTML \n",
    "import matplotlib.pyplot as plt  \n",
    "% matplotlib inline\n",
    "import random\n",
    "pd.options.mode.chained_assignment = None  # default='warn'\n",
    "import sklearn as sk\n",
    "from sklearn import preprocessing, ensemble\n",
    "from sklearn.model_selection import train_test_split\n",
    "from sklearn.cross_validation import KFold\n",
    "from sklearn.cross_validation import cross_val_score\n",
    "from sklearn.model_selection import learning_curve\n",
    "\n",
    "from sklearn.cluster import KMeans\n",
    "from sklearn import metrics\n",
    "from sklearn.metrics import pairwise_distances"
   ]
  },
  {
   "cell_type": "code",
   "execution_count": 2,
   "metadata": {
    "collapsed": false
   },
   "outputs": [],
   "source": [
    "df = pd.read_csv(\"CrowdstormingDataJuly1st.csv\")"
   ]
  },
  {
   "cell_type": "markdown",
   "metadata": {},
   "source": [
    "## 1. Data cleaning and exploration"
   ]
  },
  {
   "cell_type": "markdown",
   "metadata": {},
   "source": [
    "First, let us have a look at the data, with respect to the comprehensive description of it's variable in DATA.md. Here we describe and observe the data (10 first rows)."
   ]
  },
  {
   "cell_type": "code",
   "execution_count": 3,
   "metadata": {
    "collapsed": false
   },
   "outputs": [
    {
     "name": "stderr",
     "output_type": "stream",
     "text": [
      "C:\\Users\\Mathieu\\Anaconda3\\lib\\site-packages\\numpy\\lib\\function_base.py:3834: RuntimeWarning: Invalid value encountered in percentile\n",
      "  RuntimeWarning)\n"
     ]
    },
    {
     "data": {
      "text/html": [
       "<div>\n",
       "<table border=\"1\" class=\"dataframe\">\n",
       "  <thead>\n",
       "    <tr style=\"text-align: right;\">\n",
       "      <th></th>\n",
       "      <th>height</th>\n",
       "      <th>weight</th>\n",
       "      <th>games</th>\n",
       "      <th>victories</th>\n",
       "      <th>ties</th>\n",
       "      <th>defeats</th>\n",
       "      <th>goals</th>\n",
       "      <th>yellowCards</th>\n",
       "      <th>yellowReds</th>\n",
       "      <th>redCards</th>\n",
       "      <th>rater1</th>\n",
       "      <th>rater2</th>\n",
       "      <th>refNum</th>\n",
       "      <th>refCountry</th>\n",
       "      <th>meanIAT</th>\n",
       "      <th>nIAT</th>\n",
       "      <th>seIAT</th>\n",
       "      <th>meanExp</th>\n",
       "      <th>nExp</th>\n",
       "      <th>seExp</th>\n",
       "    </tr>\n",
       "  </thead>\n",
       "  <tbody>\n",
       "    <tr>\n",
       "      <th>count</th>\n",
       "      <td>145765.000000</td>\n",
       "      <td>143785.000000</td>\n",
       "      <td>146028.000000</td>\n",
       "      <td>146028.000000</td>\n",
       "      <td>146028.000000</td>\n",
       "      <td>146028.000000</td>\n",
       "      <td>146028.000000</td>\n",
       "      <td>146028.000000</td>\n",
       "      <td>146028.000000</td>\n",
       "      <td>146028.000000</td>\n",
       "      <td>124621.000000</td>\n",
       "      <td>124621.000000</td>\n",
       "      <td>146028.000000</td>\n",
       "      <td>146028.000000</td>\n",
       "      <td>145865.000000</td>\n",
       "      <td>1.458650e+05</td>\n",
       "      <td>1.458650e+05</td>\n",
       "      <td>145865.000000</td>\n",
       "      <td>1.458650e+05</td>\n",
       "      <td>145865.000000</td>\n",
       "    </tr>\n",
       "    <tr>\n",
       "      <th>mean</th>\n",
       "      <td>181.935938</td>\n",
       "      <td>76.075662</td>\n",
       "      <td>2.921166</td>\n",
       "      <td>1.278344</td>\n",
       "      <td>0.708241</td>\n",
       "      <td>0.934581</td>\n",
       "      <td>0.338058</td>\n",
       "      <td>0.385364</td>\n",
       "      <td>0.011381</td>\n",
       "      <td>0.012559</td>\n",
       "      <td>0.264255</td>\n",
       "      <td>0.302862</td>\n",
       "      <td>1534.827444</td>\n",
       "      <td>29.642842</td>\n",
       "      <td>0.346276</td>\n",
       "      <td>1.969741e+04</td>\n",
       "      <td>6.310849e-04</td>\n",
       "      <td>0.452026</td>\n",
       "      <td>2.044023e+04</td>\n",
       "      <td>0.002994</td>\n",
       "    </tr>\n",
       "    <tr>\n",
       "      <th>std</th>\n",
       "      <td>6.738726</td>\n",
       "      <td>7.140906</td>\n",
       "      <td>3.413633</td>\n",
       "      <td>1.790725</td>\n",
       "      <td>1.116793</td>\n",
       "      <td>1.383059</td>\n",
       "      <td>0.906481</td>\n",
       "      <td>0.795333</td>\n",
       "      <td>0.107931</td>\n",
       "      <td>0.112889</td>\n",
       "      <td>0.295382</td>\n",
       "      <td>0.293020</td>\n",
       "      <td>918.736625</td>\n",
       "      <td>27.496189</td>\n",
       "      <td>0.032246</td>\n",
       "      <td>1.271262e+05</td>\n",
       "      <td>4.735857e-03</td>\n",
       "      <td>0.217469</td>\n",
       "      <td>1.306157e+05</td>\n",
       "      <td>0.019723</td>\n",
       "    </tr>\n",
       "    <tr>\n",
       "      <th>min</th>\n",
       "      <td>161.000000</td>\n",
       "      <td>54.000000</td>\n",
       "      <td>1.000000</td>\n",
       "      <td>0.000000</td>\n",
       "      <td>0.000000</td>\n",
       "      <td>0.000000</td>\n",
       "      <td>0.000000</td>\n",
       "      <td>0.000000</td>\n",
       "      <td>0.000000</td>\n",
       "      <td>0.000000</td>\n",
       "      <td>0.000000</td>\n",
       "      <td>0.000000</td>\n",
       "      <td>1.000000</td>\n",
       "      <td>1.000000</td>\n",
       "      <td>-0.047254</td>\n",
       "      <td>2.000000e+00</td>\n",
       "      <td>2.235373e-07</td>\n",
       "      <td>-1.375000</td>\n",
       "      <td>2.000000e+00</td>\n",
       "      <td>0.000001</td>\n",
       "    </tr>\n",
       "    <tr>\n",
       "      <th>25%</th>\n",
       "      <td>NaN</td>\n",
       "      <td>NaN</td>\n",
       "      <td>1.000000</td>\n",
       "      <td>0.000000</td>\n",
       "      <td>0.000000</td>\n",
       "      <td>0.000000</td>\n",
       "      <td>0.000000</td>\n",
       "      <td>0.000000</td>\n",
       "      <td>0.000000</td>\n",
       "      <td>0.000000</td>\n",
       "      <td>NaN</td>\n",
       "      <td>NaN</td>\n",
       "      <td>641.000000</td>\n",
       "      <td>7.000000</td>\n",
       "      <td>NaN</td>\n",
       "      <td>NaN</td>\n",
       "      <td>NaN</td>\n",
       "      <td>NaN</td>\n",
       "      <td>NaN</td>\n",
       "      <td>NaN</td>\n",
       "    </tr>\n",
       "    <tr>\n",
       "      <th>50%</th>\n",
       "      <td>NaN</td>\n",
       "      <td>NaN</td>\n",
       "      <td>2.000000</td>\n",
       "      <td>1.000000</td>\n",
       "      <td>0.000000</td>\n",
       "      <td>1.000000</td>\n",
       "      <td>0.000000</td>\n",
       "      <td>0.000000</td>\n",
       "      <td>0.000000</td>\n",
       "      <td>0.000000</td>\n",
       "      <td>NaN</td>\n",
       "      <td>NaN</td>\n",
       "      <td>1604.000000</td>\n",
       "      <td>21.000000</td>\n",
       "      <td>NaN</td>\n",
       "      <td>NaN</td>\n",
       "      <td>NaN</td>\n",
       "      <td>NaN</td>\n",
       "      <td>NaN</td>\n",
       "      <td>NaN</td>\n",
       "    </tr>\n",
       "    <tr>\n",
       "      <th>75%</th>\n",
       "      <td>NaN</td>\n",
       "      <td>NaN</td>\n",
       "      <td>3.000000</td>\n",
       "      <td>2.000000</td>\n",
       "      <td>1.000000</td>\n",
       "      <td>1.000000</td>\n",
       "      <td>0.000000</td>\n",
       "      <td>1.000000</td>\n",
       "      <td>0.000000</td>\n",
       "      <td>0.000000</td>\n",
       "      <td>NaN</td>\n",
       "      <td>NaN</td>\n",
       "      <td>2345.000000</td>\n",
       "      <td>44.000000</td>\n",
       "      <td>NaN</td>\n",
       "      <td>NaN</td>\n",
       "      <td>NaN</td>\n",
       "      <td>NaN</td>\n",
       "      <td>NaN</td>\n",
       "      <td>NaN</td>\n",
       "    </tr>\n",
       "    <tr>\n",
       "      <th>max</th>\n",
       "      <td>203.000000</td>\n",
       "      <td>100.000000</td>\n",
       "      <td>47.000000</td>\n",
       "      <td>29.000000</td>\n",
       "      <td>14.000000</td>\n",
       "      <td>18.000000</td>\n",
       "      <td>23.000000</td>\n",
       "      <td>14.000000</td>\n",
       "      <td>3.000000</td>\n",
       "      <td>2.000000</td>\n",
       "      <td>1.000000</td>\n",
       "      <td>1.000000</td>\n",
       "      <td>3147.000000</td>\n",
       "      <td>161.000000</td>\n",
       "      <td>0.573793</td>\n",
       "      <td>1.975803e+06</td>\n",
       "      <td>2.862871e-01</td>\n",
       "      <td>1.800000</td>\n",
       "      <td>2.029548e+06</td>\n",
       "      <td>1.060660</td>\n",
       "    </tr>\n",
       "  </tbody>\n",
       "</table>\n",
       "</div>"
      ],
      "text/plain": [
       "              height         weight          games      victories  \\\n",
       "count  145765.000000  143785.000000  146028.000000  146028.000000   \n",
       "mean      181.935938      76.075662       2.921166       1.278344   \n",
       "std         6.738726       7.140906       3.413633       1.790725   \n",
       "min       161.000000      54.000000       1.000000       0.000000   \n",
       "25%              NaN            NaN       1.000000       0.000000   \n",
       "50%              NaN            NaN       2.000000       1.000000   \n",
       "75%              NaN            NaN       3.000000       2.000000   \n",
       "max       203.000000     100.000000      47.000000      29.000000   \n",
       "\n",
       "                ties        defeats          goals    yellowCards  \\\n",
       "count  146028.000000  146028.000000  146028.000000  146028.000000   \n",
       "mean        0.708241       0.934581       0.338058       0.385364   \n",
       "std         1.116793       1.383059       0.906481       0.795333   \n",
       "min         0.000000       0.000000       0.000000       0.000000   \n",
       "25%         0.000000       0.000000       0.000000       0.000000   \n",
       "50%         0.000000       1.000000       0.000000       0.000000   \n",
       "75%         1.000000       1.000000       0.000000       1.000000   \n",
       "max        14.000000      18.000000      23.000000      14.000000   \n",
       "\n",
       "          yellowReds       redCards         rater1         rater2  \\\n",
       "count  146028.000000  146028.000000  124621.000000  124621.000000   \n",
       "mean        0.011381       0.012559       0.264255       0.302862   \n",
       "std         0.107931       0.112889       0.295382       0.293020   \n",
       "min         0.000000       0.000000       0.000000       0.000000   \n",
       "25%         0.000000       0.000000            NaN            NaN   \n",
       "50%         0.000000       0.000000            NaN            NaN   \n",
       "75%         0.000000       0.000000            NaN            NaN   \n",
       "max         3.000000       2.000000       1.000000       1.000000   \n",
       "\n",
       "              refNum     refCountry        meanIAT          nIAT  \\\n",
       "count  146028.000000  146028.000000  145865.000000  1.458650e+05   \n",
       "mean     1534.827444      29.642842       0.346276  1.969741e+04   \n",
       "std       918.736625      27.496189       0.032246  1.271262e+05   \n",
       "min         1.000000       1.000000      -0.047254  2.000000e+00   \n",
       "25%       641.000000       7.000000            NaN           NaN   \n",
       "50%      1604.000000      21.000000            NaN           NaN   \n",
       "75%      2345.000000      44.000000            NaN           NaN   \n",
       "max      3147.000000     161.000000       0.573793  1.975803e+06   \n",
       "\n",
       "              seIAT        meanExp          nExp          seExp  \n",
       "count  1.458650e+05  145865.000000  1.458650e+05  145865.000000  \n",
       "mean   6.310849e-04       0.452026  2.044023e+04       0.002994  \n",
       "std    4.735857e-03       0.217469  1.306157e+05       0.019723  \n",
       "min    2.235373e-07      -1.375000  2.000000e+00       0.000001  \n",
       "25%             NaN            NaN           NaN            NaN  \n",
       "50%             NaN            NaN           NaN            NaN  \n",
       "75%             NaN            NaN           NaN            NaN  \n",
       "max    2.862871e-01       1.800000  2.029548e+06       1.060660  "
      ]
     },
     "execution_count": 3,
     "metadata": {},
     "output_type": "execute_result"
    }
   ],
   "source": [
    "df.describe()"
   ]
  },
  {
   "cell_type": "code",
   "execution_count": 4,
   "metadata": {
    "collapsed": false
   },
   "outputs": [
    {
     "data": {
      "text/html": [
       "<div>\n",
       "<table border=\"1\" class=\"dataframe\">\n",
       "  <thead>\n",
       "    <tr style=\"text-align: right;\">\n",
       "      <th></th>\n",
       "      <th>playerShort</th>\n",
       "      <th>player</th>\n",
       "      <th>club</th>\n",
       "      <th>leagueCountry</th>\n",
       "      <th>birthday</th>\n",
       "      <th>height</th>\n",
       "      <th>weight</th>\n",
       "      <th>position</th>\n",
       "      <th>games</th>\n",
       "      <th>victories</th>\n",
       "    </tr>\n",
       "  </thead>\n",
       "  <tbody>\n",
       "    <tr>\n",
       "      <th>0</th>\n",
       "      <td>lucas-wilchez</td>\n",
       "      <td>Lucas Wilchez</td>\n",
       "      <td>Real Zaragoza</td>\n",
       "      <td>Spain</td>\n",
       "      <td>31.08.1983</td>\n",
       "      <td>177.0</td>\n",
       "      <td>72.0</td>\n",
       "      <td>Attacking Midfielder</td>\n",
       "      <td>1</td>\n",
       "      <td>0</td>\n",
       "    </tr>\n",
       "    <tr>\n",
       "      <th>1</th>\n",
       "      <td>john-utaka</td>\n",
       "      <td>John Utaka</td>\n",
       "      <td>Montpellier HSC</td>\n",
       "      <td>France</td>\n",
       "      <td>08.01.1982</td>\n",
       "      <td>179.0</td>\n",
       "      <td>82.0</td>\n",
       "      <td>Right Winger</td>\n",
       "      <td>1</td>\n",
       "      <td>0</td>\n",
       "    </tr>\n",
       "    <tr>\n",
       "      <th>2</th>\n",
       "      <td>abdon-prats</td>\n",
       "      <td>Abdón Prats</td>\n",
       "      <td>RCD Mallorca</td>\n",
       "      <td>Spain</td>\n",
       "      <td>17.12.1992</td>\n",
       "      <td>181.0</td>\n",
       "      <td>79.0</td>\n",
       "      <td>NaN</td>\n",
       "      <td>1</td>\n",
       "      <td>0</td>\n",
       "    </tr>\n",
       "    <tr>\n",
       "      <th>3</th>\n",
       "      <td>pablo-mari</td>\n",
       "      <td>Pablo Marí</td>\n",
       "      <td>RCD Mallorca</td>\n",
       "      <td>Spain</td>\n",
       "      <td>31.08.1993</td>\n",
       "      <td>191.0</td>\n",
       "      <td>87.0</td>\n",
       "      <td>Center Back</td>\n",
       "      <td>1</td>\n",
       "      <td>1</td>\n",
       "    </tr>\n",
       "    <tr>\n",
       "      <th>4</th>\n",
       "      <td>ruben-pena</td>\n",
       "      <td>Rubén Peña</td>\n",
       "      <td>Real Valladolid</td>\n",
       "      <td>Spain</td>\n",
       "      <td>18.07.1991</td>\n",
       "      <td>172.0</td>\n",
       "      <td>70.0</td>\n",
       "      <td>Right Midfielder</td>\n",
       "      <td>1</td>\n",
       "      <td>1</td>\n",
       "    </tr>\n",
       "    <tr>\n",
       "      <th>5</th>\n",
       "      <td>aaron-hughes</td>\n",
       "      <td>Aaron Hughes</td>\n",
       "      <td>Fulham FC</td>\n",
       "      <td>England</td>\n",
       "      <td>08.11.1979</td>\n",
       "      <td>182.0</td>\n",
       "      <td>71.0</td>\n",
       "      <td>Center Back</td>\n",
       "      <td>1</td>\n",
       "      <td>0</td>\n",
       "    </tr>\n",
       "    <tr>\n",
       "      <th>6</th>\n",
       "      <td>aleksandar-kolarov</td>\n",
       "      <td>Aleksandar Kolarov</td>\n",
       "      <td>Manchester City</td>\n",
       "      <td>England</td>\n",
       "      <td>10.11.1985</td>\n",
       "      <td>187.0</td>\n",
       "      <td>80.0</td>\n",
       "      <td>Left Fullback</td>\n",
       "      <td>1</td>\n",
       "      <td>1</td>\n",
       "    </tr>\n",
       "    <tr>\n",
       "      <th>7</th>\n",
       "      <td>alexander-tettey</td>\n",
       "      <td>Alexander Tettey</td>\n",
       "      <td>Norwich City</td>\n",
       "      <td>England</td>\n",
       "      <td>04.04.1986</td>\n",
       "      <td>180.0</td>\n",
       "      <td>68.0</td>\n",
       "      <td>Defensive Midfielder</td>\n",
       "      <td>1</td>\n",
       "      <td>0</td>\n",
       "    </tr>\n",
       "    <tr>\n",
       "      <th>8</th>\n",
       "      <td>anders-lindegaard</td>\n",
       "      <td>Anders Lindegaard</td>\n",
       "      <td>Manchester United</td>\n",
       "      <td>England</td>\n",
       "      <td>13.04.1984</td>\n",
       "      <td>193.0</td>\n",
       "      <td>80.0</td>\n",
       "      <td>Goalkeeper</td>\n",
       "      <td>1</td>\n",
       "      <td>0</td>\n",
       "    </tr>\n",
       "    <tr>\n",
       "      <th>9</th>\n",
       "      <td>andreas-beck</td>\n",
       "      <td>Andreas Beck</td>\n",
       "      <td>1899 Hoffenheim</td>\n",
       "      <td>Germany</td>\n",
       "      <td>13.03.1987</td>\n",
       "      <td>180.0</td>\n",
       "      <td>70.0</td>\n",
       "      <td>Right Fullback</td>\n",
       "      <td>1</td>\n",
       "      <td>1</td>\n",
       "    </tr>\n",
       "    <tr>\n",
       "      <th>10</th>\n",
       "      <td>antonio-rukavina</td>\n",
       "      <td>Antonio Rukavina</td>\n",
       "      <td>Real Valladolid</td>\n",
       "      <td>Spain</td>\n",
       "      <td>26.01.1984</td>\n",
       "      <td>177.0</td>\n",
       "      <td>74.0</td>\n",
       "      <td>Right Fullback</td>\n",
       "      <td>2</td>\n",
       "      <td>2</td>\n",
       "    </tr>\n",
       "  </tbody>\n",
       "</table>\n",
       "</div>"
      ],
      "text/plain": [
       "           playerShort              player               club leagueCountry  \\\n",
       "0        lucas-wilchez       Lucas Wilchez      Real Zaragoza         Spain   \n",
       "1           john-utaka          John Utaka    Montpellier HSC        France   \n",
       "2          abdon-prats         Abdón Prats       RCD Mallorca         Spain   \n",
       "3           pablo-mari          Pablo Marí       RCD Mallorca         Spain   \n",
       "4           ruben-pena          Rubén Peña    Real Valladolid         Spain   \n",
       "5         aaron-hughes        Aaron Hughes          Fulham FC       England   \n",
       "6   aleksandar-kolarov  Aleksandar Kolarov    Manchester City       England   \n",
       "7     alexander-tettey    Alexander Tettey       Norwich City       England   \n",
       "8    anders-lindegaard   Anders Lindegaard  Manchester United       England   \n",
       "9         andreas-beck        Andreas Beck    1899 Hoffenheim       Germany   \n",
       "10    antonio-rukavina    Antonio Rukavina    Real Valladolid         Spain   \n",
       "\n",
       "      birthday  height  weight              position  games  victories  \n",
       "0   31.08.1983   177.0    72.0  Attacking Midfielder      1          0  \n",
       "1   08.01.1982   179.0    82.0          Right Winger      1          0  \n",
       "2   17.12.1992   181.0    79.0                   NaN      1          0  \n",
       "3   31.08.1993   191.0    87.0           Center Back      1          1  \n",
       "4   18.07.1991   172.0    70.0      Right Midfielder      1          1  \n",
       "5   08.11.1979   182.0    71.0           Center Back      1          0  \n",
       "6   10.11.1985   187.0    80.0         Left Fullback      1          1  \n",
       "7   04.04.1986   180.0    68.0  Defensive Midfielder      1          0  \n",
       "8   13.04.1984   193.0    80.0            Goalkeeper      1          0  \n",
       "9   13.03.1987   180.0    70.0        Right Fullback      1          1  \n",
       "10  26.01.1984   177.0    74.0        Right Fullback      2          2  "
      ]
     },
     "execution_count": 4,
     "metadata": {},
     "output_type": "execute_result"
    }
   ],
   "source": [
    "df.ix[:10,:10]"
   ]
  },
  {
   "cell_type": "code",
   "execution_count": 5,
   "metadata": {
    "collapsed": false
   },
   "outputs": [
    {
     "data": {
      "text/html": [
       "<div>\n",
       "<table border=\"1\" class=\"dataframe\">\n",
       "  <thead>\n",
       "    <tr style=\"text-align: right;\">\n",
       "      <th></th>\n",
       "      <th>ties</th>\n",
       "      <th>defeats</th>\n",
       "      <th>goals</th>\n",
       "      <th>yellowCards</th>\n",
       "      <th>yellowReds</th>\n",
       "      <th>redCards</th>\n",
       "      <th>photoID</th>\n",
       "      <th>rater1</th>\n",
       "      <th>rater2</th>\n",
       "      <th>refNum</th>\n",
       "      <th>refCountry</th>\n",
       "      <th>Alpha_3</th>\n",
       "      <th>meanIAT</th>\n",
       "      <th>nIAT</th>\n",
       "      <th>seIAT</th>\n",
       "      <th>meanExp</th>\n",
       "      <th>nExp</th>\n",
       "      <th>seExp</th>\n",
       "    </tr>\n",
       "  </thead>\n",
       "  <tbody>\n",
       "    <tr>\n",
       "      <th>0</th>\n",
       "      <td>0</td>\n",
       "      <td>1</td>\n",
       "      <td>0</td>\n",
       "      <td>0</td>\n",
       "      <td>0</td>\n",
       "      <td>0</td>\n",
       "      <td>95212.jpg</td>\n",
       "      <td>0.25</td>\n",
       "      <td>0.50</td>\n",
       "      <td>1</td>\n",
       "      <td>1</td>\n",
       "      <td>GRC</td>\n",
       "      <td>0.326391</td>\n",
       "      <td>712.0</td>\n",
       "      <td>0.000564</td>\n",
       "      <td>0.396000</td>\n",
       "      <td>750.0</td>\n",
       "      <td>0.002696</td>\n",
       "    </tr>\n",
       "    <tr>\n",
       "      <th>1</th>\n",
       "      <td>0</td>\n",
       "      <td>1</td>\n",
       "      <td>0</td>\n",
       "      <td>1</td>\n",
       "      <td>0</td>\n",
       "      <td>0</td>\n",
       "      <td>1663.jpg</td>\n",
       "      <td>0.75</td>\n",
       "      <td>0.75</td>\n",
       "      <td>2</td>\n",
       "      <td>2</td>\n",
       "      <td>ZMB</td>\n",
       "      <td>0.203375</td>\n",
       "      <td>40.0</td>\n",
       "      <td>0.010875</td>\n",
       "      <td>-0.204082</td>\n",
       "      <td>49.0</td>\n",
       "      <td>0.061504</td>\n",
       "    </tr>\n",
       "    <tr>\n",
       "      <th>2</th>\n",
       "      <td>1</td>\n",
       "      <td>0</td>\n",
       "      <td>0</td>\n",
       "      <td>1</td>\n",
       "      <td>0</td>\n",
       "      <td>0</td>\n",
       "      <td>NaN</td>\n",
       "      <td>NaN</td>\n",
       "      <td>NaN</td>\n",
       "      <td>3</td>\n",
       "      <td>3</td>\n",
       "      <td>ESP</td>\n",
       "      <td>0.369894</td>\n",
       "      <td>1785.0</td>\n",
       "      <td>0.000229</td>\n",
       "      <td>0.588297</td>\n",
       "      <td>1897.0</td>\n",
       "      <td>0.001002</td>\n",
       "    </tr>\n",
       "    <tr>\n",
       "      <th>3</th>\n",
       "      <td>0</td>\n",
       "      <td>0</td>\n",
       "      <td>0</td>\n",
       "      <td>0</td>\n",
       "      <td>0</td>\n",
       "      <td>0</td>\n",
       "      <td>NaN</td>\n",
       "      <td>NaN</td>\n",
       "      <td>NaN</td>\n",
       "      <td>3</td>\n",
       "      <td>3</td>\n",
       "      <td>ESP</td>\n",
       "      <td>0.369894</td>\n",
       "      <td>1785.0</td>\n",
       "      <td>0.000229</td>\n",
       "      <td>0.588297</td>\n",
       "      <td>1897.0</td>\n",
       "      <td>0.001002</td>\n",
       "    </tr>\n",
       "    <tr>\n",
       "      <th>4</th>\n",
       "      <td>0</td>\n",
       "      <td>0</td>\n",
       "      <td>0</td>\n",
       "      <td>0</td>\n",
       "      <td>0</td>\n",
       "      <td>0</td>\n",
       "      <td>NaN</td>\n",
       "      <td>NaN</td>\n",
       "      <td>NaN</td>\n",
       "      <td>3</td>\n",
       "      <td>3</td>\n",
       "      <td>ESP</td>\n",
       "      <td>0.369894</td>\n",
       "      <td>1785.0</td>\n",
       "      <td>0.000229</td>\n",
       "      <td>0.588297</td>\n",
       "      <td>1897.0</td>\n",
       "      <td>0.001002</td>\n",
       "    </tr>\n",
       "    <tr>\n",
       "      <th>5</th>\n",
       "      <td>0</td>\n",
       "      <td>1</td>\n",
       "      <td>0</td>\n",
       "      <td>0</td>\n",
       "      <td>0</td>\n",
       "      <td>0</td>\n",
       "      <td>3868.jpg</td>\n",
       "      <td>0.25</td>\n",
       "      <td>0.00</td>\n",
       "      <td>4</td>\n",
       "      <td>4</td>\n",
       "      <td>LUX</td>\n",
       "      <td>0.325185</td>\n",
       "      <td>127.0</td>\n",
       "      <td>0.003297</td>\n",
       "      <td>0.538462</td>\n",
       "      <td>130.0</td>\n",
       "      <td>0.013752</td>\n",
       "    </tr>\n",
       "    <tr>\n",
       "      <th>6</th>\n",
       "      <td>0</td>\n",
       "      <td>0</td>\n",
       "      <td>0</td>\n",
       "      <td>0</td>\n",
       "      <td>0</td>\n",
       "      <td>0</td>\n",
       "      <td>47704.jpg</td>\n",
       "      <td>0.00</td>\n",
       "      <td>0.25</td>\n",
       "      <td>4</td>\n",
       "      <td>4</td>\n",
       "      <td>LUX</td>\n",
       "      <td>0.325185</td>\n",
       "      <td>127.0</td>\n",
       "      <td>0.003297</td>\n",
       "      <td>0.538462</td>\n",
       "      <td>130.0</td>\n",
       "      <td>0.013752</td>\n",
       "    </tr>\n",
       "    <tr>\n",
       "      <th>7</th>\n",
       "      <td>0</td>\n",
       "      <td>1</td>\n",
       "      <td>0</td>\n",
       "      <td>0</td>\n",
       "      <td>0</td>\n",
       "      <td>0</td>\n",
       "      <td>22356.jpg</td>\n",
       "      <td>1.00</td>\n",
       "      <td>1.00</td>\n",
       "      <td>4</td>\n",
       "      <td>4</td>\n",
       "      <td>LUX</td>\n",
       "      <td>0.325185</td>\n",
       "      <td>127.0</td>\n",
       "      <td>0.003297</td>\n",
       "      <td>0.538462</td>\n",
       "      <td>130.0</td>\n",
       "      <td>0.013752</td>\n",
       "    </tr>\n",
       "    <tr>\n",
       "      <th>8</th>\n",
       "      <td>1</td>\n",
       "      <td>0</td>\n",
       "      <td>0</td>\n",
       "      <td>0</td>\n",
       "      <td>0</td>\n",
       "      <td>0</td>\n",
       "      <td>16528.jpg</td>\n",
       "      <td>0.25</td>\n",
       "      <td>0.25</td>\n",
       "      <td>4</td>\n",
       "      <td>4</td>\n",
       "      <td>LUX</td>\n",
       "      <td>0.325185</td>\n",
       "      <td>127.0</td>\n",
       "      <td>0.003297</td>\n",
       "      <td>0.538462</td>\n",
       "      <td>130.0</td>\n",
       "      <td>0.013752</td>\n",
       "    </tr>\n",
       "    <tr>\n",
       "      <th>9</th>\n",
       "      <td>0</td>\n",
       "      <td>0</td>\n",
       "      <td>0</td>\n",
       "      <td>0</td>\n",
       "      <td>0</td>\n",
       "      <td>0</td>\n",
       "      <td>36499.jpg</td>\n",
       "      <td>0.00</td>\n",
       "      <td>0.00</td>\n",
       "      <td>4</td>\n",
       "      <td>4</td>\n",
       "      <td>LUX</td>\n",
       "      <td>0.325185</td>\n",
       "      <td>127.0</td>\n",
       "      <td>0.003297</td>\n",
       "      <td>0.538462</td>\n",
       "      <td>130.0</td>\n",
       "      <td>0.013752</td>\n",
       "    </tr>\n",
       "    <tr>\n",
       "      <th>10</th>\n",
       "      <td>0</td>\n",
       "      <td>0</td>\n",
       "      <td>0</td>\n",
       "      <td>1</td>\n",
       "      <td>0</td>\n",
       "      <td>0</td>\n",
       "      <td>59786.jpg</td>\n",
       "      <td>0.00</td>\n",
       "      <td>0.00</td>\n",
       "      <td>4</td>\n",
       "      <td>4</td>\n",
       "      <td>LUX</td>\n",
       "      <td>0.325185</td>\n",
       "      <td>127.0</td>\n",
       "      <td>0.003297</td>\n",
       "      <td>0.538462</td>\n",
       "      <td>130.0</td>\n",
       "      <td>0.013752</td>\n",
       "    </tr>\n",
       "  </tbody>\n",
       "</table>\n",
       "</div>"
      ],
      "text/plain": [
       "    ties  defeats  goals  yellowCards  yellowReds  redCards    photoID  \\\n",
       "0      0        1      0            0           0         0  95212.jpg   \n",
       "1      0        1      0            1           0         0   1663.jpg   \n",
       "2      1        0      0            1           0         0        NaN   \n",
       "3      0        0      0            0           0         0        NaN   \n",
       "4      0        0      0            0           0         0        NaN   \n",
       "5      0        1      0            0           0         0   3868.jpg   \n",
       "6      0        0      0            0           0         0  47704.jpg   \n",
       "7      0        1      0            0           0         0  22356.jpg   \n",
       "8      1        0      0            0           0         0  16528.jpg   \n",
       "9      0        0      0            0           0         0  36499.jpg   \n",
       "10     0        0      0            1           0         0  59786.jpg   \n",
       "\n",
       "    rater1  rater2  refNum  refCountry Alpha_3   meanIAT    nIAT     seIAT  \\\n",
       "0     0.25    0.50       1           1     GRC  0.326391   712.0  0.000564   \n",
       "1     0.75    0.75       2           2     ZMB  0.203375    40.0  0.010875   \n",
       "2      NaN     NaN       3           3     ESP  0.369894  1785.0  0.000229   \n",
       "3      NaN     NaN       3           3     ESP  0.369894  1785.0  0.000229   \n",
       "4      NaN     NaN       3           3     ESP  0.369894  1785.0  0.000229   \n",
       "5     0.25    0.00       4           4     LUX  0.325185   127.0  0.003297   \n",
       "6     0.00    0.25       4           4     LUX  0.325185   127.0  0.003297   \n",
       "7     1.00    1.00       4           4     LUX  0.325185   127.0  0.003297   \n",
       "8     0.25    0.25       4           4     LUX  0.325185   127.0  0.003297   \n",
       "9     0.00    0.00       4           4     LUX  0.325185   127.0  0.003297   \n",
       "10    0.00    0.00       4           4     LUX  0.325185   127.0  0.003297   \n",
       "\n",
       "     meanExp    nExp     seExp  \n",
       "0   0.396000   750.0  0.002696  \n",
       "1  -0.204082    49.0  0.061504  \n",
       "2   0.588297  1897.0  0.001002  \n",
       "3   0.588297  1897.0  0.001002  \n",
       "4   0.588297  1897.0  0.001002  \n",
       "5   0.538462   130.0  0.013752  \n",
       "6   0.538462   130.0  0.013752  \n",
       "7   0.538462   130.0  0.013752  \n",
       "8   0.538462   130.0  0.013752  \n",
       "9   0.538462   130.0  0.013752  \n",
       "10  0.538462   130.0  0.013752  "
      ]
     },
     "execution_count": 5,
     "metadata": {},
     "output_type": "execute_result"
    }
   ],
   "source": [
    "df.ix[:10,10:30]\n"
   ]
  },
  {
   "cell_type": "markdown",
   "metadata": {},
   "source": [
    "### Dyad organization and data disaggregation\n",
    "The data is actually organized as [dyad](http://en.wikipedia.org/wiki/Dyad_(sociology).\n",
    "\n",
    "\n",
    "As explained [here](http://nbviewer.jupyter.org/github/mathewzilla/redcard/blob/master/Crowdstorming_visualisation.ipynb), the data is organized as dyad, so each row corresponds to a player and a referee relationship. Some players encoutered a referee only once, and some players encoutered a referee several time, but this will still be represented as a single row.\n",
    "\n",
    "What will be done is to disaggregate the data so that each row corrresponds to one referee-player encouter. To disaggregate, we will use the number of *games*, and consider logically that a maximum of 1 *red card* is possible by encouter."
   ]
  },
  {
   "cell_type": "code",
   "execution_count": 7,
   "metadata": {
    "collapsed": false
   },
   "outputs": [
    {
     "name": "stdout",
     "output_type": "stream",
     "text": [
      "(146028, 29)\n"
     ]
    }
   ],
   "source": [
    "print(df.shape)\n",
    "len_disaggregate = sum(df['games']); ## all games\n",
    "disaggregate = np.zeros(shape = [len_disaggregate, df.shape[1]], dtype=object)\n",
    "df['allreds']=df['yellowReds']+df['redCards']\n",
    "\n",
    "j=0\n",
    "for i, row in df.iterrows():\n",
    "    row_red = row['allreds']\n",
    "    for game in range(row['games']):\n",
    "        row['allreds'] = 1 if (row_red - game > 0) else 0\n",
    "        disaggregate[j] = row\n",
    "        j+=1\n",
    "        \n",
    "pd.DataFrame(disaggregate, columns=list(df.columns)).to_csv('crowdstorm_disaggregated.csv', index=False, encoding=\"utf-8\") "
   ]
  },
  {
   "cell_type": "markdown",
   "metadata": {},
   "source": [
    "For clarity, we reload here the disaggregated data in our dataframe."
   ]
  },
  {
   "cell_type": "code",
   "execution_count": 3,
   "metadata": {
    "collapsed": false
   },
   "outputs": [],
   "source": [
    "df = pd.read_csv(\"crowdstorm_disaggregated.csv\", encoding = \"utf-8\")\n",
    "nb_dyads = df.size"
   ]
  },
  {
   "cell_type": "markdown",
   "metadata": {},
   "source": [
    "## Cleaning Data\n",
    "There is an interesting fact about the dyads to consider : although a referee should have at least 22 relations with players, since a single game implies a minimum of two teams of eleven players, some referees have less (actually, more than half, one can quickly get from the graph), as is shown below:\n",
    "The interpretation of this oddity is given [in this other take on our dataset](http://nbviewer.jupyter.org/github/mathewzilla/redcard/blob/master/Crowdstorming_visualisation.ipynb)."
   ]
  },
  {
   "cell_type": "code",
   "execution_count": 4,
   "metadata": {
    "collapsed": false
   },
   "outputs": [
    {
     "data": {
      "text/plain": [
       "<matplotlib.text.Text at 0x19871ea8cc0>"
      ]
     },
     "execution_count": 4,
     "metadata": {},
     "output_type": "execute_result"
    },
    {
     "data": {
      "image/png": "[encoded data removed]",
      "text/plain": [
       "<matplotlib.figure.Figure at 0x1986b6c9a90>"
      ]
     },
     "metadata": {},
     "output_type": "display_data"
    }
   ],
   "source": [
    "all_refs = df['refNum'].value_counts()\n",
    "number_all_refs = len(all_refs)\n",
    "plt.hist(all_refs, log=True, bins = number_all_refs)\n",
    "plt.xscale('symlog')\n",
    "plt.ylabel('Number of referees')\n",
    "plt.xlabel('Number of appeareance in dyads')"
   ]
  },
  {
   "cell_type": "markdown",
   "metadata": {},
   "source": [
    "From the graph, we can see that around 1000 referees have encoutered less than 10 players. This will be problematic for our analysis, and hence **we will eliminate all the referees that have less than 22 encouters from our dataset**. We are left with 1261 referees, out of our initial N = 3147, wich is only but a little more than a third of our initial set. However, as we further see below, 97.5% of our initial dyads are kept, and therefore our important cleaning step hasn't impaired the integrity of our data."
   ]
  },
  {
   "cell_type": "code",
   "execution_count": 126,
   "metadata": {
    "collapsed": false
   },
   "outputs": [
    {
     "data": {
      "text/plain": [
       "1258"
      ]
     },
     "execution_count": 126,
     "metadata": {},
     "output_type": "execute_result"
    }
   ],
   "source": [
    "df=df[df['refNum'].isin(all_refs[all_refs>=22].index.values)]\n",
    "#number of referees left after cleaning\n",
    "df['refNum'].unique().size"
   ]
  },
  {
   "cell_type": "code",
   "execution_count": 127,
   "metadata": {
    "collapsed": false
   },
   "outputs": [
    {
     "data": {
      "text/plain": [
       "80.183415695357411"
      ]
     },
     "execution_count": 127,
     "metadata": {},
     "output_type": "execute_result"
    }
   ],
   "source": [
    "#percentage of dyads left after cleaning\n",
    "df.size * 100 / nb_dyads"
   ]
  },
  {
   "cell_type": "markdown",
   "metadata": {},
   "source": [
    "### Null Data\n",
    "Now let us check whether there are any null data in our set."
   ]
  },
  {
   "cell_type": "code",
   "execution_count": 128,
   "metadata": {
    "collapsed": false
   },
   "outputs": [
    {
     "data": {
      "text/plain": [
       "playerShort      False\n",
       "player           False\n",
       "club             False\n",
       "leagueCountry    False\n",
       "birthday         False\n",
       "height           False\n",
       "weight           False\n",
       "position         False\n",
       "games            False\n",
       "victories        False\n",
       "ties             False\n",
       "defeats          False\n",
       "goals            False\n",
       "yellowCards      False\n",
       "yellowReds       False\n",
       "redCards         False\n",
       "photoID          False\n",
       "rater1           False\n",
       "rater2           False\n",
       "refNum           False\n",
       "refCountry       False\n",
       "Alpha_3          False\n",
       "meanIAT          False\n",
       "nIAT             False\n",
       "seIAT            False\n",
       "meanExp          False\n",
       "nExp             False\n",
       "seExp            False\n",
       "allreds          False\n",
       "dtype: bool"
      ]
     },
     "execution_count": 128,
     "metadata": {},
     "output_type": "execute_result"
    }
   ],
   "source": [
    "df.isnull().any()"
   ]
  },
  {
   "cell_type": "markdown",
   "metadata": {},
   "source": [
    "We can see that indeed some data is missing, and this is especially the case for *rater1* and *rater2*. We will drop the rows where said data is missing. We now have lost 20% of our initial data, but the fair 80% left should be clean enough so that we can we can run a good enough analysis on them."
   ]
  },
  {
   "cell_type": "code",
   "execution_count": 129,
   "metadata": {
    "collapsed": false
   },
   "outputs": [
    {
     "data": {
      "text/plain": [
       "80.183415695357411"
      ]
     },
     "execution_count": 129,
     "metadata": {},
     "output_type": "execute_result"
    }
   ],
   "source": [
    "df.count()\n",
    "df = df.dropna()\n",
    "df.size * 100 / nb_dyads"
   ]
  },
  {
   "cell_type": "markdown",
   "metadata": {},
   "source": [
    "### Aggregation of the data\n",
    "We will now reorganize the data, by aggregating it around players.\n",
    "\n",
    "**Assumptions** :\n",
    "    - one's club does not change over 1 season.\n",
    "    - one's position does not change over 1 season.\n",
    "\n",
    "We need to keep only certain practical player informations. We will hence **drop** some informations that are useless for the rest of the analysis:\n",
    "    - refNum     (belongs to referee)\n",
    "    - playerShort (useless - a player's id. We will use it for grouping purpose, and then discard it.)\n",
    "    - player\n",
    "    - photoID\n",
    "    \n",
    "there are still variables linked to the referees, we will deal with them later."
   ]
  },
  {
   "cell_type": "code",
   "execution_count": 130,
   "metadata": {
    "collapsed": false
   },
   "outputs": [
    {
     "data": {
      "text/html": [
       "<div>\n",
       "<table border=\"1\" class=\"dataframe\">\n",
       "  <thead>\n",
       "    <tr style=\"text-align: right;\">\n",
       "      <th></th>\n",
       "      <th>seExp</th>\n",
       "      <th>weight</th>\n",
       "      <th>nIAT</th>\n",
       "      <th>goals</th>\n",
       "      <th>rater1</th>\n",
       "      <th>meanExp</th>\n",
       "      <th>ties</th>\n",
       "      <th>nExp</th>\n",
       "      <th>rater2</th>\n",
       "      <th>refCountry</th>\n",
       "      <th>meanIAT</th>\n",
       "      <th>redCards</th>\n",
       "      <th>yellowCards</th>\n",
       "      <th>victories</th>\n",
       "      <th>height</th>\n",
       "      <th>games</th>\n",
       "      <th>defeats</th>\n",
       "      <th>seIAT</th>\n",
       "    </tr>\n",
       "  </thead>\n",
       "  <tbody>\n",
       "    <tr>\n",
       "      <th>count</th>\n",
       "      <td>1418.000000</td>\n",
       "      <td>1418.000000</td>\n",
       "      <td>1.418000e+03</td>\n",
       "      <td>1418.00000</td>\n",
       "      <td>1418.000000</td>\n",
       "      <td>1418.000000</td>\n",
       "      <td>1418.000000</td>\n",
       "      <td>1418.000000</td>\n",
       "      <td>1418.000000</td>\n",
       "      <td>1418.000000</td>\n",
       "      <td>1418.000000</td>\n",
       "      <td>1418.000000</td>\n",
       "      <td>1418.000000</td>\n",
       "      <td>1418.000000</td>\n",
       "      <td>1418.000000</td>\n",
       "      <td>1418.000000</td>\n",
       "      <td>1418.000000</td>\n",
       "      <td>1418.000000</td>\n",
       "    </tr>\n",
       "    <tr>\n",
       "      <th>mean</th>\n",
       "      <td>0.001399</td>\n",
       "      <td>76.263047</td>\n",
       "      <td>3.543916e+05</td>\n",
       "      <td>211.35402</td>\n",
       "      <td>0.261460</td>\n",
       "      <td>0.444205</td>\n",
       "      <td>436.459803</td>\n",
       "      <td>14634.828780</td>\n",
       "      <td>0.304126</td>\n",
       "      <td>97.186883</td>\n",
       "      <td>0.347126</td>\n",
       "      <td>7.225670</td>\n",
       "      <td>242.483780</td>\n",
       "      <td>820.600141</td>\n",
       "      <td>182.159379</td>\n",
       "      <td>1818.977433</td>\n",
       "      <td>561.917489</td>\n",
       "      <td>0.000293</td>\n",
       "    </tr>\n",
       "    <tr>\n",
       "      <th>std</th>\n",
       "      <td>0.001957</td>\n",
       "      <td>7.105262</td>\n",
       "      <td>7.212591e+05</td>\n",
       "      <td>428.63188</td>\n",
       "      <td>0.293726</td>\n",
       "      <td>0.101160</td>\n",
       "      <td>464.389587</td>\n",
       "      <td>20973.932803</td>\n",
       "      <td>0.292711</td>\n",
       "      <td>39.246875</td>\n",
       "      <td>0.014516</td>\n",
       "      <td>13.087291</td>\n",
       "      <td>290.131377</td>\n",
       "      <td>1019.439932</td>\n",
       "      <td>6.799995</td>\n",
       "      <td>1963.852817</td>\n",
       "      <td>573.695929</td>\n",
       "      <td>0.000390</td>\n",
       "    </tr>\n",
       "    <tr>\n",
       "      <th>min</th>\n",
       "      <td>0.000037</td>\n",
       "      <td>55.000000</td>\n",
       "      <td>1.021000e+03</td>\n",
       "      <td>0.00000</td>\n",
       "      <td>0.000000</td>\n",
       "      <td>0.065271</td>\n",
       "      <td>0.000000</td>\n",
       "      <td>500.333333</td>\n",
       "      <td>0.000000</td>\n",
       "      <td>3.000000</td>\n",
       "      <td>0.287530</td>\n",
       "      <td>0.000000</td>\n",
       "      <td>0.000000</td>\n",
       "      <td>0.000000</td>\n",
       "      <td>161.000000</td>\n",
       "      <td>1.000000</td>\n",
       "      <td>0.000000</td>\n",
       "      <td>0.000010</td>\n",
       "    </tr>\n",
       "    <tr>\n",
       "      <th>25%</th>\n",
       "      <td>0.000547</td>\n",
       "      <td>71.000000</td>\n",
       "      <td>4.479100e+04</td>\n",
       "      <td>14.00000</td>\n",
       "      <td>0.000000</td>\n",
       "      <td>0.361671</td>\n",
       "      <td>124.000000</td>\n",
       "      <td>3310.080483</td>\n",
       "      <td>0.000000</td>\n",
       "      <td>76.000000</td>\n",
       "      <td>0.336628</td>\n",
       "      <td>0.000000</td>\n",
       "      <td>54.000000</td>\n",
       "      <td>197.000000</td>\n",
       "      <td>178.000000</td>\n",
       "      <td>508.000000</td>\n",
       "      <td>173.000000</td>\n",
       "      <td>0.000120</td>\n",
       "    </tr>\n",
       "    <tr>\n",
       "      <th>50%</th>\n",
       "      <td>0.001002</td>\n",
       "      <td>76.000000</td>\n",
       "      <td>4.479100e+04</td>\n",
       "      <td>69.00000</td>\n",
       "      <td>0.250000</td>\n",
       "      <td>0.402253</td>\n",
       "      <td>288.000000</td>\n",
       "      <td>7848.075000</td>\n",
       "      <td>0.250000</td>\n",
       "      <td>102.000000</td>\n",
       "      <td>0.340851</td>\n",
       "      <td>1.000000</td>\n",
       "      <td>148.000000</td>\n",
       "      <td>497.000000</td>\n",
       "      <td>182.500000</td>\n",
       "      <td>1204.000000</td>\n",
       "      <td>384.500000</td>\n",
       "      <td>0.000229</td>\n",
       "    </tr>\n",
       "    <tr>\n",
       "      <th>75%</th>\n",
       "      <td>0.001437</td>\n",
       "      <td>81.000000</td>\n",
       "      <td>4.479100e+04</td>\n",
       "      <td>221.50000</td>\n",
       "      <td>0.250000</td>\n",
       "      <td>0.551277</td>\n",
       "      <td>581.500000</td>\n",
       "      <td>18138.787157</td>\n",
       "      <td>0.500000</td>\n",
       "      <td>114.000000</td>\n",
       "      <td>0.361154</td>\n",
       "      <td>9.750000</td>\n",
       "      <td>320.000000</td>\n",
       "      <td>1068.750000</td>\n",
       "      <td>187.000000</td>\n",
       "      <td>2426.500000</td>\n",
       "      <td>749.750000</td>\n",
       "      <td>0.000306</td>\n",
       "    </tr>\n",
       "    <tr>\n",
       "      <th>max</th>\n",
       "      <td>0.045650</td>\n",
       "      <td>100.000000</td>\n",
       "      <td>1.975803e+06</td>\n",
       "      <td>5141.00000</td>\n",
       "      <td>1.000000</td>\n",
       "      <td>1.031407</td>\n",
       "      <td>3559.000000</td>\n",
       "      <td>414045.840000</td>\n",
       "      <td>1.000000</td>\n",
       "      <td>153.000000</td>\n",
       "      <td>0.396512</td>\n",
       "      <td>121.000000</td>\n",
       "      <td>2361.000000</td>\n",
       "      <td>10092.000000</td>\n",
       "      <td>203.000000</td>\n",
       "      <td>16932.000000</td>\n",
       "      <td>4269.000000</td>\n",
       "      <td>0.009063</td>\n",
       "    </tr>\n",
       "  </tbody>\n",
       "</table>\n",
       "</div>"
      ],
      "text/plain": [
       "             seExp       weight          nIAT       goals       rater1  \\\n",
       "count  1418.000000  1418.000000  1.418000e+03  1418.00000  1418.000000   \n",
       "mean      0.001399    76.263047  3.543916e+05   211.35402     0.261460   \n",
       "std       0.001957     7.105262  7.212591e+05   428.63188     0.293726   \n",
       "min       0.000037    55.000000  1.021000e+03     0.00000     0.000000   \n",
       "25%       0.000547    71.000000  4.479100e+04    14.00000     0.000000   \n",
       "50%       0.001002    76.000000  4.479100e+04    69.00000     0.250000   \n",
       "75%       0.001437    81.000000  4.479100e+04   221.50000     0.250000   \n",
       "max       0.045650   100.000000  1.975803e+06  5141.00000     1.000000   \n",
       "\n",
       "           meanExp         ties           nExp       rater2   refCountry  \\\n",
       "count  1418.000000  1418.000000    1418.000000  1418.000000  1418.000000   \n",
       "mean      0.444205   436.459803   14634.828780     0.304126    97.186883   \n",
       "std       0.101160   464.389587   20973.932803     0.292711    39.246875   \n",
       "min       0.065271     0.000000     500.333333     0.000000     3.000000   \n",
       "25%       0.361671   124.000000    3310.080483     0.000000    76.000000   \n",
       "50%       0.402253   288.000000    7848.075000     0.250000   102.000000   \n",
       "75%       0.551277   581.500000   18138.787157     0.500000   114.000000   \n",
       "max       1.031407  3559.000000  414045.840000     1.000000   153.000000   \n",
       "\n",
       "           meanIAT     redCards  yellowCards     victories       height  \\\n",
       "count  1418.000000  1418.000000  1418.000000   1418.000000  1418.000000   \n",
       "mean      0.347126     7.225670   242.483780    820.600141   182.159379   \n",
       "std       0.014516    13.087291   290.131377   1019.439932     6.799995   \n",
       "min       0.287530     0.000000     0.000000      0.000000   161.000000   \n",
       "25%       0.336628     0.000000    54.000000    197.000000   178.000000   \n",
       "50%       0.340851     1.000000   148.000000    497.000000   182.500000   \n",
       "75%       0.361154     9.750000   320.000000   1068.750000   187.000000   \n",
       "max       0.396512   121.000000  2361.000000  10092.000000   203.000000   \n",
       "\n",
       "              games      defeats        seIAT  \n",
       "count   1418.000000  1418.000000  1418.000000  \n",
       "mean    1818.977433   561.917489     0.000293  \n",
       "std     1963.852817   573.695929     0.000390  \n",
       "min        1.000000     0.000000     0.000010  \n",
       "25%      508.000000   173.000000     0.000120  \n",
       "50%     1204.000000   384.500000     0.000229  \n",
       "75%     2426.500000   749.750000     0.000306  \n",
       "max    16932.000000  4269.000000     0.009063  "
      ]
     },
     "execution_count": 130,
     "metadata": {},
     "output_type": "execute_result"
    }
   ],
   "source": [
    "df_p = df.groupby('playerShort', as_index=False,sort=True)\n",
    "aggregation = {'club':'max',\n",
    "               'leagueCountry':'max',\n",
    "               'refCountry' : 'max',\n",
    "               'birthday':'max',\n",
    "               'height':'mean',\n",
    "               'weight':'mean', \n",
    "               'position':'max',\n",
    "               'games':'sum',\n",
    "               'victories':'sum',\n",
    "               'ties':'sum',\n",
    "               'defeats':'sum',\n",
    "               'goals':'sum',\n",
    "               'rater1':'mean',\n",
    "               'rater2':'mean',\n",
    "               'yellowCards':'sum',\n",
    "               'redCards':'sum',\n",
    "               'meanIAT':'mean',\n",
    "               'nIAT':'max',\n",
    "               'seIAT':'mean',\n",
    "               'meanExp':'mean',\n",
    "               'nExp':'mean',\n",
    "               'seExp':'mean'\n",
    "              }\n",
    "df_p = df_p.agg(aggregation)\n",
    "df_p.drop(['playerShort'],inplace=True,axis=1,errors='ignore')\n",
    "df_p.describe()"
   ]
  },
  {
   "cell_type": "code",
   "execution_count": 131,
   "metadata": {
    "collapsed": false
   },
   "outputs": [
    {
     "data": {
      "text/plain": [
       "31196"
      ]
     },
     "execution_count": 131,
     "metadata": {},
     "output_type": "execute_result"
    }
   ],
   "source": [
    "df_p.size"
   ]
  },
  {
   "cell_type": "markdown",
   "metadata": {},
   "source": [
    "### Distributions of skin color indicators\n",
    "There are 2 indicators for a player's skin color : *rater1* and *rater2*. \n",
    "Let's have a look at them"
   ]
  },
  {
   "cell_type": "code",
   "execution_count": 132,
   "metadata": {
    "collapsed": false
   },
   "outputs": [
    {
     "data": {
      "text/plain": [
       "<matplotlib.text.Text at 0x19801b13b70>"
      ]
     },
     "execution_count": 132,
     "metadata": {},
     "output_type": "execute_result"
    },
    {
     "data": {
      "image/png": "[encoded data removed]",
      "text/plain": [
       "<matplotlib.figure.Figure at 0x1980158f080>"
      ]
     },
     "metadata": {},
     "output_type": "display_data"
    }
   ],
   "source": [
    "fig, ax = plt.subplots(nrows=1,ncols=3,figsize=(12, 3))\n",
    "df_p['rater1'].hist(ax=ax[0], bins=20)\n",
    "ax[0].set_ylabel('count')\n",
    "ax[0].set_title('rater1')\n",
    "\n",
    "df_p['rater2'].hist(ax=ax[1], bins=20)\n",
    "ax[1].set_xlabel('skin color : 0 = very light skin, 1 = very dark skin')\n",
    "ax[1].set_title('rater2')\n",
    "\n",
    "#mean\n",
    "mean_rater = (df_p['rater2'] + df_p['rater1'])/2\n",
    "(mean_rater).hist(ax=ax[2], bins=20)\n",
    "ax[2].set_title('mean')\n"
   ]
  },
  {
   "cell_type": "markdown",
   "metadata": {},
   "source": [
    "How many different values do we consider with rater1, rater2 and their mean ?\n",
    "\n",
    "We assign them to 4 classes"
   ]
  },
  {
   "cell_type": "code",
   "execution_count": 133,
   "metadata": {
    "collapsed": false
   },
   "outputs": [
    {
     "name": "stdout",
     "output_type": "stream",
     "text": [
      "rater1\n",
      "[0.0, 0.25, 0.5, 0.75, 1.0]\n",
      "5\n",
      "rater2\n",
      "[0.0, 0.25, 0.5, 0.75, 1.0]\n",
      "5\n",
      "mean of rater 1 and rater 2\n",
      "[0.0, 0.125, 0.25, 0.375, 0.5, 0.625, 0.75, 0.875, 1.0]\n",
      "9\n",
      "[0.125, 0.375, 0.625, 0.875]\n",
      "4\n"
     ]
    }
   ],
   "source": [
    "values_rater1 = sorted(df_p['rater1'].unique())\n",
    "print('rater1')\n",
    "print(values_rater1)\n",
    "print(len(values_rater1))\n",
    "\n",
    "values_rater2 = sorted(df_p['rater2'].unique())\n",
    "print('rater2')\n",
    "print(values_rater2)\n",
    "print(len(values_rater2))\n",
    "\n",
    "value_mean_rater = sorted(mean_rater.unique())\n",
    "print('mean of rater 1 and rater 2')\n",
    "print(value_mean_rater)\n",
    "print(len(value_mean_rater))\n",
    "\n",
    "# We assign to 4 classes the values\n",
    "mean_rater[(mean_rater >= 0) & (mean_rater<0.25)] = 0.125\n",
    "mean_rater[(mean_rater >= 0.25) & (mean_rater<0.45)] = 0.375\n",
    "mean_rater[(mean_rater >= 0.45) & (mean_rater<0.75)] = 0.625\n",
    "mean_rater[mean_rater>= 0.75] = 0.875\n",
    "\n",
    "\n",
    "value_mean_rater = sorted(mean_rater.unique())\n",
    "\n",
    "print(value_mean_rater)\n",
    "print(len(value_mean_rater))\n",
    " "
   ]
  },
  {
   "cell_type": "markdown",
   "metadata": {},
   "source": [
    "Let's create a new column with the mean values of *rater1* and *rater2*"
   ]
  },
  {
   "cell_type": "code",
   "execution_count": 134,
   "metadata": {
    "collapsed": false
   },
   "outputs": [],
   "source": [
    "df_p['mean_rater'] = mean_rater\n",
    "df_p.drop(['rater1','rater2'],inplace=True,axis=1,errors='ignore')\n"
   ]
  },
  {
   "cell_type": "markdown",
   "metadata": {},
   "source": [
    "# A VOIR : UTILE ?\n",
    "#### Manage date data\n",
    "We will separate the data string into 3 columns.\n",
    "(We will keep only the months and the year, and create two new columns.) *à voir*"
   ]
  },
  {
   "cell_type": "code",
   "execution_count": 19,
   "metadata": {
    "collapsed": false
   },
   "outputs": [
    {
     "data": {
      "text/html": [
       "<div>\n",
       "<table border=\"1\" class=\"dataframe\">\n",
       "  <thead>\n",
       "    <tr style=\"text-align: right;\">\n",
       "      <th></th>\n",
       "      <th>ties</th>\n",
       "      <th>nIAT</th>\n",
       "      <th>yellowCards</th>\n",
       "      <th>games</th>\n",
       "      <th>height</th>\n",
       "      <th>seIAT</th>\n",
       "      <th>meanIAT</th>\n",
       "      <th>seExp</th>\n",
       "      <th>defeats</th>\n",
       "      <th>weight</th>\n",
       "      <th>goals</th>\n",
       "      <th>meanExp</th>\n",
       "      <th>victories</th>\n",
       "      <th>nExp</th>\n",
       "      <th>redCards</th>\n",
       "      <th>mean_rater</th>\n",
       "    </tr>\n",
       "  </thead>\n",
       "  <tbody>\n",
       "    <tr>\n",
       "      <th>count</th>\n",
       "      <td>1418.000000</td>\n",
       "      <td>1.418000e+03</td>\n",
       "      <td>1418.000000</td>\n",
       "      <td>1418.000000</td>\n",
       "      <td>1418.000000</td>\n",
       "      <td>1418.000000</td>\n",
       "      <td>1418.000000</td>\n",
       "      <td>1418.000000</td>\n",
       "      <td>1418.000000</td>\n",
       "      <td>1418.000000</td>\n",
       "      <td>1418.00000</td>\n",
       "      <td>1418.000000</td>\n",
       "      <td>1418.000000</td>\n",
       "      <td>1418.000000</td>\n",
       "      <td>1418.000000</td>\n",
       "      <td>1418.000000</td>\n",
       "    </tr>\n",
       "    <tr>\n",
       "      <th>mean</th>\n",
       "      <td>436.459803</td>\n",
       "      <td>3.543916e+05</td>\n",
       "      <td>242.483780</td>\n",
       "      <td>1818.977433</td>\n",
       "      <td>182.159379</td>\n",
       "      <td>0.000293</td>\n",
       "      <td>0.347126</td>\n",
       "      <td>0.001399</td>\n",
       "      <td>561.917489</td>\n",
       "      <td>76.263047</td>\n",
       "      <td>211.35402</td>\n",
       "      <td>0.444205</td>\n",
       "      <td>820.600141</td>\n",
       "      <td>14634.828780</td>\n",
       "      <td>7.225670</td>\n",
       "      <td>0.363188</td>\n",
       "    </tr>\n",
       "    <tr>\n",
       "      <th>std</th>\n",
       "      <td>464.389587</td>\n",
       "      <td>7.212591e+05</td>\n",
       "      <td>290.131377</td>\n",
       "      <td>1963.852817</td>\n",
       "      <td>6.799995</td>\n",
       "      <td>0.000390</td>\n",
       "      <td>0.014516</td>\n",
       "      <td>0.001957</td>\n",
       "      <td>573.695929</td>\n",
       "      <td>7.105262</td>\n",
       "      <td>428.63188</td>\n",
       "      <td>0.101160</td>\n",
       "      <td>1019.439932</td>\n",
       "      <td>20973.932803</td>\n",
       "      <td>13.087291</td>\n",
       "      <td>0.258913</td>\n",
       "    </tr>\n",
       "    <tr>\n",
       "      <th>min</th>\n",
       "      <td>0.000000</td>\n",
       "      <td>1.021000e+03</td>\n",
       "      <td>0.000000</td>\n",
       "      <td>1.000000</td>\n",
       "      <td>161.000000</td>\n",
       "      <td>0.000010</td>\n",
       "      <td>0.287530</td>\n",
       "      <td>0.000037</td>\n",
       "      <td>0.000000</td>\n",
       "      <td>55.000000</td>\n",
       "      <td>0.00000</td>\n",
       "      <td>0.065271</td>\n",
       "      <td>0.000000</td>\n",
       "      <td>500.333333</td>\n",
       "      <td>0.000000</td>\n",
       "      <td>0.125000</td>\n",
       "    </tr>\n",
       "    <tr>\n",
       "      <th>25%</th>\n",
       "      <td>124.000000</td>\n",
       "      <td>4.479100e+04</td>\n",
       "      <td>54.000000</td>\n",
       "      <td>508.000000</td>\n",
       "      <td>178.000000</td>\n",
       "      <td>0.000120</td>\n",
       "      <td>0.336628</td>\n",
       "      <td>0.000547</td>\n",
       "      <td>173.000000</td>\n",
       "      <td>71.000000</td>\n",
       "      <td>14.00000</td>\n",
       "      <td>0.361671</td>\n",
       "      <td>197.000000</td>\n",
       "      <td>3310.080483</td>\n",
       "      <td>0.000000</td>\n",
       "      <td>0.125000</td>\n",
       "    </tr>\n",
       "    <tr>\n",
       "      <th>50%</th>\n",
       "      <td>288.000000</td>\n",
       "      <td>4.479100e+04</td>\n",
       "      <td>148.000000</td>\n",
       "      <td>1204.000000</td>\n",
       "      <td>182.500000</td>\n",
       "      <td>0.000229</td>\n",
       "      <td>0.340851</td>\n",
       "      <td>0.001002</td>\n",
       "      <td>384.500000</td>\n",
       "      <td>76.000000</td>\n",
       "      <td>69.00000</td>\n",
       "      <td>0.402253</td>\n",
       "      <td>497.000000</td>\n",
       "      <td>7848.075000</td>\n",
       "      <td>1.000000</td>\n",
       "      <td>0.375000</td>\n",
       "    </tr>\n",
       "    <tr>\n",
       "      <th>75%</th>\n",
       "      <td>581.500000</td>\n",
       "      <td>4.479100e+04</td>\n",
       "      <td>320.000000</td>\n",
       "      <td>2426.500000</td>\n",
       "      <td>187.000000</td>\n",
       "      <td>0.000306</td>\n",
       "      <td>0.361154</td>\n",
       "      <td>0.001437</td>\n",
       "      <td>749.750000</td>\n",
       "      <td>81.000000</td>\n",
       "      <td>221.50000</td>\n",
       "      <td>0.551277</td>\n",
       "      <td>1068.750000</td>\n",
       "      <td>18138.787157</td>\n",
       "      <td>9.750000</td>\n",
       "      <td>0.375000</td>\n",
       "    </tr>\n",
       "    <tr>\n",
       "      <th>max</th>\n",
       "      <td>3559.000000</td>\n",
       "      <td>1.975803e+06</td>\n",
       "      <td>2361.000000</td>\n",
       "      <td>16932.000000</td>\n",
       "      <td>203.000000</td>\n",
       "      <td>0.009063</td>\n",
       "      <td>0.396512</td>\n",
       "      <td>0.045650</td>\n",
       "      <td>4269.000000</td>\n",
       "      <td>100.000000</td>\n",
       "      <td>5141.00000</td>\n",
       "      <td>1.031407</td>\n",
       "      <td>10092.000000</td>\n",
       "      <td>414045.840000</td>\n",
       "      <td>121.000000</td>\n",
       "      <td>0.875000</td>\n",
       "    </tr>\n",
       "  </tbody>\n",
       "</table>\n",
       "</div>"
      ],
      "text/plain": [
       "              ties          nIAT  yellowCards         games       height  \\\n",
       "count  1418.000000  1.418000e+03  1418.000000   1418.000000  1418.000000   \n",
       "mean    436.459803  3.543916e+05   242.483780   1818.977433   182.159379   \n",
       "std     464.389587  7.212591e+05   290.131377   1963.852817     6.799995   \n",
       "min       0.000000  1.021000e+03     0.000000      1.000000   161.000000   \n",
       "25%     124.000000  4.479100e+04    54.000000    508.000000   178.000000   \n",
       "50%     288.000000  4.479100e+04   148.000000   1204.000000   182.500000   \n",
       "75%     581.500000  4.479100e+04   320.000000   2426.500000   187.000000   \n",
       "max    3559.000000  1.975803e+06  2361.000000  16932.000000   203.000000   \n",
       "\n",
       "             seIAT      meanIAT        seExp      defeats       weight  \\\n",
       "count  1418.000000  1418.000000  1418.000000  1418.000000  1418.000000   \n",
       "mean      0.000293     0.347126     0.001399   561.917489    76.263047   \n",
       "std       0.000390     0.014516     0.001957   573.695929     7.105262   \n",
       "min       0.000010     0.287530     0.000037     0.000000    55.000000   \n",
       "25%       0.000120     0.336628     0.000547   173.000000    71.000000   \n",
       "50%       0.000229     0.340851     0.001002   384.500000    76.000000   \n",
       "75%       0.000306     0.361154     0.001437   749.750000    81.000000   \n",
       "max       0.009063     0.396512     0.045650  4269.000000   100.000000   \n",
       "\n",
       "            goals      meanExp     victories           nExp     redCards  \\\n",
       "count  1418.00000  1418.000000   1418.000000    1418.000000  1418.000000   \n",
       "mean    211.35402     0.444205    820.600141   14634.828780     7.225670   \n",
       "std     428.63188     0.101160   1019.439932   20973.932803    13.087291   \n",
       "min       0.00000     0.065271      0.000000     500.333333     0.000000   \n",
       "25%      14.00000     0.361671    197.000000    3310.080483     0.000000   \n",
       "50%      69.00000     0.402253    497.000000    7848.075000     1.000000   \n",
       "75%     221.50000     0.551277   1068.750000   18138.787157     9.750000   \n",
       "max    5141.00000     1.031407  10092.000000  414045.840000   121.000000   \n",
       "\n",
       "        mean_rater  \n",
       "count  1418.000000  \n",
       "mean      0.363188  \n",
       "std       0.258913  \n",
       "min       0.125000  \n",
       "25%       0.125000  \n",
       "50%       0.375000  \n",
       "75%       0.375000  \n",
       "max       0.875000  "
      ]
     },
     "execution_count": 19,
     "metadata": {},
     "output_type": "execute_result"
    }
   ],
   "source": [
    "df_p['birthday_day'] = df_p['birthday'].str.split('.',expand=True)[0]\n",
    "df_p['birthday_month'] = df_p['birthday'].str.split('.',expand=True)[1]\n",
    "df_p['birthday_year'] = df_p['birthday'].str.split('.',expand=True)[2]\n",
    "df_p.drop(['birthday'],inplace=True,axis=1,errors='ignore')\n",
    "df_p.drop(['birthday_day','birthday_month'],inplace=True,axis=1,errors='ignore')\n",
    "df_p.describe()"
   ]
  },
  {
   "cell_type": "markdown",
   "metadata": {},
   "source": [
    "#### Drop columns\n",
    "Maybe we can drop columns about the referees :\n",
    " - à tester\n",
    "    "
   ]
  },
  {
   "cell_type": "code",
   "execution_count": 93,
   "metadata": {
    "collapsed": false
   },
   "outputs": [],
   "source": [
    "#df_p.drop(['nIAT','nExp'],inplace=True,axis=1,errors='ignore')\n",
    "#df_p.head()"
   ]
  },
  {
   "cell_type": "markdown",
   "metadata": {},
   "source": [
    "# Machine Learning time !\n"
   ]
  },
  {
   "cell_type": "markdown",
   "metadata": {},
   "source": [
    "#### Manage categorical data\n",
    "We transform categorical data into numerical data"
   ]
  },
  {
   "cell_type": "code",
   "execution_count": 138,
   "metadata": {
    "collapsed": false
   },
   "outputs": [
    {
     "data": {
      "text/html": [
       "<div>\n",
       "<table border=\"1\" class=\"dataframe\">\n",
       "  <thead>\n",
       "    <tr style=\"text-align: right;\">\n",
       "      <th></th>\n",
       "      <th>seExp</th>\n",
       "      <th>weight</th>\n",
       "      <th>nIAT</th>\n",
       "      <th>goals</th>\n",
       "      <th>meanExp</th>\n",
       "      <th>leagueCountry</th>\n",
       "      <th>ties</th>\n",
       "      <th>nExp</th>\n",
       "      <th>position</th>\n",
       "      <th>refCountry</th>\n",
       "      <th>...</th>\n",
       "      <th>redCards</th>\n",
       "      <th>birthday</th>\n",
       "      <th>yellowCards</th>\n",
       "      <th>victories</th>\n",
       "      <th>club</th>\n",
       "      <th>height</th>\n",
       "      <th>games</th>\n",
       "      <th>defeats</th>\n",
       "      <th>seIAT</th>\n",
       "      <th>mean_rater</th>\n",
       "    </tr>\n",
       "  </thead>\n",
       "  <tbody>\n",
       "    <tr>\n",
       "      <th>0</th>\n",
       "      <td>300</td>\n",
       "      <td>15</td>\n",
       "      <td>15</td>\n",
       "      <td>101</td>\n",
       "      <td>650</td>\n",
       "      <td>0</td>\n",
       "      <td>762</td>\n",
       "      <td>1144</td>\n",
       "      <td>1</td>\n",
       "      <td>53</td>\n",
       "      <td>...</td>\n",
       "      <td>0</td>\n",
       "      <td>322</td>\n",
       "      <td>186</td>\n",
       "      <td>912</td>\n",
       "      <td>33</td>\n",
       "      <td>20</td>\n",
       "      <td>1159</td>\n",
       "      <td>833</td>\n",
       "      <td>311</td>\n",
       "      <td>0</td>\n",
       "    </tr>\n",
       "    <tr>\n",
       "      <th>1</th>\n",
       "      <td>320</td>\n",
       "      <td>17</td>\n",
       "      <td>17</td>\n",
       "      <td>365</td>\n",
       "      <td>519</td>\n",
       "      <td>2</td>\n",
       "      <td>504</td>\n",
       "      <td>874</td>\n",
       "      <td>0</td>\n",
       "      <td>42</td>\n",
       "      <td>...</td>\n",
       "      <td>13</td>\n",
       "      <td>160</td>\n",
       "      <td>297</td>\n",
       "      <td>661</td>\n",
       "      <td>85</td>\n",
       "      <td>21</td>\n",
       "      <td>924</td>\n",
       "      <td>669</td>\n",
       "      <td>353</td>\n",
       "      <td>0</td>\n",
       "    </tr>\n",
       "    <tr>\n",
       "      <th>2</th>\n",
       "      <td>392</td>\n",
       "      <td>7</td>\n",
       "      <td>15</td>\n",
       "      <td>298</td>\n",
       "      <td>654</td>\n",
       "      <td>0</td>\n",
       "      <td>695</td>\n",
       "      <td>1142</td>\n",
       "      <td>10</td>\n",
       "      <td>64</td>\n",
       "      <td>...</td>\n",
       "      <td>0</td>\n",
       "      <td>641</td>\n",
       "      <td>152</td>\n",
       "      <td>884</td>\n",
       "      <td>78</td>\n",
       "      <td>3</td>\n",
       "      <td>1109</td>\n",
       "      <td>767</td>\n",
       "      <td>358</td>\n",
       "      <td>1</td>\n",
       "    </tr>\n",
       "    <tr>\n",
       "      <th>3</th>\n",
       "      <td>975</td>\n",
       "      <td>20</td>\n",
       "      <td>17</td>\n",
       "      <td>195</td>\n",
       "      <td>789</td>\n",
       "      <td>0</td>\n",
       "      <td>263</td>\n",
       "      <td>1191</td>\n",
       "      <td>3</td>\n",
       "      <td>64</td>\n",
       "      <td>...</td>\n",
       "      <td>1</td>\n",
       "      <td>1076</td>\n",
       "      <td>191</td>\n",
       "      <td>571</td>\n",
       "      <td>6</td>\n",
       "      <td>16</td>\n",
       "      <td>668</td>\n",
       "      <td>367</td>\n",
       "      <td>885</td>\n",
       "      <td>0</td>\n",
       "    </tr>\n",
       "    <tr>\n",
       "      <th>4</th>\n",
       "      <td>1225</td>\n",
       "      <td>17</td>\n",
       "      <td>13</td>\n",
       "      <td>7</td>\n",
       "      <td>18</td>\n",
       "      <td>1</td>\n",
       "      <td>179</td>\n",
       "      <td>226</td>\n",
       "      <td>1</td>\n",
       "      <td>42</td>\n",
       "      <td>...</td>\n",
       "      <td>10</td>\n",
       "      <td>677</td>\n",
       "      <td>34</td>\n",
       "      <td>167</td>\n",
       "      <td>48</td>\n",
       "      <td>18</td>\n",
       "      <td>294</td>\n",
       "      <td>176</td>\n",
       "      <td>1279</td>\n",
       "      <td>1</td>\n",
       "    </tr>\n",
       "  </tbody>\n",
       "</table>\n",
       "<p>5 rows × 21 columns</p>\n",
       "</div>"
      ],
      "text/plain": [
       "   seExp  weight  nIAT  goals  meanExp  leagueCountry  ties  nExp  position  \\\n",
       "0    300      15    15    101      650              0   762  1144         1   \n",
       "1    320      17    17    365      519              2   504   874         0   \n",
       "2    392       7    15    298      654              0   695  1142        10   \n",
       "3    975      20    17    195      789              0   263  1191         3   \n",
       "4   1225      17    13      7       18              1   179   226         1   \n",
       "\n",
       "   refCountry     ...      redCards  birthday  yellowCards  victories  club  \\\n",
       "0          53     ...             0       322          186        912    33   \n",
       "1          42     ...            13       160          297        661    85   \n",
       "2          64     ...             0       641          152        884    78   \n",
       "3          64     ...             1      1076          191        571     6   \n",
       "4          42     ...            10       677           34        167    48   \n",
       "\n",
       "   height  games  defeats  seIAT  mean_rater  \n",
       "0      20   1159      833    311           0  \n",
       "1      21    924      669    353           0  \n",
       "2       3   1109      767    358           1  \n",
       "3      16    668      367    885           0  \n",
       "4      18    294      176   1279           1  \n",
       "\n",
       "[5 rows x 21 columns]"
      ]
     },
     "execution_count": 138,
     "metadata": {},
     "output_type": "execute_result"
    }
   ],
   "source": [
    "def changeCattoNumerical(x):\n",
    "    le = preprocessing.LabelEncoder()\n",
    "    le.fit(x) \n",
    "    y = le.transform(x)\n",
    "    return y\n",
    "\n",
    "df_p = df_p.copy()\n",
    "for col in df_p.columns.values:\n",
    "    df_p[col] = changeCattoNumerical(df_p[col]) \n",
    "\n",
    "df_p.head()"
   ]
  },
  {
   "cell_type": "markdown",
   "metadata": {},
   "source": [
    "### Preparation of the data\n",
    "First let's create a vector *X* of features and samples, and a vector *Y* of the labels corresponding. Y will have the value of *mean_rater*"
   ]
  },
  {
   "cell_type": "code",
   "execution_count": 65,
   "metadata": {
    "collapsed": false
   },
   "outputs": [
    {
     "data": {
      "text/html": [
       "<div>\n",
       "<table border=\"1\" class=\"dataframe\">\n",
       "  <thead>\n",
       "    <tr style=\"text-align: right;\">\n",
       "      <th></th>\n",
       "      <th>seExp</th>\n",
       "      <th>weight</th>\n",
       "      <th>redCards</th>\n",
       "      <th>birthday</th>\n",
       "      <th>meanExp</th>\n",
       "      <th>yellowCards</th>\n",
       "      <th>victories</th>\n",
       "      <th>club</th>\n",
       "      <th>height</th>\n",
       "      <th>ties</th>\n",
       "      <th>leagueCountry</th>\n",
       "      <th>games</th>\n",
       "      <th>goals</th>\n",
       "      <th>nIAT</th>\n",
       "      <th>position</th>\n",
       "      <th>defeats</th>\n",
       "      <th>seIAT</th>\n",
       "      <th>nExp</th>\n",
       "      <th>meanIAT</th>\n",
       "    </tr>\n",
       "  </thead>\n",
       "  <tbody>\n",
       "    <tr>\n",
       "      <th>0</th>\n",
       "      <td>300</td>\n",
       "      <td>15</td>\n",
       "      <td>0</td>\n",
       "      <td>322</td>\n",
       "      <td>650</td>\n",
       "      <td>186</td>\n",
       "      <td>912</td>\n",
       "      <td>33</td>\n",
       "      <td>20</td>\n",
       "      <td>762</td>\n",
       "      <td>0</td>\n",
       "      <td>1159</td>\n",
       "      <td>101</td>\n",
       "      <td>15</td>\n",
       "      <td>1</td>\n",
       "      <td>833</td>\n",
       "      <td>311</td>\n",
       "      <td>1144</td>\n",
       "      <td>155</td>\n",
       "    </tr>\n",
       "    <tr>\n",
       "      <th>1</th>\n",
       "      <td>320</td>\n",
       "      <td>17</td>\n",
       "      <td>13</td>\n",
       "      <td>160</td>\n",
       "      <td>519</td>\n",
       "      <td>297</td>\n",
       "      <td>661</td>\n",
       "      <td>85</td>\n",
       "      <td>21</td>\n",
       "      <td>504</td>\n",
       "      <td>2</td>\n",
       "      <td>924</td>\n",
       "      <td>365</td>\n",
       "      <td>17</td>\n",
       "      <td>0</td>\n",
       "      <td>669</td>\n",
       "      <td>353</td>\n",
       "      <td>874</td>\n",
       "      <td>699</td>\n",
       "    </tr>\n",
       "    <tr>\n",
       "      <th>2</th>\n",
       "      <td>392</td>\n",
       "      <td>7</td>\n",
       "      <td>0</td>\n",
       "      <td>641</td>\n",
       "      <td>654</td>\n",
       "      <td>152</td>\n",
       "      <td>884</td>\n",
       "      <td>78</td>\n",
       "      <td>3</td>\n",
       "      <td>695</td>\n",
       "      <td>0</td>\n",
       "      <td>1109</td>\n",
       "      <td>298</td>\n",
       "      <td>15</td>\n",
       "      <td>10</td>\n",
       "      <td>767</td>\n",
       "      <td>358</td>\n",
       "      <td>1142</td>\n",
       "      <td>152</td>\n",
       "    </tr>\n",
       "    <tr>\n",
       "      <th>3</th>\n",
       "      <td>975</td>\n",
       "      <td>20</td>\n",
       "      <td>1</td>\n",
       "      <td>1076</td>\n",
       "      <td>789</td>\n",
       "      <td>191</td>\n",
       "      <td>571</td>\n",
       "      <td>6</td>\n",
       "      <td>16</td>\n",
       "      <td>263</td>\n",
       "      <td>0</td>\n",
       "      <td>668</td>\n",
       "      <td>195</td>\n",
       "      <td>17</td>\n",
       "      <td>3</td>\n",
       "      <td>367</td>\n",
       "      <td>885</td>\n",
       "      <td>1191</td>\n",
       "      <td>305</td>\n",
       "    </tr>\n",
       "    <tr>\n",
       "      <th>4</th>\n",
       "      <td>1225</td>\n",
       "      <td>17</td>\n",
       "      <td>10</td>\n",
       "      <td>677</td>\n",
       "      <td>18</td>\n",
       "      <td>34</td>\n",
       "      <td>167</td>\n",
       "      <td>48</td>\n",
       "      <td>18</td>\n",
       "      <td>179</td>\n",
       "      <td>1</td>\n",
       "      <td>294</td>\n",
       "      <td>7</td>\n",
       "      <td>13</td>\n",
       "      <td>1</td>\n",
       "      <td>176</td>\n",
       "      <td>1279</td>\n",
       "      <td>226</td>\n",
       "      <td>131</td>\n",
       "    </tr>\n",
       "  </tbody>\n",
       "</table>\n",
       "</div>"
      ],
      "text/plain": [
       "   seExp  weight  redCards  birthday  meanExp  yellowCards  victories  club  \\\n",
       "0    300      15         0       322      650          186        912    33   \n",
       "1    320      17        13       160      519          297        661    85   \n",
       "2    392       7         0       641      654          152        884    78   \n",
       "3    975      20         1      1076      789          191        571     6   \n",
       "4   1225      17        10       677       18           34        167    48   \n",
       "\n",
       "   height  ties  leagueCountry  games  goals  nIAT  position  defeats  seIAT  \\\n",
       "0      20   762              0   1159    101    15         1      833    311   \n",
       "1      21   504              2    924    365    17         0      669    353   \n",
       "2       3   695              0   1109    298    15        10      767    358   \n",
       "3      16   263              0    668    195    17         3      367    885   \n",
       "4      18   179              1    294      7    13         1      176   1279   \n",
       "\n",
       "   nExp  meanIAT  \n",
       "0  1144      155  \n",
       "1   874      699  \n",
       "2  1142      152  \n",
       "3  1191      305  \n",
       "4   226      131  "
      ]
     },
     "execution_count": 65,
     "metadata": {},
     "output_type": "execute_result"
    }
   ],
   "source": [
    "df_y = df_p['mean_rater']\n",
    "\n",
    "df_x = df_p.copy()\n",
    "df_x.drop(['mean_rater'],inplace=True,axis=1,errors='ignore')\n",
    "\n",
    "df_x.head()"
   ]
  },
  {
   "cell_type": "markdown",
   "metadata": {},
   "source": [
    "#### Normalize and scale the data\n",
    "\n",
    "No need to normalise: https://www.quora.com/Should-inputs-to-random-forests-be-normalized"
   ]
  },
  {
   "cell_type": "code",
   "execution_count": 412,
   "metadata": {
    "collapsed": false
   },
   "outputs": [],
   "source": [
    "#df_x['nIAT'] = preprocessing.scale(df_x['nIAT'])\n",
    "#df_x['seIAT'] = preprocessing.scale(df_x['seIAT'])\n",
    "#df_x['nExp'] = preprocessing.scale(df_x['nExp'])\n",
    "#df_x['seExp'] = preprocessing.scale(df_x['seExp'])\n"
   ]
  },
  {
   "cell_type": "markdown",
   "metadata": {},
   "source": [
    "### Division of the dataset in train/test datasets\n",
    "we will use a training set containing 80% of the data, and a testing set containing 20% of the data\n",
    "\n",
    "when specifying *random_state = 0*, we make sure that the splitting is done everytime at the same place. We can remove this option to have a random splitting."
   ]
  },
  {
   "cell_type": "code",
   "execution_count": 42,
   "metadata": {
    "collapsed": false
   },
   "outputs": [
    {
     "data": {
      "text/plain": [
       "((1134, 19), (1134,), (284, 19), (284,))"
      ]
     },
     "execution_count": 42,
     "metadata": {},
     "output_type": "execute_result"
    }
   ],
   "source": [
    "df_x_train, df_x_test, df_y_train, df_y_test = train_test_split(df_x, df_y, test_size=.2, random_state = 0)\n",
    "\n",
    "df_x_train.shape, df_y_train.shape, df_x_test.shape, df_y_test.shape"
   ]
  },
  {
   "cell_type": "code",
   "execution_count": 18,
   "metadata": {
    "collapsed": false
   },
   "outputs": [
    {
     "name": "stdout",
     "output_type": "stream",
     "text": [
      "0.528169014085\n"
     ]
    }
   ],
   "source": [
    "# TRAIN RANDOM FOREST\n",
    "\n",
    "# Train model\n",
    "rand_forest_model = sk.ensemble.RandomForestClassifier(n_estimators=100)\n",
    "rand_forest_model.fit(df_x_train,df_y_train)\n",
    "\n",
    "# Predict from model neigh\n",
    "y_pred = rand_forest_model.predict(df_x_test)\n",
    "\n",
    "# Compute accuracy \n",
    "accuracy_rand_forest = sk.metrics.accuracy_score(df_y_test,y_pred)\n",
    "\n",
    "# Print accuracy and exectution time\n",
    "print(accuracy_rand_forest)\n",
    "\n"
   ]
  },
  {
   "cell_type": "markdown",
   "metadata": {},
   "source": [
    "### Cross validation : finding the best parameters\n",
    "\n",
    "we will define K = 20 folds.\n"
   ]
  },
  {
   "cell_type": "code",
   "execution_count": 19,
   "metadata": {
    "collapsed": false
   },
   "outputs": [],
   "source": [
    "num_folds = 20"
   ]
  },
  {
   "cell_type": "markdown",
   "metadata": {},
   "source": [
    "#### 1 hyperparameter : number of trees\n",
    "\n",
    "Choices for the number of estimators hyperparameter:"
   ]
  },
  {
   "cell_type": "code",
   "execution_count": 23,
   "metadata": {
    "collapsed": true
   },
   "outputs": [],
   "source": [
    "number_trees = [10, 50, 100, 150, 200]"
   ]
  },
  {
   "cell_type": "code",
   "execution_count": 24,
   "metadata": {
    "collapsed": false
   },
   "outputs": [
    {
     "name": "stdout",
     "output_type": "stream",
     "text": [
      "number_trees_idx :  1 / 5\n",
      "0.461843096997\n",
      "number_trees_idx :  2 / 5\n",
      "0.470414193492\n",
      "number_trees_idx :  3 / 5\n",
      "0.458994920188\n",
      "number_trees_idx :  4 / 5\n",
      "0.476651318436\n",
      "number_trees_idx :  5 / 5\n",
      "0.473092821848\n"
     ]
    }
   ],
   "source": [
    "rf_scores = []\n",
    "rf_param = []\n",
    "\n",
    "#Loop for 1st hyperparameter n_estimators\n",
    "for number_trees_idx, number_trees_value in enumerate(number_trees):\n",
    "    \n",
    "    print('number_trees_idx : ',number_trees_idx+1,'/',len(number_trees))\n",
    "\n",
    "    # Random forest\n",
    "    rand_forest_model = sk.ensemble.RandomForestClassifier(n_estimators=number_trees_value,)\n",
    "\n",
    "    #Scores\n",
    "    scores = cross_val_score(rand_forest_model, df_x_train, df_y_train, cv=num_folds, scoring='accuracy')\n",
    "    rf_scores.append(scores.mean())\n",
    "    rf_param.append(number_trees_value)\n",
    "    print(scores.mean())\n"
   ]
  },
  {
   "cell_type": "code",
   "execution_count": 25,
   "metadata": {
    "collapsed": false
   },
   "outputs": [
    {
     "name": "stdout",
     "output_type": "stream",
     "text": [
      "best accuracy:\n",
      "0.476651318436\n",
      "best parameter:\n",
      "150\n"
     ]
    },
    {
     "data": {
      "image/png": "[encoded data removed]",
      "text/plain": [
       "<matplotlib.figure.Figure at 0x19871fa58d0>"
      ]
     },
     "metadata": {},
     "output_type": "display_data"
    }
   ],
   "source": [
    "plt.plot(rf_param,rf_scores)\n",
    "plt.xlabel('Value of the parameters for the random forest')\n",
    "plt.ylabel('Cross-Validated Accuracy')\n",
    "\n",
    "idx_best = np.argmax(rf_scores)\n",
    "print('best accuracy:')\n",
    "print(np.max(rf_scores))\n",
    "print('best parameter:')\n",
    "print(rf_param[idx_best])"
   ]
  },
  {
   "cell_type": "markdown",
   "metadata": {},
   "source": [
    "#### 2 hyperparameters : number of trees, max_depth\n",
    "\n",
    "Choices for the number of estimators hyperparameter:"
   ]
  },
  {
   "cell_type": "code",
   "execution_count": 26,
   "metadata": {
    "collapsed": false
   },
   "outputs": [],
   "source": [
    "n_estimators_choices = [100,  150, 200]\n",
    "depth_choices = [5, 10, 15, 20, 25, 30]\n",
    "\n",
    "num_n_estimators = len(n_estimators_choices)\n",
    "num_depth = len(depth_choices)\n"
   ]
  },
  {
   "cell_type": "code",
   "execution_count": 27,
   "metadata": {
    "collapsed": false
   },
   "outputs": [
    {
     "name": "stdout",
     "output_type": "stream",
     "text": [
      ".n_estimators_choices_idx :  1 / 3\n",
      "..depth_choices_idx :  1 / 6\n",
      "0.482745698194\n",
      "..depth_choices_idx :  2 / 6\n",
      "0.476821493089\n",
      "..depth_choices_idx :  3 / 6\n",
      "0.472263220415\n",
      "..depth_choices_idx :  4 / 6\n",
      "0.466899417065\n",
      "..depth_choices_idx :  5 / 6\n",
      "0.460785558684\n",
      "..depth_choices_idx :  6 / 6\n",
      "0.455131502046\n",
      ".n_estimators_choices_idx :  2 / 3\n",
      "..depth_choices_idx :  1 / 6\n",
      "0.484484504391\n",
      "..depth_choices_idx :  2 / 6\n",
      "0.476555709048\n",
      "..depth_choices_idx :  3 / 6\n",
      "0.466365050058\n",
      "..depth_choices_idx :  4 / 6\n",
      "0.483276042339\n",
      "..depth_choices_idx :  5 / 6\n",
      "0.473924045709\n",
      "..depth_choices_idx :  6 / 6\n",
      "0.464606879094\n",
      ".n_estimators_choices_idx :  3 / 3\n",
      "..depth_choices_idx :  1 / 6\n",
      "0.476693416169\n",
      "..depth_choices_idx :  2 / 6\n",
      "0.480036395516\n",
      "..depth_choices_idx :  3 / 6\n",
      "0.462449628834\n",
      "..depth_choices_idx :  4 / 6\n",
      "0.468561978641\n",
      "..depth_choices_idx :  5 / 6\n",
      "0.467084203056\n",
      "..depth_choices_idx :  6 / 6\n",
      "0.463248385162\n"
     ]
    }
   ],
   "source": [
    "accuracy_tab = np.zeros([num_folds,num_n_estimators])\n",
    "\n",
    "rf_scores = []\n",
    "rf_param = []\n",
    "\n",
    "#Loop for 1st hyperparameter n_estimators\n",
    "for n_estimators_choices_idx, n_estimators_choices_value in enumerate(n_estimators_choices):\n",
    "    print('.n_estimators_choices_idx : ',n_estimators_choices_idx+1,'/',num_n_estimators)\n",
    "    \n",
    "    #Loop for 2nd hyperparameter max_depth\n",
    "    for depth_choices_idx, depth_choices_value in enumerate(depth_choices):\n",
    "        print('..depth_choices_idx : ',depth_choices_idx+1,'/',num_depth)\n",
    "        \n",
    "        # Random forest\n",
    "        rand_forest_model = sk.ensemble.RandomForestClassifier(n_estimators=n_estimators_choices_value,max_depth=depth_choices_value)\n",
    "        \n",
    "        #Scores\n",
    "        scores = cross_val_score(rand_forest_model, df_x_train, df_y_train, cv=num_folds, scoring='accuracy')\n",
    "        rf_scores.append(scores.mean())\n",
    "        rf_param.append([n_estimators_choices_value,depth_choices_value])\n",
    "        print(scores.mean())\n"
   ]
  },
  {
   "cell_type": "code",
   "execution_count": 28,
   "metadata": {
    "collapsed": false
   },
   "outputs": [],
   "source": [
    "\n",
    "# generate 2 2d grids for the x & y bounds\n",
    "x,y = np.meshgrid(n_estimators_choices,depth_choices,sparse=True)\n",
    "\n",
    "z=np.zeros((len(y),len(x[0])))\n",
    "\n",
    "for s in range(0,len(x[0])):\n",
    "    for t in range(0,len(y)):\n",
    "        a=np.transpose(x)[s]\n",
    "        b=y[t]\n",
    "\n",
    "        c=rf_param.index([a,b])\n",
    "        z[t,s]=rf_scores[c]                       \n",
    "z = z[:-1, :-1]"
   ]
  },
  {
   "cell_type": "code",
   "execution_count": 29,
   "metadata": {
    "collapsed": false
   },
   "outputs": [
    {
     "data": {
      "text/plain": [
       "<matplotlib.text.Text at 0x1987202acc0>"
      ]
     },
     "execution_count": 29,
     "metadata": {},
     "output_type": "execute_result"
    },
    {
     "data": {
      "image/png": "[encoded data removed]",
      "text/plain": [
       "<matplotlib.figure.Figure at 0x1987aab3b70>"
      ]
     },
     "metadata": {},
     "output_type": "display_data"
    }
   ],
   "source": [
    "\n",
    "z_min, z_max = np.abs(z).min(), np.abs(z).max()\n",
    "\n",
    "plt.pcolor(x, y, z, cmap='Greys', vmin=z_min, vmax=z_max)\n",
    "plt.title('Cross validated-accuracy in function of number of estimators and depth of tree')\n",
    "# set the limits of the plot to the limits of the data\n",
    "plt.colorbar()\n",
    "plt.ylabel('Depth of tree')\n",
    "plt.xlabel('Number of trees')\n",
    "\n"
   ]
  },
  {
   "cell_type": "markdown",
   "metadata": {
    "collapsed": true
   },
   "source": [
    "The best predictor seem to be found in the simplest random forest, with a depth of 5 and 150 estimators.\n",
    "\n",
    "Let's retrain this model on the whole dataset."
   ]
  },
  {
   "cell_type": "code",
   "execution_count": 71,
   "metadata": {
    "collapsed": false
   },
   "outputs": [
    {
     "data": {
      "text/plain": [
       "RandomForestClassifier(bootstrap=True, class_weight=None, criterion='gini',\n",
       "            max_depth=None, max_features='auto', max_leaf_nodes=None,\n",
       "            min_impurity_split=1e-07, min_samples_leaf=1,\n",
       "            min_samples_split=2, min_weight_fraction_leaf=0.0,\n",
       "            n_estimators=200, n_jobs=1, oob_score=False, random_state=None,\n",
       "            verbose=0, warm_start=False)"
      ]
     },
     "execution_count": 71,
     "metadata": {},
     "output_type": "execute_result"
    }
   ],
   "source": [
    "# Random forest\n",
    "rand_forest_model = sk.ensemble.RandomForestClassifier(n_estimators=200)\n",
    "df_y = np.asarray(df_y, dtype=\"|S6\")\n",
    "rand_forest_model.fit(df_x,df_y)\n",
    "\n"
   ]
  },
  {
   "cell_type": "markdown",
   "metadata": {},
   "source": [
    "### Plot results of the features importance"
   ]
  },
  {
   "cell_type": "code",
   "execution_count": 44,
   "metadata": {
    "collapsed": false
   },
   "outputs": [
    {
     "name": "stdout",
     "output_type": "stream",
     "text": [
      "Feature ranking:\n",
      "1. feature seExp (0.072357)\n",
      "2. feature weight (0.071120)\n",
      "3. feature redCards (0.069304)\n",
      "4. feature birthday (0.066399)\n",
      "5. feature meanExp (0.063712)\n",
      "6. feature yellowCards (0.060662)\n",
      "7. feature victories (0.057757)\n",
      "8. feature club (0.057623)\n",
      "9. feature height (0.056559)\n",
      "10. feature ties (0.054573)\n",
      "11. feature leagueCountry (0.053930)\n",
      "12. feature games (0.052431)\n",
      "13. feature goals (0.051910)\n",
      "14. feature nIAT (0.051208)\n",
      "15. feature position (0.050065)\n",
      "16. feature defeats (0.039287)\n",
      "17. feature seIAT (0.033784)\n",
      "18. feature nExp (0.022078)\n",
      "19. feature meanIAT (0.015241)\n"
     ]
    },
    {
     "data": {
      "image/png": "[encoded data removed]",
      "text/plain": [
       "<matplotlib.figure.Figure at 0x19800451ef0>"
      ]
     },
     "metadata": {},
     "output_type": "display_data"
    }
   ],
   "source": [
    "importances = rand_forest_model.feature_importances_\n",
    "std = np.std([tree.feature_importances_ for tree in rand_forest_model.estimators_], axis=0)\n",
    "indices = np.argsort(importances)[::-1]\n",
    "\n",
    "# Print the feature ranking\n",
    "print(\"Feature ranking:\")\n",
    "\n",
    "for f in range(df_x.shape[1]):\n",
    "    print(\"%d. feature %s (%f)\" % (f + 1, df_x.columns[f], importances[indices[f]]))\n",
    "plt.figure()\n",
    "\n",
    "plt.title(\"Feature importances\")\n",
    "plt.bar(range(df_x.shape[1]), importances[indices],\n",
    "       color=\"r\", yerr=std[indices], align=\"center\")\n",
    "plt.xticks(range(df_x.shape[1]), df_x.columns[indices])\n",
    "plt.xlim([-1, df_x.shape[1]])\n",
    "plt.show()"
   ]
  },
  {
   "cell_type": "markdown",
   "metadata": {},
   "source": [
    "Let's now remove the features that we assume are the least useful to determine one's skin color.\n",
    "By retraining the model and verifying its accuracy, we see it has improved slightly."
   ]
  },
  {
   "cell_type": "code",
   "execution_count": 100,
   "metadata": {
    "collapsed": false
   },
   "outputs": [],
   "source": [
    "#df_x.drop(['victories','leagueCountry','birthday_month','birthday_year','birthday_day'],inplace=True,axis=1,errors='ignore')\n",
    "df_x.drop(['meanIAT','nExp','seIAT','defeats'],inplace=True,axis=1,errors='ignore')"
   ]
  },
  {
   "cell_type": "code",
   "execution_count": 101,
   "metadata": {
    "collapsed": false
   },
   "outputs": [
    {
     "name": "stdout",
     "output_type": "stream",
     "text": [
      "0.521126760563\n"
     ]
    }
   ],
   "source": [
    "df_x_train, df_x_test, df_y_train, df_y_test = train_test_split(df_x, df_y, test_size=.2, random_state = 0)\n",
    "\n",
    "rand_forest_model.fit(df_x_train,df_y_train)\n",
    "# Predict from model neigh\n",
    "y_pred = rand_forest_model.predict(df_x_test)\n",
    "\n",
    "# Compute accuracy \n",
    "accuracy_rand_forest = sk.metrics.accuracy_score(df_y_test,y_pred)\n",
    "\n",
    "# Print accuracy and exectution time\n",
    "print(accuracy_rand_forest)"
   ]
  },
  {
   "cell_type": "markdown",
   "metadata": {},
   "source": [
    "The random forest will be trained again on the whole set, using the same model parameters."
   ]
  },
  {
   "cell_type": "code",
   "execution_count": 74,
   "metadata": {
    "collapsed": false
   },
   "outputs": [
    {
     "data": {
      "text/plain": [
       "RandomForestClassifier(bootstrap=True, class_weight=None, criterion='gini',\n",
       "            max_depth=None, max_features='auto', max_leaf_nodes=None,\n",
       "            min_impurity_split=1e-07, min_samples_leaf=1,\n",
       "            min_samples_split=2, min_weight_fraction_leaf=0.0,\n",
       "            n_estimators=200, n_jobs=1, oob_score=False, random_state=None,\n",
       "            verbose=0, warm_start=False)"
      ]
     },
     "execution_count": 74,
     "metadata": {},
     "output_type": "execute_result"
    }
   ],
   "source": [
    "rand_forest_model.fit(df_x,df_y)\n"
   ]
  },
  {
   "cell_type": "markdown",
   "metadata": {},
   "source": [
    "Let's have a look at the features importance now"
   ]
  },
  {
   "cell_type": "code",
   "execution_count": 34,
   "metadata": {
    "collapsed": false
   },
   "outputs": [
    {
     "name": "stdout",
     "output_type": "stream",
     "text": [
      "Feature ranking:\n",
      "1. feature seExp (0.154230)\n",
      "2. feature weight (0.143976)\n",
      "3. feature redCards (0.115503)\n",
      "4. feature birthday (0.114969)\n",
      "5. feature meanExp (0.114422)\n",
      "6. feature yellowCards (0.113276)\n",
      "7. feature victories (0.091683)\n",
      "8. feature club (0.089367)\n",
      "9. feature height (0.062574)\n"
     ]
    },
    {
     "data": {
      "image/png": "[encoded data removed]",
      "text/plain": [
       "<matplotlib.figure.Figure at 0x198001a8d30>"
      ]
     },
     "metadata": {},
     "output_type": "display_data"
    }
   ],
   "source": [
    "importances = rand_forest_model.feature_importances_\n",
    "std = np.std([tree.feature_importances_ for tree in rand_forest_model.estimators_],\n",
    "             axis=0)\n",
    "indices = np.argsort(importances)[::-1]\n",
    "\n",
    "# Print the feature ranking\n",
    "print(\"Feature ranking:\")\n",
    "\n",
    "for f in range(df_x.shape[1]):\n",
    "    print(\"%d. feature %s (%f)\" % (f + 1, df_x.columns[f], importances[indices[f]]))\n",
    "plt.figure()\n",
    "\n",
    "plt.title(\"Feature importances\")\n",
    "plt.bar(range(df_x.shape[1]), importances[indices],\n",
    "       color=\"r\", yerr=std[indices], align=\"center\")\n",
    "plt.xticks(range(df_x.shape[1]), indices)\n",
    "plt.xlim([-1, df_x.shape[1]])\n",
    "plt.show()"
   ]
  },
  {
   "cell_type": "markdown",
   "metadata": {},
   "source": [
    "## Bonus question"
   ]
  },
  {
   "cell_type": "markdown",
   "metadata": {},
   "source": [
    "Firstly the learning curve of the best model will be plotted. Using the features that could have an importance in determining a footballer's color skin"
   ]
  },
  {
   "cell_type": "code",
   "execution_count": 105,
   "metadata": {
    "collapsed": false
   },
   "outputs": [
    {
     "data": {
      "text/plain": [
       "<matplotlib.legend.Legend at 0x19807a01c88>"
      ]
     },
     "execution_count": 105,
     "metadata": {},
     "output_type": "execute_result"
    },
    {
     "data": {
      "image/png": "[encoded data removed]",
      "text/plain": [
       "<matplotlib.figure.Figure at 0x1980797dda0>"
      ]
     },
     "metadata": {},
     "output_type": "display_data"
    }
   ],
   "source": [
    "    rand_forest_model = sk.ensemble.RandomForestClassifier(n_estimators=150,max_depth=5)\n",
    "    plt.figure()\n",
    "    plt.title(\"Best model\")\n",
    "    plt.xlabel(\"Training examples\")\n",
    "    plt.ylabel(\"Score\")\n",
    "    train_sizes, train_scores, test_scores = learning_curve(\n",
    "        rand_forest_model, df_x, df_y, cv=20)\n",
    "    train_scores_mean = np.mean(train_scores, axis=1)\n",
    "    train_scores_std = np.std(train_scores, axis=1)\n",
    "    test_scores_mean = np.mean(test_scores, axis=1)\n",
    "    test_scores_std = np.std(test_scores, axis=1)\n",
    "    plt.grid()\n",
    "\n",
    "    \n",
    "    plt.fill_between(train_sizes, train_scores_mean - train_scores_std,\n",
    "                     train_scores_mean + train_scores_std, alpha=0.1,\n",
    "                     color=\"r\")\n",
    "    plt.fill_between(train_sizes, test_scores_mean - test_scores_std,\n",
    "                     test_scores_mean + test_scores_std, alpha=0.1, color=\"g\")\n",
    "    plt.plot(train_sizes, train_scores_mean, 'o-', color=\"r\",\n",
    "             label=\"Training score\")\n",
    "    plt.plot(train_sizes, test_scores_mean, 'o-', color=\"g\",\n",
    "             label=\"Cross-validation score\")\n",
    "\n",
    "    axes = plt.gca()\n",
    "    axes.set_ylim([0.4,1.05])\n",
    "\n",
    "    plt.legend(loc=\"best\")\n",
    "\n",
    "\n"
   ]
  },
  {
   "cell_type": "markdown",
   "metadata": {},
   "source": [
    "Now the learning curve of the worst model will be plotted"
   ]
  },
  {
   "cell_type": "markdown",
   "metadata": {},
   "source": [
    "First let's determine which was the worst model"
   ]
  },
  {
   "cell_type": "code",
   "execution_count": 103,
   "metadata": {
    "collapsed": false
   },
   "outputs": [
    {
     "name": "stdout",
     "output_type": "stream",
     "text": [
      "0.484484504391\n",
      "[100, 30]\n"
     ]
    }
   ],
   "source": [
    "idx_best = np.argmin(rf_scores)\n",
    "print(np.max(rf_scores))\n",
    "print(rf_param[idx_best])"
   ]
  },
  {
   "cell_type": "markdown",
   "metadata": {},
   "source": [
    "The worst model was when using 100 trees and a depth of 30"
   ]
  },
  {
   "cell_type": "code",
   "execution_count": 91,
   "metadata": {
    "collapsed": false
   },
   "outputs": [],
   "source": [
    "rand_forest_model = sk.ensemble.RandomForestClassifier(n_estimators=100,max_depth=30)\n"
   ]
  },
  {
   "cell_type": "code",
   "execution_count": 92,
   "metadata": {
    "collapsed": false
   },
   "outputs": [
    {
     "data": {
      "text/plain": [
       "<matplotlib.legend.Legend at 0x198007bcd68>"
      ]
     },
     "execution_count": 92,
     "metadata": {},
     "output_type": "execute_result"
    },
    {
     "data": {
      "image/png": "[encoded data removed]",
      "text/plain": [
       "<matplotlib.figure.Figure at 0x1980075e6d8>"
      ]
     },
     "metadata": {},
     "output_type": "display_data"
    }
   ],
   "source": [
    "    plt.figure()\n",
    "    plt.title(\"Worst model\")\n",
    "    plt.xlabel(\"Training examples\")\n",
    "    plt.ylabel(\"Score\")\n",
    "    train_sizes, train_scores, test_scores = learning_curve(\n",
    "        rand_forest_model, df_x, df_y, cv=20)\n",
    "    train_scores_mean = np.mean(train_scores, axis=1)\n",
    "    train_scores_std = np.std(train_scores, axis=1)\n",
    "    test_scores_mean = np.mean(test_scores, axis=1)\n",
    "    test_scores_std = np.std(test_scores, axis=1)\n",
    "    plt.grid()\n",
    "\n",
    "    plt.fill_between(train_sizes, train_scores_mean - train_scores_std,\n",
    "                     train_scores_mean + train_scores_std, alpha=0.1,\n",
    "                     color=\"r\")\n",
    "    plt.fill_between(train_sizes, test_scores_mean - test_scores_std,\n",
    "                     test_scores_mean + test_scores_std, alpha=0.1, color=\"g\")\n",
    "    plt.plot(train_sizes, train_scores_mean, 'o-', color=\"r\",\n",
    "             label=\"Training score\")\n",
    "    plt.plot(train_sizes, test_scores_mean, 'o-', color=\"g\",\n",
    "             label=\"Cross-validation score\")\n",
    "    axes = plt.gca()\n",
    "axes.set_ylim([0.4,1.05])\n",
    "\n",
    "    plt.legend(loc=\"best\")\n",
    "\n"
   ]
  },
  {
   "cell_type": "markdown",
   "metadata": {},
   "source": [
    "As it can be seen the worst model was overfitting a lot, having an accuracy of 1 when training and showing a bad performance when testing on a subset of the data it hasn't trained on"
   ]
  },
  {
   "cell_type": "markdown",
   "metadata": {},
   "source": [
    "# 2. Clustering\n",
    "Now, we will work on referee information. We come back to our aggregated and cleaned dataframe df_p."
   ]
  },
  {
   "cell_type": "code",
   "execution_count": 136,
   "metadata": {
    "collapsed": false
   },
   "outputs": [
    {
     "data": {
      "text/plain": [
       "29778"
      ]
     },
     "execution_count": 136,
     "metadata": {},
     "output_type": "execute_result"
    }
   ],
   "source": [
    "df_p.size"
   ]
  },
  {
   "cell_type": "markdown",
   "metadata": {},
   "source": [
    "## Aggregating the referee information"
   ]
  },
  {
   "cell_type": "code",
   "execution_count": 161,
   "metadata": {
    "collapsed": false,
    "scrolled": true
   },
   "outputs": [
    {
     "data": {
      "text/plain": [
       "0.28755377667116166"
      ]
     },
     "execution_count": 161,
     "metadata": {},
     "output_type": "execute_result"
    },
    {
     "data": {
      "text/plain": [
       "<matplotlib.figure.Figure at 0x1980468ab00>"
      ]
     },
     "metadata": {},
     "output_type": "display_data"
    }
   ],
   "source": [
    "plt.figure(figsize=(15, 15))\n",
    "\n",
    "# Incorrect number of clusters\n",
    "kmeans_model = KMeans(n_clusters=2, random_state=0).fit_predict(df_p, y=df_p['mean_rater'])\n",
    "\n",
    "#plt.scatter( df_p.height, df_p.index, c=y_pred)\n",
    "\n",
    "\n",
    "metrics.silhouette_score(df_p, kmeans_model, metric='euclidean')\n"
   ]
  },
  {
   "cell_type": "code",
   "execution_count": null,
   "metadata": {
    "collapsed": true
   },
   "outputs": [],
   "source": [
    "\n",
    "\n",
    "\n"
   ]
  },
  {
   "cell_type": "code",
   "execution_count": null,
   "metadata": {
    "collapsed": true
   },
   "outputs": [],
   "source": []
  },
  {
   "cell_type": "code",
   "execution_count": null,
   "metadata": {
    "collapsed": true
   },
   "outputs": [],
   "source": []
  },
  {
   "cell_type": "code",
   "execution_count": null,
   "metadata": {
    "collapsed": true
   },
   "outputs": [],
   "source": []
  }
 ],
 "metadata": {
  "anaconda-cloud": {},
  "kernelspec": {
   "display_name": "Python [Root]",
   "language": "python",
   "name": "Python [Root]"
  },
  "language_info": {
   "codemirror_mode": {
    "name": "ipython",
    "version": 3
   },
   "file_extension": ".py",
   "mimetype": "text/x-python",
   "name": "python",
   "nbconvert_exporter": "python",
   "pygments_lexer": "ipython3",
   "version": "3.5.2"
  }
 },
 "nbformat": 4,
 "nbformat_minor": 1
}
