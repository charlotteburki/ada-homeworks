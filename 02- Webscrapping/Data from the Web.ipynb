{
 "cells": [
  {
   "cell_type": "markdown",
   "metadata": {},
   "source": [
    "# Web Scrapping\n",
    "*[Cyril Pecoraro](http://github.com/cyril-p)*\n",
    "\n",
    "**Scrapping Data from the Web**\n",
    "\n",
    "In this project we will extract interesting information from IS-Academia, the educational portal of EPFL. Specifically, we will focus on the part that allows public access to academic [data](http://isa.epfl.ch/imoniteur_ISAP/%21gedpublicreports.htm?ww_i_reportmodel=133685247). \n",
    "\n",
    "\n",
    "We will obtain all the data for the \"informatique\" Bachelor students, starting from 2007. We will keep only the students for which we have an entry for both Bachelor semestre 1 and Bachelor semestre 6. We will compute how many months it took each student to go from the first to the sixth semester. We will partition the data between male and female students, and compute the average and find if the difference in average is statistically significant?"
   ]
  },
  {
   "cell_type": "code",
   "execution_count": 103,
   "metadata": {
    "collapsed": false
   },
   "outputs": [],
   "source": [
    "import requests \n",
    "import pandas as pd\n",
    "from scipy import stats\n",
    "import urllib3\n",
    "% matplotlib inline\n",
    "from bs4 import BeautifulSoup\n",
    "import numpy as np\n",
    "import matplotlib.pyplot as plt"
   ]
  },
  {
   "cell_type": "markdown",
   "metadata": {},
   "source": [
    "We have a BaseFormUrl, and from there, we will get the tags for the type of results, and every choice in the menu on the left of the page.\n",
    "\n",
    "The idea is to hardcode the name of the parameters and get their possible values. \n",
    "Parameters are : \n",
    "'ww_i_reportModelXsl','ww_x_UNITE_ACAD','ww_x_PERIODE_ACAD','ww_x_PERIODE_PEDAGO','ww_x_HIVERETE'"
   ]
  },
  {
   "cell_type": "code",
   "execution_count": 5,
   "metadata": {
    "collapsed": false
   },
   "outputs": [],
   "source": [
    "# We define two url: One for selecting the parameters, one for displaying the student names.\n",
    "baseFormUrl = 'http://isa.epfl.ch/imoniteur_ISAP/!GEDPUBLICREPORTS.filter?ww_b_list=1&ww_i_reportmodel=133685247'\n",
    "baseFormUrlDisplay = 'http://isa.epfl.ch/imoniteur_ISAP/!GEDPUBLICREPORTS.bhtml?ww_b_list=1&ww_i_reportmodel=133685247'\n",
    "\n",
    "r = requests.get(baseFormUrl)\n",
    "soup = BeautifulSoup(r.content, \"html.parser\")"
   ]
  },
  {
   "cell_type": "markdown",
   "metadata": {},
   "source": [
    "The idea is to put all the params needed and their possible values in a nested dictionary named 'ww_params'\n",
    "\n",
    "We select the format of the page in the table with tag 'format'. Data is available in html or XLS, but we choose to use html."
   ]
  },
  {
   "cell_type": "code",
   "execution_count": 6,
   "metadata": {
    "collapsed": false
   },
   "outputs": [],
   "source": [
    "ww_params = dict()\n",
    "formatTable = soup.find('table',attrs={'id': 'format'})\n",
    "try:\n",
    "    value = formatTable.findAll('input', attrs={'name':\"ww_i_reportModelXsl\"})\n",
    "except:\n",
    "    pass\n",
    "value_ww_i_reportModelXsl = value[0]['value']\n",
    "ww_params[\"ww_i_reportModelXsl\"] = value_ww_i_reportModelXsl"
   ]
  },
  {
   "cell_type": "markdown",
   "metadata": {},
   "source": [
    "And so we get the possible values for the parameters 'ww_i_reportModelXsl','ww_x_UNITE_ACAD','ww_x_PERIODE_ACAD','ww_x_PERIODE_PEDAGO','ww_x_HIVERETE'."
   ]
  },
  {
   "cell_type": "code",
   "execution_count": 7,
   "metadata": {
    "collapsed": false
   },
   "outputs": [],
   "source": [
    "filtreName = ['ww_x_UNITE_ACAD','ww_x_PERIODE_ACAD','ww_x_PERIODE_PEDAGO','ww_x_HIVERETE']\n",
    "filtreTable = soup.find('table',attrs={'id': 'filtre'})\n",
    "\n",
    "for name in filtreName:\n",
    "    ww_paramsList = dict()\n",
    "    academicChoice = filtreTable.find('select',attrs={'name': name})\n",
    "    value_ww_x_UNITE_ACAD = []\n",
    "    try:\n",
    "        choice = academicChoice.findAll('option')\n",
    "    except:\n",
    "        print('error')\n",
    "        pass\n",
    "    for option in choice:\n",
    "        if (option['value']) != 'null':\n",
    "            ww_paramsList[option.text]=option['value']\n",
    "    ww_params[name] = ww_paramsList"
   ]
  },
  {
   "cell_type": "markdown",
   "metadata": {},
   "source": [
    "Now we load the data by building a custom URL.  We first need to select the IS-Academia code for the parameters Bachelor 1 and Bachelor 6, fall semester and Spring semester, HTML Result, Informatique section"
   ]
  },
  {
   "cell_type": "code",
   "execution_count": 8,
   "metadata": {
    "collapsed": false
   },
   "outputs": [],
   "source": [
    "#Load the IS-academia code for html results and return error if there is a problem\n",
    "htmlResult = ww_params.get('ww_i_reportModelXsl', 'error')\n",
    "\n",
    "#Load the IS-academia code for fall semester and return error if there is a problem\n",
    "fallSemester = ww_params.get('ww_x_HIVERETE').get('Semestre d\\'automne', 'error')\n",
    "\n",
    "#Load the IS-academia code for fall semester and return error if there is a problem\n",
    "springSemester = ww_params.get('ww_x_HIVERETE').get('Semestre de printemps', 'error')\n",
    "\n",
    "#Load the IS-academia code for bachelor 1 and return error if there is a problem\n",
    "bachelor1 = ww_params.get('ww_x_PERIODE_PEDAGO').get('Bachelor semestre 1', 'error')\n",
    "\n",
    "#Load the IS-academia code for bachelor 6 and return error if there is a problem\n",
    "bachelor6 = ww_params.get('ww_x_PERIODE_PEDAGO').get('Bachelor semestre 6', 'error')\n",
    "\n",
    "#Load the IS-academia code for Informatique and return error if there is a problem\n",
    "informatique = ww_params.get('ww_x_UNITE_ACAD').get('Informatique', 'error')"
   ]
  },
  {
   "cell_type": "markdown",
   "metadata": {},
   "source": [
    "But before getting the list of the student, we need to have another parameter \"ww_x_GPS\". \n",
    "2 calls will be made. The first one  will allow to obtain the ww_x_GPS, and the second one to load the students, using that ww_x_GPS.\n",
    "\n",
    "Sometimes ww_x_GPS is not available, in this case, nothing will be done.\n",
    "\n",
    "This solution is quite slow (but works)."
   ]
  },
  {
   "cell_type": "code",
   "execution_count": 9,
   "metadata": {
    "collapsed": false
   },
   "outputs": [
    {
     "data": {
      "text/html": [
       "<div>\n",
       "<table border=\"1\" class=\"dataframe\">\n",
       "  <thead>\n",
       "    <tr style=\"text-align: right;\">\n",
       "      <th></th>\n",
       "      <th>sex</th>\n",
       "      <th>name</th>\n",
       "      <th>sciper</th>\n",
       "      <th>year</th>\n",
       "    </tr>\n",
       "  </thead>\n",
       "  <tbody>\n",
       "    <tr>\n",
       "      <th>0</th>\n",
       "      <td>Monsieur</td>\n",
       "      <td>Abbey Alexandre</td>\n",
       "      <td>235688</td>\n",
       "      <td>2015</td>\n",
       "    </tr>\n",
       "    <tr>\n",
       "      <th>1</th>\n",
       "      <td>Madame</td>\n",
       "      <td>Abboud Magaly</td>\n",
       "      <td>249344</td>\n",
       "      <td>2015</td>\n",
       "    </tr>\n",
       "    <tr>\n",
       "      <th>2</th>\n",
       "      <td>Monsieur</td>\n",
       "      <td>Ahmed Fares</td>\n",
       "      <td>246443</td>\n",
       "      <td>2015</td>\n",
       "    </tr>\n",
       "    <tr>\n",
       "      <th>3</th>\n",
       "      <td>Monsieur</td>\n",
       "      <td>Alder Jean-Marie René</td>\n",
       "      <td>259105</td>\n",
       "      <td>2015</td>\n",
       "    </tr>\n",
       "    <tr>\n",
       "      <th>4</th>\n",
       "      <td>Madame</td>\n",
       "      <td>Amirthalingam Ajantha</td>\n",
       "      <td>262227</td>\n",
       "      <td>2015</td>\n",
       "    </tr>\n",
       "    <tr>\n",
       "      <th>5</th>\n",
       "      <td>Monsieur</td>\n",
       "      <td>Amrani Mounir</td>\n",
       "      <td>246447</td>\n",
       "      <td>2015</td>\n",
       "    </tr>\n",
       "    <tr>\n",
       "      <th>6</th>\n",
       "      <td>Monsieur</td>\n",
       "      <td>Andreu Philippe</td>\n",
       "      <td>253656</td>\n",
       "      <td>2015</td>\n",
       "    </tr>\n",
       "    <tr>\n",
       "      <th>7</th>\n",
       "      <td>Monsieur</td>\n",
       "      <td>Arslanagic Alen</td>\n",
       "      <td>264333</td>\n",
       "      <td>2015</td>\n",
       "    </tr>\n",
       "    <tr>\n",
       "      <th>8</th>\n",
       "      <td>Madame</td>\n",
       "      <td>Baert-Yue Antonine Elisa</td>\n",
       "      <td>261867</td>\n",
       "      <td>2015</td>\n",
       "    </tr>\n",
       "    <tr>\n",
       "      <th>9</th>\n",
       "      <td>Monsieur</td>\n",
       "      <td>Bagnoud Jérôme</td>\n",
       "      <td>262214</td>\n",
       "      <td>2015</td>\n",
       "    </tr>\n",
       "  </tbody>\n",
       "</table>\n",
       "</div>"
      ],
      "text/plain": [
       "        sex                      name  sciper  year\n",
       "0  Monsieur           Abbey Alexandre  235688  2015\n",
       "1    Madame             Abboud Magaly  249344  2015\n",
       "2  Monsieur               Ahmed Fares  246443  2015\n",
       "3  Monsieur     Alder Jean-Marie René  259105  2015\n",
       "4    Madame     Amirthalingam Ajantha  262227  2015\n",
       "5  Monsieur             Amrani Mounir  246447  2015\n",
       "6  Monsieur           Andreu Philippe  253656  2015\n",
       "7  Monsieur           Arslanagic Alen  264333  2015\n",
       "8    Madame  Baert-Yue Antonine Elisa  261867  2015\n",
       "9  Monsieur            Bagnoud Jérôme  262214  2015"
      ]
     },
     "execution_count": 9,
     "metadata": {},
     "output_type": "execute_result"
    }
   ],
   "source": [
    "#DataFrame of bachelor1 students. We already know the names of the columns\n",
    "bachelor1DataFrame = pd.DataFrame(columns=('sex','name','sciper','year'))\n",
    "\n",
    "for year in ww_params.get('ww_x_PERIODE_ACAD'):\n",
    "    ###First Call\n",
    "    #Build the url:\n",
    "    url = baseFormUrl + '&ww_b_list=1' + \\\n",
    "    '&ww_i_reportModelXsl=' + htmlResult + \\\n",
    "        '&ww_x_UNITE_ACAD=' + informatique + \\\n",
    "    '&ww_x_PERIODE_ACAD=' + ww_params.get('ww_x_PERIODE_ACAD').get(year) + \\\n",
    "    '&ww_x_PERIODE_PEDAGO=' + bachelor1+ \\\n",
    "    '&ww_x_HIVERETE=' + fallSemester\n",
    "\n",
    "    #Make a request\n",
    "    r = requests.get(url)\n",
    "\n",
    "    #Parse the URL with beautifulSoup\n",
    "    soup = BeautifulSoup(r.content, \"html.parser\")\n",
    "\n",
    "    #find the parameter ww_x_GPS (if it exists).\n",
    "    try:\n",
    "        value = soup.findAll('a', attrs={'class':'ww_x_GPS'})\n",
    "        #The value of ww_x_GPS is an argument of a javascript function. To isolate it, we need to find it, then find the value.\n",
    "        #Substrings are used. First we find 'ww_x_GPS', then we find the next \"'\" so that we can keep the value only.\n",
    "        for val in value:\n",
    "            #We are only interested in the value that is not -1\n",
    "            if val['onclick'] != -1:\n",
    "                position_ww_x_GPS_beginning = val['onclick'].find('ww_x_GPS')+len('ww_x_GPS')+1\n",
    "                substringBeginning = val['onclick'][position_ww_x_GPS_beginning:]\n",
    "                position_ww_x_GPS_end = substringBeginning.find('\\'')\n",
    "                ww_x_GPS = substringBeginning[:position_ww_x_GPS_end]\n",
    "        ###Second call\n",
    "        #Now that we have the ww_x_GPS, we can make another call and obtain the list of the students.\n",
    "        #Here the base Url changes because we display names.\n",
    "        url = baseFormUrlDisplay + '&ww_b_list=1' + \\\n",
    "        '&ww_i_reportModelXsl=' + htmlResult + \\\n",
    "        '&ww_x_UNITE_ACAD=' + informatique + \\\n",
    "        '&ww_x_PERIODE_ACAD=' + ww_params.get('ww_x_PERIODE_ACAD').get(year) + \\\n",
    "        '&ww_x_PERIODE_PEDAGO=' + bachelor1+ \\\n",
    "        '&ww_x_HIVERETE=' + fallSemester + \\\n",
    "        '&ww_x_GPS=' + ww_x_GPS\n",
    "         #Make a request\n",
    "        r = requests.get(url)\n",
    "        #Parse the page with beautifulSoup\n",
    "        soup = BeautifulSoup(r.content, \"html.parser\")\n",
    "\n",
    "        my_table = soup.find('table')\n",
    "        rows = my_table.findChildren(['th', 'tr'])\n",
    "        \n",
    "        for row in rows:\n",
    "            cells = row.findChildren('td')\n",
    "            #We already know the format of the data so we can simply select the desired columns\n",
    "            if len(cells) == 12:\n",
    "                sex = cells[0].find(text=True)\n",
    "                name = cells[1].find(text=True)\n",
    "                sciper = cells[10].find(text=True)\n",
    "                #Let's keep only the first year of the string year. The year is given in the form 20XX-20XY. \n",
    "                #We will keep 20XX\n",
    "                year = year[:4]\n",
    "                \n",
    "                s = pd.Series([sex,name,sciper,year],index=['sex','name','sciper','year'])\n",
    "                bachelor1DataFrame = bachelor1DataFrame.append(s, ignore_index=True)\n",
    "\n",
    "    except:\n",
    "        pass\n",
    "\n",
    "bachelor1DataFrame.head(10)"
   ]
  },
  {
   "cell_type": "code",
   "execution_count": 11,
   "metadata": {
    "collapsed": false
   },
   "outputs": [
    {
     "data": {
      "text/html": [
       "<div>\n",
       "<table border=\"1\" class=\"dataframe\">\n",
       "  <thead>\n",
       "    <tr style=\"text-align: right;\">\n",
       "      <th></th>\n",
       "      <th>sex</th>\n",
       "      <th>name</th>\n",
       "      <th>sciper</th>\n",
       "      <th>year</th>\n",
       "    </tr>\n",
       "  </thead>\n",
       "  <tbody>\n",
       "    <tr>\n",
       "      <th>0</th>\n",
       "      <td>Monsieur</td>\n",
       "      <td>Aiulfi Loris Sandro</td>\n",
       "      <td>202293</td>\n",
       "      <td>2015</td>\n",
       "    </tr>\n",
       "    <tr>\n",
       "      <th>1</th>\n",
       "      <td>Monsieur</td>\n",
       "      <td>Alfonso Peterssen Alfonso</td>\n",
       "      <td>228219</td>\n",
       "      <td>2015</td>\n",
       "    </tr>\n",
       "    <tr>\n",
       "      <th>2</th>\n",
       "      <td>Monsieur</td>\n",
       "      <td>Alonso Seisdedos Florian</td>\n",
       "      <td>215576</td>\n",
       "      <td>2015</td>\n",
       "    </tr>\n",
       "    <tr>\n",
       "      <th>3</th>\n",
       "      <td>Monsieur</td>\n",
       "      <td>Angerand Grégoire Georges Jacques</td>\n",
       "      <td>212464</td>\n",
       "      <td>2015</td>\n",
       "    </tr>\n",
       "    <tr>\n",
       "      <th>4</th>\n",
       "      <td>Monsieur</td>\n",
       "      <td>Anongba Varela Dario Abougnan</td>\n",
       "      <td>226371</td>\n",
       "      <td>2015</td>\n",
       "    </tr>\n",
       "    <tr>\n",
       "      <th>5</th>\n",
       "      <td>Madame</td>\n",
       "      <td>Baraschi Zoé</td>\n",
       "      <td>219665</td>\n",
       "      <td>2015</td>\n",
       "    </tr>\n",
       "    <tr>\n",
       "      <th>6</th>\n",
       "      <td>Monsieur</td>\n",
       "      <td>Birchmeier Alain Dominique</td>\n",
       "      <td>227120</td>\n",
       "      <td>2015</td>\n",
       "    </tr>\n",
       "    <tr>\n",
       "      <th>7</th>\n",
       "      <td>Monsieur</td>\n",
       "      <td>Boissaye Arnaud Didier Marie</td>\n",
       "      <td>214939</td>\n",
       "      <td>2015</td>\n",
       "    </tr>\n",
       "    <tr>\n",
       "      <th>8</th>\n",
       "      <td>Monsieur</td>\n",
       "      <td>Bonfils Nils Pascal</td>\n",
       "      <td>236802</td>\n",
       "      <td>2015</td>\n",
       "    </tr>\n",
       "    <tr>\n",
       "      <th>9</th>\n",
       "      <td>Monsieur</td>\n",
       "      <td>Bonnome Hugo</td>\n",
       "      <td>227370</td>\n",
       "      <td>2015</td>\n",
       "    </tr>\n",
       "  </tbody>\n",
       "</table>\n",
       "</div>"
      ],
      "text/plain": [
       "        sex                               name  sciper  year\n",
       "0  Monsieur                Aiulfi Loris Sandro  202293  2015\n",
       "1  Monsieur          Alfonso Peterssen Alfonso  228219  2015\n",
       "2  Monsieur           Alonso Seisdedos Florian  215576  2015\n",
       "3  Monsieur  Angerand Grégoire Georges Jacques  212464  2015\n",
       "4  Monsieur      Anongba Varela Dario Abougnan  226371  2015\n",
       "5    Madame                       Baraschi Zoé  219665  2015\n",
       "6  Monsieur         Birchmeier Alain Dominique  227120  2015\n",
       "7  Monsieur       Boissaye Arnaud Didier Marie  214939  2015\n",
       "8  Monsieur                Bonfils Nils Pascal  236802  2015\n",
       "9  Monsieur                       Bonnome Hugo  227370  2015"
      ]
     },
     "execution_count": 11,
     "metadata": {},
     "output_type": "execute_result"
    }
   ],
   "source": [
    "#DataFrame of bachelor6 students. We already know the names of the columns\n",
    "bachelor6DataFrame = pd.DataFrame(columns=('sex','name','sciper','year'))\n",
    "\n",
    "for year in ww_params.get('ww_x_PERIODE_ACAD'):\n",
    "    ###First Call\n",
    "    #Build the url:\n",
    "    url = baseFormUrl + '&ww_b_list=1' + \\\n",
    "    '&ww_i_reportModelXsl=' + htmlResult + \\\n",
    "        '&ww_x_UNITE_ACAD=' + informatique + \\\n",
    "    '&ww_x_PERIODE_ACAD=' + ww_params.get('ww_x_PERIODE_ACAD').get(year) + \\\n",
    "    '&ww_x_PERIODE_PEDAGO=' + bachelor6+ \\\n",
    "    '&ww_x_HIVERETE=' + springSemester\n",
    "\n",
    "    #Make a request\n",
    "    r = requests.get(url)\n",
    "\n",
    "    #Parse the URL with beautifulSoup\n",
    "    soup = BeautifulSoup(r.content, \"html.parser\")\n",
    "\n",
    "    #find the parameter ww_x_GPS (if it exists).\n",
    "    try:\n",
    "        value = soup.findAll('a', attrs={'class':'ww_x_GPS'})\n",
    "        #The value of ww_x_GPS is an argument of a javascript function. To isolate it, we need to find it, then find the value.\n",
    "        #Substrings are used. First we find 'ww_x_GPS', then we find the next \"'\" so that we can keep the value only.\n",
    "        for val in value:\n",
    "            #We are only interested in the value that is not -1\n",
    "            if val['onclick'] != -1:\n",
    "                position_ww_x_GPS_beginning = val['onclick'].find('ww_x_GPS')+len('ww_x_GPS')+1\n",
    "                substringBeginning = val['onclick'][position_ww_x_GPS_beginning:]\n",
    "                position_ww_x_GPS_end = substringBeginning.find('\\'')\n",
    "                ww_x_GPS = substringBeginning[:position_ww_x_GPS_end]\n",
    "        ###Second call\n",
    "        #Now that we have the ww_x_GPS, we can make another call and obtain the list of the students.\n",
    "        #Here the base Url changes because we display names.\n",
    "        url = baseFormUrlDisplay + '&ww_b_list=1' + \\\n",
    "        '&ww_i_reportModelXsl=' + htmlResult + \\\n",
    "        '&ww_x_UNITE_ACAD=' + informatique + \\\n",
    "        '&ww_x_PERIODE_ACAD=' + ww_params.get('ww_x_PERIODE_ACAD').get(year) + \\\n",
    "        '&ww_x_PERIODE_PEDAGO=' + bachelor6+ \\\n",
    "        '&ww_x_HIVERETE=' + springSemester + \\\n",
    "        '&ww_x_GPS=' + ww_x_GPS\n",
    "         #Make a request\n",
    "        r = requests.get(url)\n",
    "        #Parse the page with beautifulSoup\n",
    "        soup = BeautifulSoup(r.content, \"html.parser\")\n",
    "\n",
    "        my_table = soup.find('table')\n",
    "        rows = my_table.findChildren(['th', 'tr'])\n",
    "        \n",
    "        for row in rows:\n",
    "            cells = row.findChildren('td')\n",
    "            #We already know the format of the data so we can simply select the desired columns\n",
    "            if len(cells) == 12:\n",
    "                sex = cells[0].find(text=True)\n",
    "                name = cells[1].find(text=True)\n",
    "                sciper = cells[10].find(text=True)\n",
    "                #Let's keep only the first year of the string year. The year is given in the form 20XX-20XY. \n",
    "                #We will keep 20XX\n",
    "                year = year[:4]\n",
    "                s = pd.Series([sex,name,sciper,year],index=['sex','name','sciper','year'])\n",
    "                bachelor6DataFrame = bachelor6DataFrame.append(s, ignore_index=True)\n",
    "\n",
    "    except:\n",
    "        pass\n",
    "\n",
    "bachelor6DataFrame.head(10)"
   ]
  },
  {
   "cell_type": "markdown",
   "metadata": {},
   "source": [
    "## Data cleaning\n",
    "\n",
    "We can see that some students are present several times. Some students have done bachelor 6 twice or more. We will keep only the latest year."
   ]
  },
  {
   "cell_type": "code",
   "execution_count": 12,
   "metadata": {
    "collapsed": false
   },
   "outputs": [],
   "source": [
    "c_maxs = bachelor6DataFrame.groupby('sciper').year.transform(max)\n",
    "bachelor6DataFrame = bachelor6DataFrame[bachelor6DataFrame.year == c_maxs]"
   ]
  },
  {
   "cell_type": "markdown",
   "metadata": {},
   "source": [
    "Similarly, there are duplicates in the bachelor1 DataFrame. Some students have done bachelor 1 twice. \n",
    "We will keep only the earliest date, as it is the first time they were in Bachelor1"
   ]
  },
  {
   "cell_type": "code",
   "execution_count": 13,
   "metadata": {
    "collapsed": false
   },
   "outputs": [],
   "source": [
    "c_mins = bachelor1DataFrame.groupby('sciper').year.transform(min)\n",
    "bachelor1DataFrame = bachelor1DataFrame[bachelor1DataFrame.year == c_mins]"
   ]
  },
  {
   "cell_type": "markdown",
   "metadata": {},
   "source": [
    "### Merge DataFrames \n",
    "keep students that are present only in both dataFrames. This is an inner joint of the 2 dataframes"
   ]
  },
  {
   "cell_type": "code",
   "execution_count": 14,
   "metadata": {
    "collapsed": false
   },
   "outputs": [
    {
     "data": {
      "text/html": [
       "<div>\n",
       "<table border=\"1\" class=\"dataframe\">\n",
       "  <thead>\n",
       "    <tr style=\"text-align: right;\">\n",
       "      <th></th>\n",
       "      <th>sex</th>\n",
       "      <th>name</th>\n",
       "      <th>sciper</th>\n",
       "      <th>year_bachelor1</th>\n",
       "      <th>year_bachelor6</th>\n",
       "    </tr>\n",
       "  </thead>\n",
       "  <tbody>\n",
       "    <tr>\n",
       "      <th>0</th>\n",
       "      <td>Monsieur</td>\n",
       "      <td>Abate Bryan Jeremy</td>\n",
       "      <td>246671</td>\n",
       "      <td>2014</td>\n",
       "      <td>2016</td>\n",
       "    </tr>\n",
       "    <tr>\n",
       "      <th>1</th>\n",
       "      <td>Monsieur</td>\n",
       "      <td>Alami-Idrissi Ali</td>\n",
       "      <td>251759</td>\n",
       "      <td>2014</td>\n",
       "      <td>2016</td>\n",
       "    </tr>\n",
       "    <tr>\n",
       "      <th>2</th>\n",
       "      <td>Monsieur</td>\n",
       "      <td>Aoun Leonardo</td>\n",
       "      <td>249498</td>\n",
       "      <td>2014</td>\n",
       "      <td>2016</td>\n",
       "    </tr>\n",
       "    <tr>\n",
       "      <th>3</th>\n",
       "      <td>Monsieur</td>\n",
       "      <td>Bachmann Roman Christian</td>\n",
       "      <td>234551</td>\n",
       "      <td>2014</td>\n",
       "      <td>2016</td>\n",
       "    </tr>\n",
       "    <tr>\n",
       "      <th>4</th>\n",
       "      <td>Monsieur</td>\n",
       "      <td>Beck Johannes Magnus</td>\n",
       "      <td>247328</td>\n",
       "      <td>2014</td>\n",
       "      <td>2016</td>\n",
       "    </tr>\n",
       "    <tr>\n",
       "      <th>5</th>\n",
       "      <td>Monsieur</td>\n",
       "      <td>Benlalah Ali</td>\n",
       "      <td>251758</td>\n",
       "      <td>2014</td>\n",
       "      <td>2016</td>\n",
       "    </tr>\n",
       "    <tr>\n",
       "      <th>6</th>\n",
       "      <td>Monsieur</td>\n",
       "      <td>Bovel Matthieu Alexandre</td>\n",
       "      <td>250300</td>\n",
       "      <td>2014</td>\n",
       "      <td>2016</td>\n",
       "    </tr>\n",
       "    <tr>\n",
       "      <th>7</th>\n",
       "      <td>Monsieur</td>\n",
       "      <td>Burgelin Clément Louis Alexandre</td>\n",
       "      <td>249954</td>\n",
       "      <td>2014</td>\n",
       "      <td>2016</td>\n",
       "    </tr>\n",
       "    <tr>\n",
       "      <th>8</th>\n",
       "      <td>Monsieur</td>\n",
       "      <td>Coudert Rémi Edouard</td>\n",
       "      <td>249996</td>\n",
       "      <td>2014</td>\n",
       "      <td>2016</td>\n",
       "    </tr>\n",
       "    <tr>\n",
       "      <th>9</th>\n",
       "      <td>Madame</td>\n",
       "      <td>Evrova Gabriela</td>\n",
       "      <td>239489</td>\n",
       "      <td>2014</td>\n",
       "      <td>2016</td>\n",
       "    </tr>\n",
       "  </tbody>\n",
       "</table>\n",
       "</div>"
      ],
      "text/plain": [
       "        sex                              name  sciper year_bachelor1  \\\n",
       "0  Monsieur                Abate Bryan Jeremy  246671           2014   \n",
       "1  Monsieur                 Alami-Idrissi Ali  251759           2014   \n",
       "2  Monsieur                     Aoun Leonardo  249498           2014   \n",
       "3  Monsieur          Bachmann Roman Christian  234551           2014   \n",
       "4  Monsieur              Beck Johannes Magnus  247328           2014   \n",
       "5  Monsieur                      Benlalah Ali  251758           2014   \n",
       "6  Monsieur          Bovel Matthieu Alexandre  250300           2014   \n",
       "7  Monsieur  Burgelin Clément Louis Alexandre  249954           2014   \n",
       "8  Monsieur              Coudert Rémi Edouard  249996           2014   \n",
       "9    Madame                   Evrova Gabriela  239489           2014   \n",
       "\n",
       "  year_bachelor6  \n",
       "0           2016  \n",
       "1           2016  \n",
       "2           2016  \n",
       "3           2016  \n",
       "4           2016  \n",
       "5           2016  \n",
       "6           2016  \n",
       "7           2016  \n",
       "8           2016  \n",
       "9           2016  "
      ]
     },
     "execution_count": 14,
     "metadata": {},
     "output_type": "execute_result"
    }
   ],
   "source": [
    "bachelorStudentsDataFrame = pd.merge(bachelor1DataFrame, bachelor6DataFrame, how='inner', on=['sex', 'name', 'sciper'], suffixes=('_bachelor1', '_bachelor6'))\n",
    "bachelorStudentsDataFrame.head(10)"
   ]
  },
  {
   "cell_type": "markdown",
   "metadata": {},
   "source": [
    "We put the types of the sciper and years as int."
   ]
  },
  {
   "cell_type": "code",
   "execution_count": 15,
   "metadata": {
    "collapsed": false
   },
   "outputs": [],
   "source": [
    "bachelorStudentsDataFrame[['sciper','year_bachelor6', 'year_bachelor1']] = bachelorStudentsDataFrame[['sciper','year_bachelor6', 'year_bachelor1']].astype(int)"
   ]
  },
  {
   "cell_type": "markdown",
   "metadata": {},
   "source": [
    "There are no more duplicates in the complete bachelorStudentsDataFrame."
   ]
  },
  {
   "cell_type": "code",
   "execution_count": 16,
   "metadata": {
    "collapsed": false
   },
   "outputs": [
    {
     "data": {
      "text/plain": [
       "0"
      ]
     },
     "execution_count": 16,
     "metadata": {},
     "output_type": "execute_result"
    }
   ],
   "source": [
    "bachelorStudentsDataFrame.duplicated('sciper').sum()"
   ]
  },
  {
   "cell_type": "markdown",
   "metadata": {},
   "source": [
    "### Number of months\n",
    "There are 10 months between september and July for 1 year. Let's compute the number of month needed for each student to go from bachelor 1 to bachelor 6."
   ]
  },
  {
   "cell_type": "code",
   "execution_count": 34,
   "metadata": {
    "collapsed": false
   },
   "outputs": [],
   "source": [
    "def number_months(x): \n",
    "    return (x['year_bachelor6']-x['year_bachelor1'])*12 + 10\n",
    "\n",
    "bachelorStudentsDataFrame['number_months'] = bachelorStudentsDataFrame.apply(number_months, axis = 1) "
   ]
  },
  {
   "cell_type": "code",
   "execution_count": 35,
   "metadata": {
    "collapsed": false
   },
   "outputs": [
    {
     "data": {
      "text/html": [
       "<div>\n",
       "<table border=\"1\" class=\"dataframe\">\n",
       "  <thead>\n",
       "    <tr style=\"text-align: right;\">\n",
       "      <th></th>\n",
       "      <th>sex</th>\n",
       "      <th>name</th>\n",
       "      <th>sciper</th>\n",
       "      <th>year_bachelor1</th>\n",
       "      <th>year_bachelor6</th>\n",
       "      <th>number_months</th>\n",
       "    </tr>\n",
       "  </thead>\n",
       "  <tbody>\n",
       "    <tr>\n",
       "      <th>0</th>\n",
       "      <td>Monsieur</td>\n",
       "      <td>Abate Bryan Jeremy</td>\n",
       "      <td>246671</td>\n",
       "      <td>2014</td>\n",
       "      <td>2016</td>\n",
       "      <td>34</td>\n",
       "    </tr>\n",
       "    <tr>\n",
       "      <th>152</th>\n",
       "      <td>Monsieur</td>\n",
       "      <td>Aiulfi Loris Sandro</td>\n",
       "      <td>202293</td>\n",
       "      <td>2010</td>\n",
       "      <td>2015</td>\n",
       "      <td>70</td>\n",
       "    </tr>\n",
       "    <tr>\n",
       "      <th>1</th>\n",
       "      <td>Monsieur</td>\n",
       "      <td>Alami-Idrissi Ali</td>\n",
       "      <td>251759</td>\n",
       "      <td>2014</td>\n",
       "      <td>2016</td>\n",
       "      <td>34</td>\n",
       "    </tr>\n",
       "    <tr>\n",
       "      <th>105</th>\n",
       "      <td>Monsieur</td>\n",
       "      <td>Alfonso Peterssen Alfonso</td>\n",
       "      <td>228219</td>\n",
       "      <td>2013</td>\n",
       "      <td>2015</td>\n",
       "      <td>34</td>\n",
       "    </tr>\n",
       "    <tr>\n",
       "      <th>254</th>\n",
       "      <td>Monsieur</td>\n",
       "      <td>Alonso Seisdedos Florian</td>\n",
       "      <td>215576</td>\n",
       "      <td>2011</td>\n",
       "      <td>2015</td>\n",
       "      <td>58</td>\n",
       "    </tr>\n",
       "    <tr>\n",
       "      <th>255</th>\n",
       "      <td>Monsieur</td>\n",
       "      <td>Amorim Afonso Caldeira Da Silva Pedro Maria</td>\n",
       "      <td>213618</td>\n",
       "      <td>2011</td>\n",
       "      <td>2014</td>\n",
       "      <td>46</td>\n",
       "    </tr>\n",
       "    <tr>\n",
       "      <th>256</th>\n",
       "      <td>Monsieur</td>\n",
       "      <td>Andreina Sébastien Laurent</td>\n",
       "      <td>215623</td>\n",
       "      <td>2011</td>\n",
       "      <td>2014</td>\n",
       "      <td>46</td>\n",
       "    </tr>\n",
       "    <tr>\n",
       "      <th>153</th>\n",
       "      <td>Monsieur</td>\n",
       "      <td>Angel Axel</td>\n",
       "      <td>201284</td>\n",
       "      <td>2010</td>\n",
       "      <td>2012</td>\n",
       "      <td>34</td>\n",
       "    </tr>\n",
       "    <tr>\n",
       "      <th>257</th>\n",
       "      <td>Monsieur</td>\n",
       "      <td>Angerand Grégoire Georges Jacques</td>\n",
       "      <td>212464</td>\n",
       "      <td>2011</td>\n",
       "      <td>2015</td>\n",
       "      <td>58</td>\n",
       "    </tr>\n",
       "    <tr>\n",
       "      <th>209</th>\n",
       "      <td>Monsieur</td>\n",
       "      <td>Antognini Marco</td>\n",
       "      <td>194182</td>\n",
       "      <td>2009</td>\n",
       "      <td>2012</td>\n",
       "      <td>46</td>\n",
       "    </tr>\n",
       "  </tbody>\n",
       "</table>\n",
       "</div>"
      ],
      "text/plain": [
       "          sex                                         name  sciper  \\\n",
       "0    Monsieur                           Abate Bryan Jeremy  246671   \n",
       "152  Monsieur                          Aiulfi Loris Sandro  202293   \n",
       "1    Monsieur                            Alami-Idrissi Ali  251759   \n",
       "105  Monsieur                    Alfonso Peterssen Alfonso  228219   \n",
       "254  Monsieur                     Alonso Seisdedos Florian  215576   \n",
       "255  Monsieur  Amorim Afonso Caldeira Da Silva Pedro Maria  213618   \n",
       "256  Monsieur                   Andreina Sébastien Laurent  215623   \n",
       "153  Monsieur                                   Angel Axel  201284   \n",
       "257  Monsieur            Angerand Grégoire Georges Jacques  212464   \n",
       "209  Monsieur                              Antognini Marco  194182   \n",
       "\n",
       "     year_bachelor1  year_bachelor6  number_months  \n",
       "0              2014            2016             34  \n",
       "152            2010            2015             70  \n",
       "1              2014            2016             34  \n",
       "105            2013            2015             34  \n",
       "254            2011            2015             58  \n",
       "255            2011            2014             46  \n",
       "256            2011            2014             46  \n",
       "153            2010            2012             34  \n",
       "257            2011            2015             58  \n",
       "209            2009            2012             46  "
      ]
     },
     "execution_count": 35,
     "metadata": {},
     "output_type": "execute_result"
    }
   ],
   "source": [
    "bachelorStudentsDataFrame.sort_values('name').head(10)"
   ]
  },
  {
   "cell_type": "markdown",
   "metadata": {},
   "source": [
    "### Partition in male/female\n",
    "we will construct two dataFrames, one for females, the other for males."
   ]
  },
  {
   "cell_type": "code",
   "execution_count": 36,
   "metadata": {
    "collapsed": false
   },
   "outputs": [],
   "source": [
    "bachelorFemaleStudentsDataFrame = bachelorStudentsDataFrame[bachelorStudentsDataFrame['sex'] == 'Madame']\n",
    "bachelorMaleStudentsDataFrame = bachelorStudentsDataFrame[bachelorStudentsDataFrame['sex']=='Monsieur']"
   ]
  },
  {
   "cell_type": "markdown",
   "metadata": {},
   "source": [
    "Number of female students:"
   ]
  },
  {
   "cell_type": "code",
   "execution_count": 37,
   "metadata": {
    "collapsed": false
   },
   "outputs": [
    {
     "data": {
      "text/plain": [
       "29"
      ]
     },
     "execution_count": 37,
     "metadata": {},
     "output_type": "execute_result"
    }
   ],
   "source": [
    "bachelorFemaleStudentsDataFrame['sciper'].count()"
   ]
  },
  {
   "cell_type": "markdown",
   "metadata": {},
   "source": [
    "Number of male students:"
   ]
  },
  {
   "cell_type": "code",
   "execution_count": 38,
   "metadata": {
    "collapsed": false
   },
   "outputs": [
    {
     "data": {
      "text/plain": [
       "368"
      ]
     },
     "execution_count": 38,
     "metadata": {},
     "output_type": "execute_result"
    }
   ],
   "source": [
    "bachelorMaleStudentsDataFrame['sciper'].count()"
   ]
  },
  {
   "cell_type": "markdown",
   "metadata": {},
   "source": [
    "## Data analysis\n",
    "The main quesiton is : \"For the number of months between bachelor 1 and 6, is the difference in average statistically significant between male and female students?\"\n",
    "\n",
    "First let's have a look at the data\n"
   ]
  },
  {
   "cell_type": "markdown",
   "metadata": {},
   "source": [
    "We can see that most of the female students completed their bachelor in 2 years, and a few did it in 3 years."
   ]
  },
  {
   "cell_type": "code",
   "execution_count": 39,
   "metadata": {
    "collapsed": false
   },
   "outputs": [
    {
     "data": {
      "text/plain": [
       "<matplotlib.axes._subplots.AxesSubplot at 0x210a7207630>"
      ]
     },
     "execution_count": 39,
     "metadata": {},
     "output_type": "execute_result"
    },
    {
     "data": {
      "image/png": "[encoded data removed]",
      "text/plain": [
       "<matplotlib.figure.Figure at 0x210a7239c50>"
      ]
     },
     "metadata": {},
     "output_type": "display_data"
    }
   ],
   "source": [
    "bachelorFemaleStudentsDataFrame['number_months'].hist()"
   ]
  },
  {
   "cell_type": "markdown",
   "metadata": {},
   "source": [
    "**The mean is at 37.72 months**"
   ]
  },
  {
   "cell_type": "code",
   "execution_count": 19,
   "metadata": {
    "collapsed": false
   },
   "outputs": [
    {
     "data": {
      "text/plain": [
       "count    29.000000\n",
       "mean     37.724138\n",
       "std       6.496684\n",
       "min      34.000000\n",
       "25%      34.000000\n",
       "50%      34.000000\n",
       "75%      46.000000\n",
       "max      58.000000\n",
       "Name: number_months, dtype: float64"
      ]
     },
     "execution_count": 19,
     "metadata": {},
     "output_type": "execute_result"
    }
   ],
   "source": [
    "bachelorFemaleStudentsDataFrame['number_months'].describe()"
   ]
  },
  {
   "cell_type": "markdown",
   "metadata": {},
   "source": [
    "We can see that most of the male students completed their bachelor in 2 years, and a few did it in 3 years, and some in 70 months."
   ]
  },
  {
   "cell_type": "code",
   "execution_count": 40,
   "metadata": {
    "collapsed": false
   },
   "outputs": [
    {
     "data": {
      "text/plain": [
       "<matplotlib.axes._subplots.AxesSubplot at 0x210a7922dd8>"
      ]
     },
     "execution_count": 40,
     "metadata": {},
     "output_type": "execute_result"
    },
    {
     "data": {
      "image/png": "[encoded data removed]",
      "text/plain": [
       "<matplotlib.figure.Figure at 0x210a8012438>"
      ]
     },
     "metadata": {},
     "output_type": "display_data"
    }
   ],
   "source": [
    "bachelorMaleStudentsDataFrame['number_months'].hist()"
   ]
  },
  {
   "cell_type": "markdown",
   "metadata": {},
   "source": [
    "**The mean is at 39.77**"
   ]
  },
  {
   "cell_type": "code",
   "execution_count": 41,
   "metadata": {
    "collapsed": false
   },
   "outputs": [
    {
     "data": {
      "text/plain": [
       "count    368.000000\n",
       "mean      39.771739\n",
       "std        8.943788\n",
       "min       34.000000\n",
       "25%       34.000000\n",
       "50%       34.000000\n",
       "75%       46.000000\n",
       "max       82.000000\n",
       "Name: number_months, dtype: float64"
      ]
     },
     "execution_count": 41,
     "metadata": {},
     "output_type": "execute_result"
    }
   ],
   "source": [
    "bachelorMaleStudentsDataFrame['number_months'].describe()"
   ]
  },
  {
   "cell_type": "code",
   "execution_count": 42,
   "metadata": {
    "collapsed": false
   },
   "outputs": [
    {
     "data": {
      "text/html": [
       "<div>\n",
       "<table border=\"1\" class=\"dataframe\">\n",
       "  <thead>\n",
       "    <tr style=\"text-align: right;\">\n",
       "      <th></th>\n",
       "      <th>sex</th>\n",
       "      <th>name</th>\n",
       "      <th>sciper</th>\n",
       "      <th>year_bachelor1</th>\n",
       "      <th>year_bachelor6</th>\n",
       "      <th>number_months</th>\n",
       "    </tr>\n",
       "  </thead>\n",
       "  <tbody>\n",
       "    <tr>\n",
       "      <th>238</th>\n",
       "      <td>Monsieur</td>\n",
       "      <td>Perrin Sami</td>\n",
       "      <td>196034</td>\n",
       "      <td>2009</td>\n",
       "      <td>2015</td>\n",
       "      <td>82</td>\n",
       "    </tr>\n",
       "  </tbody>\n",
       "</table>\n",
       "</div>"
      ],
      "text/plain": [
       "          sex         name  sciper  year_bachelor1  year_bachelor6  \\\n",
       "238  Monsieur  Perrin Sami  196034            2009            2015   \n",
       "\n",
       "     number_months  \n",
       "238             82  "
      ]
     },
     "execution_count": 42,
     "metadata": {},
     "output_type": "execute_result"
    }
   ],
   "source": [
    "bachelorMaleStudentsDataFrame.loc[bachelorMaleStudentsDataFrame['number_months']==82]"
   ]
  },
  {
   "cell_type": "markdown",
   "metadata": {},
   "source": [
    "### Statistical tests\n",
    "\"For the number of months between bachelor 1 and 6, is the difference in average statistically significant between male and female students?\""
   ]
  },
  {
   "cell_type": "markdown",
   "metadata": {},
   "source": [
    "We will perform a Welch’s t-test, because the variance, mean and sample size are different. \n",
    "See doc of the function used [here](http://docs.scipy.org/doc/scipy/reference/generated/scipy.stats.ttest_ind.html)\n",
    "\n",
    "\n",
    "H0: \"Both population have equal mean\"\n",
    "H1: \"The means are different\""
   ]
  },
  {
   "cell_type": "code",
   "execution_count": 43,
   "metadata": {
    "collapsed": false
   },
   "outputs": [
    {
     "data": {
      "text/plain": [
       "Ttest_indResult(statistic=1.5831651359439409, pvalue=0.12191236829650401)"
      ]
     },
     "execution_count": 43,
     "metadata": {},
     "output_type": "execute_result"
    }
   ],
   "source": [
    "stats.ttest_ind(bachelorMaleStudentsDataFrame['number_months'], bachelorFemaleStudentsDataFrame['number_months'], equal_var = False)"
   ]
  },
  {
   "cell_type": "markdown",
   "metadata": {},
   "source": [
    "With a p-value that is above 0.05 and t-statistic < 1,95, we can not reject H0. \n",
    "\n",
    "**Conclusion : there is no significant difference in average between male and female students**"
   ]
  },
  {
   "cell_type": "markdown",
   "metadata": {},
   "source": [
    "# Question 2 - Master Student"
   ]
  },
  {
   "cell_type": "markdown",
   "metadata": {},
   "source": [
    "### Building dataframes"
   ]
  },
  {
   "cell_type": "markdown",
   "metadata": {},
   "source": [
    "Defining IS-academia codes for Master 1, Master 2, Master 3 and Master thesis"
   ]
  },
  {
   "cell_type": "code",
   "execution_count": 44,
   "metadata": {
    "collapsed": false
   },
   "outputs": [],
   "source": [
    "#Load the IS-academia code for Master 1 and return error if there is a problem\n",
    "master1 = ww_params.get('ww_x_PERIODE_PEDAGO').get('Master semestre 1', 'error')\n",
    "\n",
    "#Load the IS-academia code for Master 2 and return error if there is a problem\n",
    "master2 = ww_params.get('ww_x_PERIODE_PEDAGO').get('Master semestre 2', 'error')\n",
    "\n",
    "#Load the IS-academia code for Master 3 and return error if there is a problem\n",
    "master3 = ww_params.get('ww_x_PERIODE_PEDAGO').get('Master semestre 3', 'error')\n",
    "\n",
    "#Load the IS-academia code for Projet master automne and return error if there is a problem\n",
    "pdm_a = ww_params.get('ww_x_PERIODE_PEDAGO').get('Projet Master automne', 'error')\n",
    "\n",
    "#Load the IS-academia code for Projet master printemps and return error if there is a problem\n",
    "pdm_p = ww_params.get('ww_x_PERIODE_PEDAGO').get('Projet Master printemps', 'error')\n",
    "\n",
    "pdm= [pdm_a, pdm_p] # We get the two codes for Master thesis into one variable\n"
   ]
  },
  {
   "cell_type": "markdown",
   "metadata": {},
   "source": [
    "Now fill a dataFrame with students enrolled in Master 1 using beautifulSoup."
   ]
  },
  {
   "cell_type": "code",
   "execution_count": 50,
   "metadata": {
    "collapsed": false
   },
   "outputs": [
    {
     "data": {
      "text/html": [
       "<div>\n",
       "<table border=\"1\" class=\"dataframe\">\n",
       "  <thead>\n",
       "    <tr style=\"text-align: right;\">\n",
       "      <th></th>\n",
       "      <th>sex</th>\n",
       "      <th>name</th>\n",
       "      <th>sciper</th>\n",
       "      <th>year</th>\n",
       "      <th>specialisation</th>\n",
       "      <th>mineur</th>\n",
       "    </tr>\n",
       "  </thead>\n",
       "  <tbody>\n",
       "    <tr>\n",
       "      <th>0</th>\n",
       "      <td>Madame</td>\n",
       "      <td>Abi Akar Nora</td>\n",
       "      <td>251253</td>\n",
       "      <td>2015.5</td>\n",
       "      <td>None</td>\n",
       "      <td>None</td>\n",
       "    </tr>\n",
       "    <tr>\n",
       "      <th>1</th>\n",
       "      <td>Madame</td>\n",
       "      <td>Aeby Prisca</td>\n",
       "      <td>225654</td>\n",
       "      <td>2015.5</td>\n",
       "      <td>None</td>\n",
       "      <td>None</td>\n",
       "    </tr>\n",
       "    <tr>\n",
       "      <th>2</th>\n",
       "      <td>Monsieur</td>\n",
       "      <td>Alnasser Riyadh Abdulaziz M</td>\n",
       "      <td>257825</td>\n",
       "      <td>2015.5</td>\n",
       "      <td>None</td>\n",
       "      <td>None</td>\n",
       "    </tr>\n",
       "    <tr>\n",
       "      <th>3</th>\n",
       "      <td>Monsieur</td>\n",
       "      <td>Amiguet Jérôme</td>\n",
       "      <td>166075</td>\n",
       "      <td>2015.5</td>\n",
       "      <td>None</td>\n",
       "      <td>None</td>\n",
       "    </tr>\n",
       "    <tr>\n",
       "      <th>4</th>\n",
       "      <td>Monsieur</td>\n",
       "      <td>Amorim Afonso Caldeira Da Silva Pedro Maria</td>\n",
       "      <td>213618</td>\n",
       "      <td>2015.5</td>\n",
       "      <td>None</td>\n",
       "      <td>None</td>\n",
       "    </tr>\n",
       "    <tr>\n",
       "      <th>5</th>\n",
       "      <td>Monsieur</td>\n",
       "      <td>Andreina Sébastien Laurent</td>\n",
       "      <td>215623</td>\n",
       "      <td>2015.5</td>\n",
       "      <td>None</td>\n",
       "      <td>None</td>\n",
       "    </tr>\n",
       "    <tr>\n",
       "      <th>6</th>\n",
       "      <td>Monsieur</td>\n",
       "      <td>Antognini Diego Matteo</td>\n",
       "      <td>243163</td>\n",
       "      <td>2015.5</td>\n",
       "      <td>None</td>\n",
       "      <td>None</td>\n",
       "    </tr>\n",
       "    <tr>\n",
       "      <th>7</th>\n",
       "      <td>Monsieur</td>\n",
       "      <td>Balaban Metin</td>\n",
       "      <td>251470</td>\n",
       "      <td>2015.5</td>\n",
       "      <td>None</td>\n",
       "      <td>None</td>\n",
       "    </tr>\n",
       "    <tr>\n",
       "      <th>8</th>\n",
       "      <td>Monsieur</td>\n",
       "      <td>Beguet Romain Michel</td>\n",
       "      <td>226638</td>\n",
       "      <td>2015.5</td>\n",
       "      <td>None</td>\n",
       "      <td>None</td>\n",
       "    </tr>\n",
       "    <tr>\n",
       "      <th>9</th>\n",
       "      <td>Monsieur</td>\n",
       "      <td>Bell Enea</td>\n",
       "      <td>248358</td>\n",
       "      <td>2015.5</td>\n",
       "      <td>None</td>\n",
       "      <td>None</td>\n",
       "    </tr>\n",
       "  </tbody>\n",
       "</table>\n",
       "</div>"
      ],
      "text/plain": [
       "        sex                                         name  sciper    year  \\\n",
       "0    Madame                                Abi Akar Nora  251253  2015.5   \n",
       "1    Madame                                  Aeby Prisca  225654  2015.5   \n",
       "2  Monsieur                  Alnasser Riyadh Abdulaziz M  257825  2015.5   \n",
       "3  Monsieur                               Amiguet Jérôme  166075  2015.5   \n",
       "4  Monsieur  Amorim Afonso Caldeira Da Silva Pedro Maria  213618  2015.5   \n",
       "5  Monsieur                   Andreina Sébastien Laurent  215623  2015.5   \n",
       "6  Monsieur                       Antognini Diego Matteo  243163  2015.5   \n",
       "7  Monsieur                                Balaban Metin  251470  2015.5   \n",
       "8  Monsieur                         Beguet Romain Michel  226638  2015.5   \n",
       "9  Monsieur                                    Bell Enea  248358  2015.5   \n",
       "\n",
       "  specialisation mineur  \n",
       "0           None   None  \n",
       "1           None   None  \n",
       "2           None   None  \n",
       "3           None   None  \n",
       "4           None   None  \n",
       "5           None   None  \n",
       "6           None   None  \n",
       "7           None   None  \n",
       "8           None   None  \n",
       "9           None   None  "
      ]
     },
     "execution_count": 50,
     "metadata": {},
     "output_type": "execute_result"
    }
   ],
   "source": [
    "#DataFrame of Master 1 students. We already know the names of the columns\n",
    "master1DataFrame = pd.DataFrame(columns=('sex','name','sciper','year','specialisation', 'mineur'))\n",
    "\n",
    "for year in ww_params.get('ww_x_PERIODE_ACAD'):\n",
    "    for semester in ww_params.get('ww_x_HIVERETE'):\n",
    "        ###First Call\n",
    "        #Build the url:\n",
    "        url = baseFormUrl + '&ww_b_list=1' + \\\n",
    "        '&ww_i_reportModelXsl=' + htmlResult + \\\n",
    "        '&ww_x_UNITE_ACAD=' + informatique + \\\n",
    "        '&ww_x_PERIODE_ACAD=' + ww_params.get('ww_x_PERIODE_ACAD').get(year) + \\\n",
    "        '&ww_x_PERIODE_PEDAGO=' + master1+ \\\n",
    "        '&ww_x_HIVERETE=' + ww_params.get('ww_x_HIVERETE').get(semester)\n",
    "\n",
    "        #Make a request\n",
    "        r = requests.get(url)\n",
    "\n",
    "        #Parse the URL with beautifulSoup\n",
    "        soup = BeautifulSoup(r.content, \"html.parser\")\n",
    "\n",
    "        #find the parameter ww_x_GPS (if it exists).\n",
    "        try:\n",
    "            value = soup.findAll('a', attrs={'class':'ww_x_GPS'})\n",
    "            #The value of ww_x_GPS is an argument of a javascript function. To isolate it, we need to find it, then find the value.\n",
    "            #Substrings are used. First we find 'ww_x_GPS', then we find the next \"'\" so that we can keep the value only.\n",
    "            for val in value:\n",
    "                #We are only interested in the value that is not -1\n",
    "                if val['onclick'] != -1:\n",
    "                    position_ww_x_GPS_beginning = val['onclick'].find('ww_x_GPS')+len('ww_x_GPS')+1\n",
    "                    substringBeginning = val['onclick'][position_ww_x_GPS_beginning:]\n",
    "                    position_ww_x_GPS_end = substringBeginning.find('\\'')\n",
    "                    ww_x_GPS = substringBeginning[:position_ww_x_GPS_end]\n",
    "            ###Second call\n",
    "            #Now that we have the ww_x_GPS, we can make another call and obtain the list of the students.\n",
    "            #Here the base Url changes because we display names.\n",
    "            url = baseFormUrlDisplay + '&ww_b_list=1' + \\\n",
    "            '&ww_i_reportModelXsl=' + htmlResult + \\\n",
    "            '&ww_x_UNITE_ACAD=' + informatique + \\\n",
    "            '&ww_x_PERIODE_ACAD=' + ww_params.get('ww_x_PERIODE_ACAD').get(year) + \\\n",
    "            '&ww_x_PERIODE_PEDAGO=' + master1+ \\\n",
    "            '&ww_x_HIVERETE=' + ww_params.get('ww_x_HIVERETE').get(semester) + \\\n",
    "            '&ww_x_GPS=' + ww_x_GPS\n",
    "             #Make a request\n",
    "            r = requests.get(url)\n",
    "            #Parse the page with beautifulSoup\n",
    "            soup = BeautifulSoup(r.content, \"html.parser\")\n",
    "\n",
    "            my_table = soup.find('table')\n",
    "            rows = my_table.findChildren(['th', 'tr'])\n",
    "        \n",
    "            for row in rows:\n",
    "                cells = row.findChildren('td')\n",
    "                #We already know the format of the data so we can simply select the desired columns\n",
    "                if len(cells) == 12:\n",
    "                    sex = cells[0].find(text=True)\n",
    "                    name = cells[1].find(text=True)\n",
    "                    specialisation = cells[4].find(text=True)\n",
    "                    mineur = cells[6].find(text=True)\n",
    "                    sciper = cells[10].find(text=True)\n",
    "                    #The year will be defined such as 2014 if it is spring semester in 2014\n",
    "                    #and 2014.5 if it is automn semester in 2014\n",
    "                    if semester=='Semestre d\\'automne':\n",
    "                        annee = float(year[:4])+0.5 \n",
    "                    else:\n",
    "                        annee=float(year[5:])\n",
    "                    s = pd.Series([sex,name,sciper,annee,specialisation,mineur],index=['sex','name','sciper','year', 'specialisation', 'mineur'])\n",
    "                    master1DataFrame = master1DataFrame.append(s, ignore_index=True)\n",
    "\n",
    "        except:\n",
    "            pass\n",
    "\n",
    "master1DataFrame.head(10)"
   ]
  },
  {
   "cell_type": "markdown",
   "metadata": {},
   "source": [
    "Likewise, building dataframe Master 2"
   ]
  },
  {
   "cell_type": "code",
   "execution_count": 51,
   "metadata": {
    "collapsed": false
   },
   "outputs": [
    {
     "data": {
      "text/html": [
       "<div>\n",
       "<table border=\"1\" class=\"dataframe\">\n",
       "  <thead>\n",
       "    <tr style=\"text-align: right;\">\n",
       "      <th></th>\n",
       "      <th>sex</th>\n",
       "      <th>name</th>\n",
       "      <th>sciper</th>\n",
       "      <th>year</th>\n",
       "      <th>specialisation</th>\n",
       "      <th>mineur</th>\n",
       "    </tr>\n",
       "  </thead>\n",
       "  <tbody>\n",
       "    <tr>\n",
       "      <th>0</th>\n",
       "      <td>Madame</td>\n",
       "      <td>Abi Akar Nora</td>\n",
       "      <td>251253</td>\n",
       "      <td>2016.0</td>\n",
       "      <td>None</td>\n",
       "      <td>None</td>\n",
       "    </tr>\n",
       "    <tr>\n",
       "      <th>1</th>\n",
       "      <td>Madame</td>\n",
       "      <td>Aeby Prisca</td>\n",
       "      <td>225654</td>\n",
       "      <td>2016.0</td>\n",
       "      <td>Internet Information Systems</td>\n",
       "      <td>None</td>\n",
       "    </tr>\n",
       "    <tr>\n",
       "      <th>2</th>\n",
       "      <td>Monsieur</td>\n",
       "      <td>Alnasser Riyadh Abdulaziz M</td>\n",
       "      <td>257825</td>\n",
       "      <td>2016.0</td>\n",
       "      <td>None</td>\n",
       "      <td>None</td>\n",
       "    </tr>\n",
       "    <tr>\n",
       "      <th>3</th>\n",
       "      <td>Monsieur</td>\n",
       "      <td>Amiguet Jérôme</td>\n",
       "      <td>166075</td>\n",
       "      <td>2016.0</td>\n",
       "      <td>None</td>\n",
       "      <td>None</td>\n",
       "    </tr>\n",
       "    <tr>\n",
       "      <th>4</th>\n",
       "      <td>Monsieur</td>\n",
       "      <td>Amorim Afonso Caldeira Da Silva Pedro Maria</td>\n",
       "      <td>213618</td>\n",
       "      <td>2016.0</td>\n",
       "      <td>None</td>\n",
       "      <td>None</td>\n",
       "    </tr>\n",
       "    <tr>\n",
       "      <th>5</th>\n",
       "      <td>Monsieur</td>\n",
       "      <td>Andreina Sébastien Laurent</td>\n",
       "      <td>215623</td>\n",
       "      <td>2016.0</td>\n",
       "      <td>Information Security - SP</td>\n",
       "      <td>None</td>\n",
       "    </tr>\n",
       "    <tr>\n",
       "      <th>6</th>\n",
       "      <td>Monsieur</td>\n",
       "      <td>Antognini Diego Matteo</td>\n",
       "      <td>243163</td>\n",
       "      <td>2016.0</td>\n",
       "      <td>None</td>\n",
       "      <td>None</td>\n",
       "    </tr>\n",
       "    <tr>\n",
       "      <th>7</th>\n",
       "      <td>Monsieur</td>\n",
       "      <td>Antognini Marco</td>\n",
       "      <td>194182</td>\n",
       "      <td>2016.0</td>\n",
       "      <td>Foundations of Software</td>\n",
       "      <td>None</td>\n",
       "    </tr>\n",
       "    <tr>\n",
       "      <th>8</th>\n",
       "      <td>Monsieur</td>\n",
       "      <td>Balaban Metin</td>\n",
       "      <td>251470</td>\n",
       "      <td>2016.0</td>\n",
       "      <td>None</td>\n",
       "      <td>None</td>\n",
       "    </tr>\n",
       "    <tr>\n",
       "      <th>9</th>\n",
       "      <td>Monsieur</td>\n",
       "      <td>Beguet Romain Michel</td>\n",
       "      <td>226638</td>\n",
       "      <td>2016.0</td>\n",
       "      <td>Foundations of Software</td>\n",
       "      <td>None</td>\n",
       "    </tr>\n",
       "  </tbody>\n",
       "</table>\n",
       "</div>"
      ],
      "text/plain": [
       "        sex                                         name  sciper    year  \\\n",
       "0    Madame                                Abi Akar Nora  251253  2016.0   \n",
       "1    Madame                                  Aeby Prisca  225654  2016.0   \n",
       "2  Monsieur                  Alnasser Riyadh Abdulaziz M  257825  2016.0   \n",
       "3  Monsieur                               Amiguet Jérôme  166075  2016.0   \n",
       "4  Monsieur  Amorim Afonso Caldeira Da Silva Pedro Maria  213618  2016.0   \n",
       "5  Monsieur                   Andreina Sébastien Laurent  215623  2016.0   \n",
       "6  Monsieur                       Antognini Diego Matteo  243163  2016.0   \n",
       "7  Monsieur                              Antognini Marco  194182  2016.0   \n",
       "8  Monsieur                                Balaban Metin  251470  2016.0   \n",
       "9  Monsieur                         Beguet Romain Michel  226638  2016.0   \n",
       "\n",
       "                 specialisation mineur  \n",
       "0                          None   None  \n",
       "1  Internet Information Systems   None  \n",
       "2                          None   None  \n",
       "3                          None   None  \n",
       "4                          None   None  \n",
       "5     Information Security - SP   None  \n",
       "6                          None   None  \n",
       "7       Foundations of Software   None  \n",
       "8                          None   None  \n",
       "9       Foundations of Software   None  "
      ]
     },
     "execution_count": 51,
     "metadata": {},
     "output_type": "execute_result"
    }
   ],
   "source": [
    "\n",
    "#DataFrame of Master 2 students. We already know the names of the columns\n",
    "master2DataFrame = pd.DataFrame(columns=('sex','name','sciper','year','specialisation', 'mineur'))\n",
    "\n",
    "for year in ww_params.get('ww_x_PERIODE_ACAD'):\n",
    "    for semester in ww_params.get('ww_x_HIVERETE'):\n",
    "        ###First Call\n",
    "        #Build the url:\n",
    "        url = baseFormUrl + '&ww_b_list=1' + \\\n",
    "        '&ww_i_reportModelXsl=' + htmlResult + \\\n",
    "        '&ww_x_UNITE_ACAD=' + informatique + \\\n",
    "        '&ww_x_PERIODE_ACAD=' + ww_params.get('ww_x_PERIODE_ACAD').get(year) + \\\n",
    "        '&ww_x_PERIODE_PEDAGO=' + master2+ \\\n",
    "        '&ww_x_HIVERETE=' + ww_params.get('ww_x_HIVERETE').get(semester)\n",
    "\n",
    "        #Make a request\n",
    "        r = requests.get(url)\n",
    "\n",
    "        #Parse the URL with beautifulSoup\n",
    "        soup = BeautifulSoup(r.content, \"html.parser\")\n",
    "\n",
    "        #find the parameter ww_x_GPS (if it exists).\n",
    "        try:\n",
    "            value = soup.findAll('a', attrs={'class':'ww_x_GPS'})\n",
    "            #The value of ww_x_GPS is an argument of a javascript function. To isolate it, we need to find it, then find the value.\n",
    "            #Substrings are used. First we find 'ww_x_GPS', then we find the next \"'\" so that we can keep the value only.\n",
    "            for val in value:\n",
    "                #We are only interested in the value that is not -1\n",
    "                if val['onclick'] != -1:\n",
    "                    position_ww_x_GPS_beginning = val['onclick'].find('ww_x_GPS')+len('ww_x_GPS')+1\n",
    "                    substringBeginning = val['onclick'][position_ww_x_GPS_beginning:]\n",
    "                    position_ww_x_GPS_end = substringBeginning.find('\\'')\n",
    "                    ww_x_GPS = substringBeginning[:position_ww_x_GPS_end]\n",
    "            ###Second call\n",
    "            #Now that we have the ww_x_GPS, we can make another call and obtain the list of the students.\n",
    "            #Here the base Url changes because we display names.\n",
    "            url = baseFormUrlDisplay + '&ww_b_list=1' + \\\n",
    "            '&ww_i_reportModelXsl=' + htmlResult + \\\n",
    "            '&ww_x_UNITE_ACAD=' + informatique + \\\n",
    "            '&ww_x_PERIODE_ACAD=' + ww_params.get('ww_x_PERIODE_ACAD').get(year) + \\\n",
    "            '&ww_x_PERIODE_PEDAGO=' + master2+ \\\n",
    "            '&ww_x_HIVERETE=' + ww_params.get('ww_x_HIVERETE').get(semester) + \\\n",
    "            '&ww_x_GPS=' + ww_x_GPS\n",
    "             #Make a request\n",
    "            r = requests.get(url)\n",
    "            #Parse the page with beautifulSoup\n",
    "            soup = BeautifulSoup(r.content, \"html.parser\")\n",
    "\n",
    "            my_table = soup.find('table')\n",
    "            rows = my_table.findChildren(['th', 'tr'])\n",
    "        \n",
    "            for row in rows:\n",
    "                cells = row.findChildren('td')\n",
    "                #We already know the format of the data so we can simply select the desired columns\n",
    "                if len(cells) == 12:\n",
    "                    sex = cells[0].find(text=True)\n",
    "                    name = cells[1].find(text=True)\n",
    "                    specialisation = cells[4].find(text=True)\n",
    "                    mineur = cells[6].find(text=True)\n",
    "                    sciper = cells[10].find(text=True)\n",
    "                    #The year will be defined such as 2014 if it is spring semester in 2014\n",
    "                    #and 2014.5 if it is automn semester in 2014\n",
    "                    if semester=='Semestre d\\'automne':\n",
    "                        annee = float(year[:4])+0.5\n",
    "                    else:\n",
    "                        annee=float(year[5:])\n",
    "                    s = pd.Series([sex,name,sciper,annee,specialisation,mineur],index=['sex','name','sciper','year', 'specialisation', 'mineur'])\n",
    "                    master2DataFrame = master2DataFrame.append(s, ignore_index=True)\n",
    "\n",
    "        except:\n",
    "            pass\n",
    "\n",
    "master2DataFrame.head(10)"
   ]
  },
  {
   "cell_type": "markdown",
   "metadata": {},
   "source": [
    "Let's now build the dataframe for Master 3 student"
   ]
  },
  {
   "cell_type": "code",
   "execution_count": 52,
   "metadata": {
    "collapsed": false
   },
   "outputs": [
    {
     "data": {
      "text/html": [
       "<div>\n",
       "<table border=\"1\" class=\"dataframe\">\n",
       "  <thead>\n",
       "    <tr style=\"text-align: right;\">\n",
       "      <th></th>\n",
       "      <th>sex</th>\n",
       "      <th>name</th>\n",
       "      <th>sciper</th>\n",
       "      <th>year</th>\n",
       "      <th>specialisation</th>\n",
       "      <th>mineur</th>\n",
       "    </tr>\n",
       "  </thead>\n",
       "  <tbody>\n",
       "    <tr>\n",
       "      <th>0</th>\n",
       "      <td>Monsieur</td>\n",
       "      <td>Antognini Marco</td>\n",
       "      <td>194182</td>\n",
       "      <td>2015.5</td>\n",
       "      <td>Foundations of Software</td>\n",
       "      <td>None</td>\n",
       "    </tr>\n",
       "    <tr>\n",
       "      <th>1</th>\n",
       "      <td>Madame</td>\n",
       "      <td>Bagcioglu Egeyar Özlen</td>\n",
       "      <td>232468</td>\n",
       "      <td>2015.5</td>\n",
       "      <td>Internet computing</td>\n",
       "      <td>None</td>\n",
       "    </tr>\n",
       "    <tr>\n",
       "      <th>2</th>\n",
       "      <td>Monsieur</td>\n",
       "      <td>Basil John Sachin</td>\n",
       "      <td>245311</td>\n",
       "      <td>2015.5</td>\n",
       "      <td>Software Systems</td>\n",
       "      <td>None</td>\n",
       "    </tr>\n",
       "    <tr>\n",
       "      <th>3</th>\n",
       "      <td>Monsieur</td>\n",
       "      <td>Beau Joris</td>\n",
       "      <td>204569</td>\n",
       "      <td>2015.5</td>\n",
       "      <td>None</td>\n",
       "      <td>Mineur en Technologies spatiales</td>\n",
       "    </tr>\n",
       "    <tr>\n",
       "      <th>4</th>\n",
       "      <td>Monsieur</td>\n",
       "      <td>Benhamadi Yassine</td>\n",
       "      <td>185991</td>\n",
       "      <td>2015.5</td>\n",
       "      <td>Internet computing</td>\n",
       "      <td>None</td>\n",
       "    </tr>\n",
       "    <tr>\n",
       "      <th>5</th>\n",
       "      <td>Monsieur</td>\n",
       "      <td>Berdat Johan</td>\n",
       "      <td>204393</td>\n",
       "      <td>2015.5</td>\n",
       "      <td>Signals, Images and Interfaces</td>\n",
       "      <td>None</td>\n",
       "    </tr>\n",
       "    <tr>\n",
       "      <th>6</th>\n",
       "      <td>Monsieur</td>\n",
       "      <td>Bodin Antoine Philippe Michel</td>\n",
       "      <td>245475</td>\n",
       "      <td>2015.5</td>\n",
       "      <td>None</td>\n",
       "      <td>Mineur en Ingénierie financière</td>\n",
       "    </tr>\n",
       "    <tr>\n",
       "      <th>7</th>\n",
       "      <td>Monsieur</td>\n",
       "      <td>Bougacha Malik</td>\n",
       "      <td>186264</td>\n",
       "      <td>2015.5</td>\n",
       "      <td>None</td>\n",
       "      <td>None</td>\n",
       "    </tr>\n",
       "    <tr>\n",
       "      <th>8</th>\n",
       "      <td>Monsieur</td>\n",
       "      <td>Boullier Jocelyn</td>\n",
       "      <td>205541</td>\n",
       "      <td>2015.5</td>\n",
       "      <td>None</td>\n",
       "      <td>None</td>\n",
       "    </tr>\n",
       "    <tr>\n",
       "      <th>9</th>\n",
       "      <td>Monsieur</td>\n",
       "      <td>Bouquet Stéphane</td>\n",
       "      <td>213664</td>\n",
       "      <td>2015.5</td>\n",
       "      <td>None</td>\n",
       "      <td>Mineur en Management, technologie et entrepren...</td>\n",
       "    </tr>\n",
       "  </tbody>\n",
       "</table>\n",
       "</div>"
      ],
      "text/plain": [
       "        sex                           name  sciper    year  \\\n",
       "0  Monsieur                Antognini Marco  194182  2015.5   \n",
       "1    Madame         Bagcioglu Egeyar Özlen  232468  2015.5   \n",
       "2  Monsieur              Basil John Sachin  245311  2015.5   \n",
       "3  Monsieur                     Beau Joris  204569  2015.5   \n",
       "4  Monsieur              Benhamadi Yassine  185991  2015.5   \n",
       "5  Monsieur                   Berdat Johan  204393  2015.5   \n",
       "6  Monsieur  Bodin Antoine Philippe Michel  245475  2015.5   \n",
       "7  Monsieur                 Bougacha Malik  186264  2015.5   \n",
       "8  Monsieur               Boullier Jocelyn  205541  2015.5   \n",
       "9  Monsieur               Bouquet Stéphane  213664  2015.5   \n",
       "\n",
       "                   specialisation  \\\n",
       "0         Foundations of Software   \n",
       "1              Internet computing   \n",
       "2                Software Systems   \n",
       "3                            None   \n",
       "4              Internet computing   \n",
       "5  Signals, Images and Interfaces   \n",
       "6                            None   \n",
       "7                            None   \n",
       "8                            None   \n",
       "9                            None   \n",
       "\n",
       "                                              mineur  \n",
       "0                                               None  \n",
       "1                                               None  \n",
       "2                                               None  \n",
       "3                   Mineur en Technologies spatiales  \n",
       "4                                               None  \n",
       "5                                               None  \n",
       "6                    Mineur en Ingénierie financière  \n",
       "7                                               None  \n",
       "8                                               None  \n",
       "9  Mineur en Management, technologie et entrepren...  "
      ]
     },
     "execution_count": 52,
     "metadata": {},
     "output_type": "execute_result"
    }
   ],
   "source": [
    "\n",
    "#DataFrame of Master 2 students. We already know the names of the columns\n",
    "master3DataFrame = pd.DataFrame(columns=('sex','name','sciper','year','specialisation', 'mineur'))\n",
    "\n",
    "for year in ww_params.get('ww_x_PERIODE_ACAD'):\n",
    "    for semester in ww_params.get('ww_x_HIVERETE'):\n",
    "        ###First Call\n",
    "        #Build the url:\n",
    "        url = baseFormUrl + '&ww_b_list=1' + \\\n",
    "        '&ww_i_reportModelXsl=' + htmlResult + \\\n",
    "        '&ww_x_UNITE_ACAD=' + informatique + \\\n",
    "        '&ww_x_PERIODE_ACAD=' + ww_params.get('ww_x_PERIODE_ACAD').get(year) + \\\n",
    "        '&ww_x_PERIODE_PEDAGO=' + master3+ \\\n",
    "        '&ww_x_HIVERETE=' + ww_params.get('ww_x_HIVERETE').get(semester)\n",
    "\n",
    "        #Make a request\n",
    "        r = requests.get(url)\n",
    "\n",
    "        #Parse the URL with beautifulSoup\n",
    "        soup = BeautifulSoup(r.content, \"html.parser\")\n",
    "\n",
    "        #find the parameter ww_x_GPS (if it exists).\n",
    "        try:\n",
    "            value = soup.findAll('a', attrs={'class':'ww_x_GPS'})\n",
    "            #The value of ww_x_GPS is an argument of a javascript function. To isolate it, we need to find it, then find the value.\n",
    "            #Substrings are used. First we find 'ww_x_GPS', then we find the next \"'\" so that we can keep the value only.\n",
    "            for val in value:\n",
    "                #We are only interested in the value that is not -1\n",
    "                if val['onclick'] != -1:\n",
    "                    position_ww_x_GPS_beginning = val['onclick'].find('ww_x_GPS')+len('ww_x_GPS')+1\n",
    "                    substringBeginning = val['onclick'][position_ww_x_GPS_beginning:]\n",
    "                    position_ww_x_GPS_end = substringBeginning.find('\\'')\n",
    "                    ww_x_GPS = substringBeginning[:position_ww_x_GPS_end]\n",
    "            ###Second call\n",
    "            #Now that we have the ww_x_GPS, we can make another call and obtain the list of the students.\n",
    "            #Here the base Url changes because we display names.\n",
    "            url = baseFormUrlDisplay + '&ww_b_list=1' + \\\n",
    "            '&ww_i_reportModelXsl=' + htmlResult + \\\n",
    "            '&ww_x_UNITE_ACAD=' + informatique + \\\n",
    "            '&ww_x_PERIODE_ACAD=' + ww_params.get('ww_x_PERIODE_ACAD').get(year) + \\\n",
    "            '&ww_x_PERIODE_PEDAGO=' + master3+ \\\n",
    "            '&ww_x_HIVERETE=' + ww_params.get('ww_x_HIVERETE').get(semester) + \\\n",
    "            '&ww_x_GPS=' + ww_x_GPS\n",
    "             #Make a request\n",
    "            r = requests.get(url)\n",
    "            #Parse the page with beautifulSoup\n",
    "            soup = BeautifulSoup(r.content, \"html.parser\")\n",
    "\n",
    "            my_table = soup.find('table')\n",
    "            rows = my_table.findChildren(['th', 'tr'])\n",
    "        \n",
    "            for row in rows:\n",
    "                cells = row.findChildren('td')\n",
    "                #We already know the format of the data so we can simply select the desired columns\n",
    "                if len(cells) == 12:\n",
    "                    sex = cells[0].find(text=True)\n",
    "                    name = cells[1].find(text=True)\n",
    "                    specialisation = cells[4].find(text=True)\n",
    "                    mineur = cells[6].find(text=True)\n",
    "                    sciper = cells[10].find(text=True)\n",
    "                    #The year will be defined such as 2014 if it is spring semester in 2014\n",
    "                    #and 2014.5 if it is automn semester in 2014\n",
    "                    if semester=='Semestre d\\'automne':\n",
    "                        annee = float(year[:4])+0.5\n",
    "                    else:\n",
    "                        annee=float(year[5:])\n",
    "                    s = pd.Series([sex,name,sciper,annee,specialisation,mineur],index=['sex','name','sciper','year', 'specialisation', 'mineur'])\n",
    "                    master3DataFrame = master3DataFrame.append(s, ignore_index=True)\n",
    "\n",
    "        except:\n",
    "            pass\n",
    "\n",
    "master3DataFrame.head(10)"
   ]
  },
  {
   "cell_type": "markdown",
   "metadata": {},
   "source": [
    "Finally, let's build the dataframe for Master thesis\n",
    "\n",
    "We are going to make a dataFrame for Master thesis Automn and Master thesis Spring. We will not save that information anywhere in the dataframe as we already have the information if it is in spring or automn by considering the year. \n",
    "2014-> spring semester 2014.5-> automn semester"
   ]
  },
  {
   "cell_type": "code",
   "execution_count": 53,
   "metadata": {
    "collapsed": false
   },
   "outputs": [
    {
     "data": {
      "text/html": [
       "<div>\n",
       "<table border=\"1\" class=\"dataframe\">\n",
       "  <thead>\n",
       "    <tr style=\"text-align: right;\">\n",
       "      <th></th>\n",
       "      <th>sex</th>\n",
       "      <th>name</th>\n",
       "      <th>sciper</th>\n",
       "      <th>year</th>\n",
       "      <th>specialisation</th>\n",
       "      <th>mineur</th>\n",
       "    </tr>\n",
       "  </thead>\n",
       "  <tbody>\n",
       "    <tr>\n",
       "      <th>0</th>\n",
       "      <td>Monsieur</td>\n",
       "      <td>Hahling Robin Philippe</td>\n",
       "      <td>233184</td>\n",
       "      <td>2015.5</td>\n",
       "      <td>None</td>\n",
       "      <td>None</td>\n",
       "    </tr>\n",
       "    <tr>\n",
       "      <th>1</th>\n",
       "      <td>Monsieur</td>\n",
       "      <td>Jin Jialei</td>\n",
       "      <td>233543</td>\n",
       "      <td>2015.5</td>\n",
       "      <td>None</td>\n",
       "      <td>Mineur en Biocomputing</td>\n",
       "    </tr>\n",
       "    <tr>\n",
       "      <th>2</th>\n",
       "      <td>Monsieur</td>\n",
       "      <td>Sarfati Alexandre</td>\n",
       "      <td>185301</td>\n",
       "      <td>2014.5</td>\n",
       "      <td>None</td>\n",
       "      <td>None</td>\n",
       "    </tr>\n",
       "    <tr>\n",
       "      <th>3</th>\n",
       "      <td>Monsieur</td>\n",
       "      <td>Brutsche Florian</td>\n",
       "      <td>159852</td>\n",
       "      <td>2008.0</td>\n",
       "      <td>Internet computing</td>\n",
       "      <td>None</td>\n",
       "    </tr>\n",
       "    <tr>\n",
       "      <th>4</th>\n",
       "      <td>Monsieur</td>\n",
       "      <td>Dotta Mirco</td>\n",
       "      <td>153819</td>\n",
       "      <td>2008.0</td>\n",
       "      <td>None</td>\n",
       "      <td>None</td>\n",
       "    </tr>\n",
       "    <tr>\n",
       "      <th>5</th>\n",
       "      <td>Monsieur</td>\n",
       "      <td>Hügli Michael</td>\n",
       "      <td>145957</td>\n",
       "      <td>2008.0</td>\n",
       "      <td>None</td>\n",
       "      <td>None</td>\n",
       "    </tr>\n",
       "    <tr>\n",
       "      <th>6</th>\n",
       "      <td>Monsieur</td>\n",
       "      <td>Indra Saurabh</td>\n",
       "      <td>173257</td>\n",
       "      <td>2008.0</td>\n",
       "      <td>None</td>\n",
       "      <td>None</td>\n",
       "    </tr>\n",
       "    <tr>\n",
       "      <th>7</th>\n",
       "      <td>Monsieur</td>\n",
       "      <td>Lépine Simon</td>\n",
       "      <td>160150</td>\n",
       "      <td>2008.0</td>\n",
       "      <td>Biocomputing</td>\n",
       "      <td>None</td>\n",
       "    </tr>\n",
       "    <tr>\n",
       "      <th>8</th>\n",
       "      <td>Monsieur</td>\n",
       "      <td>Stewart Conail</td>\n",
       "      <td>173527</td>\n",
       "      <td>2008.0</td>\n",
       "      <td>None</td>\n",
       "      <td>None</td>\n",
       "    </tr>\n",
       "    <tr>\n",
       "      <th>9</th>\n",
       "      <td>Monsieur</td>\n",
       "      <td>Stewart Conail</td>\n",
       "      <td>173527</td>\n",
       "      <td>2007.5</td>\n",
       "      <td>None</td>\n",
       "      <td>None</td>\n",
       "    </tr>\n",
       "  </tbody>\n",
       "</table>\n",
       "</div>"
      ],
      "text/plain": [
       "        sex                    name  sciper    year      specialisation  \\\n",
       "0  Monsieur  Hahling Robin Philippe  233184  2015.5                None   \n",
       "1  Monsieur              Jin Jialei  233543  2015.5                None   \n",
       "2  Monsieur       Sarfati Alexandre  185301  2014.5                None   \n",
       "3  Monsieur        Brutsche Florian  159852  2008.0  Internet computing   \n",
       "4  Monsieur             Dotta Mirco  153819  2008.0                None   \n",
       "5  Monsieur           Hügli Michael  145957  2008.0                None   \n",
       "6  Monsieur           Indra Saurabh  173257  2008.0                None   \n",
       "7  Monsieur            Lépine Simon  160150  2008.0        Biocomputing   \n",
       "8  Monsieur          Stewart Conail  173527  2008.0                None   \n",
       "9  Monsieur          Stewart Conail  173527  2007.5                None   \n",
       "\n",
       "                   mineur  \n",
       "0                    None  \n",
       "1  Mineur en Biocomputing  \n",
       "2                    None  \n",
       "3                    None  \n",
       "4                    None  \n",
       "5                    None  \n",
       "6                    None  \n",
       "7                    None  \n",
       "8                    None  \n",
       "9                    None  "
      ]
     },
     "execution_count": 53,
     "metadata": {},
     "output_type": "execute_result"
    }
   ],
   "source": [
    "\n",
    "#DataFrame of Master thesis students. We already know the names of the columns\n",
    "pdmDataFrame = pd.DataFrame(columns=('sex','name','sciper','year','specialisation', 'mineur'))\n",
    "\n",
    "for year in ww_params.get('ww_x_PERIODE_ACAD'):\n",
    "    for semester in ww_params.get('ww_x_HIVERETE'):\n",
    "        \n",
    "        #If we are looking at the autmon semester we are gonna look for \"Projet Master automne\" and if we are\n",
    "        #searching in spring we will look for \"Projet Master printemps\" for the period academic\n",
    "        if semester=='Semestre d\\'automne':\n",
    "            project=pdm_a\n",
    "        else:\n",
    "            project=pdm_p\n",
    "            \n",
    "        ###First Call\n",
    "        #Build the url:\n",
    "        url = baseFormUrl + '&ww_b_list=1' + \\\n",
    "        '&ww_i_reportModelXsl=' + htmlResult + \\\n",
    "        '&ww_x_UNITE_ACAD=' + informatique + \\\n",
    "        '&ww_x_PERIODE_ACAD=' + ww_params.get('ww_x_PERIODE_ACAD').get(year) + \\\n",
    "        '&ww_x_PERIODE_PEDAGO=' + project+ \\\n",
    "        '&ww_x_HIVERETE=' + ww_params.get('ww_x_HIVERETE').get(semester)\n",
    "\n",
    "        #Make a request\n",
    "        r = requests.get(url)\n",
    "\n",
    "        #Parse the URL with beautifulSoup\n",
    "        soup = BeautifulSoup(r.content, \"html.parser\")\n",
    "\n",
    "        #find the parameter ww_x_GPS (if it exists).\n",
    "        try:\n",
    "            value = soup.findAll('a', attrs={'class':'ww_x_GPS'})\n",
    "            #The value of ww_x_GPS is an argument of a javascript function. To isolate it, we need to find it, then find the value.\n",
    "            #Substrings are used. First we find 'ww_x_GPS', then we find the next \"'\" so that we can keep the value only.\n",
    "            for val in value:\n",
    "                #We are only interested in the value that is not -1\n",
    "                if val['onclick'] != -1:\n",
    "                    position_ww_x_GPS_beginning = val['onclick'].find('ww_x_GPS')+len('ww_x_GPS')+1\n",
    "                    substringBeginning = val['onclick'][position_ww_x_GPS_beginning:]\n",
    "                    position_ww_x_GPS_end = substringBeginning.find('\\'')\n",
    "                    ww_x_GPS = substringBeginning[:position_ww_x_GPS_end]\n",
    "            ###Second call\n",
    "            #Now that we have the ww_x_GPS, we can make another call and obtain the list of the students.\n",
    "            #Here the base Url changes because we display names.\n",
    "            url = baseFormUrlDisplay + '&ww_b_list=1' + \\\n",
    "            '&ww_i_reportModelXsl=' + htmlResult + \\\n",
    "            '&ww_x_UNITE_ACAD=' + informatique + \\\n",
    "            '&ww_x_PERIODE_ACAD=' + ww_params.get('ww_x_PERIODE_ACAD').get(year) + \\\n",
    "            '&ww_x_PERIODE_PEDAGO=' + project+ \\\n",
    "            '&ww_x_HIVERETE=' + ww_params.get('ww_x_HIVERETE').get(semester) + \\\n",
    "            '&ww_x_GPS=' + ww_x_GPS\n",
    "             #Make a request\n",
    "            r = requests.get(url)\n",
    "            #Parse the page with beautifulSoup\n",
    "            soup = BeautifulSoup(r.content, \"html.parser\")\n",
    "\n",
    "            my_table = soup.find('table')\n",
    "            rows = my_table.findChildren(['th', 'tr'])\n",
    "        \n",
    "            for row in rows:\n",
    "                cells = row.findChildren('td')\n",
    "                #We already know the format of the data so we can simply select the desired columns\n",
    "                if len(cells) == 12:\n",
    "                    sex = cells[0].find(text=True)\n",
    "                    name = cells[1].find(text=True)\n",
    "                    specialisation = cells[4].find(text=True)\n",
    "                    mineur = cells[6].find(text=True)\n",
    "                    sciper = cells[10].find(text=True)\n",
    "                    #The year will be defined such as 2014 if it is spring semester in 2014\n",
    "                    #and 2014.5 if it is automn semester in 2014\n",
    "                    if semester=='Semestre d\\'automne':\n",
    "                        annee = float(year[:4])+0.5\n",
    "                    else:\n",
    "                        annee=float(year[5:])\n",
    "                    s = pd.Series([sex,name,sciper,annee,specialisation,mineur],index=['sex','name','sciper','year', 'specialisation', 'mineur'])\n",
    "                    pdmDataFrame = pdmDataFrame.append(s, ignore_index=True)\n",
    "\n",
    "        except:\n",
    "            pass\n",
    "\n",
    "pdmDataFrame.head(10)"
   ]
  },
  {
   "cell_type": "markdown",
   "metadata": {},
   "source": [
    "### Merging dataFrames"
   ]
  },
  {
   "cell_type": "markdown",
   "metadata": {},
   "source": [
    "First, we are going to handle duplicates. If a student was registered twice in Master 1, we will keep only the earliest one. If a student was registered twice in master 2, we will keep the earliest and the latest. Finally if he was twice in master 3, or in master thesis we will keep the latest registration.\n",
    "\n",
    "This is based on the assumption that a student can start his master either in Master 1 or in Master 2 and that he can finish his last semester of courses either in Master 2 or 3.\n",
    "\n",
    "We are also going to replace all the None by Nan, as it is easier to handle for us."
   ]
  },
  {
   "cell_type": "code",
   "execution_count": 54,
   "metadata": {
    "collapsed": false
   },
   "outputs": [
    {
     "name": "stderr",
     "output_type": "stream",
     "text": [
      "C:\\Users\\Mathieu\\Anaconda3\\lib\\site-packages\\pandas\\core\\frame.py:2762: SettingWithCopyWarning: \n",
      "A value is trying to be set on a copy of a slice from a DataFrame\n",
      "\n",
      "See the caveats in the documentation: http://pandas.pydata.org/pandas-docs/stable/indexing.html#indexing-view-versus-copy\n",
      "  downcast=downcast, **kwargs)\n"
     ]
    }
   ],
   "source": [
    "#Keeping the earliest registration for master 1\n",
    "c_mins = master1DataFrame.groupby('sciper').year.transform(min)\n",
    "master1DataFrame = master1DataFrame[master1DataFrame.year == c_mins]\n",
    "master1DataFrame.fillna(value=np.nan, inplace=True)\n",
    "\n",
    "#Keeping the earliest registration for master 2 \n",
    "p_mins = master2DataFrame.groupby('sciper').year.transform(min)\n",
    "master2DataFrame_e = master2DataFrame[master2DataFrame.year == p_mins]\n",
    "master2DataFrame_e.fillna(value=np.nan, inplace=True)\n",
    "\n",
    "#Keeping the latest registration for master 2 \n",
    "c_maxs = master2DataFrame.groupby('sciper').year.transform(max)\n",
    "master2DataFrame_l = master2DataFrame[master2DataFrame.year == c_maxs]\n",
    "master2DataFrame_l.fillna(value=np.nan, inplace=True)\n",
    "\n",
    "\n",
    "#Keeping the latest registration for master 3 \n",
    "d_maxs = master3DataFrame.groupby('sciper').year.transform(max)\n",
    "master3DataFrame = master3DataFrame[master3DataFrame.year == d_maxs]\n",
    "master3DataFrame.fillna(value=np.nan, inplace=True)\n",
    "\n",
    "\n",
    "#Keeping the latest registration for master thesis\n",
    "p_maxs = pdmDataFrame.groupby('sciper').year.transform(max)\n",
    "pdmDataFrame = pdmDataFrame[pdmDataFrame.year == p_maxs]\n",
    "pdmDataFrame.fillna(value=np.nan, inplace=True)\n",
    "\n"
   ]
  },
  {
   "cell_type": "markdown",
   "metadata": {
    "collapsed": true
   },
   "source": [
    "We are now going to make an outer-join between master 1 and the earliest registration in master 2. The results of that join will then be left joined with the latest registratoins in master 2. This allows us to keep both dates of registration to master 2 in the dataframe.\n",
    "\n",
    "We assume that if someone is registered in a minor or specialisation, he is registered in it alonz all his master semesters, so we also join on specialisation and minor."
   ]
  },
  {
   "cell_type": "code",
   "execution_count": 55,
   "metadata": {
    "collapsed": false
   },
   "outputs": [
    {
     "data": {
      "text/html": [
       "<div>\n",
       "<table border=\"1\" class=\"dataframe\">\n",
       "  <thead>\n",
       "    <tr style=\"text-align: right;\">\n",
       "      <th></th>\n",
       "      <th>sex</th>\n",
       "      <th>name</th>\n",
       "      <th>sciper</th>\n",
       "      <th>year_master1</th>\n",
       "      <th>specialisation</th>\n",
       "      <th>mineur</th>\n",
       "      <th>year_master2_earliest</th>\n",
       "      <th>year_master2_latest</th>\n",
       "    </tr>\n",
       "  </thead>\n",
       "  <tbody>\n",
       "    <tr>\n",
       "      <th>1103</th>\n",
       "      <td>Monsieur</td>\n",
       "      <td>Kromwijk Sander</td>\n",
       "      <td>194430</td>\n",
       "      <td>NaN</td>\n",
       "      <td>NaN</td>\n",
       "      <td>Mineur en Biocomputing</td>\n",
       "      <td>2013.0</td>\n",
       "      <td>2014.0</td>\n",
       "    </tr>\n",
       "    <tr>\n",
       "      <th>1104</th>\n",
       "      <td>Monsieur</td>\n",
       "      <td>Moreno Santos Igor</td>\n",
       "      <td>222381</td>\n",
       "      <td>NaN</td>\n",
       "      <td>Foundations of Software</td>\n",
       "      <td>NaN</td>\n",
       "      <td>2013.0</td>\n",
       "      <td>2013.0</td>\n",
       "    </tr>\n",
       "    <tr>\n",
       "      <th>1105</th>\n",
       "      <td>Monsieur</td>\n",
       "      <td>Signo' Tiziano</td>\n",
       "      <td>226511</td>\n",
       "      <td>NaN</td>\n",
       "      <td>Internet computing</td>\n",
       "      <td>NaN</td>\n",
       "      <td>2013.0</td>\n",
       "      <td>2015.0</td>\n",
       "    </tr>\n",
       "    <tr>\n",
       "      <th>1106</th>\n",
       "      <td>Madame</td>\n",
       "      <td>Sima Ana Claudia</td>\n",
       "      <td>226541</td>\n",
       "      <td>NaN</td>\n",
       "      <td>Software Systems</td>\n",
       "      <td>NaN</td>\n",
       "      <td>2013.0</td>\n",
       "      <td>2014.0</td>\n",
       "    </tr>\n",
       "    <tr>\n",
       "      <th>1107</th>\n",
       "      <td>Monsieur</td>\n",
       "      <td>Stucki Nicolas Alexander</td>\n",
       "      <td>226421</td>\n",
       "      <td>NaN</td>\n",
       "      <td>Foundations of Software</td>\n",
       "      <td>NaN</td>\n",
       "      <td>2013.0</td>\n",
       "      <td>2014.0</td>\n",
       "    </tr>\n",
       "    <tr>\n",
       "      <th>1108</th>\n",
       "      <td>Monsieur</td>\n",
       "      <td>Vallone Joël</td>\n",
       "      <td>183984</td>\n",
       "      <td>NaN</td>\n",
       "      <td>Computer Engineering - SP</td>\n",
       "      <td>NaN</td>\n",
       "      <td>2013.0</td>\n",
       "      <td>2014.0</td>\n",
       "    </tr>\n",
       "    <tr>\n",
       "      <th>1109</th>\n",
       "      <td>Monsieur</td>\n",
       "      <td>Vanini Erico</td>\n",
       "      <td>192668</td>\n",
       "      <td>NaN</td>\n",
       "      <td>Internet computing</td>\n",
       "      <td>NaN</td>\n",
       "      <td>2013.0</td>\n",
       "      <td>2014.0</td>\n",
       "    </tr>\n",
       "    <tr>\n",
       "      <th>1110</th>\n",
       "      <td>Monsieur</td>\n",
       "      <td>Viaccoz Thierry</td>\n",
       "      <td>195916</td>\n",
       "      <td>NaN</td>\n",
       "      <td>NaN</td>\n",
       "      <td>Information security minor</td>\n",
       "      <td>2013.0</td>\n",
       "      <td>2013.0</td>\n",
       "    </tr>\n",
       "    <tr>\n",
       "      <th>1111</th>\n",
       "      <td>Monsieur</td>\n",
       "      <td>Zablotchi Mihail Igor</td>\n",
       "      <td>192870</td>\n",
       "      <td>NaN</td>\n",
       "      <td>Internet computing</td>\n",
       "      <td>NaN</td>\n",
       "      <td>2013.0</td>\n",
       "      <td>2014.0</td>\n",
       "    </tr>\n",
       "    <tr>\n",
       "      <th>1112</th>\n",
       "      <td>Monsieur</td>\n",
       "      <td>Dezfuli Seyyed Sina</td>\n",
       "      <td>268709</td>\n",
       "      <td>NaN</td>\n",
       "      <td>NaN</td>\n",
       "      <td>NaN</td>\n",
       "      <td>2017.0</td>\n",
       "      <td>2017.0</td>\n",
       "    </tr>\n",
       "  </tbody>\n",
       "</table>\n",
       "</div>"
      ],
      "text/plain": [
       "           sex                      name  sciper  year_master1  \\\n",
       "1103  Monsieur           Kromwijk Sander  194430           NaN   \n",
       "1104  Monsieur        Moreno Santos Igor  222381           NaN   \n",
       "1105  Monsieur            Signo' Tiziano  226511           NaN   \n",
       "1106    Madame          Sima Ana Claudia  226541           NaN   \n",
       "1107  Monsieur  Stucki Nicolas Alexander  226421           NaN   \n",
       "1108  Monsieur              Vallone Joël  183984           NaN   \n",
       "1109  Monsieur              Vanini Erico  192668           NaN   \n",
       "1110  Monsieur           Viaccoz Thierry  195916           NaN   \n",
       "1111  Monsieur     Zablotchi Mihail Igor  192870           NaN   \n",
       "1112  Monsieur       Dezfuli Seyyed Sina  268709           NaN   \n",
       "\n",
       "                 specialisation                      mineur  \\\n",
       "1103                        NaN      Mineur en Biocomputing   \n",
       "1104    Foundations of Software                         NaN   \n",
       "1105         Internet computing                         NaN   \n",
       "1106           Software Systems                         NaN   \n",
       "1107    Foundations of Software                         NaN   \n",
       "1108  Computer Engineering - SP                         NaN   \n",
       "1109         Internet computing                         NaN   \n",
       "1110                        NaN  Information security minor   \n",
       "1111         Internet computing                         NaN   \n",
       "1112                        NaN                         NaN   \n",
       "\n",
       "      year_master2_earliest  year_master2_latest  \n",
       "1103                 2013.0               2014.0  \n",
       "1104                 2013.0               2013.0  \n",
       "1105                 2013.0               2015.0  \n",
       "1106                 2013.0               2014.0  \n",
       "1107                 2013.0               2014.0  \n",
       "1108                 2013.0               2014.0  \n",
       "1109                 2013.0               2014.0  \n",
       "1110                 2013.0               2013.0  \n",
       "1111                 2013.0               2014.0  \n",
       "1112                 2017.0               2017.0  "
      ]
     },
     "execution_count": 55,
     "metadata": {},
     "output_type": "execute_result"
    }
   ],
   "source": [
    "master1_2 = pd.merge(master1DataFrame, master2DataFrame_e, how='outer', on=['sex', 'name', 'sciper','mineur','specialisation'], suffixes=('_master1', '_master2_earliest'))\n",
    "master1_2 = pd.merge(master1_2, master2DataFrame_l, how='left', on=['sex', 'name', 'sciper','mineur','specialisation'], suffixes=('_master1', '_master2'))\n",
    "master1_2 = master1_2.rename(columns={'year': 'year_master2_latest'}) #Renaming column year that comes from dataframe master 3 to year_master 3\n",
    "\n",
    "master1_2.tail(10)"
   ]
  },
  {
   "cell_type": "markdown",
   "metadata": {},
   "source": [
    "Now we are going to make a left join with students registered in master 3. As all the students have not to be registered in master 3 to finish their master but have to be registered in master 1 or 2 before doing master 3, that is why a left_join has been chosen."
   ]
  },
  {
   "cell_type": "code",
   "execution_count": 56,
   "metadata": {
    "collapsed": false
   },
   "outputs": [
    {
     "data": {
      "text/html": [
       "<div>\n",
       "<table border=\"1\" class=\"dataframe\">\n",
       "  <thead>\n",
       "    <tr style=\"text-align: right;\">\n",
       "      <th></th>\n",
       "      <th>sex</th>\n",
       "      <th>name</th>\n",
       "      <th>sciper</th>\n",
       "      <th>year_master1</th>\n",
       "      <th>specialisation</th>\n",
       "      <th>mineur</th>\n",
       "      <th>year_master2_earliest</th>\n",
       "      <th>year_master2_latest</th>\n",
       "      <th>year_master3</th>\n",
       "    </tr>\n",
       "  </thead>\n",
       "  <tbody>\n",
       "    <tr>\n",
       "      <th>0</th>\n",
       "      <td>Madame</td>\n",
       "      <td>Abi Akar Nora</td>\n",
       "      <td>251253</td>\n",
       "      <td>2015.5</td>\n",
       "      <td>NaN</td>\n",
       "      <td>NaN</td>\n",
       "      <td>2016.0</td>\n",
       "      <td>2016.0</td>\n",
       "      <td>2016.5</td>\n",
       "    </tr>\n",
       "    <tr>\n",
       "      <th>1</th>\n",
       "      <td>Madame</td>\n",
       "      <td>Aeby Prisca</td>\n",
       "      <td>225654</td>\n",
       "      <td>2015.5</td>\n",
       "      <td>NaN</td>\n",
       "      <td>NaN</td>\n",
       "      <td>NaN</td>\n",
       "      <td>NaN</td>\n",
       "      <td>NaN</td>\n",
       "    </tr>\n",
       "    <tr>\n",
       "      <th>2</th>\n",
       "      <td>Monsieur</td>\n",
       "      <td>Alnasser Riyadh Abdulaziz M</td>\n",
       "      <td>257825</td>\n",
       "      <td>2015.5</td>\n",
       "      <td>NaN</td>\n",
       "      <td>NaN</td>\n",
       "      <td>2016.0</td>\n",
       "      <td>2016.0</td>\n",
       "      <td>2016.5</td>\n",
       "    </tr>\n",
       "    <tr>\n",
       "      <th>3</th>\n",
       "      <td>Monsieur</td>\n",
       "      <td>Amorim Afonso Caldeira Da Silva Pedro Maria</td>\n",
       "      <td>213618</td>\n",
       "      <td>2015.5</td>\n",
       "      <td>NaN</td>\n",
       "      <td>NaN</td>\n",
       "      <td>2016.0</td>\n",
       "      <td>2016.0</td>\n",
       "      <td>2016.5</td>\n",
       "    </tr>\n",
       "    <tr>\n",
       "      <th>4</th>\n",
       "      <td>Monsieur</td>\n",
       "      <td>Andreina Sébastien Laurent</td>\n",
       "      <td>215623</td>\n",
       "      <td>2015.5</td>\n",
       "      <td>NaN</td>\n",
       "      <td>NaN</td>\n",
       "      <td>NaN</td>\n",
       "      <td>NaN</td>\n",
       "      <td>NaN</td>\n",
       "    </tr>\n",
       "    <tr>\n",
       "      <th>5</th>\n",
       "      <td>Monsieur</td>\n",
       "      <td>Antognini Diego Matteo</td>\n",
       "      <td>243163</td>\n",
       "      <td>2015.5</td>\n",
       "      <td>NaN</td>\n",
       "      <td>NaN</td>\n",
       "      <td>2016.0</td>\n",
       "      <td>2016.0</td>\n",
       "      <td>NaN</td>\n",
       "    </tr>\n",
       "    <tr>\n",
       "      <th>6</th>\n",
       "      <td>Monsieur</td>\n",
       "      <td>Balaban Metin</td>\n",
       "      <td>251470</td>\n",
       "      <td>2015.5</td>\n",
       "      <td>NaN</td>\n",
       "      <td>NaN</td>\n",
       "      <td>2016.0</td>\n",
       "      <td>2016.0</td>\n",
       "      <td>2016.5</td>\n",
       "    </tr>\n",
       "    <tr>\n",
       "      <th>7</th>\n",
       "      <td>Monsieur</td>\n",
       "      <td>Beguet Romain Michel</td>\n",
       "      <td>226638</td>\n",
       "      <td>2015.5</td>\n",
       "      <td>NaN</td>\n",
       "      <td>NaN</td>\n",
       "      <td>NaN</td>\n",
       "      <td>NaN</td>\n",
       "      <td>NaN</td>\n",
       "    </tr>\n",
       "    <tr>\n",
       "      <th>8</th>\n",
       "      <td>Monsieur</td>\n",
       "      <td>Bell Enea</td>\n",
       "      <td>248358</td>\n",
       "      <td>2015.5</td>\n",
       "      <td>NaN</td>\n",
       "      <td>NaN</td>\n",
       "      <td>NaN</td>\n",
       "      <td>NaN</td>\n",
       "      <td>NaN</td>\n",
       "    </tr>\n",
       "    <tr>\n",
       "      <th>9</th>\n",
       "      <td>Monsieur</td>\n",
       "      <td>Bennani-Smires Kamil</td>\n",
       "      <td>204958</td>\n",
       "      <td>2015.5</td>\n",
       "      <td>NaN</td>\n",
       "      <td>NaN</td>\n",
       "      <td>2015.0</td>\n",
       "      <td>2016.0</td>\n",
       "      <td>2016.5</td>\n",
       "    </tr>\n",
       "  </tbody>\n",
       "</table>\n",
       "</div>"
      ],
      "text/plain": [
       "        sex                                         name  sciper  \\\n",
       "0    Madame                                Abi Akar Nora  251253   \n",
       "1    Madame                                  Aeby Prisca  225654   \n",
       "2  Monsieur                  Alnasser Riyadh Abdulaziz M  257825   \n",
       "3  Monsieur  Amorim Afonso Caldeira Da Silva Pedro Maria  213618   \n",
       "4  Monsieur                   Andreina Sébastien Laurent  215623   \n",
       "5  Monsieur                       Antognini Diego Matteo  243163   \n",
       "6  Monsieur                                Balaban Metin  251470   \n",
       "7  Monsieur                         Beguet Romain Michel  226638   \n",
       "8  Monsieur                                    Bell Enea  248358   \n",
       "9  Monsieur                         Bennani-Smires Kamil  204958   \n",
       "\n",
       "   year_master1 specialisation mineur  year_master2_earliest  \\\n",
       "0        2015.5            NaN    NaN                 2016.0   \n",
       "1        2015.5            NaN    NaN                    NaN   \n",
       "2        2015.5            NaN    NaN                 2016.0   \n",
       "3        2015.5            NaN    NaN                 2016.0   \n",
       "4        2015.5            NaN    NaN                    NaN   \n",
       "5        2015.5            NaN    NaN                 2016.0   \n",
       "6        2015.5            NaN    NaN                 2016.0   \n",
       "7        2015.5            NaN    NaN                    NaN   \n",
       "8        2015.5            NaN    NaN                    NaN   \n",
       "9        2015.5            NaN    NaN                 2015.0   \n",
       "\n",
       "   year_master2_latest  year_master3  \n",
       "0               2016.0        2016.5  \n",
       "1                  NaN           NaN  \n",
       "2               2016.0        2016.5  \n",
       "3               2016.0        2016.5  \n",
       "4                  NaN           NaN  \n",
       "5               2016.0           NaN  \n",
       "6               2016.0        2016.5  \n",
       "7                  NaN           NaN  \n",
       "8                  NaN           NaN  \n",
       "9               2016.0        2016.5  "
      ]
     },
     "execution_count": 56,
     "metadata": {},
     "output_type": "execute_result"
    }
   ],
   "source": [
    "master = pd.merge(master1_2, master3DataFrame, how='left', on=['sex', 'name', 'sciper','specialisation','mineur'], suffixes=('', '_master3'))\n",
    "master = master.rename(columns={'year': 'year_master3'}) #Renaming column year that comes from dataframe master 3 to year_master 3\n",
    "master.head(10)"
   ]
  },
  {
   "cell_type": "markdown",
   "metadata": {},
   "source": [
    "And now a left join with students registered in master thesis. We will use a left join as students have to \n",
    "first be registered in master 1 or 2 before doing a master thesis"
   ]
  },
  {
   "cell_type": "code",
   "execution_count": 57,
   "metadata": {
    "collapsed": false
   },
   "outputs": [
    {
     "data": {
      "text/html": [
       "<div>\n",
       "<table border=\"1\" class=\"dataframe\">\n",
       "  <thead>\n",
       "    <tr style=\"text-align: right;\">\n",
       "      <th></th>\n",
       "      <th>sex</th>\n",
       "      <th>name</th>\n",
       "      <th>sciper</th>\n",
       "      <th>year_master1</th>\n",
       "      <th>specialisation</th>\n",
       "      <th>mineur</th>\n",
       "      <th>year_master2_earliest</th>\n",
       "      <th>year_master2_latest</th>\n",
       "      <th>year_master3</th>\n",
       "      <th>year_pdm</th>\n",
       "    </tr>\n",
       "  </thead>\n",
       "  <tbody>\n",
       "    <tr>\n",
       "      <th>0</th>\n",
       "      <td>Madame</td>\n",
       "      <td>Abi Akar Nora</td>\n",
       "      <td>251253</td>\n",
       "      <td>2015.5</td>\n",
       "      <td>NaN</td>\n",
       "      <td>NaN</td>\n",
       "      <td>2016.0</td>\n",
       "      <td>2016.0</td>\n",
       "      <td>2016.5</td>\n",
       "      <td>NaN</td>\n",
       "    </tr>\n",
       "    <tr>\n",
       "      <th>1</th>\n",
       "      <td>Madame</td>\n",
       "      <td>Aeby Prisca</td>\n",
       "      <td>225654</td>\n",
       "      <td>2015.5</td>\n",
       "      <td>NaN</td>\n",
       "      <td>NaN</td>\n",
       "      <td>NaN</td>\n",
       "      <td>NaN</td>\n",
       "      <td>NaN</td>\n",
       "      <td>NaN</td>\n",
       "    </tr>\n",
       "    <tr>\n",
       "      <th>2</th>\n",
       "      <td>Monsieur</td>\n",
       "      <td>Alnasser Riyadh Abdulaziz M</td>\n",
       "      <td>257825</td>\n",
       "      <td>2015.5</td>\n",
       "      <td>NaN</td>\n",
       "      <td>NaN</td>\n",
       "      <td>2016.0</td>\n",
       "      <td>2016.0</td>\n",
       "      <td>2016.5</td>\n",
       "      <td>NaN</td>\n",
       "    </tr>\n",
       "    <tr>\n",
       "      <th>3</th>\n",
       "      <td>Monsieur</td>\n",
       "      <td>Amorim Afonso Caldeira Da Silva Pedro Maria</td>\n",
       "      <td>213618</td>\n",
       "      <td>2015.5</td>\n",
       "      <td>NaN</td>\n",
       "      <td>NaN</td>\n",
       "      <td>2016.0</td>\n",
       "      <td>2016.0</td>\n",
       "      <td>2016.5</td>\n",
       "      <td>NaN</td>\n",
       "    </tr>\n",
       "    <tr>\n",
       "      <th>4</th>\n",
       "      <td>Monsieur</td>\n",
       "      <td>Andreina Sébastien Laurent</td>\n",
       "      <td>215623</td>\n",
       "      <td>2015.5</td>\n",
       "      <td>NaN</td>\n",
       "      <td>NaN</td>\n",
       "      <td>NaN</td>\n",
       "      <td>NaN</td>\n",
       "      <td>NaN</td>\n",
       "      <td>NaN</td>\n",
       "    </tr>\n",
       "    <tr>\n",
       "      <th>5</th>\n",
       "      <td>Monsieur</td>\n",
       "      <td>Antognini Diego Matteo</td>\n",
       "      <td>243163</td>\n",
       "      <td>2015.5</td>\n",
       "      <td>NaN</td>\n",
       "      <td>NaN</td>\n",
       "      <td>2016.0</td>\n",
       "      <td>2016.0</td>\n",
       "      <td>NaN</td>\n",
       "      <td>2016.5</td>\n",
       "    </tr>\n",
       "    <tr>\n",
       "      <th>6</th>\n",
       "      <td>Monsieur</td>\n",
       "      <td>Balaban Metin</td>\n",
       "      <td>251470</td>\n",
       "      <td>2015.5</td>\n",
       "      <td>NaN</td>\n",
       "      <td>NaN</td>\n",
       "      <td>2016.0</td>\n",
       "      <td>2016.0</td>\n",
       "      <td>2016.5</td>\n",
       "      <td>NaN</td>\n",
       "    </tr>\n",
       "    <tr>\n",
       "      <th>7</th>\n",
       "      <td>Monsieur</td>\n",
       "      <td>Beguet Romain Michel</td>\n",
       "      <td>226638</td>\n",
       "      <td>2015.5</td>\n",
       "      <td>NaN</td>\n",
       "      <td>NaN</td>\n",
       "      <td>NaN</td>\n",
       "      <td>NaN</td>\n",
       "      <td>NaN</td>\n",
       "      <td>NaN</td>\n",
       "    </tr>\n",
       "    <tr>\n",
       "      <th>8</th>\n",
       "      <td>Monsieur</td>\n",
       "      <td>Bell Enea</td>\n",
       "      <td>248358</td>\n",
       "      <td>2015.5</td>\n",
       "      <td>NaN</td>\n",
       "      <td>NaN</td>\n",
       "      <td>NaN</td>\n",
       "      <td>NaN</td>\n",
       "      <td>NaN</td>\n",
       "      <td>NaN</td>\n",
       "    </tr>\n",
       "    <tr>\n",
       "      <th>9</th>\n",
       "      <td>Monsieur</td>\n",
       "      <td>Bennani-Smires Kamil</td>\n",
       "      <td>204958</td>\n",
       "      <td>2015.5</td>\n",
       "      <td>NaN</td>\n",
       "      <td>NaN</td>\n",
       "      <td>2015.0</td>\n",
       "      <td>2016.0</td>\n",
       "      <td>2016.5</td>\n",
       "      <td>NaN</td>\n",
       "    </tr>\n",
       "  </tbody>\n",
       "</table>\n",
       "</div>"
      ],
      "text/plain": [
       "        sex                                         name  sciper  \\\n",
       "0    Madame                                Abi Akar Nora  251253   \n",
       "1    Madame                                  Aeby Prisca  225654   \n",
       "2  Monsieur                  Alnasser Riyadh Abdulaziz M  257825   \n",
       "3  Monsieur  Amorim Afonso Caldeira Da Silva Pedro Maria  213618   \n",
       "4  Monsieur                   Andreina Sébastien Laurent  215623   \n",
       "5  Monsieur                       Antognini Diego Matteo  243163   \n",
       "6  Monsieur                                Balaban Metin  251470   \n",
       "7  Monsieur                         Beguet Romain Michel  226638   \n",
       "8  Monsieur                                    Bell Enea  248358   \n",
       "9  Monsieur                         Bennani-Smires Kamil  204958   \n",
       "\n",
       "   year_master1 specialisation mineur  year_master2_earliest  \\\n",
       "0        2015.5            NaN    NaN                 2016.0   \n",
       "1        2015.5            NaN    NaN                    NaN   \n",
       "2        2015.5            NaN    NaN                 2016.0   \n",
       "3        2015.5            NaN    NaN                 2016.0   \n",
       "4        2015.5            NaN    NaN                    NaN   \n",
       "5        2015.5            NaN    NaN                 2016.0   \n",
       "6        2015.5            NaN    NaN                 2016.0   \n",
       "7        2015.5            NaN    NaN                    NaN   \n",
       "8        2015.5            NaN    NaN                    NaN   \n",
       "9        2015.5            NaN    NaN                 2015.0   \n",
       "\n",
       "   year_master2_latest  year_master3  year_pdm  \n",
       "0               2016.0        2016.5       NaN  \n",
       "1                  NaN           NaN       NaN  \n",
       "2               2016.0        2016.5       NaN  \n",
       "3               2016.0        2016.5       NaN  \n",
       "4                  NaN           NaN       NaN  \n",
       "5               2016.0           NaN    2016.5  \n",
       "6               2016.0        2016.5       NaN  \n",
       "7                  NaN           NaN       NaN  \n",
       "8                  NaN           NaN       NaN  \n",
       "9               2016.0        2016.5       NaN  "
      ]
     },
     "execution_count": 57,
     "metadata": {},
     "output_type": "execute_result"
    }
   ],
   "source": [
    "master = pd.merge(master, pdmDataFrame, how='left', on=['sex', 'name', 'sciper','specialisation','mineur'], suffixes=('', 'pdm'))\n",
    "master = master.rename(columns={'year': 'year_pdm'}) #Renaming column year that comes from dataframe master 3 to year_master 3\n",
    "master.head(10)"
   ]
  },
  {
   "cell_type": "markdown",
   "metadata": {},
   "source": [
    "### Computing time of stay"
   ]
  },
  {
   "cell_type": "markdown",
   "metadata": {},
   "source": [
    "Now we will split the dataframe into 2, one with all the students that have a specialisation or a minor and one with \n",
    "students who don't. "
   ]
  },
  {
   "cell_type": "code",
   "execution_count": 59,
   "metadata": {
    "collapsed": false
   },
   "outputs": [
    {
     "data": {
      "text/html": [
       "<div>\n",
       "<table border=\"1\" class=\"dataframe\">\n",
       "  <thead>\n",
       "    <tr style=\"text-align: right;\">\n",
       "      <th></th>\n",
       "      <th>sex</th>\n",
       "      <th>name</th>\n",
       "      <th>sciper</th>\n",
       "      <th>year_master1</th>\n",
       "      <th>specialisation</th>\n",
       "      <th>mineur</th>\n",
       "      <th>year_master2_earliest</th>\n",
       "      <th>year_master2_latest</th>\n",
       "      <th>year_master3</th>\n",
       "      <th>year_pdm</th>\n",
       "    </tr>\n",
       "  </thead>\n",
       "  <tbody>\n",
       "    <tr>\n",
       "      <th>0</th>\n",
       "      <td>Madame</td>\n",
       "      <td>Abi Akar Nora</td>\n",
       "      <td>251253</td>\n",
       "      <td>2015.5</td>\n",
       "      <td>NaN</td>\n",
       "      <td>NaN</td>\n",
       "      <td>2016.0</td>\n",
       "      <td>2016.0</td>\n",
       "      <td>2016.5</td>\n",
       "      <td>NaN</td>\n",
       "    </tr>\n",
       "    <tr>\n",
       "      <th>1</th>\n",
       "      <td>Madame</td>\n",
       "      <td>Aeby Prisca</td>\n",
       "      <td>225654</td>\n",
       "      <td>2015.5</td>\n",
       "      <td>NaN</td>\n",
       "      <td>NaN</td>\n",
       "      <td>NaN</td>\n",
       "      <td>NaN</td>\n",
       "      <td>NaN</td>\n",
       "      <td>NaN</td>\n",
       "    </tr>\n",
       "    <tr>\n",
       "      <th>2</th>\n",
       "      <td>Monsieur</td>\n",
       "      <td>Alnasser Riyadh Abdulaziz M</td>\n",
       "      <td>257825</td>\n",
       "      <td>2015.5</td>\n",
       "      <td>NaN</td>\n",
       "      <td>NaN</td>\n",
       "      <td>2016.0</td>\n",
       "      <td>2016.0</td>\n",
       "      <td>2016.5</td>\n",
       "      <td>NaN</td>\n",
       "    </tr>\n",
       "    <tr>\n",
       "      <th>3</th>\n",
       "      <td>Monsieur</td>\n",
       "      <td>Amorim Afonso Caldeira Da Silva Pedro Maria</td>\n",
       "      <td>213618</td>\n",
       "      <td>2015.5</td>\n",
       "      <td>NaN</td>\n",
       "      <td>NaN</td>\n",
       "      <td>2016.0</td>\n",
       "      <td>2016.0</td>\n",
       "      <td>2016.5</td>\n",
       "      <td>NaN</td>\n",
       "    </tr>\n",
       "    <tr>\n",
       "      <th>4</th>\n",
       "      <td>Monsieur</td>\n",
       "      <td>Andreina Sébastien Laurent</td>\n",
       "      <td>215623</td>\n",
       "      <td>2015.5</td>\n",
       "      <td>NaN</td>\n",
       "      <td>NaN</td>\n",
       "      <td>NaN</td>\n",
       "      <td>NaN</td>\n",
       "      <td>NaN</td>\n",
       "      <td>NaN</td>\n",
       "    </tr>\n",
       "    <tr>\n",
       "      <th>5</th>\n",
       "      <td>Monsieur</td>\n",
       "      <td>Antognini Diego Matteo</td>\n",
       "      <td>243163</td>\n",
       "      <td>2015.5</td>\n",
       "      <td>NaN</td>\n",
       "      <td>NaN</td>\n",
       "      <td>2016.0</td>\n",
       "      <td>2016.0</td>\n",
       "      <td>NaN</td>\n",
       "      <td>2016.5</td>\n",
       "    </tr>\n",
       "    <tr>\n",
       "      <th>6</th>\n",
       "      <td>Monsieur</td>\n",
       "      <td>Balaban Metin</td>\n",
       "      <td>251470</td>\n",
       "      <td>2015.5</td>\n",
       "      <td>NaN</td>\n",
       "      <td>NaN</td>\n",
       "      <td>2016.0</td>\n",
       "      <td>2016.0</td>\n",
       "      <td>2016.5</td>\n",
       "      <td>NaN</td>\n",
       "    </tr>\n",
       "    <tr>\n",
       "      <th>7</th>\n",
       "      <td>Monsieur</td>\n",
       "      <td>Beguet Romain Michel</td>\n",
       "      <td>226638</td>\n",
       "      <td>2015.5</td>\n",
       "      <td>NaN</td>\n",
       "      <td>NaN</td>\n",
       "      <td>NaN</td>\n",
       "      <td>NaN</td>\n",
       "      <td>NaN</td>\n",
       "      <td>NaN</td>\n",
       "    </tr>\n",
       "    <tr>\n",
       "      <th>8</th>\n",
       "      <td>Monsieur</td>\n",
       "      <td>Bell Enea</td>\n",
       "      <td>248358</td>\n",
       "      <td>2015.5</td>\n",
       "      <td>NaN</td>\n",
       "      <td>NaN</td>\n",
       "      <td>NaN</td>\n",
       "      <td>NaN</td>\n",
       "      <td>NaN</td>\n",
       "      <td>NaN</td>\n",
       "    </tr>\n",
       "    <tr>\n",
       "      <th>9</th>\n",
       "      <td>Monsieur</td>\n",
       "      <td>Bennani-Smires Kamil</td>\n",
       "      <td>204958</td>\n",
       "      <td>2015.5</td>\n",
       "      <td>NaN</td>\n",
       "      <td>NaN</td>\n",
       "      <td>2015.0</td>\n",
       "      <td>2016.0</td>\n",
       "      <td>2016.5</td>\n",
       "      <td>NaN</td>\n",
       "    </tr>\n",
       "  </tbody>\n",
       "</table>\n",
       "</div>"
      ],
      "text/plain": [
       "        sex                                         name  sciper  \\\n",
       "0    Madame                                Abi Akar Nora  251253   \n",
       "1    Madame                                  Aeby Prisca  225654   \n",
       "2  Monsieur                  Alnasser Riyadh Abdulaziz M  257825   \n",
       "3  Monsieur  Amorim Afonso Caldeira Da Silva Pedro Maria  213618   \n",
       "4  Monsieur                   Andreina Sébastien Laurent  215623   \n",
       "5  Monsieur                       Antognini Diego Matteo  243163   \n",
       "6  Monsieur                                Balaban Metin  251470   \n",
       "7  Monsieur                         Beguet Romain Michel  226638   \n",
       "8  Monsieur                                    Bell Enea  248358   \n",
       "9  Monsieur                         Bennani-Smires Kamil  204958   \n",
       "\n",
       "   year_master1 specialisation mineur  year_master2_earliest  \\\n",
       "0        2015.5            NaN    NaN                 2016.0   \n",
       "1        2015.5            NaN    NaN                    NaN   \n",
       "2        2015.5            NaN    NaN                 2016.0   \n",
       "3        2015.5            NaN    NaN                 2016.0   \n",
       "4        2015.5            NaN    NaN                    NaN   \n",
       "5        2015.5            NaN    NaN                 2016.0   \n",
       "6        2015.5            NaN    NaN                 2016.0   \n",
       "7        2015.5            NaN    NaN                    NaN   \n",
       "8        2015.5            NaN    NaN                    NaN   \n",
       "9        2015.5            NaN    NaN                 2015.0   \n",
       "\n",
       "   year_master2_latest  year_master3  year_pdm  \n",
       "0               2016.0        2016.5       NaN  \n",
       "1                  NaN           NaN       NaN  \n",
       "2               2016.0        2016.5       NaN  \n",
       "3               2016.0        2016.5       NaN  \n",
       "4                  NaN           NaN       NaN  \n",
       "5               2016.0           NaN    2016.5  \n",
       "6               2016.0        2016.5       NaN  \n",
       "7                  NaN           NaN       NaN  \n",
       "8                  NaN           NaN       NaN  \n",
       "9               2016.0        2016.5       NaN  "
      ]
     },
     "execution_count": 59,
     "metadata": {},
     "output_type": "execute_result"
    }
   ],
   "source": [
    "#Students with no master and no specialization\n",
    "students_no_s_m=master[pd.isnull(master['specialisation']) & pd.isnull(master['mineur'])]\n",
    "students_no_s_m.head(10)"
   ]
  },
  {
   "cell_type": "markdown",
   "metadata": {},
   "source": [
    "We will remove students who have not done master 3 while having a spe or a minor."
   ]
  },
  {
   "cell_type": "code",
   "execution_count": 60,
   "metadata": {
    "collapsed": false
   },
   "outputs": [
    {
     "data": {
      "text/html": [
       "<div>\n",
       "<table border=\"1\" class=\"dataframe\">\n",
       "  <thead>\n",
       "    <tr style=\"text-align: right;\">\n",
       "      <th></th>\n",
       "      <th>sex</th>\n",
       "      <th>name</th>\n",
       "      <th>sciper</th>\n",
       "      <th>year_master1</th>\n",
       "      <th>specialisation</th>\n",
       "      <th>mineur</th>\n",
       "      <th>year_master2_earliest</th>\n",
       "      <th>year_master2_latest</th>\n",
       "      <th>year_master3</th>\n",
       "      <th>year_pdm</th>\n",
       "    </tr>\n",
       "  </thead>\n",
       "  <tbody>\n",
       "    <tr>\n",
       "      <th>13</th>\n",
       "      <td>Monsieur</td>\n",
       "      <td>Bosson Gaylor</td>\n",
       "      <td>223606</td>\n",
       "      <td>2015.5</td>\n",
       "      <td>Internet computing</td>\n",
       "      <td>NaN</td>\n",
       "      <td>2016.0</td>\n",
       "      <td>2016.0</td>\n",
       "      <td>2016.5</td>\n",
       "      <td>NaN</td>\n",
       "    </tr>\n",
       "    <tr>\n",
       "      <th>15</th>\n",
       "      <td>Monsieur</td>\n",
       "      <td>Cerchierini Matias</td>\n",
       "      <td>212654</td>\n",
       "      <td>2015.5</td>\n",
       "      <td>Foundations of Software</td>\n",
       "      <td>NaN</td>\n",
       "      <td>NaN</td>\n",
       "      <td>2016.0</td>\n",
       "      <td>2016.5</td>\n",
       "      <td>NaN</td>\n",
       "    </tr>\n",
       "    <tr>\n",
       "      <th>18</th>\n",
       "      <td>Monsieur</td>\n",
       "      <td>Cotofrei Radu-Mihai</td>\n",
       "      <td>223566</td>\n",
       "      <td>2015.5</td>\n",
       "      <td>Signals, Images and Interfaces</td>\n",
       "      <td>NaN</td>\n",
       "      <td>2016.0</td>\n",
       "      <td>2016.0</td>\n",
       "      <td>2016.5</td>\n",
       "      <td>NaN</td>\n",
       "    </tr>\n",
       "    <tr>\n",
       "      <th>35</th>\n",
       "      <td>Monsieur</td>\n",
       "      <td>Fiszel Ruben Leo</td>\n",
       "      <td>216451</td>\n",
       "      <td>2015.5</td>\n",
       "      <td>NaN</td>\n",
       "      <td>Mineur en Ingénierie financière</td>\n",
       "      <td>2016.0</td>\n",
       "      <td>2016.0</td>\n",
       "      <td>2016.5</td>\n",
       "      <td>NaN</td>\n",
       "    </tr>\n",
       "    <tr>\n",
       "      <th>45</th>\n",
       "      <td>Monsieur</td>\n",
       "      <td>Güzelhan Can</td>\n",
       "      <td>192219</td>\n",
       "      <td>2015.5</td>\n",
       "      <td>NaN</td>\n",
       "      <td>Mineur en Management, technologie et entrepren...</td>\n",
       "      <td>NaN</td>\n",
       "      <td>2016.0</td>\n",
       "      <td>2016.5</td>\n",
       "      <td>NaN</td>\n",
       "    </tr>\n",
       "    <tr>\n",
       "      <th>58</th>\n",
       "      <td>Monsieur</td>\n",
       "      <td>Kapp Hugo Stéphane</td>\n",
       "      <td>227942</td>\n",
       "      <td>2015.5</td>\n",
       "      <td>Foundations of Software</td>\n",
       "      <td>NaN</td>\n",
       "      <td>2016.0</td>\n",
       "      <td>2016.0</td>\n",
       "      <td>2016.5</td>\n",
       "      <td>NaN</td>\n",
       "    </tr>\n",
       "    <tr>\n",
       "      <th>62</th>\n",
       "      <td>Monsieur</td>\n",
       "      <td>Kyritsis Georgios</td>\n",
       "      <td>255203</td>\n",
       "      <td>2015.5</td>\n",
       "      <td>NaN</td>\n",
       "      <td>Mineur en Ingénierie financière</td>\n",
       "      <td>2016.0</td>\n",
       "      <td>2016.0</td>\n",
       "      <td>2016.5</td>\n",
       "      <td>NaN</td>\n",
       "    </tr>\n",
       "    <tr>\n",
       "      <th>63</th>\n",
       "      <td>Monsieur</td>\n",
       "      <td>Lahoud Fayez</td>\n",
       "      <td>254809</td>\n",
       "      <td>2015.5</td>\n",
       "      <td>Signals, Images and Interfaces</td>\n",
       "      <td>NaN</td>\n",
       "      <td>2016.0</td>\n",
       "      <td>2016.0</td>\n",
       "      <td>2016.5</td>\n",
       "      <td>NaN</td>\n",
       "    </tr>\n",
       "    <tr>\n",
       "      <th>102</th>\n",
       "      <td>Madame</td>\n",
       "      <td>Salathé Joanna Béatrice</td>\n",
       "      <td>217489</td>\n",
       "      <td>2015.5</td>\n",
       "      <td>NaN</td>\n",
       "      <td>Mineur en Management, technologie et entrepren...</td>\n",
       "      <td>NaN</td>\n",
       "      <td>2016.0</td>\n",
       "      <td>2016.5</td>\n",
       "      <td>NaN</td>\n",
       "    </tr>\n",
       "    <tr>\n",
       "      <th>103</th>\n",
       "      <td>Monsieur</td>\n",
       "      <td>Sarigiannis Dimitrios</td>\n",
       "      <td>256553</td>\n",
       "      <td>2015.5</td>\n",
       "      <td>Data Analytics</td>\n",
       "      <td>NaN</td>\n",
       "      <td>2016.0</td>\n",
       "      <td>2016.0</td>\n",
       "      <td>2016.5</td>\n",
       "      <td>NaN</td>\n",
       "    </tr>\n",
       "  </tbody>\n",
       "</table>\n",
       "</div>"
      ],
      "text/plain": [
       "          sex                     name  sciper  year_master1  \\\n",
       "13   Monsieur            Bosson Gaylor  223606        2015.5   \n",
       "15   Monsieur       Cerchierini Matias  212654        2015.5   \n",
       "18   Monsieur      Cotofrei Radu-Mihai  223566        2015.5   \n",
       "35   Monsieur         Fiszel Ruben Leo  216451        2015.5   \n",
       "45   Monsieur             Güzelhan Can  192219        2015.5   \n",
       "58   Monsieur       Kapp Hugo Stéphane  227942        2015.5   \n",
       "62   Monsieur        Kyritsis Georgios  255203        2015.5   \n",
       "63   Monsieur             Lahoud Fayez  254809        2015.5   \n",
       "102    Madame  Salathé Joanna Béatrice  217489        2015.5   \n",
       "103  Monsieur    Sarigiannis Dimitrios  256553        2015.5   \n",
       "\n",
       "                     specialisation  \\\n",
       "13               Internet computing   \n",
       "15          Foundations of Software   \n",
       "18   Signals, Images and Interfaces   \n",
       "35                              NaN   \n",
       "45                              NaN   \n",
       "58          Foundations of Software   \n",
       "62                              NaN   \n",
       "63   Signals, Images and Interfaces   \n",
       "102                             NaN   \n",
       "103                  Data Analytics   \n",
       "\n",
       "                                                mineur  year_master2_earliest  \\\n",
       "13                                                 NaN                 2016.0   \n",
       "15                                                 NaN                    NaN   \n",
       "18                                                 NaN                 2016.0   \n",
       "35                     Mineur en Ingénierie financière                 2016.0   \n",
       "45   Mineur en Management, technologie et entrepren...                    NaN   \n",
       "58                                                 NaN                 2016.0   \n",
       "62                     Mineur en Ingénierie financière                 2016.0   \n",
       "63                                                 NaN                 2016.0   \n",
       "102  Mineur en Management, technologie et entrepren...                    NaN   \n",
       "103                                                NaN                 2016.0   \n",
       "\n",
       "     year_master2_latest  year_master3  year_pdm  \n",
       "13                2016.0        2016.5       NaN  \n",
       "15                2016.0        2016.5       NaN  \n",
       "18                2016.0        2016.5       NaN  \n",
       "35                2016.0        2016.5       NaN  \n",
       "45                2016.0        2016.5       NaN  \n",
       "58                2016.0        2016.5       NaN  \n",
       "62                2016.0        2016.5       NaN  \n",
       "63                2016.0        2016.5       NaN  \n",
       "102               2016.0        2016.5       NaN  \n",
       "103               2016.0        2016.5       NaN  "
      ]
     },
     "execution_count": 60,
     "metadata": {},
     "output_type": "execute_result"
    }
   ],
   "source": [
    "#Students with a minor or specialisation\n",
    "students_s_m=master[~pd.isnull(master['specialisation']) | ~pd.isnull(master['mineur'])]\n",
    "#removing people that haven't done master 3\n",
    "students_s_m=students_s_m[~pd.isnull(students_s_m['year_master3'])]\n",
    "\n",
    "students_s_m.head(10)"
   ]
  },
  {
   "cell_type": "code",
   "execution_count": 61,
   "metadata": {
    "collapsed": true
   },
   "outputs": [],
   "source": [
    "#Rebinding the datframes\n",
    "students=students_s_m.append(students_no_s_m)\n",
    "\n"
   ]
  },
  {
   "cell_type": "markdown",
   "metadata": {},
   "source": [
    "Now we will compute in which year the student was first registered and was last. "
   ]
  },
  {
   "cell_type": "code",
   "execution_count": 62,
   "metadata": {
    "collapsed": false
   },
   "outputs": [],
   "source": [
    "#Year in which the student was registered first between master 1 and the earliest registration in master 2\n",
    "#assuming that if a student start his master in Spring he will be straight registered in master 2\n",
    "students['Beginning'] = students.loc[:, ['year_master1', 'year_master2_earliest']].min(axis=1)\n",
    "\n",
    "#Year in which the student was registered last between the latest registration in master 2, the\n",
    "#the registration in master 3 and the registration in Master thesis\n",
    "students['Ending'] = students.loc[:, ['year_master1', 'year_master2_latest', 'year_master3','year_pdm']].max(axis=1)\n",
    "\n"
   ]
  },
  {
   "cell_type": "markdown",
   "metadata": {},
   "source": [
    "Now we will get the difference between max and min"
   ]
  },
  {
   "cell_type": "code",
   "execution_count": 63,
   "metadata": {
    "collapsed": false,
    "scrolled": true
   },
   "outputs": [
    {
     "data": {
      "text/html": [
       "<div>\n",
       "<table border=\"1\" class=\"dataframe\">\n",
       "  <thead>\n",
       "    <tr style=\"text-align: right;\">\n",
       "      <th></th>\n",
       "      <th>sex</th>\n",
       "      <th>name</th>\n",
       "      <th>sciper</th>\n",
       "      <th>year_master1</th>\n",
       "      <th>specialisation</th>\n",
       "      <th>mineur</th>\n",
       "      <th>year_master2_earliest</th>\n",
       "      <th>year_master2_latest</th>\n",
       "      <th>year_master3</th>\n",
       "      <th>year_pdm</th>\n",
       "      <th>Beginning</th>\n",
       "      <th>Ending</th>\n",
       "      <th>Difference</th>\n",
       "    </tr>\n",
       "  </thead>\n",
       "  <tbody>\n",
       "    <tr>\n",
       "      <th>13</th>\n",
       "      <td>Monsieur</td>\n",
       "      <td>Bosson Gaylor</td>\n",
       "      <td>223606</td>\n",
       "      <td>2015.5</td>\n",
       "      <td>Internet computing</td>\n",
       "      <td>NaN</td>\n",
       "      <td>2016.0</td>\n",
       "      <td>2016.0</td>\n",
       "      <td>2016.5</td>\n",
       "      <td>NaN</td>\n",
       "      <td>2015.5</td>\n",
       "      <td>2016.5</td>\n",
       "      <td>1.0</td>\n",
       "    </tr>\n",
       "    <tr>\n",
       "      <th>15</th>\n",
       "      <td>Monsieur</td>\n",
       "      <td>Cerchierini Matias</td>\n",
       "      <td>212654</td>\n",
       "      <td>2015.5</td>\n",
       "      <td>Foundations of Software</td>\n",
       "      <td>NaN</td>\n",
       "      <td>NaN</td>\n",
       "      <td>2016.0</td>\n",
       "      <td>2016.5</td>\n",
       "      <td>NaN</td>\n",
       "      <td>2015.5</td>\n",
       "      <td>2016.5</td>\n",
       "      <td>1.0</td>\n",
       "    </tr>\n",
       "    <tr>\n",
       "      <th>18</th>\n",
       "      <td>Monsieur</td>\n",
       "      <td>Cotofrei Radu-Mihai</td>\n",
       "      <td>223566</td>\n",
       "      <td>2015.5</td>\n",
       "      <td>Signals, Images and Interfaces</td>\n",
       "      <td>NaN</td>\n",
       "      <td>2016.0</td>\n",
       "      <td>2016.0</td>\n",
       "      <td>2016.5</td>\n",
       "      <td>NaN</td>\n",
       "      <td>2015.5</td>\n",
       "      <td>2016.5</td>\n",
       "      <td>1.0</td>\n",
       "    </tr>\n",
       "    <tr>\n",
       "      <th>35</th>\n",
       "      <td>Monsieur</td>\n",
       "      <td>Fiszel Ruben Leo</td>\n",
       "      <td>216451</td>\n",
       "      <td>2015.5</td>\n",
       "      <td>NaN</td>\n",
       "      <td>Mineur en Ingénierie financière</td>\n",
       "      <td>2016.0</td>\n",
       "      <td>2016.0</td>\n",
       "      <td>2016.5</td>\n",
       "      <td>NaN</td>\n",
       "      <td>2015.5</td>\n",
       "      <td>2016.5</td>\n",
       "      <td>1.0</td>\n",
       "    </tr>\n",
       "    <tr>\n",
       "      <th>45</th>\n",
       "      <td>Monsieur</td>\n",
       "      <td>Güzelhan Can</td>\n",
       "      <td>192219</td>\n",
       "      <td>2015.5</td>\n",
       "      <td>NaN</td>\n",
       "      <td>Mineur en Management, technologie et entrepren...</td>\n",
       "      <td>NaN</td>\n",
       "      <td>2016.0</td>\n",
       "      <td>2016.5</td>\n",
       "      <td>NaN</td>\n",
       "      <td>2015.5</td>\n",
       "      <td>2016.5</td>\n",
       "      <td>1.0</td>\n",
       "    </tr>\n",
       "    <tr>\n",
       "      <th>58</th>\n",
       "      <td>Monsieur</td>\n",
       "      <td>Kapp Hugo Stéphane</td>\n",
       "      <td>227942</td>\n",
       "      <td>2015.5</td>\n",
       "      <td>Foundations of Software</td>\n",
       "      <td>NaN</td>\n",
       "      <td>2016.0</td>\n",
       "      <td>2016.0</td>\n",
       "      <td>2016.5</td>\n",
       "      <td>NaN</td>\n",
       "      <td>2015.5</td>\n",
       "      <td>2016.5</td>\n",
       "      <td>1.0</td>\n",
       "    </tr>\n",
       "    <tr>\n",
       "      <th>62</th>\n",
       "      <td>Monsieur</td>\n",
       "      <td>Kyritsis Georgios</td>\n",
       "      <td>255203</td>\n",
       "      <td>2015.5</td>\n",
       "      <td>NaN</td>\n",
       "      <td>Mineur en Ingénierie financière</td>\n",
       "      <td>2016.0</td>\n",
       "      <td>2016.0</td>\n",
       "      <td>2016.5</td>\n",
       "      <td>NaN</td>\n",
       "      <td>2015.5</td>\n",
       "      <td>2016.5</td>\n",
       "      <td>1.0</td>\n",
       "    </tr>\n",
       "    <tr>\n",
       "      <th>63</th>\n",
       "      <td>Monsieur</td>\n",
       "      <td>Lahoud Fayez</td>\n",
       "      <td>254809</td>\n",
       "      <td>2015.5</td>\n",
       "      <td>Signals, Images and Interfaces</td>\n",
       "      <td>NaN</td>\n",
       "      <td>2016.0</td>\n",
       "      <td>2016.0</td>\n",
       "      <td>2016.5</td>\n",
       "      <td>NaN</td>\n",
       "      <td>2015.5</td>\n",
       "      <td>2016.5</td>\n",
       "      <td>1.0</td>\n",
       "    </tr>\n",
       "    <tr>\n",
       "      <th>102</th>\n",
       "      <td>Madame</td>\n",
       "      <td>Salathé Joanna Béatrice</td>\n",
       "      <td>217489</td>\n",
       "      <td>2015.5</td>\n",
       "      <td>NaN</td>\n",
       "      <td>Mineur en Management, technologie et entrepren...</td>\n",
       "      <td>NaN</td>\n",
       "      <td>2016.0</td>\n",
       "      <td>2016.5</td>\n",
       "      <td>NaN</td>\n",
       "      <td>2015.5</td>\n",
       "      <td>2016.5</td>\n",
       "      <td>1.0</td>\n",
       "    </tr>\n",
       "    <tr>\n",
       "      <th>103</th>\n",
       "      <td>Monsieur</td>\n",
       "      <td>Sarigiannis Dimitrios</td>\n",
       "      <td>256553</td>\n",
       "      <td>2015.5</td>\n",
       "      <td>Data Analytics</td>\n",
       "      <td>NaN</td>\n",
       "      <td>2016.0</td>\n",
       "      <td>2016.0</td>\n",
       "      <td>2016.5</td>\n",
       "      <td>NaN</td>\n",
       "      <td>2015.5</td>\n",
       "      <td>2016.5</td>\n",
       "      <td>1.0</td>\n",
       "    </tr>\n",
       "  </tbody>\n",
       "</table>\n",
       "</div>"
      ],
      "text/plain": [
       "          sex                     name  sciper  year_master1  \\\n",
       "13   Monsieur            Bosson Gaylor  223606        2015.5   \n",
       "15   Monsieur       Cerchierini Matias  212654        2015.5   \n",
       "18   Monsieur      Cotofrei Radu-Mihai  223566        2015.5   \n",
       "35   Monsieur         Fiszel Ruben Leo  216451        2015.5   \n",
       "45   Monsieur             Güzelhan Can  192219        2015.5   \n",
       "58   Monsieur       Kapp Hugo Stéphane  227942        2015.5   \n",
       "62   Monsieur        Kyritsis Georgios  255203        2015.5   \n",
       "63   Monsieur             Lahoud Fayez  254809        2015.5   \n",
       "102    Madame  Salathé Joanna Béatrice  217489        2015.5   \n",
       "103  Monsieur    Sarigiannis Dimitrios  256553        2015.5   \n",
       "\n",
       "                     specialisation  \\\n",
       "13               Internet computing   \n",
       "15          Foundations of Software   \n",
       "18   Signals, Images and Interfaces   \n",
       "35                              NaN   \n",
       "45                              NaN   \n",
       "58          Foundations of Software   \n",
       "62                              NaN   \n",
       "63   Signals, Images and Interfaces   \n",
       "102                             NaN   \n",
       "103                  Data Analytics   \n",
       "\n",
       "                                                mineur  year_master2_earliest  \\\n",
       "13                                                 NaN                 2016.0   \n",
       "15                                                 NaN                    NaN   \n",
       "18                                                 NaN                 2016.0   \n",
       "35                     Mineur en Ingénierie financière                 2016.0   \n",
       "45   Mineur en Management, technologie et entrepren...                    NaN   \n",
       "58                                                 NaN                 2016.0   \n",
       "62                     Mineur en Ingénierie financière                 2016.0   \n",
       "63                                                 NaN                 2016.0   \n",
       "102  Mineur en Management, technologie et entrepren...                    NaN   \n",
       "103                                                NaN                 2016.0   \n",
       "\n",
       "     year_master2_latest  year_master3  year_pdm  Beginning  Ending  \\\n",
       "13                2016.0        2016.5       NaN     2015.5  2016.5   \n",
       "15                2016.0        2016.5       NaN     2015.5  2016.5   \n",
       "18                2016.0        2016.5       NaN     2015.5  2016.5   \n",
       "35                2016.0        2016.5       NaN     2015.5  2016.5   \n",
       "45                2016.0        2016.5       NaN     2015.5  2016.5   \n",
       "58                2016.0        2016.5       NaN     2015.5  2016.5   \n",
       "62                2016.0        2016.5       NaN     2015.5  2016.5   \n",
       "63                2016.0        2016.5       NaN     2015.5  2016.5   \n",
       "102               2016.0        2016.5       NaN     2015.5  2016.5   \n",
       "103               2016.0        2016.5       NaN     2015.5  2016.5   \n",
       "\n",
       "     Difference  \n",
       "13          1.0  \n",
       "15          1.0  \n",
       "18          1.0  \n",
       "35          1.0  \n",
       "45          1.0  \n",
       "58          1.0  \n",
       "62          1.0  \n",
       "63          1.0  \n",
       "102         1.0  \n",
       "103         1.0  "
      ]
     },
     "execution_count": 63,
     "metadata": {},
     "output_type": "execute_result"
    }
   ],
   "source": [
    "students['Difference'] = students['Ending']-students['Beginning']\n",
    "students.head(10)\n"
   ]
  },
  {
   "cell_type": "markdown",
   "metadata": {},
   "source": [
    "Now we will remove all the students that have a difference of 0 which means that they spend only one semester at epfl which is not enough to have a master degree.  Therefore the only condition that will be used to affirm that a student that has no specialiation or minor had pass its master is that he did at least two semesters.\n",
    "\n",
    "And for students having a specialisation the ones that did less than 3 semester and therefore have for now a difference of less than 1 will be removed. It is a difference of 1 now because the registration for the master thesis is often missing and that the difference between the beginning of the semesters have been done. So for someone that has done 3 semesters in 2008, 2008.5 and 2009, the difference computed will be 1. Even if he did 3 semesters."
   ]
  },
  {
   "cell_type": "code",
   "execution_count": 64,
   "metadata": {
    "collapsed": false
   },
   "outputs": [
    {
     "data": {
      "text/html": [
       "<div>\n",
       "<table border=\"1\" class=\"dataframe\">\n",
       "  <thead>\n",
       "    <tr style=\"text-align: right;\">\n",
       "      <th></th>\n",
       "      <th>sex</th>\n",
       "      <th>name</th>\n",
       "      <th>sciper</th>\n",
       "      <th>year_master1</th>\n",
       "      <th>specialisation</th>\n",
       "      <th>mineur</th>\n",
       "      <th>year_master2_earliest</th>\n",
       "      <th>year_master2_latest</th>\n",
       "      <th>year_master3</th>\n",
       "      <th>year_pdm</th>\n",
       "      <th>Beginning</th>\n",
       "      <th>Ending</th>\n",
       "      <th>Difference</th>\n",
       "    </tr>\n",
       "  </thead>\n",
       "  <tbody>\n",
       "    <tr>\n",
       "      <th>13</th>\n",
       "      <td>Monsieur</td>\n",
       "      <td>Bosson Gaylor</td>\n",
       "      <td>223606</td>\n",
       "      <td>2015.5</td>\n",
       "      <td>Internet computing</td>\n",
       "      <td>NaN</td>\n",
       "      <td>2016.0</td>\n",
       "      <td>2016.0</td>\n",
       "      <td>2016.5</td>\n",
       "      <td>NaN</td>\n",
       "      <td>2015.5</td>\n",
       "      <td>2016.5</td>\n",
       "      <td>1.0</td>\n",
       "    </tr>\n",
       "    <tr>\n",
       "      <th>15</th>\n",
       "      <td>Monsieur</td>\n",
       "      <td>Cerchierini Matias</td>\n",
       "      <td>212654</td>\n",
       "      <td>2015.5</td>\n",
       "      <td>Foundations of Software</td>\n",
       "      <td>NaN</td>\n",
       "      <td>NaN</td>\n",
       "      <td>2016.0</td>\n",
       "      <td>2016.5</td>\n",
       "      <td>NaN</td>\n",
       "      <td>2015.5</td>\n",
       "      <td>2016.5</td>\n",
       "      <td>1.0</td>\n",
       "    </tr>\n",
       "    <tr>\n",
       "      <th>18</th>\n",
       "      <td>Monsieur</td>\n",
       "      <td>Cotofrei Radu-Mihai</td>\n",
       "      <td>223566</td>\n",
       "      <td>2015.5</td>\n",
       "      <td>Signals, Images and Interfaces</td>\n",
       "      <td>NaN</td>\n",
       "      <td>2016.0</td>\n",
       "      <td>2016.0</td>\n",
       "      <td>2016.5</td>\n",
       "      <td>NaN</td>\n",
       "      <td>2015.5</td>\n",
       "      <td>2016.5</td>\n",
       "      <td>1.0</td>\n",
       "    </tr>\n",
       "    <tr>\n",
       "      <th>58</th>\n",
       "      <td>Monsieur</td>\n",
       "      <td>Kapp Hugo Stéphane</td>\n",
       "      <td>227942</td>\n",
       "      <td>2015.5</td>\n",
       "      <td>Foundations of Software</td>\n",
       "      <td>NaN</td>\n",
       "      <td>2016.0</td>\n",
       "      <td>2016.0</td>\n",
       "      <td>2016.5</td>\n",
       "      <td>NaN</td>\n",
       "      <td>2015.5</td>\n",
       "      <td>2016.5</td>\n",
       "      <td>1.0</td>\n",
       "    </tr>\n",
       "    <tr>\n",
       "      <th>63</th>\n",
       "      <td>Monsieur</td>\n",
       "      <td>Lahoud Fayez</td>\n",
       "      <td>254809</td>\n",
       "      <td>2015.5</td>\n",
       "      <td>Signals, Images and Interfaces</td>\n",
       "      <td>NaN</td>\n",
       "      <td>2016.0</td>\n",
       "      <td>2016.0</td>\n",
       "      <td>2016.5</td>\n",
       "      <td>NaN</td>\n",
       "      <td>2015.5</td>\n",
       "      <td>2016.5</td>\n",
       "      <td>1.0</td>\n",
       "    </tr>\n",
       "    <tr>\n",
       "      <th>103</th>\n",
       "      <td>Monsieur</td>\n",
       "      <td>Sarigiannis Dimitrios</td>\n",
       "      <td>256553</td>\n",
       "      <td>2015.5</td>\n",
       "      <td>Data Analytics</td>\n",
       "      <td>NaN</td>\n",
       "      <td>2016.0</td>\n",
       "      <td>2016.0</td>\n",
       "      <td>2016.5</td>\n",
       "      <td>NaN</td>\n",
       "      <td>2015.5</td>\n",
       "      <td>2016.5</td>\n",
       "      <td>1.0</td>\n",
       "    </tr>\n",
       "    <tr>\n",
       "      <th>135</th>\n",
       "      <td>Monsieur</td>\n",
       "      <td>Bovet Sidney</td>\n",
       "      <td>214637</td>\n",
       "      <td>2014.5</td>\n",
       "      <td>Internet computing</td>\n",
       "      <td>NaN</td>\n",
       "      <td>2015.0</td>\n",
       "      <td>NaN</td>\n",
       "      <td>2015.5</td>\n",
       "      <td>NaN</td>\n",
       "      <td>2014.5</td>\n",
       "      <td>2015.5</td>\n",
       "      <td>1.0</td>\n",
       "    </tr>\n",
       "    <tr>\n",
       "      <th>155</th>\n",
       "      <td>Monsieur</td>\n",
       "      <td>Engilberge Martin Pierre</td>\n",
       "      <td>212790</td>\n",
       "      <td>2014.5</td>\n",
       "      <td>Internet computing</td>\n",
       "      <td>NaN</td>\n",
       "      <td>2015.0</td>\n",
       "      <td>2016.0</td>\n",
       "      <td>2015.5</td>\n",
       "      <td>2016.5</td>\n",
       "      <td>2014.5</td>\n",
       "      <td>2016.5</td>\n",
       "      <td>2.0</td>\n",
       "    </tr>\n",
       "    <tr>\n",
       "      <th>161</th>\n",
       "      <td>Monsieur</td>\n",
       "      <td>Gaspoz John</td>\n",
       "      <td>212859</td>\n",
       "      <td>2014.5</td>\n",
       "      <td>Information Security - SP</td>\n",
       "      <td>NaN</td>\n",
       "      <td>2015.0</td>\n",
       "      <td>2016.0</td>\n",
       "      <td>2015.5</td>\n",
       "      <td>2016.5</td>\n",
       "      <td>2014.5</td>\n",
       "      <td>2016.5</td>\n",
       "      <td>2.0</td>\n",
       "    </tr>\n",
       "    <tr>\n",
       "      <th>162</th>\n",
       "      <td>Monsieur</td>\n",
       "      <td>Geirsson Ólafur Páll</td>\n",
       "      <td>245047</td>\n",
       "      <td>2014.5</td>\n",
       "      <td>Internet computing</td>\n",
       "      <td>NaN</td>\n",
       "      <td>2015.0</td>\n",
       "      <td>2015.0</td>\n",
       "      <td>2015.5</td>\n",
       "      <td>NaN</td>\n",
       "      <td>2014.5</td>\n",
       "      <td>2015.5</td>\n",
       "      <td>1.0</td>\n",
       "    </tr>\n",
       "  </tbody>\n",
       "</table>\n",
       "</div>"
      ],
      "text/plain": [
       "          sex                      name  sciper  year_master1  \\\n",
       "13   Monsieur             Bosson Gaylor  223606        2015.5   \n",
       "15   Monsieur        Cerchierini Matias  212654        2015.5   \n",
       "18   Monsieur       Cotofrei Radu-Mihai  223566        2015.5   \n",
       "58   Monsieur        Kapp Hugo Stéphane  227942        2015.5   \n",
       "63   Monsieur              Lahoud Fayez  254809        2015.5   \n",
       "103  Monsieur     Sarigiannis Dimitrios  256553        2015.5   \n",
       "135  Monsieur              Bovet Sidney  214637        2014.5   \n",
       "155  Monsieur  Engilberge Martin Pierre  212790        2014.5   \n",
       "161  Monsieur               Gaspoz John  212859        2014.5   \n",
       "162  Monsieur      Geirsson Ólafur Páll  245047        2014.5   \n",
       "\n",
       "                     specialisation mineur  year_master2_earliest  \\\n",
       "13               Internet computing    NaN                 2016.0   \n",
       "15          Foundations of Software    NaN                    NaN   \n",
       "18   Signals, Images and Interfaces    NaN                 2016.0   \n",
       "58          Foundations of Software    NaN                 2016.0   \n",
       "63   Signals, Images and Interfaces    NaN                 2016.0   \n",
       "103                  Data Analytics    NaN                 2016.0   \n",
       "135              Internet computing    NaN                 2015.0   \n",
       "155              Internet computing    NaN                 2015.0   \n",
       "161       Information Security - SP    NaN                 2015.0   \n",
       "162              Internet computing    NaN                 2015.0   \n",
       "\n",
       "     year_master2_latest  year_master3  year_pdm  Beginning  Ending  \\\n",
       "13                2016.0        2016.5       NaN     2015.5  2016.5   \n",
       "15                2016.0        2016.5       NaN     2015.5  2016.5   \n",
       "18                2016.0        2016.5       NaN     2015.5  2016.5   \n",
       "58                2016.0        2016.5       NaN     2015.5  2016.5   \n",
       "63                2016.0        2016.5       NaN     2015.5  2016.5   \n",
       "103               2016.0        2016.5       NaN     2015.5  2016.5   \n",
       "135                  NaN        2015.5       NaN     2014.5  2015.5   \n",
       "155               2016.0        2015.5    2016.5     2014.5  2016.5   \n",
       "161               2016.0        2015.5    2016.5     2014.5  2016.5   \n",
       "162               2015.0        2015.5       NaN     2014.5  2015.5   \n",
       "\n",
       "     Difference  \n",
       "13          1.0  \n",
       "15          1.0  \n",
       "18          1.0  \n",
       "58          1.0  \n",
       "63          1.0  \n",
       "103         1.0  \n",
       "135         1.0  \n",
       "155         2.0  \n",
       "161         2.0  \n",
       "162         1.0  "
      ]
     },
     "execution_count": 64,
     "metadata": {},
     "output_type": "execute_result"
    }
   ],
   "source": [
    "students_1=students[((students['Difference'])>=1)&( ~pd.isnull(students['specialisation']))]\n",
    "students_2=students[pd.isnull(students['specialisation']) & (students['Difference'])>0]\n",
    "\n",
    "students=students_1.append(students_2)\n",
    "\n",
    "\n",
    "students.head(10)"
   ]
  },
  {
   "cell_type": "markdown",
   "metadata": {},
   "source": [
    "Now we should remove students that have not been registered neither in master 1, neither in Master 3 or in the thesis. Because that would mean that there are still into our dataset because they did master 2 twice which is not good enough to have a master."
   ]
  },
  {
   "cell_type": "code",
   "execution_count": 65,
   "metadata": {
    "collapsed": false
   },
   "outputs": [
    {
     "data": {
      "text/plain": [
       "sex                      668\n",
       "name                     668\n",
       "sciper                   668\n",
       "year_master1             559\n",
       "specialisation           112\n",
       "mineur                    64\n",
       "year_master2_earliest    657\n",
       "year_master2_latest      656\n",
       "year_master3             458\n",
       "year_pdm                 104\n",
       "Beginning                668\n",
       "Ending                   668\n",
       "Difference               668\n",
       "dtype: int64"
      ]
     },
     "execution_count": 65,
     "metadata": {},
     "output_type": "execute_result"
    }
   ],
   "source": [
    "students=students[~pd.isnull(students['year_master1'])|~pd.isnull(students['year_pdm'])|~pd.isnull(students['year_master3'])]\n",
    "students.count()\n",
    "#There was one student that only did twice master 2!"
   ]
  },
  {
   "cell_type": "markdown",
   "metadata": {},
   "source": [
    "Now we will add 0.5 to all the studends that have not been registered to a master thesis, assuming that they \n",
    "have not been registered but that they did it somewhere anyway.\n",
    "\n",
    "We will also add 0.5 year to everyone because for now we computed the difference between beginning of the semester, so there are an extras 6 months to finish the last semester started."
   ]
  },
  {
   "cell_type": "code",
   "execution_count": 66,
   "metadata": {
    "collapsed": false
   },
   "outputs": [
    {
     "name": "stderr",
     "output_type": "stream",
     "text": [
      "C:\\Users\\Mathieu\\Anaconda3\\lib\\site-packages\\ipykernel\\__main__.py:7: SettingWithCopyWarning: \n",
      "A value is trying to be set on a copy of a slice from a DataFrame.\n",
      "Try using .loc[row_indexer,col_indexer] = value instead\n",
      "\n",
      "See the caveats in the documentation: http://pandas.pydata.org/pandas-docs/stable/indexing.html#indexing-view-versus-copy\n"
     ]
    }
   ],
   "source": [
    "students['Time of stay']=students['Difference']+0.5\n",
    "students['Time of stay']\n",
    "\n",
    "df1=students[~pd.isnull(students['year_pdm'])]\n",
    "df2=students[pd.isnull(students['year_pdm'])]\n",
    "\n",
    "df2['Time of stay']=df2['Time of stay']+0.5\n",
    "\n",
    "students_1=df1.append(df2)\n",
    "\n"
   ]
  },
  {
   "cell_type": "markdown",
   "metadata": {},
   "source": [
    "Finally we will only keep useful columns from the dataframe"
   ]
  },
  {
   "cell_type": "code",
   "execution_count": 67,
   "metadata": {
    "collapsed": false
   },
   "outputs": [
    {
     "data": {
      "text/html": [
       "<div>\n",
       "<table border=\"1\" class=\"dataframe\">\n",
       "  <thead>\n",
       "    <tr style=\"text-align: right;\">\n",
       "      <th></th>\n",
       "      <th>sex</th>\n",
       "      <th>name</th>\n",
       "      <th>sciper</th>\n",
       "      <th>specialisation</th>\n",
       "      <th>mineur</th>\n",
       "      <th>Beginning</th>\n",
       "      <th>Time of stay</th>\n",
       "    </tr>\n",
       "  </thead>\n",
       "  <tbody>\n",
       "    <tr>\n",
       "      <th>155</th>\n",
       "      <td>Monsieur</td>\n",
       "      <td>Engilberge Martin Pierre</td>\n",
       "      <td>212790</td>\n",
       "      <td>Internet computing</td>\n",
       "      <td>NaN</td>\n",
       "      <td>2014.5</td>\n",
       "      <td>2.5</td>\n",
       "    </tr>\n",
       "    <tr>\n",
       "      <th>161</th>\n",
       "      <td>Monsieur</td>\n",
       "      <td>Gaspoz John</td>\n",
       "      <td>212859</td>\n",
       "      <td>Information Security - SP</td>\n",
       "      <td>NaN</td>\n",
       "      <td>2014.5</td>\n",
       "      <td>2.5</td>\n",
       "    </tr>\n",
       "    <tr>\n",
       "      <th>195</th>\n",
       "      <td>Monsieur</td>\n",
       "      <td>Piskas Georgios</td>\n",
       "      <td>244587</td>\n",
       "      <td>Software Systems</td>\n",
       "      <td>NaN</td>\n",
       "      <td>2014.5</td>\n",
       "      <td>2.5</td>\n",
       "    </tr>\n",
       "    <tr>\n",
       "      <th>205</th>\n",
       "      <td>Monsieur</td>\n",
       "      <td>Schegg Elias</td>\n",
       "      <td>195675</td>\n",
       "      <td>Internet computing</td>\n",
       "      <td>NaN</td>\n",
       "      <td>2014.5</td>\n",
       "      <td>2.5</td>\n",
       "    </tr>\n",
       "    <tr>\n",
       "      <th>210</th>\n",
       "      <td>Monsieur</td>\n",
       "      <td>Valette Laurent Michel</td>\n",
       "      <td>205864</td>\n",
       "      <td>Software Systems</td>\n",
       "      <td>NaN</td>\n",
       "      <td>2014.5</td>\n",
       "      <td>2.5</td>\n",
       "    </tr>\n",
       "    <tr>\n",
       "      <th>238</th>\n",
       "      <td>Monsieur</td>\n",
       "      <td>Campora Simone</td>\n",
       "      <td>180072</td>\n",
       "      <td>Internet computing</td>\n",
       "      <td>NaN</td>\n",
       "      <td>2007.5</td>\n",
       "      <td>2.0</td>\n",
       "    </tr>\n",
       "    <tr>\n",
       "      <th>257</th>\n",
       "      <td>Monsieur</td>\n",
       "      <td>Hofer Thomas</td>\n",
       "      <td>165819</td>\n",
       "      <td>Foundations of Software</td>\n",
       "      <td>NaN</td>\n",
       "      <td>2007.5</td>\n",
       "      <td>2.0</td>\n",
       "    </tr>\n",
       "    <tr>\n",
       "      <th>275</th>\n",
       "      <td>Monsieur</td>\n",
       "      <td>Muriel Hugo Marcelo</td>\n",
       "      <td>179878</td>\n",
       "      <td>Internet computing</td>\n",
       "      <td>NaN</td>\n",
       "      <td>2007.5</td>\n",
       "      <td>2.0</td>\n",
       "    </tr>\n",
       "    <tr>\n",
       "      <th>463</th>\n",
       "      <td>Monsieur</td>\n",
       "      <td>Bricola Jean-Charles</td>\n",
       "      <td>180731</td>\n",
       "      <td>Signals, Images and Interfaces</td>\n",
       "      <td>NaN</td>\n",
       "      <td>2010.5</td>\n",
       "      <td>2.0</td>\n",
       "    </tr>\n",
       "    <tr>\n",
       "      <th>953</th>\n",
       "      <td>Monsieur</td>\n",
       "      <td>Duhem Martin Nicolas</td>\n",
       "      <td>214632</td>\n",
       "      <td>Foundations of Software</td>\n",
       "      <td>NaN</td>\n",
       "      <td>2015.0</td>\n",
       "      <td>2.0</td>\n",
       "    </tr>\n",
       "  </tbody>\n",
       "</table>\n",
       "</div>"
      ],
      "text/plain": [
       "          sex                      name  sciper  \\\n",
       "155  Monsieur  Engilberge Martin Pierre  212790   \n",
       "161  Monsieur               Gaspoz John  212859   \n",
       "195  Monsieur           Piskas Georgios  244587   \n",
       "205  Monsieur              Schegg Elias  195675   \n",
       "210  Monsieur    Valette Laurent Michel  205864   \n",
       "238  Monsieur            Campora Simone  180072   \n",
       "257  Monsieur              Hofer Thomas  165819   \n",
       "275  Monsieur       Muriel Hugo Marcelo  179878   \n",
       "463  Monsieur      Bricola Jean-Charles  180731   \n",
       "953  Monsieur      Duhem Martin Nicolas  214632   \n",
       "\n",
       "                     specialisation mineur  Beginning  Time of stay  \n",
       "155              Internet computing    NaN     2014.5           2.5  \n",
       "161       Information Security - SP    NaN     2014.5           2.5  \n",
       "195                Software Systems    NaN     2014.5           2.5  \n",
       "205              Internet computing    NaN     2014.5           2.5  \n",
       "210                Software Systems    NaN     2014.5           2.5  \n",
       "238              Internet computing    NaN     2007.5           2.0  \n",
       "257         Foundations of Software    NaN     2007.5           2.0  \n",
       "275              Internet computing    NaN     2007.5           2.0  \n",
       "463  Signals, Images and Interfaces    NaN     2010.5           2.0  \n",
       "953         Foundations of Software    NaN     2015.0           2.0  "
      ]
     },
     "execution_count": 67,
     "metadata": {},
     "output_type": "execute_result"
    }
   ],
   "source": [
    "students=students_1[['sex', 'name','sciper','specialisation','mineur','Beginning','Time of stay']]\n",
    "students.head(10)"
   ]
  },
  {
   "cell_type": "markdown",
   "metadata": {},
   "source": [
    "## Data analysis"
   ]
  },
  {
   "cell_type": "markdown",
   "metadata": {},
   "source": [
    "### All students data"
   ]
  },
  {
   "cell_type": "code",
   "execution_count": 68,
   "metadata": {
    "collapsed": false
   },
   "outputs": [
    {
     "data": {
      "text/plain": [
       "<matplotlib.axes._subplots.AxesSubplot at 0x210ab567f28>"
      ]
     },
     "execution_count": 68,
     "metadata": {},
     "output_type": "execute_result"
    },
    {
     "data": {
      "image/png": "[encoded data removed]",
      "text/plain": [
       "<matplotlib.figure.Figure at 0x210ab527d30>"
      ]
     },
     "metadata": {},
     "output_type": "display_data"
    }
   ],
   "source": [
    "students['Time of stay'].hist()"
   ]
  },
  {
   "cell_type": "markdown",
   "metadata": {},
   "source": [
    "Most of the student finished their master in 1.5 to 2.5 years, a few in more than that."
   ]
  },
  {
   "cell_type": "code",
   "execution_count": 69,
   "metadata": {
    "collapsed": false
   },
   "outputs": [
    {
     "data": {
      "text/plain": [
       "count    668.000000\n",
       "mean       1.989521\n",
       "std        0.452258\n",
       "min        1.500000\n",
       "25%        1.500000\n",
       "50%        2.000000\n",
       "75%        2.000000\n",
       "max        5.000000\n",
       "Name: Time of stay, dtype: float64"
      ]
     },
     "execution_count": 69,
     "metadata": {},
     "output_type": "execute_result"
    }
   ],
   "source": [
    "students['Time of stay'].describe()"
   ]
  },
  {
   "cell_type": "markdown",
   "metadata": {},
   "source": [
    "We have an average of 1.98 years for a master, the minimum is of 1.5 as expected. We have a student that took five years to complete his master, let's look if the data is coherent."
   ]
  },
  {
   "cell_type": "code",
   "execution_count": 70,
   "metadata": {
    "collapsed": false
   },
   "outputs": [
    {
     "data": {
      "text/html": [
       "<div>\n",
       "<table border=\"1\" class=\"dataframe\">\n",
       "  <thead>\n",
       "    <tr style=\"text-align: right;\">\n",
       "      <th></th>\n",
       "      <th>sex</th>\n",
       "      <th>name</th>\n",
       "      <th>sciper</th>\n",
       "      <th>year_master1</th>\n",
       "      <th>specialisation</th>\n",
       "      <th>mineur</th>\n",
       "      <th>year_master2_earliest</th>\n",
       "      <th>year_master2_latest</th>\n",
       "      <th>year_master3</th>\n",
       "      <th>year_pdm</th>\n",
       "      <th>Beginning</th>\n",
       "      <th>Ending</th>\n",
       "      <th>Difference</th>\n",
       "      <th>Time of stay</th>\n",
       "    </tr>\n",
       "  </thead>\n",
       "  <tbody>\n",
       "    <tr>\n",
       "      <th>331</th>\n",
       "      <td>Monsieur</td>\n",
       "      <td>Marx Clément</td>\n",
       "      <td>146742</td>\n",
       "      <td>2008.5</td>\n",
       "      <td>Signals, Images and Interfaces</td>\n",
       "      <td>NaN</td>\n",
       "      <td>2009.0</td>\n",
       "      <td>2010.0</td>\n",
       "      <td>2012.5</td>\n",
       "      <td>NaN</td>\n",
       "      <td>2008.5</td>\n",
       "      <td>2012.5</td>\n",
       "      <td>4.0</td>\n",
       "      <td>5.0</td>\n",
       "    </tr>\n",
       "  </tbody>\n",
       "</table>\n",
       "</div>"
      ],
      "text/plain": [
       "          sex          name  sciper  year_master1  \\\n",
       "331  Monsieur  Marx Clément  146742        2008.5   \n",
       "\n",
       "                     specialisation mineur  year_master2_earliest  \\\n",
       "331  Signals, Images and Interfaces    NaN                 2009.0   \n",
       "\n",
       "     year_master2_latest  year_master3  year_pdm  Beginning  Ending  \\\n",
       "331               2010.0        2012.5       NaN     2008.5  2012.5   \n",
       "\n",
       "     Difference  Time of stay  \n",
       "331         4.0           5.0  "
      ]
     },
     "execution_count": 70,
     "metadata": {},
     "output_type": "execute_result"
    }
   ],
   "source": [
    "students_1[(students_1['Time of stay']==5)]\n",
    "\n"
   ]
  },
  {
   "cell_type": "markdown",
   "metadata": {},
   "source": [
    "Clément Marx seemed to have started his master in September 2008, did two semesters then stopped, started again for one semester and did his second semester in January 2009. Then he stopped for two years and finally did his last semester (master 3) in automn 2012, and we assume that he then directly did his master thesis"
   ]
  },
  {
   "cell_type": "markdown",
   "metadata": {},
   "source": [
    "### Specialisation data"
   ]
  },
  {
   "cell_type": "markdown",
   "metadata": {},
   "source": [
    "Let's first keep only student with a specialisation"
   ]
  },
  {
   "cell_type": "code",
   "execution_count": 71,
   "metadata": {
    "collapsed": false
   },
   "outputs": [
    {
     "data": {
      "text/html": [
       "<div>\n",
       "<table border=\"1\" class=\"dataframe\">\n",
       "  <thead>\n",
       "    <tr style=\"text-align: right;\">\n",
       "      <th></th>\n",
       "      <th>sex</th>\n",
       "      <th>name</th>\n",
       "      <th>sciper</th>\n",
       "      <th>specialisation</th>\n",
       "      <th>mineur</th>\n",
       "      <th>Beginning</th>\n",
       "      <th>Time of stay</th>\n",
       "    </tr>\n",
       "  </thead>\n",
       "  <tbody>\n",
       "    <tr>\n",
       "      <th>155</th>\n",
       "      <td>Monsieur</td>\n",
       "      <td>Engilberge Martin Pierre</td>\n",
       "      <td>212790</td>\n",
       "      <td>Internet computing</td>\n",
       "      <td>NaN</td>\n",
       "      <td>2014.5</td>\n",
       "      <td>2.5</td>\n",
       "    </tr>\n",
       "    <tr>\n",
       "      <th>161</th>\n",
       "      <td>Monsieur</td>\n",
       "      <td>Gaspoz John</td>\n",
       "      <td>212859</td>\n",
       "      <td>Information Security - SP</td>\n",
       "      <td>NaN</td>\n",
       "      <td>2014.5</td>\n",
       "      <td>2.5</td>\n",
       "    </tr>\n",
       "    <tr>\n",
       "      <th>195</th>\n",
       "      <td>Monsieur</td>\n",
       "      <td>Piskas Georgios</td>\n",
       "      <td>244587</td>\n",
       "      <td>Software Systems</td>\n",
       "      <td>NaN</td>\n",
       "      <td>2014.5</td>\n",
       "      <td>2.5</td>\n",
       "    </tr>\n",
       "    <tr>\n",
       "      <th>205</th>\n",
       "      <td>Monsieur</td>\n",
       "      <td>Schegg Elias</td>\n",
       "      <td>195675</td>\n",
       "      <td>Internet computing</td>\n",
       "      <td>NaN</td>\n",
       "      <td>2014.5</td>\n",
       "      <td>2.5</td>\n",
       "    </tr>\n",
       "    <tr>\n",
       "      <th>210</th>\n",
       "      <td>Monsieur</td>\n",
       "      <td>Valette Laurent Michel</td>\n",
       "      <td>205864</td>\n",
       "      <td>Software Systems</td>\n",
       "      <td>NaN</td>\n",
       "      <td>2014.5</td>\n",
       "      <td>2.5</td>\n",
       "    </tr>\n",
       "    <tr>\n",
       "      <th>238</th>\n",
       "      <td>Monsieur</td>\n",
       "      <td>Campora Simone</td>\n",
       "      <td>180072</td>\n",
       "      <td>Internet computing</td>\n",
       "      <td>NaN</td>\n",
       "      <td>2007.5</td>\n",
       "      <td>2.0</td>\n",
       "    </tr>\n",
       "    <tr>\n",
       "      <th>257</th>\n",
       "      <td>Monsieur</td>\n",
       "      <td>Hofer Thomas</td>\n",
       "      <td>165819</td>\n",
       "      <td>Foundations of Software</td>\n",
       "      <td>NaN</td>\n",
       "      <td>2007.5</td>\n",
       "      <td>2.0</td>\n",
       "    </tr>\n",
       "    <tr>\n",
       "      <th>275</th>\n",
       "      <td>Monsieur</td>\n",
       "      <td>Muriel Hugo Marcelo</td>\n",
       "      <td>179878</td>\n",
       "      <td>Internet computing</td>\n",
       "      <td>NaN</td>\n",
       "      <td>2007.5</td>\n",
       "      <td>2.0</td>\n",
       "    </tr>\n",
       "    <tr>\n",
       "      <th>463</th>\n",
       "      <td>Monsieur</td>\n",
       "      <td>Bricola Jean-Charles</td>\n",
       "      <td>180731</td>\n",
       "      <td>Signals, Images and Interfaces</td>\n",
       "      <td>NaN</td>\n",
       "      <td>2010.5</td>\n",
       "      <td>2.0</td>\n",
       "    </tr>\n",
       "    <tr>\n",
       "      <th>953</th>\n",
       "      <td>Monsieur</td>\n",
       "      <td>Duhem Martin Nicolas</td>\n",
       "      <td>214632</td>\n",
       "      <td>Foundations of Software</td>\n",
       "      <td>NaN</td>\n",
       "      <td>2015.0</td>\n",
       "      <td>2.0</td>\n",
       "    </tr>\n",
       "  </tbody>\n",
       "</table>\n",
       "</div>"
      ],
      "text/plain": [
       "          sex                      name  sciper  \\\n",
       "155  Monsieur  Engilberge Martin Pierre  212790   \n",
       "161  Monsieur               Gaspoz John  212859   \n",
       "195  Monsieur           Piskas Georgios  244587   \n",
       "205  Monsieur              Schegg Elias  195675   \n",
       "210  Monsieur    Valette Laurent Michel  205864   \n",
       "238  Monsieur            Campora Simone  180072   \n",
       "257  Monsieur              Hofer Thomas  165819   \n",
       "275  Monsieur       Muriel Hugo Marcelo  179878   \n",
       "463  Monsieur      Bricola Jean-Charles  180731   \n",
       "953  Monsieur      Duhem Martin Nicolas  214632   \n",
       "\n",
       "                     specialisation mineur  Beginning  Time of stay  \n",
       "155              Internet computing    NaN     2014.5           2.5  \n",
       "161       Information Security - SP    NaN     2014.5           2.5  \n",
       "195                Software Systems    NaN     2014.5           2.5  \n",
       "205              Internet computing    NaN     2014.5           2.5  \n",
       "210                Software Systems    NaN     2014.5           2.5  \n",
       "238              Internet computing    NaN     2007.5           2.0  \n",
       "257         Foundations of Software    NaN     2007.5           2.0  \n",
       "275              Internet computing    NaN     2007.5           2.0  \n",
       "463  Signals, Images and Interfaces    NaN     2010.5           2.0  \n",
       "953         Foundations of Software    NaN     2015.0           2.0  "
      ]
     },
     "execution_count": 71,
     "metadata": {},
     "output_type": "execute_result"
    }
   ],
   "source": [
    "specialisation=students[~pd.isnull(students['specialisation'])]\n",
    "specialisation.head(10)\n"
   ]
  },
  {
   "cell_type": "markdown",
   "metadata": {},
   "source": [
    "Let's now have a look on students having a specialisation "
   ]
  },
  {
   "cell_type": "code",
   "execution_count": 127,
   "metadata": {
    "collapsed": false
   },
   "outputs": [
    {
     "data": {
      "text/html": [
       "<div>\n",
       "<table border=\"1\" class=\"dataframe\">\n",
       "  <thead>\n",
       "    <tr style=\"text-align: right;\">\n",
       "      <th></th>\n",
       "      <th>Time of stay</th>\n",
       "    </tr>\n",
       "  </thead>\n",
       "  <tbody>\n",
       "    <tr>\n",
       "      <th>count</th>\n",
       "      <td>112.000000</td>\n",
       "    </tr>\n",
       "    <tr>\n",
       "      <th>mean</th>\n",
       "      <td>2.308036</td>\n",
       "    </tr>\n",
       "    <tr>\n",
       "      <th>std</th>\n",
       "      <td>0.451452</td>\n",
       "    </tr>\n",
       "    <tr>\n",
       "      <th>min</th>\n",
       "      <td>1.500000</td>\n",
       "    </tr>\n",
       "    <tr>\n",
       "      <th>25%</th>\n",
       "      <td>2.000000</td>\n",
       "    </tr>\n",
       "    <tr>\n",
       "      <th>50%</th>\n",
       "      <td>2.000000</td>\n",
       "    </tr>\n",
       "    <tr>\n",
       "      <th>75%</th>\n",
       "      <td>2.500000</td>\n",
       "    </tr>\n",
       "    <tr>\n",
       "      <th>max</th>\n",
       "      <td>5.000000</td>\n",
       "    </tr>\n",
       "  </tbody>\n",
       "</table>\n",
       "</div>"
      ],
      "text/plain": [
       "       Time of stay\n",
       "count    112.000000\n",
       "mean       2.308036\n",
       "std        0.451452\n",
       "min        1.500000\n",
       "25%        2.000000\n",
       "50%        2.000000\n",
       "75%        2.500000\n",
       "max        5.000000"
      ]
     },
     "execution_count": 127,
     "metadata": {},
     "output_type": "execute_result"
    },
    {
     "data": {
      "image/png": "[encoded data removed]",
      "text/plain": [
       "<matplotlib.figure.Figure at 0x210ad024908>"
      ]
     },
     "metadata": {},
     "output_type": "display_data"
    }
   ],
   "source": [
    "specialisation=specialisation[['specialisation','Time of stay']]\n",
    "\n",
    "specialisation.hist()\n",
    "specialisation.describe()\n",
    "\n",
    "\n"
   ]
  },
  {
   "cell_type": "markdown",
   "metadata": {},
   "source": [
    "The average stays for people with a specialisation is of 2.308. There is still that one student who did 5 years. There seems to be one guy that did 1.5 year. Let's have a look at the data from that student to see if that's possible."
   ]
  },
  {
   "cell_type": "code",
   "execution_count": 73,
   "metadata": {
    "collapsed": false
   },
   "outputs": [
    {
     "data": {
      "text/html": [
       "<div>\n",
       "<table border=\"1\" class=\"dataframe\">\n",
       "  <thead>\n",
       "    <tr style=\"text-align: right;\">\n",
       "      <th></th>\n",
       "      <th>sex</th>\n",
       "      <th>name</th>\n",
       "      <th>sciper</th>\n",
       "      <th>year_master1</th>\n",
       "      <th>specialisation</th>\n",
       "      <th>mineur</th>\n",
       "      <th>year_master2_earliest</th>\n",
       "      <th>year_master2_latest</th>\n",
       "      <th>year_master3</th>\n",
       "      <th>year_pdm</th>\n",
       "      <th>Beginning</th>\n",
       "      <th>Ending</th>\n",
       "      <th>Difference</th>\n",
       "      <th>Time of stay</th>\n",
       "    </tr>\n",
       "  </thead>\n",
       "  <tbody>\n",
       "    <tr>\n",
       "      <th>1069</th>\n",
       "      <td>Monsieur</td>\n",
       "      <td>Steiger Robin</td>\n",
       "      <td>175702</td>\n",
       "      <td>NaN</td>\n",
       "      <td>Foundations of Software</td>\n",
       "      <td>NaN</td>\n",
       "      <td>2010.0</td>\n",
       "      <td>2010.0</td>\n",
       "      <td>2010.5</td>\n",
       "      <td>2011.0</td>\n",
       "      <td>2010.0</td>\n",
       "      <td>2011.0</td>\n",
       "      <td>1.0</td>\n",
       "      <td>1.5</td>\n",
       "    </tr>\n",
       "  </tbody>\n",
       "</table>\n",
       "</div>"
      ],
      "text/plain": [
       "           sex           name  sciper  year_master1           specialisation  \\\n",
       "1069  Monsieur  Steiger Robin  175702           NaN  Foundations of Software   \n",
       "\n",
       "     mineur  year_master2_earliest  year_master2_latest  year_master3  \\\n",
       "1069    NaN                 2010.0               2010.0        2010.5   \n",
       "\n",
       "      year_pdm  Beginning  Ending  Difference  Time of stay  \n",
       "1069    2011.0     2010.0  2011.0         1.0           1.5  "
      ]
     },
     "execution_count": 73,
     "metadata": {},
     "output_type": "execute_result"
    }
   ],
   "source": [
    "students_1[(students_1['Time of stay']==1.5) & ~pd.isnull(students_1['specialisation'])]\n",
    "\n"
   ]
  },
  {
   "cell_type": "markdown",
   "metadata": {},
   "source": [
    "He has been registered in a master thesis so that is a pretty good sign that he finished his master. It is possible that he started his Master in Spring, so is-academia will consider him as master 2 straight away. Then he did master 3. He must have done 90 credits in two semesters which is, I've seen students who did it, possible."
   ]
  },
  {
   "cell_type": "markdown",
   "metadata": {},
   "source": [
    "Let's now have a look at specific specialisations."
   ]
  },
  {
   "cell_type": "code",
   "execution_count": 75,
   "metadata": {
    "collapsed": false
   },
   "outputs": [],
   "source": [
    "time_of_stay_avg= specialisation.groupby(['specialisation'])['Time of stay'].mean().sort_values()\n"
   ]
  },
  {
   "cell_type": "code",
   "execution_count": 76,
   "metadata": {
    "collapsed": false
   },
   "outputs": [
    {
     "data": {
      "text/plain": [
       "<matplotlib.axes._subplots.AxesSubplot at 0x210ab4bb588>"
      ]
     },
     "execution_count": 76,
     "metadata": {},
     "output_type": "execute_result"
    },
    {
     "data": {
      "image/png": "[encoded data removed]",
      "text/plain": [
       "<matplotlib.figure.Figure at 0x210a9cd3dd8>"
      ]
     },
     "metadata": {},
     "output_type": "display_data"
    }
   ],
   "source": [
    "time_of_stay_avg.plot.bar()"
   ]
  },
  {
   "cell_type": "markdown",
   "metadata": {},
   "source": [
    "Let's now do a welsh test between the average stay for each specialisation and the general average stay."
   ]
  },
  {
   "cell_type": "code",
   "execution_count": 77,
   "metadata": {
    "collapsed": false
   },
   "outputs": [
    {
     "name": "stderr",
     "output_type": "stream",
     "text": [
      "C:\\Users\\Mathieu\\Anaconda3\\lib\\site-packages\\numpy\\core\\_methods.py:82: RuntimeWarning: Degrees of freedom <= 0 for slice\n",
      "  warnings.warn(\"Degrees of freedom <= 0 for slice\", RuntimeWarning)\n"
     ]
    }
   ],
   "source": [
    "test = dict()\n",
    "for n in specialisation['specialisation']:\n",
    "    spe=specialisation[(specialisation['specialisation']==n)]    \n",
    "    c=stats.ttest_ind(students['Time of stay'], spe['Time of stay'], equal_var = False)\n",
    "    test[n]=c\n",
    "    \n",
    "    \n",
    "\n"
   ]
  },
  {
   "cell_type": "code",
   "execution_count": 78,
   "metadata": {
    "collapsed": false
   },
   "outputs": [
    {
     "data": {
      "text/plain": [
       "{'Computer Engineering - SP': Ttest_indResult(statistic=-2.5980698395921573, pvalue=0.029761697611030639),\n",
       " 'Data Analytics': Ttest_indResult(statistic=nan, pvalue=nan),\n",
       " 'Foundations of Software': Ttest_indResult(statistic=-4.0784914386525175, pvalue=0.00019932098988213059),\n",
       " 'Information Security - SP': Ttest_indResult(statistic=nan, pvalue=nan),\n",
       " 'Internet computing': Ttest_indResult(statistic=-4.6123647150076987, pvalue=3.0858143502299197e-05),\n",
       " 'Service science': Ttest_indResult(statistic=-0.59885699049194718, pvalue=0.54947157993437723),\n",
       " 'Signals, Images and Interfaces': Ttest_indResult(statistic=-3.2388574016719058, pvalue=0.0058407301468249191),\n",
       " 'Software Systems': Ttest_indResult(statistic=-2.3017743423656305, pvalue=0.067150092073042358)}"
      ]
     },
     "execution_count": 78,
     "metadata": {},
     "output_type": "execute_result"
    }
   ],
   "source": [
    "test"
   ]
  },
  {
   "cell_type": "markdown",
   "metadata": {},
   "source": [
    "We can see that there are some specialisation for which the avergae time of stay is significantly different. This is the case for \"Foundations of Software\", \"Internet computing\" and \"Signal, Images and Interfaces\".\n",
    "\n",
    "The test could not be done for \"Data Analytics\" and \"Information Security - SP\" probably because there are not enough data. Let's check for Data Analytics"
   ]
  },
  {
   "cell_type": "code",
   "execution_count": 79,
   "metadata": {
    "collapsed": false
   },
   "outputs": [
    {
     "data": {
      "text/plain": [
       "specialisation    1\n",
       "Time of stay      1\n",
       "dtype: int64"
      ]
     },
     "execution_count": 79,
     "metadata": {},
     "output_type": "execute_result"
    }
   ],
   "source": [
    "specialisation[(specialisation['specialisation']=='Data Analytics')].count()\n",
    "\n"
   ]
  },
  {
   "cell_type": "markdown",
   "metadata": {},
   "source": [
    "Yes Indeed, we only have one student registered in Data analytics and this can never be statistically representative"
   ]
  },
  {
   "cell_type": "markdown",
   "metadata": {},
   "source": [
    "### Bonus : gender-based study\n",
    "partitioning data along genders"
   ]
  },
  {
   "cell_type": "code",
   "execution_count": 86,
   "metadata": {
    "collapsed": false
   },
   "outputs": [],
   "source": [
    "masterF = students[students['sex']=='Madame']\n",
    "masterM = students[students['sex']=='Monsieur']\n"
   ]
  },
  {
   "cell_type": "code",
   "execution_count": 87,
   "metadata": {
    "collapsed": false
   },
   "outputs": [
    {
     "data": {
      "text/plain": [
       "<matplotlib.axes._subplots.AxesSubplot at 0x210ab5eb438>"
      ]
     },
     "execution_count": 87,
     "metadata": {},
     "output_type": "execute_result"
    },
    {
     "data": {
      "image/png": "[encoded data removed]",
      "text/plain": [
       "<matplotlib.figure.Figure at 0x210ab55dd68>"
      ]
     },
     "metadata": {},
     "output_type": "display_data"
    }
   ],
   "source": [
    "masterF['Time of stay'].hist()"
   ]
  },
  {
   "cell_type": "code",
   "execution_count": 92,
   "metadata": {
    "collapsed": false
   },
   "outputs": [
    {
     "data": {
      "text/plain": [
       "1.9835164835164836"
      ]
     },
     "execution_count": 92,
     "metadata": {},
     "output_type": "execute_result"
    }
   ],
   "source": [
    "masterF['Time of stay'].mean()"
   ]
  },
  {
   "cell_type": "code",
   "execution_count": 93,
   "metadata": {
    "collapsed": false
   },
   "outputs": [
    {
     "data": {
      "text/plain": [
       "<matplotlib.axes._subplots.AxesSubplot at 0x210ab6ba550>"
      ]
     },
     "execution_count": 93,
     "metadata": {},
     "output_type": "execute_result"
    },
    {
     "data": {
      "image/png": "[encoded data removed]",
      "text/plain": [
       "<matplotlib.figure.Figure at 0x210ab8546d8>"
      ]
     },
     "metadata": {},
     "output_type": "display_data"
    }
   ],
   "source": [
    "masterM['Time of stay'].hist()\n"
   ]
  },
  {
   "cell_type": "code",
   "execution_count": 94,
   "metadata": {
    "collapsed": false
   },
   "outputs": [
    {
     "data": {
      "text/plain": [
       "1.990467937608319"
      ]
     },
     "execution_count": 94,
     "metadata": {},
     "output_type": "execute_result"
    }
   ],
   "source": [
    "masterM['Time of stay'].mean()"
   ]
  },
  {
   "cell_type": "code",
   "execution_count": 95,
   "metadata": {
    "collapsed": false
   },
   "outputs": [
    {
     "data": {
      "text/plain": [
       "Ttest_indResult(statistic=0.13683148245575583, pvalue=0.89139219253903479)"
      ]
     },
     "execution_count": 95,
     "metadata": {},
     "output_type": "execute_result"
    }
   ],
   "source": [
    "stats.ttest_ind(masterM['Time of stay'], masterF['Time of stay'], equal_var = False)"
   ]
  },
  {
   "cell_type": "markdown",
   "metadata": {},
   "source": [
    "Data shows that there is no significant average difference in Master studies' length between female and male student population."
   ]
  },
  {
   "cell_type": "code",
   "execution_count": 283,
   "metadata": {
    "collapsed": false,
    "scrolled": true
   },
   "outputs": [
    {
     "data": {
      "text/plain": [
       "(2007.5, 2015.5)"
      ]
     },
     "execution_count": 283,
     "metadata": {},
     "output_type": "execute_result"
    },
    {
     "data": {
      "image/png": "[encoded data removed]",
      "text/plain": [
       "<matplotlib.figure.Figure at 0x210b287acc0>"
      ]
     },
     "metadata": {},
     "output_type": "display_data"
    }
   ],
   "source": [
    "masterAvgF = masterF.groupby('Beginning')\n",
    "masterAvgF = masterAvgF['Time of stay'].mean()\n",
    "masterAvgM = masterM.groupby('Beginning')\n",
    "masterAvgM = masterAvgM['Time of stay'].mean()\n",
    "plt.ticklabel_format(useOffset=False)\n",
    "\n",
    "masterAvgM.plot(color='blue')\n",
    "masterAvgF.plot(color='red')\n",
    "plt.xlim(2007.5, 2015.5)"
   ]
  },
  {
   "cell_type": "markdown",
   "metadata": {},
   "source": [
    "Plotting the average length of stay per year of beginning of male students students against that of female students does not visually show a remarkable feature. The only valid information we may extract, is that Master studies tend on average to last longer from the start of our sample to its end, showing a global tendency for both genders."
   ]
  },
  {
   "cell_type": "code",
   "execution_count": 281,
   "metadata": {
    "collapsed": false
   },
   "outputs": [
    {
     "data": {
      "image/png": "[encoded data removed]",
      "text/plain": [
       "<matplotlib.figure.Figure at 0x210afd5b0b8>"
      ]
     },
     "metadata": {},
     "output_type": "display_data"
    }
   ],
   "source": [
    "masterNbF = masterF.groupby('Beginning')\n",
    "masterNbF = masterNbF['sex'].count()\n",
    "masterNbM = masterM.groupby('Beginning')\n",
    "masterNbM = masterNbM['sex'].count()\n",
    "\n",
    "plt.scatter(masterNbF.index, masterNbF, c='red')\n",
    "plt.scatter(masterNbM.index, masterNbM, c='blue')\n",
    "\n",
    "plt.xlim(2007.5, 2015.5)\n",
    "plt.ticklabel_format(useOffset=False)"
   ]
  },
  {
   "cell_type": "markdown",
   "metadata": {},
   "source": [
    "Plotting the number of new students per year of beginning obviously shows that female students are underrepresented amongst each promotion, but also shows much more stability, especially between spring and autumn semesters where the number of male new students appears to vary lot. It also seems that the number of new female students does not follow the same tendency to grow as the number of male students does."
   ]
  },
  {
   "cell_type": "code",
   "execution_count": null,
   "metadata": {
    "collapsed": true
   },
   "outputs": [],
   "source": []
  }
 ],
 "metadata": {
  "anaconda-cloud": {},
  "kernelspec": {
   "display_name": "Python [Root]",
   "language": "python",
   "name": "Python [Root]"
  },
  "language_info": {
   "codemirror_mode": {
    "name": "ipython",
    "version": 3
   },
   "file_extension": ".py",
   "mimetype": "text/x-python",
   "name": "python",
   "nbconvert_exporter": "python",
   "pygments_lexer": "ipython3",
   "version": "3.5.2"
  }
 },
 "nbformat": 4,
 "nbformat_minor": 0
}
