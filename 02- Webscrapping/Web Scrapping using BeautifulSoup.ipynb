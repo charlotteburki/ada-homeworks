{
 "cells": [
  {
   "cell_type": "markdown",
   "metadata": {},
   "source": [
    "# Web Scrapping\n",
    "*[Cyril Pecoraro](http://github.com/cyril-p)*\n",
    "\n",
    "**Scrapping Data from the Web**\n",
    "\n",
    "In this project we will extract interesting information from IS-Academia, the educational portal of EPFL. Specifically, we will focus on the part that allows public access to academic [data](http://isa.epfl.ch/imoniteur_ISAP/%21gedpublicreports.htm?ww_i_reportmodel=133685247). \n",
    "\n",
    "\n",
    "We will obtain all the data for the \"informatique\" Bachelor students, starting from 2007. We will keep only the students for which we have an entry for both Bachelor semestre 1 and Bachelor semestre 6. We will compute how many months it took each student to go from the first to the sixth semester. We will partition the data between male and female students, and compute the average and find if the difference in average is statistically significant?"
   ]
  },
  {
   "cell_type": "code",
   "execution_count": 1,
   "metadata": {
    "collapsed": false
   },
   "outputs": [],
   "source": [
    "import requests \n",
    "import pandas as pd\n",
    "from scipy import stats\n",
    "import urllib3\n",
    "% matplotlib inline\n",
    "from bs4 import BeautifulSoup"
   ]
  },
  {
   "cell_type": "markdown",
   "metadata": {},
   "source": [
    "We have a BaseFormUrl, and from there, we will get the tags for the type of results, and every choice in the menu on the left of the page.\n",
    "\n",
    "The idea is to hardcode the name of the parameters and get their possible values. \n",
    "Parameters are : \n",
    "'ww_i_reportModelXsl','ww_x_UNITE_ACAD','ww_x_PERIODE_ACAD','ww_x_PERIODE_PEDAGO','ww_x_HIVERETE'"
   ]
  },
  {
   "cell_type": "code",
   "execution_count": 2,
   "metadata": {
    "collapsed": false
   },
   "outputs": [],
   "source": [
    "# We define two url: One for selecting the parameters, one for displaying the student names.\n",
    "baseFormUrl = 'http://isa.epfl.ch/imoniteur_ISAP/!GEDPUBLICREPORTS.filter?ww_b_list=1&ww_i_reportmodel=133685247'\n",
    "baseFormUrlDisplay = 'http://isa.epfl.ch/imoniteur_ISAP/!GEDPUBLICREPORTS.bhtml?ww_b_list=1&ww_i_reportmodel=133685247'\n",
    "\n",
    "r = requests.get(baseFormUrl)\n",
    "soup = BeautifulSoup(r.content, \"html.parser\")"
   ]
  },
  {
   "cell_type": "markdown",
   "metadata": {},
   "source": [
    "The idea is to put all the params needed and their possible values in a nested dictionary named 'ww_params'\n",
    "\n",
    "Select the format of the page in table which has tag 'format'. Data is available in html or XLS. We use Html."
   ]
  },
  {
   "cell_type": "code",
   "execution_count": 3,
   "metadata": {
    "collapsed": false
   },
   "outputs": [],
   "source": [
    "ww_params = dict()\n",
    "formatTable = soup.find('table',attrs={'id': 'format'})\n",
    "try:\n",
    "    value = formatTable.findAll('input', attrs={'name':\"ww_i_reportModelXsl\"})\n",
    "except:\n",
    "    pass\n",
    "value_ww_i_reportModelXsl = value[0]['value']\n",
    "ww_params[\"ww_i_reportModelXsl\"] = value_ww_i_reportModelXsl"
   ]
  },
  {
   "cell_type": "markdown",
   "metadata": {},
   "source": [
    "We get the possible values for the parameters 'ww_i_reportModelXsl','ww_x_UNITE_ACAD','ww_x_PERIODE_ACAD','ww_x_PERIODE_PEDAGO','ww_x_HIVERETE'."
   ]
  },
  {
   "cell_type": "code",
   "execution_count": 4,
   "metadata": {
    "collapsed": false
   },
   "outputs": [],
   "source": [
    "filtreName = ['ww_x_UNITE_ACAD','ww_x_PERIODE_ACAD','ww_x_PERIODE_PEDAGO','ww_x_HIVERETE']\n",
    "filtreTable = soup.find('table',attrs={'id': 'filtre'})\n",
    "\n",
    "for name in filtreName:\n",
    "    ww_paramsList = dict()\n",
    "    academicChoice = filtreTable.find('select',attrs={'name': name})\n",
    "    value_ww_x_UNITE_ACAD = []\n",
    "    try:\n",
    "        choice = academicChoice.findAll('option')\n",
    "    except:\n",
    "        print('error')\n",
    "        pass\n",
    "    for option in choice:\n",
    "        if (option['value']) != 'null':\n",
    "            ww_paramsList[option.text]=option['value']\n",
    "    ww_params[name] = ww_paramsList"
   ]
  },
  {
   "cell_type": "markdown",
   "metadata": {},
   "source": [
    "Now we load the data by building a custom URL.  We first need to select the IS-Academia code for the parameters Bachelor 1 and Bachelor 6, fall semester and Spring semester, HTML Result, Informatique section"
   ]
  },
  {
   "cell_type": "code",
   "execution_count": 5,
   "metadata": {
    "collapsed": false
   },
   "outputs": [],
   "source": [
    "#Load the IS-academia code for html results and return error if there is a problem\n",
    "htmlResult = ww_params.get('ww_i_reportModelXsl', 'error')\n",
    "\n",
    "#Load the IS-academia code for fall semester and return error if there is a problem\n",
    "fallSemester = ww_params.get('ww_x_HIVERETE').get('Semestre d\\'automne', 'error')\n",
    "\n",
    "#Load the IS-academia code for fall semester and return error if there is a problem\n",
    "springSemester = ww_params.get('ww_x_HIVERETE').get('Semestre de printemps', 'error')\n",
    "\n",
    "#Load the IS-academia code for bachelor 1 and return error if there is a problem\n",
    "bachelor1 = ww_params.get('ww_x_PERIODE_PEDAGO').get('Bachelor semestre 1', 'error')\n",
    "\n",
    "#Load the IS-academia code for bachelor 6 and return error if there is a problem\n",
    "bachelor6 = ww_params.get('ww_x_PERIODE_PEDAGO').get('Bachelor semestre 6', 'error')\n",
    "\n",
    "#Load the IS-academia code for Informatique and return error if there is a problem\n",
    "informatique = ww_params.get('ww_x_UNITE_ACAD').get('Informatique', 'error')"
   ]
  },
  {
   "cell_type": "markdown",
   "metadata": {},
   "source": [
    "But before getting the list of the student, we need to have another parameter \"ww_x_GPS\". \n",
    "2 calls will be made. The first one  will allow to obtain the ww_x_GPS, and the second one to load the students, using that ww_x_GPS.\n",
    "\n",
    "Sometimes ww_x_GPS is not available, in this case, nothing will be done.\n",
    "\n",
    "This solution is very very slow (but works)."
   ]
  },
  {
   "cell_type": "code",
   "execution_count": 25,
   "metadata": {
    "collapsed": false
   },
   "outputs": [
    {
     "data": {
      "text/html": [
       "<div>\n",
       "<table border=\"1\" class=\"dataframe\">\n",
       "  <thead>\n",
       "    <tr style=\"text-align: right;\">\n",
       "      <th></th>\n",
       "      <th>sex</th>\n",
       "      <th>name</th>\n",
       "      <th>sciper</th>\n",
       "      <th>year</th>\n",
       "    </tr>\n",
       "  </thead>\n",
       "  <tbody>\n",
       "    <tr>\n",
       "      <th>0</th>\n",
       "      <td>Monsieur</td>\n",
       "      <td>Ahluwalia Samit</td>\n",
       "      <td>184228</td>\n",
       "      <td>2008</td>\n",
       "    </tr>\n",
       "    <tr>\n",
       "      <th>1</th>\n",
       "      <td>Monsieur</td>\n",
       "      <td>Amiet Nils</td>\n",
       "      <td>179383</td>\n",
       "      <td>2008</td>\n",
       "    </tr>\n",
       "    <tr>\n",
       "      <th>2</th>\n",
       "      <td>Monsieur</td>\n",
       "      <td>Andenmatten Alexandre</td>\n",
       "      <td>186836</td>\n",
       "      <td>2008</td>\n",
       "    </tr>\n",
       "    <tr>\n",
       "      <th>3</th>\n",
       "      <td>Monsieur</td>\n",
       "      <td>Arnfred Jonas</td>\n",
       "      <td>184772</td>\n",
       "      <td>2008</td>\n",
       "    </tr>\n",
       "    <tr>\n",
       "      <th>4</th>\n",
       "      <td>Monsieur</td>\n",
       "      <td>Badila Constantin-Tudor</td>\n",
       "      <td>187235</td>\n",
       "      <td>2008</td>\n",
       "    </tr>\n",
       "    <tr>\n",
       "      <th>5</th>\n",
       "      <td>Monsieur</td>\n",
       "      <td>Bougacha Malik</td>\n",
       "      <td>186264</td>\n",
       "      <td>2008</td>\n",
       "    </tr>\n",
       "    <tr>\n",
       "      <th>6</th>\n",
       "      <td>Monsieur</td>\n",
       "      <td>Bourgeois Jérémy</td>\n",
       "      <td>185949</td>\n",
       "      <td>2008</td>\n",
       "    </tr>\n",
       "    <tr>\n",
       "      <th>7</th>\n",
       "      <td>Monsieur</td>\n",
       "      <td>Bourqui Marc</td>\n",
       "      <td>184264</td>\n",
       "      <td>2008</td>\n",
       "    </tr>\n",
       "    <tr>\n",
       "      <th>8</th>\n",
       "      <td>Monsieur</td>\n",
       "      <td>Bruchez Lionel</td>\n",
       "      <td>186825</td>\n",
       "      <td>2008</td>\n",
       "    </tr>\n",
       "    <tr>\n",
       "      <th>9</th>\n",
       "      <td>Monsieur</td>\n",
       "      <td>Bullot Marc</td>\n",
       "      <td>186009</td>\n",
       "      <td>2008</td>\n",
       "    </tr>\n",
       "  </tbody>\n",
       "</table>\n",
       "</div>"
      ],
      "text/plain": [
       "        sex                     name  sciper  year\n",
       "0  Monsieur          Ahluwalia Samit  184228  2008\n",
       "1  Monsieur               Amiet Nils  179383  2008\n",
       "2  Monsieur    Andenmatten Alexandre  186836  2008\n",
       "3  Monsieur            Arnfred Jonas  184772  2008\n",
       "4  Monsieur  Badila Constantin-Tudor  187235  2008\n",
       "5  Monsieur           Bougacha Malik  186264  2008\n",
       "6  Monsieur         Bourgeois Jérémy  185949  2008\n",
       "7  Monsieur             Bourqui Marc  184264  2008\n",
       "8  Monsieur           Bruchez Lionel  186825  2008\n",
       "9  Monsieur              Bullot Marc  186009  2008"
      ]
     },
     "execution_count": 25,
     "metadata": {},
     "output_type": "execute_result"
    }
   ],
   "source": [
    "#DataFrame of bachelor1 students. We already know the names of the columns\n",
    "bachelor1DataFrame = pd.DataFrame(columns=('sex','name','sciper','year'))\n",
    "\n",
    "for year in ww_params.get('ww_x_PERIODE_ACAD'):\n",
    "    ###First Call\n",
    "    #Build the url:\n",
    "    url = baseFormUrl + '&ww_b_list=1' + \\\n",
    "    '&ww_i_reportModelXsl=' + htmlResult + \\\n",
    "        '&ww_x_UNITE_ACAD=' + informatique + \\\n",
    "    '&ww_x_PERIODE_ACAD=' + ww_params.get('ww_x_PERIODE_ACAD').get(year) + \\\n",
    "    '&ww_x_PERIODE_PEDAGO=' + bachelor1+ \\\n",
    "    '&ww_x_HIVERETE=' + fallSemester\n",
    "\n",
    "    #Make a request\n",
    "    r = requests.get(url)\n",
    "\n",
    "    #Parse the URL with beautifulSoup\n",
    "    soup = BeautifulSoup(r.content, \"html.parser\")\n",
    "\n",
    "    #find the parameter ww_x_GPS (if it exists).\n",
    "    try:\n",
    "        value = soup.findAll('a', attrs={'class':'ww_x_GPS'})\n",
    "        #The value of ww_x_GPS is an argument of a javascript function. To islate it, we need to find it, then find the value.\n",
    "        #Substrings are used. First we find 'ww_x_GPS', then we find the next \"'\" so that we can keep the value only.\n",
    "        for val in value:\n",
    "            #We are only interested in the value that is not -1\n",
    "            if val['onclick'] != -1:\n",
    "                position_ww_x_GPS_beginning = val['onclick'].find('ww_x_GPS')+len('ww_x_GPS')+1\n",
    "                substringBeginning = val['onclick'][position_ww_x_GPS_beginning:]\n",
    "                position_ww_x_GPS_end = substringBeginning.find('\\'')\n",
    "                ww_x_GPS = substringBeginning[:position_ww_x_GPS_end]\n",
    "        ###Second call\n",
    "        #Now that we have the ww_x_GPS, we can make another call and obtain the list of the students.\n",
    "        #Here the base Url changes because we display names.\n",
    "        url = baseFormUrlDisplay + '&ww_b_list=1' + \\\n",
    "        '&ww_i_reportModelXsl=' + htmlResult + \\\n",
    "        '&ww_x_UNITE_ACAD=' + informatique + \\\n",
    "        '&ww_x_PERIODE_ACAD=' + ww_params.get('ww_x_PERIODE_ACAD').get(year) + \\\n",
    "        '&ww_x_PERIODE_PEDAGO=' + bachelor1+ \\\n",
    "        '&ww_x_HIVERETE=' + fallSemester + \\\n",
    "        '&ww_x_GPS=' + ww_x_GPS\n",
    "         #Make a request\n",
    "        r = requests.get(url)\n",
    "        #Parse the page with beautifulSoup\n",
    "        soup = BeautifulSoup(r.content, \"html.parser\")\n",
    "\n",
    "        my_table = soup.find('table')\n",
    "        rows = my_table.findChildren(['th', 'tr'])\n",
    "        \n",
    "        for row in rows:\n",
    "            cells = row.findChildren('td')\n",
    "            #We already know the format of the data so we can simply select the desired columns\n",
    "            if len(cells) == 12:\n",
    "                sex = cells[0].find(text=True)\n",
    "                name = cells[1].find(text=True)\n",
    "                sciper = cells[10].find(text=True)\n",
    "                #Let's keep only the first year of the string year. The year is given in the form 20XX-20XY. \n",
    "                #We will keep 20XX\n",
    "                year = year[:4]\n",
    "                \n",
    "                s = pd.Series([sex,name,sciper,year],index=['sex','name','sciper','year'])\n",
    "                bachelor1DataFrame = bachelor1DataFrame.append(s, ignore_index=True)\n",
    "\n",
    "    except:\n",
    "        pass\n",
    "\n",
    "bachelor1DataFrame.head(10)"
   ]
  },
  {
   "cell_type": "code",
   "execution_count": 26,
   "metadata": {
    "collapsed": false
   },
   "outputs": [
    {
     "data": {
      "text/html": [
       "<div>\n",
       "<table border=\"1\" class=\"dataframe\">\n",
       "  <thead>\n",
       "    <tr style=\"text-align: right;\">\n",
       "      <th></th>\n",
       "      <th>sex</th>\n",
       "      <th>name</th>\n",
       "      <th>sciper</th>\n",
       "      <th>year</th>\n",
       "    </tr>\n",
       "  </thead>\n",
       "  <tbody>\n",
       "    <tr>\n",
       "      <th>0</th>\n",
       "      <td>Monsieur</td>\n",
       "      <td>Balas Martin</td>\n",
       "      <td>174774</td>\n",
       "      <td>2008</td>\n",
       "    </tr>\n",
       "    <tr>\n",
       "      <th>1</th>\n",
       "      <td>Monsieur</td>\n",
       "      <td>Barras Florian</td>\n",
       "      <td>170220</td>\n",
       "      <td>2008</td>\n",
       "    </tr>\n",
       "    <tr>\n",
       "      <th>2</th>\n",
       "      <td>Monsieur</td>\n",
       "      <td>Beuret Thibaut</td>\n",
       "      <td>166701</td>\n",
       "      <td>2008</td>\n",
       "    </tr>\n",
       "    <tr>\n",
       "      <th>3</th>\n",
       "      <td>Monsieur</td>\n",
       "      <td>Bindschaedler Laurent</td>\n",
       "      <td>170654</td>\n",
       "      <td>2008</td>\n",
       "    </tr>\n",
       "    <tr>\n",
       "      <th>4</th>\n",
       "      <td>Monsieur</td>\n",
       "      <td>Biollay Jean Isaac Jamal Pachacutec</td>\n",
       "      <td>161279</td>\n",
       "      <td>2008</td>\n",
       "    </tr>\n",
       "    <tr>\n",
       "      <th>5</th>\n",
       "      <td>Monsieur</td>\n",
       "      <td>Blanc Régis William</td>\n",
       "      <td>175339</td>\n",
       "      <td>2008</td>\n",
       "    </tr>\n",
       "    <tr>\n",
       "      <th>6</th>\n",
       "      <td>Monsieur</td>\n",
       "      <td>Blatter Jérémy</td>\n",
       "      <td>166344</td>\n",
       "      <td>2008</td>\n",
       "    </tr>\n",
       "    <tr>\n",
       "      <th>7</th>\n",
       "      <td>Monsieur</td>\n",
       "      <td>Brunet Yorick</td>\n",
       "      <td>178283</td>\n",
       "      <td>2008</td>\n",
       "    </tr>\n",
       "    <tr>\n",
       "      <th>8</th>\n",
       "      <td>Monsieur</td>\n",
       "      <td>Burgener Raphaël</td>\n",
       "      <td>170225</td>\n",
       "      <td>2008</td>\n",
       "    </tr>\n",
       "    <tr>\n",
       "      <th>9</th>\n",
       "      <td>Monsieur</td>\n",
       "      <td>Candemir Mehmet</td>\n",
       "      <td>161814</td>\n",
       "      <td>2008</td>\n",
       "    </tr>\n",
       "  </tbody>\n",
       "</table>\n",
       "</div>"
      ],
      "text/plain": [
       "        sex                                 name  sciper  year\n",
       "0  Monsieur                         Balas Martin  174774  2008\n",
       "1  Monsieur                       Barras Florian  170220  2008\n",
       "2  Monsieur                       Beuret Thibaut  166701  2008\n",
       "3  Monsieur                Bindschaedler Laurent  170654  2008\n",
       "4  Monsieur  Biollay Jean Isaac Jamal Pachacutec  161279  2008\n",
       "5  Monsieur                  Blanc Régis William  175339  2008\n",
       "6  Monsieur                       Blatter Jérémy  166344  2008\n",
       "7  Monsieur                        Brunet Yorick  178283  2008\n",
       "8  Monsieur                     Burgener Raphaël  170225  2008\n",
       "9  Monsieur                      Candemir Mehmet  161814  2008"
      ]
     },
     "execution_count": 26,
     "metadata": {},
     "output_type": "execute_result"
    }
   ],
   "source": [
    "#DataFrame of bachelor6 students. We already know the names of the columns\n",
    "bachelor6DataFrame = pd.DataFrame(columns=('sex','name','sciper','year'))\n",
    "\n",
    "for year in ww_params.get('ww_x_PERIODE_ACAD'):\n",
    "    ###First Call\n",
    "    #Build the url:\n",
    "    url = baseFormUrl + '&ww_b_list=1' + \\\n",
    "    '&ww_i_reportModelXsl=' + htmlResult + \\\n",
    "        '&ww_x_UNITE_ACAD=' + informatique + \\\n",
    "    '&ww_x_PERIODE_ACAD=' + ww_params.get('ww_x_PERIODE_ACAD').get(year) + \\\n",
    "    '&ww_x_PERIODE_PEDAGO=' + bachelor6+ \\\n",
    "    '&ww_x_HIVERETE=' + springSemester\n",
    "\n",
    "    #Make a request\n",
    "    r = requests.get(url)\n",
    "\n",
    "    #Parse the URL with beautifulSoup\n",
    "    soup = BeautifulSoup(r.content, \"html.parser\")\n",
    "\n",
    "    #find the parameter ww_x_GPS (if it exists).\n",
    "    try:\n",
    "        value = soup.findAll('a', attrs={'class':'ww_x_GPS'})\n",
    "        #The value of ww_x_GPS is an argument of a javascript function. To isolate it, we need to find it, then find the value.\n",
    "        #Substrings are used. First we find 'ww_x_GPS', then we find the next \"'\" so that we can keep the value only.\n",
    "        for val in value:\n",
    "            #We are only interested in the value that is not -1\n",
    "            if val['onclick'] != -1:\n",
    "                position_ww_x_GPS_beginning = val['onclick'].find('ww_x_GPS')+len('ww_x_GPS')+1\n",
    "                substringBeginning = val['onclick'][position_ww_x_GPS_beginning:]\n",
    "                position_ww_x_GPS_end = substringBeginning.find('\\'')\n",
    "                ww_x_GPS = substringBeginning[:position_ww_x_GPS_end]\n",
    "        ###Second call\n",
    "        #Now that we have the ww_x_GPS, we can make another call and obtain the list of the students.\n",
    "        #Here the base Url changes because we display names.\n",
    "        url = baseFormUrlDisplay + '&ww_b_list=1' + \\\n",
    "        '&ww_i_reportModelXsl=' + htmlResult + \\\n",
    "        '&ww_x_UNITE_ACAD=' + informatique + \\\n",
    "        '&ww_x_PERIODE_ACAD=' + ww_params.get('ww_x_PERIODE_ACAD').get(year) + \\\n",
    "        '&ww_x_PERIODE_PEDAGO=' + bachelor6+ \\\n",
    "        '&ww_x_HIVERETE=' + springSemester + \\\n",
    "        '&ww_x_GPS=' + ww_x_GPS\n",
    "         #Make a request\n",
    "        r = requests.get(url)\n",
    "        #Parse the page with beautifulSoup\n",
    "        soup = BeautifulSoup(r.content, \"html.parser\")\n",
    "\n",
    "        my_table = soup.find('table')\n",
    "        rows = my_table.findChildren(['th', 'tr'])\n",
    "        \n",
    "        for row in rows:\n",
    "            cells = row.findChildren('td')\n",
    "            #We already know the format of the data so we can simply select the desired columns\n",
    "            if len(cells) == 12:\n",
    "                sex = cells[0].find(text=True)\n",
    "                name = cells[1].find(text=True)\n",
    "                sciper = cells[10].find(text=True)\n",
    "                #Let's keep only the first year of the string year. The year is given in the form 20XX-20XY. \n",
    "                #We will keep 20XX\n",
    "                year = year[:4]\n",
    "                s = pd.Series([sex,name,sciper,year],index=['sex','name','sciper','year'])\n",
    "                bachelor6DataFrame = bachelor6DataFrame.append(s, ignore_index=True)\n",
    "\n",
    "    except:\n",
    "        pass\n",
    "\n",
    "bachelor6DataFrame.head(10)"
   ]
  },
  {
   "cell_type": "markdown",
   "metadata": {},
   "source": [
    "## Data cleaning\n",
    "\n",
    "We can see that some students are present several times. Some students have done bachelor 6 twice or more. We will keep only the latest year."
   ]
  },
  {
   "cell_type": "code",
   "execution_count": 8,
   "metadata": {
    "collapsed": false
   },
   "outputs": [],
   "source": [
    "c_maxs = bachelor6DataFrame.groupby('sciper').year.transform(max)\n",
    "bachelor6DataFrame = bachelor6DataFrame[bachelor6DataFrame.year == c_maxs]"
   ]
  },
  {
   "cell_type": "markdown",
   "metadata": {},
   "source": [
    "Similarly, there are duplicates in the bachelor1 DataFrame. Some students have done bachelor 1 twice. \n",
    "We will keep only the earliest date, as it is the first time they were in Bachelor1"
   ]
  },
  {
   "cell_type": "code",
   "execution_count": 9,
   "metadata": {
    "collapsed": false
   },
   "outputs": [],
   "source": [
    "c_mins = bachelor1DataFrame.groupby('sciper').year.transform(min)\n",
    "bachelor1DataFrame = bachelor1DataFrame[bachelor1DataFrame.year == c_mins]"
   ]
  },
  {
   "cell_type": "markdown",
   "metadata": {},
   "source": [
    "### Merge DataFrames \n",
    "keep students that are present only in both dataFrames. This is an inner joint of the 2 dataframes"
   ]
  },
  {
   "cell_type": "code",
   "execution_count": 10,
   "metadata": {
    "collapsed": false
   },
   "outputs": [
    {
     "data": {
      "text/html": [
       "<div>\n",
       "<table border=\"1\" class=\"dataframe\">\n",
       "  <thead>\n",
       "    <tr style=\"text-align: right;\">\n",
       "      <th></th>\n",
       "      <th>sex</th>\n",
       "      <th>name</th>\n",
       "      <th>sciper</th>\n",
       "      <th>year_bachelor1</th>\n",
       "      <th>year_bachelor6</th>\n",
       "    </tr>\n",
       "  </thead>\n",
       "  <tbody>\n",
       "    <tr>\n",
       "      <th>0</th>\n",
       "      <td>Monsieur</td>\n",
       "      <td>Arnfred Jonas</td>\n",
       "      <td>184772</td>\n",
       "      <td>2008</td>\n",
       "      <td>2010</td>\n",
       "    </tr>\n",
       "    <tr>\n",
       "      <th>1</th>\n",
       "      <td>Monsieur</td>\n",
       "      <td>Bougacha Malik</td>\n",
       "      <td>186264</td>\n",
       "      <td>2008</td>\n",
       "      <td>2012</td>\n",
       "    </tr>\n",
       "    <tr>\n",
       "      <th>2</th>\n",
       "      <td>Monsieur</td>\n",
       "      <td>Bourgeois Jérémy</td>\n",
       "      <td>185949</td>\n",
       "      <td>2008</td>\n",
       "      <td>2010</td>\n",
       "    </tr>\n",
       "    <tr>\n",
       "      <th>3</th>\n",
       "      <td>Monsieur</td>\n",
       "      <td>Bourqui Marc</td>\n",
       "      <td>184264</td>\n",
       "      <td>2008</td>\n",
       "      <td>2012</td>\n",
       "    </tr>\n",
       "    <tr>\n",
       "      <th>4</th>\n",
       "      <td>Monsieur</td>\n",
       "      <td>Bruchez Lionel</td>\n",
       "      <td>186825</td>\n",
       "      <td>2008</td>\n",
       "      <td>2010</td>\n",
       "    </tr>\n",
       "    <tr>\n",
       "      <th>5</th>\n",
       "      <td>Monsieur</td>\n",
       "      <td>Chablais Michael</td>\n",
       "      <td>184991</td>\n",
       "      <td>2008</td>\n",
       "      <td>2010</td>\n",
       "    </tr>\n",
       "    <tr>\n",
       "      <th>6</th>\n",
       "      <td>Monsieur</td>\n",
       "      <td>Constantin Victor</td>\n",
       "      <td>185283</td>\n",
       "      <td>2008</td>\n",
       "      <td>2012</td>\n",
       "    </tr>\n",
       "    <tr>\n",
       "      <th>7</th>\n",
       "      <td>Monsieur</td>\n",
       "      <td>Cressier Gilles</td>\n",
       "      <td>178287</td>\n",
       "      <td>2008</td>\n",
       "      <td>2010</td>\n",
       "    </tr>\n",
       "    <tr>\n",
       "      <th>8</th>\n",
       "      <td>Monsieur</td>\n",
       "      <td>Cuony Maximilien</td>\n",
       "      <td>185952</td>\n",
       "      <td>2008</td>\n",
       "      <td>2010</td>\n",
       "    </tr>\n",
       "    <tr>\n",
       "      <th>9</th>\n",
       "      <td>Monsieur</td>\n",
       "      <td>Droxler Thomas</td>\n",
       "      <td>185959</td>\n",
       "      <td>2008</td>\n",
       "      <td>2011</td>\n",
       "    </tr>\n",
       "  </tbody>\n",
       "</table>\n",
       "</div>"
      ],
      "text/plain": [
       "        sex               name  sciper year_bachelor1 year_bachelor6\n",
       "0  Monsieur      Arnfred Jonas  184772           2008           2010\n",
       "1  Monsieur     Bougacha Malik  186264           2008           2012\n",
       "2  Monsieur   Bourgeois Jérémy  185949           2008           2010\n",
       "3  Monsieur       Bourqui Marc  184264           2008           2012\n",
       "4  Monsieur     Bruchez Lionel  186825           2008           2010\n",
       "5  Monsieur   Chablais Michael  184991           2008           2010\n",
       "6  Monsieur  Constantin Victor  185283           2008           2012\n",
       "7  Monsieur    Cressier Gilles  178287           2008           2010\n",
       "8  Monsieur   Cuony Maximilien  185952           2008           2010\n",
       "9  Monsieur     Droxler Thomas  185959           2008           2011"
      ]
     },
     "execution_count": 10,
     "metadata": {},
     "output_type": "execute_result"
    }
   ],
   "source": [
    "bachelorStudentsDataFrame = pd.merge(bachelor1DataFrame, bachelor6DataFrame, how='inner', on=['sex', 'name', 'sciper'], suffixes=('_bachelor1', '_bachelor6'))\n",
    "bachelorStudentsDataFrame.head(10)"
   ]
  },
  {
   "cell_type": "markdown",
   "metadata": {},
   "source": [
    "We put the types of the sciper and years as int."
   ]
  },
  {
   "cell_type": "code",
   "execution_count": 11,
   "metadata": {
    "collapsed": false
   },
   "outputs": [],
   "source": [
    "bachelorStudentsDataFrame[['sciper','year_bachelor6', 'year_bachelor1']] = bachelorStudentsDataFrame[['sciper','year_bachelor6', 'year_bachelor1']].astype(int)"
   ]
  },
  {
   "cell_type": "markdown",
   "metadata": {},
   "source": [
    "There are no more duplicates in the complete bachelorStudentsDataFrame."
   ]
  },
  {
   "cell_type": "code",
   "execution_count": 12,
   "metadata": {
    "collapsed": false
   },
   "outputs": [
    {
     "data": {
      "text/plain": [
       "0"
      ]
     },
     "execution_count": 12,
     "metadata": {},
     "output_type": "execute_result"
    }
   ],
   "source": [
    "bachelorStudentsDataFrame.duplicated('sciper').sum()"
   ]
  },
  {
   "cell_type": "markdown",
   "metadata": {},
   "source": [
    "### Number of months\n",
    "There are 10 months between september and July for 1 year. Let's compute the number of month needed for each student to go from bachelor 1 to bachelor 6."
   ]
  },
  {
   "cell_type": "code",
   "execution_count": 13,
   "metadata": {
    "collapsed": false
   },
   "outputs": [],
   "source": [
    "def number_months(x): \n",
    "    return (x['year_bachelor6']-x['year_bachelor1'])*12 + 10\n",
    "\n",
    "bachelorStudentsDataFrame['number_months'] = bachelorStudentsDataFrame.apply(number_months, axis = 1) "
   ]
  },
  {
   "cell_type": "code",
   "execution_count": 14,
   "metadata": {
    "collapsed": false
   },
   "outputs": [
    {
     "data": {
      "text/html": [
       "<div>\n",
       "<table border=\"1\" class=\"dataframe\">\n",
       "  <thead>\n",
       "    <tr style=\"text-align: right;\">\n",
       "      <th></th>\n",
       "      <th>sex</th>\n",
       "      <th>name</th>\n",
       "      <th>sciper</th>\n",
       "      <th>year_bachelor1</th>\n",
       "      <th>year_bachelor6</th>\n",
       "      <th>number_months</th>\n",
       "    </tr>\n",
       "  </thead>\n",
       "  <tbody>\n",
       "    <tr>\n",
       "      <th>331</th>\n",
       "      <td>Monsieur</td>\n",
       "      <td>Abate Bryan Jeremy</td>\n",
       "      <td>246671</td>\n",
       "      <td>2014</td>\n",
       "      <td>2016</td>\n",
       "      <td>34</td>\n",
       "    </tr>\n",
       "    <tr>\n",
       "      <th>274</th>\n",
       "      <td>Monsieur</td>\n",
       "      <td>Aiulfi Loris Sandro</td>\n",
       "      <td>202293</td>\n",
       "      <td>2010</td>\n",
       "      <td>2015</td>\n",
       "      <td>70</td>\n",
       "    </tr>\n",
       "    <tr>\n",
       "      <th>332</th>\n",
       "      <td>Monsieur</td>\n",
       "      <td>Alami-Idrissi Ali</td>\n",
       "      <td>251759</td>\n",
       "      <td>2014</td>\n",
       "      <td>2016</td>\n",
       "      <td>34</td>\n",
       "    </tr>\n",
       "    <tr>\n",
       "      <th>227</th>\n",
       "      <td>Monsieur</td>\n",
       "      <td>Alfonso Peterssen Alfonso</td>\n",
       "      <td>228219</td>\n",
       "      <td>2013</td>\n",
       "      <td>2015</td>\n",
       "      <td>34</td>\n",
       "    </tr>\n",
       "    <tr>\n",
       "      <th>84</th>\n",
       "      <td>Monsieur</td>\n",
       "      <td>Alonso Seisdedos Florian</td>\n",
       "      <td>215576</td>\n",
       "      <td>2011</td>\n",
       "      <td>2015</td>\n",
       "      <td>58</td>\n",
       "    </tr>\n",
       "    <tr>\n",
       "      <th>85</th>\n",
       "      <td>Monsieur</td>\n",
       "      <td>Amorim Afonso Caldeira Da Silva Pedro Maria</td>\n",
       "      <td>213618</td>\n",
       "      <td>2011</td>\n",
       "      <td>2014</td>\n",
       "      <td>46</td>\n",
       "    </tr>\n",
       "    <tr>\n",
       "      <th>86</th>\n",
       "      <td>Monsieur</td>\n",
       "      <td>Andreina Sébastien Laurent</td>\n",
       "      <td>215623</td>\n",
       "      <td>2011</td>\n",
       "      <td>2014</td>\n",
       "      <td>46</td>\n",
       "    </tr>\n",
       "    <tr>\n",
       "      <th>275</th>\n",
       "      <td>Monsieur</td>\n",
       "      <td>Angel Axel</td>\n",
       "      <td>201284</td>\n",
       "      <td>2010</td>\n",
       "      <td>2012</td>\n",
       "      <td>34</td>\n",
       "    </tr>\n",
       "    <tr>\n",
       "      <th>87</th>\n",
       "      <td>Monsieur</td>\n",
       "      <td>Angerand Grégoire Georges Jacques</td>\n",
       "      <td>212464</td>\n",
       "      <td>2011</td>\n",
       "      <td>2015</td>\n",
       "      <td>58</td>\n",
       "    </tr>\n",
       "    <tr>\n",
       "      <th>352</th>\n",
       "      <td>Monsieur</td>\n",
       "      <td>Antognini Marco</td>\n",
       "      <td>194182</td>\n",
       "      <td>2009</td>\n",
       "      <td>2012</td>\n",
       "      <td>46</td>\n",
       "    </tr>\n",
       "  </tbody>\n",
       "</table>\n",
       "</div>"
      ],
      "text/plain": [
       "          sex                                         name  sciper  \\\n",
       "331  Monsieur                           Abate Bryan Jeremy  246671   \n",
       "274  Monsieur                          Aiulfi Loris Sandro  202293   \n",
       "332  Monsieur                            Alami-Idrissi Ali  251759   \n",
       "227  Monsieur                    Alfonso Peterssen Alfonso  228219   \n",
       "84   Monsieur                     Alonso Seisdedos Florian  215576   \n",
       "85   Monsieur  Amorim Afonso Caldeira Da Silva Pedro Maria  213618   \n",
       "86   Monsieur                   Andreina Sébastien Laurent  215623   \n",
       "275  Monsieur                                   Angel Axel  201284   \n",
       "87   Monsieur            Angerand Grégoire Georges Jacques  212464   \n",
       "352  Monsieur                              Antognini Marco  194182   \n",
       "\n",
       "     year_bachelor1  year_bachelor6  number_months  \n",
       "331            2014            2016             34  \n",
       "274            2010            2015             70  \n",
       "332            2014            2016             34  \n",
       "227            2013            2015             34  \n",
       "84             2011            2015             58  \n",
       "85             2011            2014             46  \n",
       "86             2011            2014             46  \n",
       "275            2010            2012             34  \n",
       "87             2011            2015             58  \n",
       "352            2009            2012             46  "
      ]
     },
     "execution_count": 14,
     "metadata": {},
     "output_type": "execute_result"
    }
   ],
   "source": [
    "bachelorStudentsDataFrame.sort_values('name').head(10)"
   ]
  },
  {
   "cell_type": "markdown",
   "metadata": {},
   "source": [
    "### Partition in male/female\n",
    "we will construct two dataFrames, one for females, the other for males."
   ]
  },
  {
   "cell_type": "code",
   "execution_count": 15,
   "metadata": {
    "collapsed": false
   },
   "outputs": [],
   "source": [
    "bachelorFemaleStudentsDataFrame = bachelorStudentsDataFrame[bachelorStudentsDataFrame['sex'] == 'Madame']\n",
    "bachelorMaleStudentsDataFrame = bachelorStudentsDataFrame[bachelorStudentsDataFrame['sex']=='Monsieur']"
   ]
  },
  {
   "cell_type": "markdown",
   "metadata": {},
   "source": [
    "Number of female students:"
   ]
  },
  {
   "cell_type": "code",
   "execution_count": 16,
   "metadata": {
    "collapsed": false
   },
   "outputs": [
    {
     "data": {
      "text/plain": [
       "29"
      ]
     },
     "execution_count": 16,
     "metadata": {},
     "output_type": "execute_result"
    }
   ],
   "source": [
    "bachelorFemaleStudentsDataFrame['sciper'].count()"
   ]
  },
  {
   "cell_type": "markdown",
   "metadata": {},
   "source": [
    "Number of female students:"
   ]
  },
  {
   "cell_type": "code",
   "execution_count": 17,
   "metadata": {
    "collapsed": false
   },
   "outputs": [
    {
     "data": {
      "text/plain": [
       "368"
      ]
     },
     "execution_count": 17,
     "metadata": {},
     "output_type": "execute_result"
    }
   ],
   "source": [
    "bachelorMaleStudentsDataFrame['sciper'].count()"
   ]
  },
  {
   "cell_type": "markdown",
   "metadata": {},
   "source": [
    "## Data analysis\n",
    "The main quesiton is : \"For the number of months between bachelor 1 and 6, is the difference in average statistically significant between male and female students?\"\n",
    "\n",
    "First let's have a look at the data\n"
   ]
  },
  {
   "cell_type": "markdown",
   "metadata": {},
   "source": [
    "We can see that most of the female students completed their bachelor in 2 years, and a few did it in 3 years."
   ]
  },
  {
   "cell_type": "code",
   "execution_count": 18,
   "metadata": {
    "collapsed": false
   },
   "outputs": [
    {
     "data": {
      "text/plain": [
       "<matplotlib.axes._subplots.AxesSubplot at 0x1197b2e48>"
      ]
     },
     "execution_count": 18,
     "metadata": {},
     "output_type": "execute_result"
    },
    {
     "data": {
      "image/png": "[encoded data removed]",
      "text/plain": [
       "<matplotlib.figure.Figure at 0x1197b7160>"
      ]
     },
     "metadata": {},
     "output_type": "display_data"
    }
   ],
   "source": [
    "bachelorFemaleStudentsDataFrame['number_months'].hist()"
   ]
  },
  {
   "cell_type": "markdown",
   "metadata": {},
   "source": [
    "**The mean is at 37.72 months**"
   ]
  },
  {
   "cell_type": "code",
   "execution_count": 19,
   "metadata": {
    "collapsed": false
   },
   "outputs": [
    {
     "data": {
      "text/plain": [
       "count    29.000000\n",
       "mean     37.724138\n",
       "std       6.496684\n",
       "min      34.000000\n",
       "25%      34.000000\n",
       "50%      34.000000\n",
       "75%      46.000000\n",
       "max      58.000000\n",
       "Name: number_months, dtype: float64"
      ]
     },
     "execution_count": 19,
     "metadata": {},
     "output_type": "execute_result"
    }
   ],
   "source": [
    "bachelorFemaleStudentsDataFrame['number_months'].describe()"
   ]
  },
  {
   "cell_type": "markdown",
   "metadata": {},
   "source": [
    "We can see that most of the male students completed their bachelor in 2 years, and a few did it in 3 years, and some in 70 months."
   ]
  },
  {
   "cell_type": "code",
   "execution_count": 20,
   "metadata": {
    "collapsed": false
   },
   "outputs": [
    {
     "data": {
      "text/plain": [
       "<matplotlib.axes._subplots.AxesSubplot at 0x11cfb3c50>"
      ]
     },
     "execution_count": 20,
     "metadata": {},
     "output_type": "execute_result"
    },
    {
     "data": {
      "image/png": "[encoded data removed]",
      "text/plain": [
       "<matplotlib.figure.Figure at 0x11cec4ba8>"
      ]
     },
     "metadata": {},
     "output_type": "display_data"
    }
   ],
   "source": [
    "bachelorMaleStudentsDataFrame['number_months'].hist()"
   ]
  },
  {
   "cell_type": "markdown",
   "metadata": {},
   "source": [
    "**The mean is at 39.77**"
   ]
  },
  {
   "cell_type": "code",
   "execution_count": 21,
   "metadata": {
    "collapsed": false
   },
   "outputs": [
    {
     "data": {
      "text/plain": [
       "count    368.000000\n",
       "mean      39.771739\n",
       "std        8.943788\n",
       "min       34.000000\n",
       "25%       34.000000\n",
       "50%       34.000000\n",
       "75%       46.000000\n",
       "max       82.000000\n",
       "Name: number_months, dtype: float64"
      ]
     },
     "execution_count": 21,
     "metadata": {},
     "output_type": "execute_result"
    }
   ],
   "source": [
    "bachelorMaleStudentsDataFrame['number_months'].describe()"
   ]
  },
  {
   "cell_type": "code",
   "execution_count": 23,
   "metadata": {
    "collapsed": false
   },
   "outputs": [
    {
     "data": {
      "text/html": [
       "<div>\n",
       "<table border=\"1\" class=\"dataframe\">\n",
       "  <thead>\n",
       "    <tr style=\"text-align: right;\">\n",
       "      <th></th>\n",
       "      <th>sex</th>\n",
       "      <th>name</th>\n",
       "      <th>sciper</th>\n",
       "      <th>year_bachelor1</th>\n",
       "      <th>year_bachelor6</th>\n",
       "      <th>number_months</th>\n",
       "    </tr>\n",
       "  </thead>\n",
       "  <tbody>\n",
       "    <tr>\n",
       "      <th>381</th>\n",
       "      <td>Monsieur</td>\n",
       "      <td>Perrin Sami</td>\n",
       "      <td>196034</td>\n",
       "      <td>2009</td>\n",
       "      <td>2015</td>\n",
       "      <td>82</td>\n",
       "    </tr>\n",
       "  </tbody>\n",
       "</table>\n",
       "</div>"
      ],
      "text/plain": [
       "          sex         name  sciper  year_bachelor1  year_bachelor6  \\\n",
       "381  Monsieur  Perrin Sami  196034            2009            2015   \n",
       "\n",
       "     number_months  \n",
       "381             82  "
      ]
     },
     "execution_count": 23,
     "metadata": {},
     "output_type": "execute_result"
    }
   ],
   "source": [
    "bachelorMaleStudentsDataFrame.loc[bachelorMaleStudentsDataFrame['number_months']==82]"
   ]
  },
  {
   "cell_type": "markdown",
   "metadata": {},
   "source": [
    "### Statistical tests\n",
    "\"For the number of months between bachelor 1 and 6, is the difference in average statistically significant between male and female students?\""
   ]
  },
  {
   "cell_type": "markdown",
   "metadata": {},
   "source": [
    "We will perform a Welch’s t-test, because the variance, mean and sample size are different. \n",
    "See doc of the function used [here](http://docs.scipy.org/doc/scipy/reference/generated/scipy.stats.ttest_ind.html)\n",
    "\n",
    "\n",
    "H0: \"Both population have equal mean\"\n",
    "H1: \"The means are different\""
   ]
  },
  {
   "cell_type": "code",
   "execution_count": 22,
   "metadata": {
    "collapsed": false
   },
   "outputs": [
    {
     "data": {
      "text/plain": [
       "Ttest_indResult(statistic=1.5831651359439411, pvalue=0.12191236829650394)"
      ]
     },
     "execution_count": 22,
     "metadata": {},
     "output_type": "execute_result"
    }
   ],
   "source": [
    "stats.ttest_ind(bachelorMaleStudentsDataFrame['number_months'], bachelorFemaleStudentsDataFrame['number_months'], equal_var = False)"
   ]
  },
  {
   "cell_type": "markdown",
   "metadata": {},
   "source": [
    "With a p-value that is above 0.05 and t-statistic < 1,95, we can not reject H0. \n",
    "\n",
    "**Conclusion : there is no significant in the difference in average between male and female students**"
   ]
  }
 ],
 "metadata": {
  "anaconda-cloud": {},
  "kernelspec": {
   "display_name": "Python [Root]",
   "language": "python",
   "name": "Python [Root]"
  },
  "language_info": {
   "codemirror_mode": {
    "name": "ipython",
    "version": 3
   },
   "file_extension": ".py",
   "mimetype": "text/x-python",
   "name": "python",
   "nbconvert_exporter": "python",
   "pygments_lexer": "ipython3",
   "version": "3.5.2"
  }
 },
 "nbformat": 4,
 "nbformat_minor": 0
}
